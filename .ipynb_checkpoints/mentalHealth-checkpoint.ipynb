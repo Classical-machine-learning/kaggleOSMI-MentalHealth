{
 "cells": [
  {
   "cell_type": "markdown",
   "metadata": {
    "toc": true
   },
   "source": [
    "<h1>Table of Contents<span class=\"tocSkip\"></span></h1>\n",
    "<div class=\"toc\"><ul class=\"toc-item\"><li><span><a href=\"#Introduction\" data-toc-modified-id=\"Introduction-1\"><span class=\"toc-item-num\">1&nbsp;&nbsp;</span>Introduction</a></span><ul class=\"toc-item\"><li><span><a href=\"#Data-Collection\" data-toc-modified-id=\"Data-Collection-1.1\"><span class=\"toc-item-num\">1.1&nbsp;&nbsp;</span>Data Collection</a></span></li><li><span><a href=\"#Target-Identification\" data-toc-modified-id=\"Target-Identification-1.2\"><span class=\"toc-item-num\">1.2&nbsp;&nbsp;</span>Target Identification</a></span></li></ul></li><li><span><a href=\"#Imports\" data-toc-modified-id=\"Imports-2\"><span class=\"toc-item-num\">2&nbsp;&nbsp;</span>Imports</a></span></li><li><span><a href=\"#Data-Representation\" data-toc-modified-id=\"Data-Representation-3\"><span class=\"toc-item-num\">3&nbsp;&nbsp;</span>Data Representation</a></span></li><li><span><a href=\"#Attribute-Semantics\" data-toc-modified-id=\"Attribute-Semantics-4\"><span class=\"toc-item-num\">4&nbsp;&nbsp;</span>Attribute Semantics</a></span><ul class=\"toc-item\"><li><span><a href=\"#All-columns\" data-toc-modified-id=\"All-columns-4.1\"><span class=\"toc-item-num\">4.1&nbsp;&nbsp;</span>All columns</a></span></li><li><span><a href=\"#Remove-ones-with-max-Missing\" data-toc-modified-id=\"Remove-ones-with-max-Missing-4.2\"><span class=\"toc-item-num\">4.2&nbsp;&nbsp;</span>Remove ones with max Missing</a></span></li><li><span><a href=\"#Fix-work-pos-column\" data-toc-modified-id=\"Fix-work-pos-column-4.3\"><span class=\"toc-item-num\">4.3&nbsp;&nbsp;</span>Fix work pos column</a></span></li><li><span><a href=\"#Convert-categorical-to-numerical\" data-toc-modified-id=\"Convert-categorical-to-numerical-4.4\"><span class=\"toc-item-num\">4.4&nbsp;&nbsp;</span>Convert categorical to numerical</a></span></li></ul></li><li><span><a href=\"#EDA\" data-toc-modified-id=\"EDA-5\"><span class=\"toc-item-num\">5&nbsp;&nbsp;</span>EDA</a></span><ul class=\"toc-item\"><li><span><a href=\"#Plots\" data-toc-modified-id=\"Plots-5.1\"><span class=\"toc-item-num\">5.1&nbsp;&nbsp;</span>Plots</a></span></li><li><span><a href=\"#Age-related\" data-toc-modified-id=\"Age-related-5.2\"><span class=\"toc-item-num\">5.2&nbsp;&nbsp;</span>Age related</a></span><ul class=\"toc-item\"><li><span><a href=\"#Infer\" data-toc-modified-id=\"Infer-5.2.1\"><span class=\"toc-item-num\">5.2.1&nbsp;&nbsp;</span>Infer</a></span></li></ul></li><li><span><a href=\"#Country-related\" data-toc-modified-id=\"Country-related-5.3\"><span class=\"toc-item-num\">5.3&nbsp;&nbsp;</span>Country related</a></span><ul class=\"toc-item\"><li><span><a href=\"#Infer\" data-toc-modified-id=\"Infer-5.3.1\"><span class=\"toc-item-num\">5.3.1&nbsp;&nbsp;</span>Infer</a></span></li></ul></li><li><span><a href=\"#No-of-employees-in-companies-of-people-who-have-a-disorder\" data-toc-modified-id=\"No-of-employees-in-companies-of-people-who-have-a-disorder-5.4\"><span class=\"toc-item-num\">5.4&nbsp;&nbsp;</span>No of employees in companies of people who have a disorder</a></span><ul class=\"toc-item\"><li><span><a href=\"#Infer\" data-toc-modified-id=\"Infer-5.4.1\"><span class=\"toc-item-num\">5.4.1&nbsp;&nbsp;</span>Infer</a></span></li></ul></li><li><span><a href=\"#Disorder-related-to-how-open-the-person-can-be-with-friends-and-family\" data-toc-modified-id=\"Disorder-related-to-how-open-the-person-can-be-with-friends-and-family-5.5\"><span class=\"toc-item-num\">5.5&nbsp;&nbsp;</span>Disorder related to how open the person can be with friends and family</a></span><ul class=\"toc-item\"><li><span><a href=\"#Infer\" data-toc-modified-id=\"Infer-5.5.1\"><span class=\"toc-item-num\">5.5.1&nbsp;&nbsp;</span>Infer</a></span></li></ul></li><li><span><a href=\"#Prediction\" data-toc-modified-id=\"Prediction-5.6\"><span class=\"toc-item-num\">5.6&nbsp;&nbsp;</span>Prediction</a></span></li></ul></li></ul></div>"
   ]
  },
  {
   "cell_type": "markdown",
   "metadata": {},
   "source": [
    "# Introduction\n",
    "## Data Collection\n",
    "   - This project is based on the OSMI dataset \n",
    "   - It was a survey conducted on mental health of people working in tech\n",
    "   - Link https://www.kaggle.com/osmi/mental-health-in-tech-2016#mental-heath-in-tech-2016_20161114.csv\n",
    "   \n",
    "\n",
    "## Target Identification \n",
    "- This project aims to understand and identify patterns from the dataset by performing EDA on it\n",
    "- main_column = data['Do you currently have a mental health disorder?'] "
   ]
  },
  {
   "cell_type": "markdown",
   "metadata": {},
   "source": [
    "# Imports"
   ]
  },
  {
   "cell_type": "code",
   "execution_count": 1,
   "metadata": {
    "ExecuteTime": {
     "end_time": "2020-02-27T16:39:02.032038Z",
     "start_time": "2020-02-27T16:39:01.467758Z"
    }
   },
   "outputs": [],
   "source": [
    "# import sklearn as skl\n",
    "import matplotlib.pyplot as plt\n",
    "import pandas as pd\n",
    "import seaborn as sns\n",
    "\n",
    "sns.set(style=\"ticks\")"
   ]
  },
  {
   "cell_type": "code",
   "execution_count": 2,
   "metadata": {
    "ExecuteTime": {
     "end_time": "2020-02-27T16:39:02.428621Z",
     "start_time": "2020-02-27T16:39:02.033313Z"
    }
   },
   "outputs": [],
   "source": [
    "data = pd.read_csv('data/data.csv')"
   ]
  },
  {
   "cell_type": "code",
   "execution_count": 3,
   "metadata": {
    "ExecuteTime": {
     "end_time": "2020-02-27T16:39:02.435774Z",
     "start_time": "2020-02-27T16:39:02.431052Z"
    }
   },
   "outputs": [
    {
     "data": {
      "text/plain": [
       "(1433, 63)"
      ]
     },
     "execution_count": 3,
     "metadata": {},
     "output_type": "execute_result"
    }
   ],
   "source": [
    "data.shape"
   ]
  },
  {
   "cell_type": "markdown",
   "metadata": {},
   "source": [
    "# Data Representation"
   ]
  },
  {
   "cell_type": "code",
   "execution_count": 4,
   "metadata": {
    "ExecuteTime": {
     "end_time": "2020-02-27T16:39:02.465471Z",
     "start_time": "2020-02-27T16:39:02.437405Z"
    }
   },
   "outputs": [
    {
     "data": {
      "text/html": [
       "<div>\n",
       "<style scoped>\n",
       "    .dataframe tbody tr th:only-of-type {\n",
       "        vertical-align: middle;\n",
       "    }\n",
       "\n",
       "    .dataframe tbody tr th {\n",
       "        vertical-align: top;\n",
       "    }\n",
       "\n",
       "    .dataframe thead th {\n",
       "        text-align: right;\n",
       "    }\n",
       "</style>\n",
       "<table border=\"1\" class=\"dataframe\">\n",
       "  <thead>\n",
       "    <tr style=\"text-align: right;\">\n",
       "      <th></th>\n",
       "      <th>Are you self-employed?</th>\n",
       "      <th>Is your employer primarily a tech company/organization?</th>\n",
       "      <th>Is your primary role within your company related to tech/IT?</th>\n",
       "      <th>Do you have medical coverage (private insurance or state-provided) which includes treatment of  mental health issues?</th>\n",
       "      <th>Do you have previous employers?</th>\n",
       "      <th>Have you ever sought treatment for a mental health issue from a mental health professional?</th>\n",
       "      <th>What is your age?</th>\n",
       "    </tr>\n",
       "  </thead>\n",
       "  <tbody>\n",
       "    <tr>\n",
       "      <th>count</th>\n",
       "      <td>1433.000000</td>\n",
       "      <td>1146.000000</td>\n",
       "      <td>263.000000</td>\n",
       "      <td>287.000000</td>\n",
       "      <td>1433.000000</td>\n",
       "      <td>1433.000000</td>\n",
       "      <td>1433.000000</td>\n",
       "    </tr>\n",
       "    <tr>\n",
       "      <th>mean</th>\n",
       "      <td>0.200279</td>\n",
       "      <td>0.770506</td>\n",
       "      <td>0.942966</td>\n",
       "      <td>0.644599</td>\n",
       "      <td>0.882066</td>\n",
       "      <td>0.585485</td>\n",
       "      <td>34.286113</td>\n",
       "    </tr>\n",
       "    <tr>\n",
       "      <th>std</th>\n",
       "      <td>0.400349</td>\n",
       "      <td>0.420691</td>\n",
       "      <td>0.232350</td>\n",
       "      <td>0.479471</td>\n",
       "      <td>0.322643</td>\n",
       "      <td>0.492810</td>\n",
       "      <td>11.290931</td>\n",
       "    </tr>\n",
       "    <tr>\n",
       "      <th>min</th>\n",
       "      <td>0.000000</td>\n",
       "      <td>0.000000</td>\n",
       "      <td>0.000000</td>\n",
       "      <td>0.000000</td>\n",
       "      <td>0.000000</td>\n",
       "      <td>0.000000</td>\n",
       "      <td>3.000000</td>\n",
       "    </tr>\n",
       "    <tr>\n",
       "      <th>25%</th>\n",
       "      <td>0.000000</td>\n",
       "      <td>1.000000</td>\n",
       "      <td>1.000000</td>\n",
       "      <td>0.000000</td>\n",
       "      <td>1.000000</td>\n",
       "      <td>0.000000</td>\n",
       "      <td>28.000000</td>\n",
       "    </tr>\n",
       "    <tr>\n",
       "      <th>50%</th>\n",
       "      <td>0.000000</td>\n",
       "      <td>1.000000</td>\n",
       "      <td>1.000000</td>\n",
       "      <td>1.000000</td>\n",
       "      <td>1.000000</td>\n",
       "      <td>1.000000</td>\n",
       "      <td>33.000000</td>\n",
       "    </tr>\n",
       "    <tr>\n",
       "      <th>75%</th>\n",
       "      <td>0.000000</td>\n",
       "      <td>1.000000</td>\n",
       "      <td>1.000000</td>\n",
       "      <td>1.000000</td>\n",
       "      <td>1.000000</td>\n",
       "      <td>1.000000</td>\n",
       "      <td>39.000000</td>\n",
       "    </tr>\n",
       "    <tr>\n",
       "      <th>max</th>\n",
       "      <td>1.000000</td>\n",
       "      <td>1.000000</td>\n",
       "      <td>1.000000</td>\n",
       "      <td>1.000000</td>\n",
       "      <td>1.000000</td>\n",
       "      <td>1.000000</td>\n",
       "      <td>323.000000</td>\n",
       "    </tr>\n",
       "  </tbody>\n",
       "</table>\n",
       "</div>"
      ],
      "text/plain": [
       "       Are you self-employed?  \\\n",
       "count             1433.000000   \n",
       "mean                 0.200279   \n",
       "std                  0.400349   \n",
       "min                  0.000000   \n",
       "25%                  0.000000   \n",
       "50%                  0.000000   \n",
       "75%                  0.000000   \n",
       "max                  1.000000   \n",
       "\n",
       "       Is your employer primarily a tech company/organization?  \\\n",
       "count                                        1146.000000         \n",
       "mean                                            0.770506         \n",
       "std                                             0.420691         \n",
       "min                                             0.000000         \n",
       "25%                                             1.000000         \n",
       "50%                                             1.000000         \n",
       "75%                                             1.000000         \n",
       "max                                             1.000000         \n",
       "\n",
       "       Is your primary role within your company related to tech/IT?  \\\n",
       "count                                         263.000000              \n",
       "mean                                            0.942966              \n",
       "std                                             0.232350              \n",
       "min                                             0.000000              \n",
       "25%                                             1.000000              \n",
       "50%                                             1.000000              \n",
       "75%                                             1.000000              \n",
       "max                                             1.000000              \n",
       "\n",
       "       Do you have medical coverage (private insurance or state-provided) which includes treatment of  mental health issues?  \\\n",
       "count                                         287.000000                                                                       \n",
       "mean                                            0.644599                                                                       \n",
       "std                                             0.479471                                                                       \n",
       "min                                             0.000000                                                                       \n",
       "25%                                             0.000000                                                                       \n",
       "50%                                             1.000000                                                                       \n",
       "75%                                             1.000000                                                                       \n",
       "max                                             1.000000                                                                       \n",
       "\n",
       "       Do you have previous employers?  \\\n",
       "count                      1433.000000   \n",
       "mean                          0.882066   \n",
       "std                           0.322643   \n",
       "min                           0.000000   \n",
       "25%                           1.000000   \n",
       "50%                           1.000000   \n",
       "75%                           1.000000   \n",
       "max                           1.000000   \n",
       "\n",
       "       Have you ever sought treatment for a mental health issue from a mental health professional?  \\\n",
       "count                                        1433.000000                                             \n",
       "mean                                            0.585485                                             \n",
       "std                                             0.492810                                             \n",
       "min                                             0.000000                                             \n",
       "25%                                             0.000000                                             \n",
       "50%                                             1.000000                                             \n",
       "75%                                             1.000000                                             \n",
       "max                                             1.000000                                             \n",
       "\n",
       "       What is your age?  \n",
       "count        1433.000000  \n",
       "mean           34.286113  \n",
       "std            11.290931  \n",
       "min             3.000000  \n",
       "25%            28.000000  \n",
       "50%            33.000000  \n",
       "75%            39.000000  \n",
       "max           323.000000  "
      ]
     },
     "execution_count": 4,
     "metadata": {},
     "output_type": "execute_result"
    }
   ],
   "source": [
    "data.describe()"
   ]
  },
  {
   "cell_type": "markdown",
   "metadata": {},
   "source": [
    "# Attribute Semantics"
   ]
  },
  {
   "cell_type": "code",
   "execution_count": 5,
   "metadata": {
    "ExecuteTime": {
     "end_time": "2020-02-27T16:39:02.484890Z",
     "start_time": "2020-02-27T16:39:02.466908Z"
    },
    "scrolled": true
   },
   "outputs": [
    {
     "data": {
      "text/html": [
       "<div>\n",
       "<style scoped>\n",
       "    .dataframe tbody tr th:only-of-type {\n",
       "        vertical-align: middle;\n",
       "    }\n",
       "\n",
       "    .dataframe tbody tr th {\n",
       "        vertical-align: top;\n",
       "    }\n",
       "\n",
       "    .dataframe thead th {\n",
       "        text-align: right;\n",
       "    }\n",
       "</style>\n",
       "<table border=\"1\" class=\"dataframe\">\n",
       "  <thead>\n",
       "    <tr style=\"text-align: right;\">\n",
       "      <th></th>\n",
       "      <th>Are you self-employed?</th>\n",
       "      <th>How many employees does your company or organization have?</th>\n",
       "      <th>Is your employer primarily a tech company/organization?</th>\n",
       "      <th>Is your primary role within your company related to tech/IT?</th>\n",
       "      <th>Does your employer provide mental health benefits as part of healthcare coverage?</th>\n",
       "      <th>Do you know the options for mental health care available under your employer-provided coverage?</th>\n",
       "      <th>Has your employer ever formally discussed mental health (for example, as part of a wellness campaign or other official communication)?</th>\n",
       "      <th>Does your employer offer resources to learn more about mental health concerns and options for seeking help?</th>\n",
       "      <th>Is your anonymity protected if you choose to take advantage of mental health or substance abuse treatment resources provided by your employer?</th>\n",
       "      <th>If a mental health issue prompted you to request a medical leave from work, asking for that leave would be:</th>\n",
       "      <th>...</th>\n",
       "      <th>If you have a mental health issue, do you feel that it interferes with your work when being treated effectively?</th>\n",
       "      <th>If you have a mental health issue, do you feel that it interferes with your work when NOT being treated effectively?</th>\n",
       "      <th>What is your age?</th>\n",
       "      <th>What is your gender?</th>\n",
       "      <th>What country do you live in?</th>\n",
       "      <th>What US state or territory do you live in?</th>\n",
       "      <th>What country do you work in?</th>\n",
       "      <th>What US state or territory do you work in?</th>\n",
       "      <th>Which of the following best describes your work position?</th>\n",
       "      <th>Do you work remotely?</th>\n",
       "    </tr>\n",
       "  </thead>\n",
       "  <tbody>\n",
       "    <tr>\n",
       "      <th>0</th>\n",
       "      <td>0</td>\n",
       "      <td>26-100</td>\n",
       "      <td>1.0</td>\n",
       "      <td>NaN</td>\n",
       "      <td>Not eligible for coverage / N/A</td>\n",
       "      <td>NaN</td>\n",
       "      <td>No</td>\n",
       "      <td>No</td>\n",
       "      <td>I don't know</td>\n",
       "      <td>Very easy</td>\n",
       "      <td>...</td>\n",
       "      <td>Not applicable to me</td>\n",
       "      <td>Not applicable to me</td>\n",
       "      <td>39</td>\n",
       "      <td>Male</td>\n",
       "      <td>United Kingdom</td>\n",
       "      <td>NaN</td>\n",
       "      <td>United Kingdom</td>\n",
       "      <td>NaN</td>\n",
       "      <td>Back-end Developer</td>\n",
       "      <td>Sometimes</td>\n",
       "    </tr>\n",
       "    <tr>\n",
       "      <th>1</th>\n",
       "      <td>0</td>\n",
       "      <td>6-25</td>\n",
       "      <td>1.0</td>\n",
       "      <td>NaN</td>\n",
       "      <td>No</td>\n",
       "      <td>Yes</td>\n",
       "      <td>Yes</td>\n",
       "      <td>Yes</td>\n",
       "      <td>Yes</td>\n",
       "      <td>Somewhat easy</td>\n",
       "      <td>...</td>\n",
       "      <td>Rarely</td>\n",
       "      <td>Sometimes</td>\n",
       "      <td>29</td>\n",
       "      <td>male</td>\n",
       "      <td>United States of America</td>\n",
       "      <td>Illinois</td>\n",
       "      <td>United States of America</td>\n",
       "      <td>Illinois</td>\n",
       "      <td>Back-end Developer|Front-end Developer</td>\n",
       "      <td>Never</td>\n",
       "    </tr>\n",
       "    <tr>\n",
       "      <th>2</th>\n",
       "      <td>0</td>\n",
       "      <td>6-25</td>\n",
       "      <td>1.0</td>\n",
       "      <td>NaN</td>\n",
       "      <td>No</td>\n",
       "      <td>NaN</td>\n",
       "      <td>No</td>\n",
       "      <td>No</td>\n",
       "      <td>I don't know</td>\n",
       "      <td>Neither easy nor difficult</td>\n",
       "      <td>...</td>\n",
       "      <td>Not applicable to me</td>\n",
       "      <td>Not applicable to me</td>\n",
       "      <td>38</td>\n",
       "      <td>Male</td>\n",
       "      <td>United Kingdom</td>\n",
       "      <td>NaN</td>\n",
       "      <td>United Kingdom</td>\n",
       "      <td>NaN</td>\n",
       "      <td>Back-end Developer</td>\n",
       "      <td>Always</td>\n",
       "    </tr>\n",
       "    <tr>\n",
       "      <th>3</th>\n",
       "      <td>1</td>\n",
       "      <td>NaN</td>\n",
       "      <td>NaN</td>\n",
       "      <td>NaN</td>\n",
       "      <td>NaN</td>\n",
       "      <td>NaN</td>\n",
       "      <td>NaN</td>\n",
       "      <td>NaN</td>\n",
       "      <td>NaN</td>\n",
       "      <td>NaN</td>\n",
       "      <td>...</td>\n",
       "      <td>Sometimes</td>\n",
       "      <td>Sometimes</td>\n",
       "      <td>43</td>\n",
       "      <td>male</td>\n",
       "      <td>United Kingdom</td>\n",
       "      <td>NaN</td>\n",
       "      <td>United Kingdom</td>\n",
       "      <td>NaN</td>\n",
       "      <td>Supervisor/Team Lead</td>\n",
       "      <td>Sometimes</td>\n",
       "    </tr>\n",
       "    <tr>\n",
       "      <th>4</th>\n",
       "      <td>0</td>\n",
       "      <td>6-25</td>\n",
       "      <td>0.0</td>\n",
       "      <td>1.0</td>\n",
       "      <td>Yes</td>\n",
       "      <td>Yes</td>\n",
       "      <td>No</td>\n",
       "      <td>No</td>\n",
       "      <td>No</td>\n",
       "      <td>Neither easy nor difficult</td>\n",
       "      <td>...</td>\n",
       "      <td>Sometimes</td>\n",
       "      <td>Sometimes</td>\n",
       "      <td>43</td>\n",
       "      <td>Female</td>\n",
       "      <td>United States of America</td>\n",
       "      <td>Illinois</td>\n",
       "      <td>United States of America</td>\n",
       "      <td>Illinois</td>\n",
       "      <td>Executive Leadership|Supervisor/Team Lead|Dev ...</td>\n",
       "      <td>Sometimes</td>\n",
       "    </tr>\n",
       "  </tbody>\n",
       "</table>\n",
       "<p>5 rows × 63 columns</p>\n",
       "</div>"
      ],
      "text/plain": [
       "   Are you self-employed?  \\\n",
       "0                       0   \n",
       "1                       0   \n",
       "2                       0   \n",
       "3                       1   \n",
       "4                       0   \n",
       "\n",
       "  How many employees does your company or organization have?  \\\n",
       "0                                             26-100           \n",
       "1                                               6-25           \n",
       "2                                               6-25           \n",
       "3                                                NaN           \n",
       "4                                               6-25           \n",
       "\n",
       "   Is your employer primarily a tech company/organization?  \\\n",
       "0                                                1.0         \n",
       "1                                                1.0         \n",
       "2                                                1.0         \n",
       "3                                                NaN         \n",
       "4                                                0.0         \n",
       "\n",
       "   Is your primary role within your company related to tech/IT?  \\\n",
       "0                                                NaN              \n",
       "1                                                NaN              \n",
       "2                                                NaN              \n",
       "3                                                NaN              \n",
       "4                                                1.0              \n",
       "\n",
       "  Does your employer provide mental health benefits as part of healthcare coverage?  \\\n",
       "0                    Not eligible for coverage / N/A                                  \n",
       "1                                                 No                                  \n",
       "2                                                 No                                  \n",
       "3                                                NaN                                  \n",
       "4                                                Yes                                  \n",
       "\n",
       "  Do you know the options for mental health care available under your employer-provided coverage?  \\\n",
       "0                                                NaN                                                \n",
       "1                                                Yes                                                \n",
       "2                                                NaN                                                \n",
       "3                                                NaN                                                \n",
       "4                                                Yes                                                \n",
       "\n",
       "  Has your employer ever formally discussed mental health (for example, as part of a wellness campaign or other official communication)?  \\\n",
       "0                                                 No                                                                                       \n",
       "1                                                Yes                                                                                       \n",
       "2                                                 No                                                                                       \n",
       "3                                                NaN                                                                                       \n",
       "4                                                 No                                                                                       \n",
       "\n",
       "  Does your employer offer resources to learn more about mental health concerns and options for seeking help?  \\\n",
       "0                                                 No                                                            \n",
       "1                                                Yes                                                            \n",
       "2                                                 No                                                            \n",
       "3                                                NaN                                                            \n",
       "4                                                 No                                                            \n",
       "\n",
       "  Is your anonymity protected if you choose to take advantage of mental health or substance abuse treatment resources provided by your employer?  \\\n",
       "0                                       I don't know                                                                                               \n",
       "1                                                Yes                                                                                               \n",
       "2                                       I don't know                                                                                               \n",
       "3                                                NaN                                                                                               \n",
       "4                                                 No                                                                                               \n",
       "\n",
       "  If a mental health issue prompted you to request a medical leave from work, asking for that leave would be:  \\\n",
       "0                                          Very easy                                                            \n",
       "1                                      Somewhat easy                                                            \n",
       "2                         Neither easy nor difficult                                                            \n",
       "3                                                NaN                                                            \n",
       "4                         Neither easy nor difficult                                                            \n",
       "\n",
       "   ...  \\\n",
       "0  ...   \n",
       "1  ...   \n",
       "2  ...   \n",
       "3  ...   \n",
       "4  ...   \n",
       "\n",
       "  If you have a mental health issue, do you feel that it interferes with your work when being treated effectively?  \\\n",
       "0                               Not applicable to me                                                                 \n",
       "1                                             Rarely                                                                 \n",
       "2                               Not applicable to me                                                                 \n",
       "3                                          Sometimes                                                                 \n",
       "4                                          Sometimes                                                                 \n",
       "\n",
       "  If you have a mental health issue, do you feel that it interferes with your work when NOT being treated effectively?  \\\n",
       "0                               Not applicable to me                                                                     \n",
       "1                                          Sometimes                                                                     \n",
       "2                               Not applicable to me                                                                     \n",
       "3                                          Sometimes                                                                     \n",
       "4                                          Sometimes                                                                     \n",
       "\n",
       "  What is your age? What is your gender? What country do you live in?  \\\n",
       "0                39                 Male               United Kingdom   \n",
       "1                29                 male     United States of America   \n",
       "2                38                Male                United Kingdom   \n",
       "3                43                 male               United Kingdom   \n",
       "4                43               Female     United States of America   \n",
       "\n",
       "  What US state or territory do you live in?  What country do you work in?  \\\n",
       "0                                        NaN                United Kingdom   \n",
       "1                                   Illinois      United States of America   \n",
       "2                                        NaN                United Kingdom   \n",
       "3                                        NaN                United Kingdom   \n",
       "4                                   Illinois      United States of America   \n",
       "\n",
       "  What US state or territory do you work in?  \\\n",
       "0                                        NaN   \n",
       "1                                   Illinois   \n",
       "2                                        NaN   \n",
       "3                                        NaN   \n",
       "4                                   Illinois   \n",
       "\n",
       "  Which of the following best describes your work position?  \\\n",
       "0                                 Back-end Developer          \n",
       "1             Back-end Developer|Front-end Developer          \n",
       "2                                 Back-end Developer          \n",
       "3                               Supervisor/Team Lead          \n",
       "4  Executive Leadership|Supervisor/Team Lead|Dev ...          \n",
       "\n",
       "  Do you work remotely?  \n",
       "0             Sometimes  \n",
       "1                 Never  \n",
       "2                Always  \n",
       "3             Sometimes  \n",
       "4             Sometimes  \n",
       "\n",
       "[5 rows x 63 columns]"
      ]
     },
     "execution_count": 5,
     "metadata": {},
     "output_type": "execute_result"
    }
   ],
   "source": [
    "data.head()"
   ]
  },
  {
   "cell_type": "markdown",
   "metadata": {},
   "source": [
    "## All columns "
   ]
  },
  {
   "cell_type": "code",
   "execution_count": 6,
   "metadata": {
    "ExecuteTime": {
     "end_time": "2020-02-27T16:39:02.499691Z",
     "start_time": "2020-02-27T16:39:02.486287Z"
    },
    "scrolled": true
   },
   "outputs": [
    {
     "name": "stdout",
     "output_type": "stream",
     "text": [
      "Are you self-employed?\n",
      "How many employees does your company or organization have?\n",
      "Is your employer primarily a tech company/organization?\n",
      "Is your primary role within your company related to tech/IT?\n",
      "Does your employer provide mental health benefits as part of healthcare coverage?\n",
      "Do you know the options for mental health care available under your employer-provided coverage?\n",
      "Has your employer ever formally discussed mental health (for example, as part of a wellness campaign or other official communication)?\n",
      "Does your employer offer resources to learn more about mental health concerns and options for seeking help?\n",
      "Is your anonymity protected if you choose to take advantage of mental health or substance abuse treatment resources provided by your employer?\n",
      "If a mental health issue prompted you to request a medical leave from work, asking for that leave would be:\n",
      "Do you think that discussing a mental health disorder with your employer would have negative consequences?\n",
      "Do you think that discussing a physical health issue with your employer would have negative consequences?\n",
      "Would you feel comfortable discussing a mental health disorder with your coworkers?\n",
      "Would you feel comfortable discussing a mental health disorder with your direct supervisor(s)?\n",
      "Do you feel that your employer takes mental health as seriously as physical health?\n",
      "Have you heard of or observed negative consequences for co-workers who have been open about mental health issues in your workplace?\n",
      "Do you have medical coverage (private insurance or state-provided) which includes treatment of  mental health issues?\n",
      "Do you know local or online resources to seek help for a mental health disorder?\n",
      "If you have been diagnosed or treated for a mental health disorder, do you ever reveal this to clients or business contacts?\n",
      "If you have revealed a mental health issue to a client or business contact, do you believe this has impacted you negatively?\n",
      "If you have been diagnosed or treated for a mental health disorder, do you ever reveal this to coworkers or employees?\n",
      "If you have revealed a mental health issue to a coworker or employee, do you believe this has impacted you negatively?\n",
      "Do you believe your productivity is ever affected by a mental health issue?\n",
      "If yes, what percentage of your work time (time performing primary or secondary job functions) is affected by a mental health issue?\n",
      "Do you have previous employers?\n",
      "Have your previous employers provided mental health benefits?\n",
      "Were you aware of the options for mental health care provided by your previous employers?\n",
      "Did your previous employers ever formally discuss mental health (as part of a wellness campaign or other official communication)?\n",
      "Did your previous employers provide resources to learn more about mental health issues and how to seek help?\n",
      "Was your anonymity protected if you chose to take advantage of mental health or substance abuse treatment resources with previous employers?\n",
      "Do you think that discussing a mental health disorder with previous employers would have negative consequences?\n",
      "Do you think that discussing a physical health issue with previous employers would have negative consequences?\n",
      "Would you have been willing to discuss a mental health issue with your previous co-workers?\n",
      "Would you have been willing to discuss a mental health issue with your direct supervisor(s)?\n",
      "Did you feel that your previous employers took mental health as seriously as physical health?\n",
      "Did you hear of or observe negative consequences for co-workers with mental health issues in your previous workplaces?\n",
      "Would you be willing to bring up a physical health issue with a potential employer in an interview?\n",
      "Why or why not?\n",
      "Would you bring up a mental health issue with a potential employer in an interview?\n",
      "Why or why not?.1\n",
      "Do you feel that being identified as a person with a mental health issue would hurt your career?\n",
      "Do you think that team members/co-workers would view you more negatively if they knew you suffered from a mental health issue?\n",
      "How willing would you be to share with friends and family that you have a mental illness?\n",
      "Have you observed or experienced an unsupportive or badly handled response to a mental health issue in your current or previous workplace?\n",
      "Have your observations of how another individual who discussed a mental health disorder made you less likely to reveal a mental health issue yourself in your current workplace?\n",
      "Do you have a family history of mental illness?\n",
      "Have you had a mental health disorder in the past?\n",
      "Do you currently have a mental health disorder?\n",
      "If yes, what condition(s) have you been diagnosed with?\n",
      "If maybe, what condition(s) do you believe you have?\n",
      "Have you been diagnosed with a mental health condition by a medical professional?\n",
      "If so, what condition(s) were you diagnosed with?\n",
      "Have you ever sought treatment for a mental health issue from a mental health professional?\n",
      "If you have a mental health issue, do you feel that it interferes with your work when being treated effectively?\n",
      "If you have a mental health issue, do you feel that it interferes with your work when NOT being treated effectively?\n",
      "What is your age?\n",
      "What is your gender?\n",
      "What country do you live in?\n",
      "What US state or territory do you live in?\n",
      "What country do you work in?\n",
      "What US state or territory do you work in?\n",
      "Which of the following best describes your work position?\n",
      "Do you work remotely?\n"
     ]
    },
    {
     "data": {
      "text/plain": [
       "[None,\n",
       " None,\n",
       " None,\n",
       " None,\n",
       " None,\n",
       " None,\n",
       " None,\n",
       " None,\n",
       " None,\n",
       " None,\n",
       " None,\n",
       " None,\n",
       " None,\n",
       " None,\n",
       " None,\n",
       " None,\n",
       " None,\n",
       " None,\n",
       " None,\n",
       " None,\n",
       " None,\n",
       " None,\n",
       " None,\n",
       " None,\n",
       " None,\n",
       " None,\n",
       " None,\n",
       " None,\n",
       " None,\n",
       " None,\n",
       " None,\n",
       " None,\n",
       " None,\n",
       " None,\n",
       " None,\n",
       " None,\n",
       " None,\n",
       " None,\n",
       " None,\n",
       " None,\n",
       " None,\n",
       " None,\n",
       " None,\n",
       " None,\n",
       " None,\n",
       " None,\n",
       " None,\n",
       " None,\n",
       " None,\n",
       " None,\n",
       " None,\n",
       " None,\n",
       " None,\n",
       " None,\n",
       " None,\n",
       " None,\n",
       " None,\n",
       " None,\n",
       " None,\n",
       " None,\n",
       " None,\n",
       " None,\n",
       " None]"
      ]
     },
     "execution_count": 6,
     "metadata": {},
     "output_type": "execute_result"
    }
   ],
   "source": [
    "oldCols = data.columns\n",
    "[print(x) for x in oldCols]"
   ]
  },
  {
   "cell_type": "markdown",
   "metadata": {},
   "source": [
    "## Remove ones with max Missing"
   ]
  },
  {
   "cell_type": "code",
   "execution_count": 7,
   "metadata": {
    "ExecuteTime": {
     "end_time": "2020-02-27T16:39:02.507669Z",
     "start_time": "2020-02-27T16:39:02.500872Z"
    }
   },
   "outputs": [],
   "source": [
    "toRemove = []"
   ]
  },
  {
   "cell_type": "code",
   "execution_count": 8,
   "metadata": {
    "ExecuteTime": {
     "end_time": "2020-02-27T16:39:02.541715Z",
     "start_time": "2020-02-27T16:39:02.510047Z"
    },
    "scrolled": true
   },
   "outputs": [
    {
     "name": "stdout",
     "output_type": "stream",
     "text": [
      "0.0% - Colno: 1\n",
      "20.03% - Colno: 2\n",
      "20.03% - Colno: 3\n",
      "81.65% - Colno: 4\n",
      "20.03% - Colno: 5\n",
      "29.31% - Colno: 6\n",
      "20.03% - Colno: 7\n",
      "20.03% - Colno: 8\n",
      "20.03% - Colno: 9\n",
      "20.03% - Colno: 10\n",
      "20.03% - Colno: 11\n",
      "20.03% - Colno: 12\n",
      "20.03% - Colno: 13\n",
      "20.03% - Colno: 14\n",
      "20.03% - Colno: 15\n",
      "20.03% - Colno: 16\n",
      "79.97% - Colno: 17\n",
      "79.97% - Colno: 18\n",
      "79.97% - Colno: 19\n",
      "89.95% - Colno: 20\n",
      "79.97% - Colno: 21\n",
      "79.97% - Colno: 22\n",
      "79.97% - Colno: 23\n",
      "85.76% - Colno: 24\n",
      "0.0% - Colno: 25\n",
      "11.79% - Colno: 26\n",
      "11.79% - Colno: 27\n",
      "11.79% - Colno: 28\n",
      "11.79% - Colno: 29\n",
      "11.79% - Colno: 30\n",
      "11.79% - Colno: 31\n",
      "11.79% - Colno: 32\n",
      "11.79% - Colno: 33\n",
      "11.79% - Colno: 34\n",
      "11.79% - Colno: 35\n",
      "11.79% - Colno: 36\n",
      "0.0% - Colno: 37\n",
      "23.59% - Colno: 38\n",
      "0.0% - Colno: 39\n",
      "21.42% - Colno: 40\n",
      "0.0% - Colno: 41\n",
      "0.0% - Colno: 42\n",
      "0.0% - Colno: 43\n",
      "6.21% - Colno: 44\n",
      "54.15% - Colno: 45\n",
      "0.0% - Colno: 46\n",
      "0.0% - Colno: 47\n",
      "0.0% - Colno: 48\n",
      "60.36% - Colno: 49\n",
      "77.53% - Colno: 50\n",
      "0.0% - Colno: 51\n",
      "50.38% - Colno: 52\n",
      "0.0% - Colno: 53\n",
      "0.0% - Colno: 54\n",
      "0.0% - Colno: 55\n",
      "0.0% - Colno: 56\n",
      "0.21% - Colno: 57\n",
      "0.0% - Colno: 58\n",
      "41.38% - Colno: 59\n",
      "0.0% - Colno: 60\n",
      "40.61% - Colno: 61\n",
      "0.0% - Colno: 62\n",
      "0.0% - Colno: 63\n"
     ]
    }
   ],
   "source": [
    "counter = 0\n",
    "for a in oldCols:\n",
    "    counter += 1\n",
    "    calc = round((data[a].isna().sum() / len(data[a])) * 100, 2)\n",
    "    print(f'{calc}% - Colno: {counter}')\n",
    "    if calc > 50:\n",
    "        #         print(counter)\n",
    "        toRemove.append(a)"
   ]
  },
  {
   "cell_type": "code",
   "execution_count": 9,
   "metadata": {
    "ExecuteTime": {
     "end_time": "2020-02-27T16:39:02.566616Z",
     "start_time": "2020-02-27T16:39:02.542828Z"
    },
    "scrolled": true
   },
   "outputs": [
    {
     "data": {
      "text/html": [
       "<div>\n",
       "<style scoped>\n",
       "    .dataframe tbody tr th:only-of-type {\n",
       "        vertical-align: middle;\n",
       "    }\n",
       "\n",
       "    .dataframe tbody tr th {\n",
       "        vertical-align: top;\n",
       "    }\n",
       "\n",
       "    .dataframe thead th {\n",
       "        text-align: right;\n",
       "    }\n",
       "</style>\n",
       "<table border=\"1\" class=\"dataframe\">\n",
       "  <thead>\n",
       "    <tr style=\"text-align: right;\">\n",
       "      <th></th>\n",
       "      <th>Are you self-employed?</th>\n",
       "      <th>How many employees does your company or organization have?</th>\n",
       "      <th>Is your employer primarily a tech company/organization?</th>\n",
       "      <th>Does your employer provide mental health benefits as part of healthcare coverage?</th>\n",
       "      <th>Do you know the options for mental health care available under your employer-provided coverage?</th>\n",
       "      <th>Has your employer ever formally discussed mental health (for example, as part of a wellness campaign or other official communication)?</th>\n",
       "      <th>Does your employer offer resources to learn more about mental health concerns and options for seeking help?</th>\n",
       "      <th>Is your anonymity protected if you choose to take advantage of mental health or substance abuse treatment resources provided by your employer?</th>\n",
       "      <th>If a mental health issue prompted you to request a medical leave from work, asking for that leave would be:</th>\n",
       "      <th>Do you think that discussing a mental health disorder with your employer would have negative consequences?</th>\n",
       "      <th>...</th>\n",
       "      <th>If you have a mental health issue, do you feel that it interferes with your work when being treated effectively?</th>\n",
       "      <th>If you have a mental health issue, do you feel that it interferes with your work when NOT being treated effectively?</th>\n",
       "      <th>What is your age?</th>\n",
       "      <th>What is your gender?</th>\n",
       "      <th>What country do you live in?</th>\n",
       "      <th>What US state or territory do you live in?</th>\n",
       "      <th>What country do you work in?</th>\n",
       "      <th>What US state or territory do you work in?</th>\n",
       "      <th>Which of the following best describes your work position?</th>\n",
       "      <th>Do you work remotely?</th>\n",
       "    </tr>\n",
       "  </thead>\n",
       "  <tbody>\n",
       "    <tr>\n",
       "      <th>0</th>\n",
       "      <td>0</td>\n",
       "      <td>26-100</td>\n",
       "      <td>1.0</td>\n",
       "      <td>Not eligible for coverage / N/A</td>\n",
       "      <td>NaN</td>\n",
       "      <td>No</td>\n",
       "      <td>No</td>\n",
       "      <td>I don't know</td>\n",
       "      <td>Very easy</td>\n",
       "      <td>No</td>\n",
       "      <td>...</td>\n",
       "      <td>Not applicable to me</td>\n",
       "      <td>Not applicable to me</td>\n",
       "      <td>39</td>\n",
       "      <td>Male</td>\n",
       "      <td>United Kingdom</td>\n",
       "      <td>NaN</td>\n",
       "      <td>United Kingdom</td>\n",
       "      <td>NaN</td>\n",
       "      <td>Back-end Developer</td>\n",
       "      <td>Sometimes</td>\n",
       "    </tr>\n",
       "    <tr>\n",
       "      <th>1</th>\n",
       "      <td>0</td>\n",
       "      <td>6-25</td>\n",
       "      <td>1.0</td>\n",
       "      <td>No</td>\n",
       "      <td>Yes</td>\n",
       "      <td>Yes</td>\n",
       "      <td>Yes</td>\n",
       "      <td>Yes</td>\n",
       "      <td>Somewhat easy</td>\n",
       "      <td>No</td>\n",
       "      <td>...</td>\n",
       "      <td>Rarely</td>\n",
       "      <td>Sometimes</td>\n",
       "      <td>29</td>\n",
       "      <td>male</td>\n",
       "      <td>United States of America</td>\n",
       "      <td>Illinois</td>\n",
       "      <td>United States of America</td>\n",
       "      <td>Illinois</td>\n",
       "      <td>Back-end Developer|Front-end Developer</td>\n",
       "      <td>Never</td>\n",
       "    </tr>\n",
       "    <tr>\n",
       "      <th>2</th>\n",
       "      <td>0</td>\n",
       "      <td>6-25</td>\n",
       "      <td>1.0</td>\n",
       "      <td>No</td>\n",
       "      <td>NaN</td>\n",
       "      <td>No</td>\n",
       "      <td>No</td>\n",
       "      <td>I don't know</td>\n",
       "      <td>Neither easy nor difficult</td>\n",
       "      <td>Maybe</td>\n",
       "      <td>...</td>\n",
       "      <td>Not applicable to me</td>\n",
       "      <td>Not applicable to me</td>\n",
       "      <td>38</td>\n",
       "      <td>Male</td>\n",
       "      <td>United Kingdom</td>\n",
       "      <td>NaN</td>\n",
       "      <td>United Kingdom</td>\n",
       "      <td>NaN</td>\n",
       "      <td>Back-end Developer</td>\n",
       "      <td>Always</td>\n",
       "    </tr>\n",
       "    <tr>\n",
       "      <th>3</th>\n",
       "      <td>1</td>\n",
       "      <td>NaN</td>\n",
       "      <td>NaN</td>\n",
       "      <td>NaN</td>\n",
       "      <td>NaN</td>\n",
       "      <td>NaN</td>\n",
       "      <td>NaN</td>\n",
       "      <td>NaN</td>\n",
       "      <td>NaN</td>\n",
       "      <td>NaN</td>\n",
       "      <td>...</td>\n",
       "      <td>Sometimes</td>\n",
       "      <td>Sometimes</td>\n",
       "      <td>43</td>\n",
       "      <td>male</td>\n",
       "      <td>United Kingdom</td>\n",
       "      <td>NaN</td>\n",
       "      <td>United Kingdom</td>\n",
       "      <td>NaN</td>\n",
       "      <td>Supervisor/Team Lead</td>\n",
       "      <td>Sometimes</td>\n",
       "    </tr>\n",
       "    <tr>\n",
       "      <th>4</th>\n",
       "      <td>0</td>\n",
       "      <td>6-25</td>\n",
       "      <td>0.0</td>\n",
       "      <td>Yes</td>\n",
       "      <td>Yes</td>\n",
       "      <td>No</td>\n",
       "      <td>No</td>\n",
       "      <td>No</td>\n",
       "      <td>Neither easy nor difficult</td>\n",
       "      <td>Yes</td>\n",
       "      <td>...</td>\n",
       "      <td>Sometimes</td>\n",
       "      <td>Sometimes</td>\n",
       "      <td>43</td>\n",
       "      <td>Female</td>\n",
       "      <td>United States of America</td>\n",
       "      <td>Illinois</td>\n",
       "      <td>United States of America</td>\n",
       "      <td>Illinois</td>\n",
       "      <td>Executive Leadership|Supervisor/Team Lead|Dev ...</td>\n",
       "      <td>Sometimes</td>\n",
       "    </tr>\n",
       "  </tbody>\n",
       "</table>\n",
       "<p>5 rows × 50 columns</p>\n",
       "</div>"
      ],
      "text/plain": [
       "   Are you self-employed?  \\\n",
       "0                       0   \n",
       "1                       0   \n",
       "2                       0   \n",
       "3                       1   \n",
       "4                       0   \n",
       "\n",
       "  How many employees does your company or organization have?  \\\n",
       "0                                             26-100           \n",
       "1                                               6-25           \n",
       "2                                               6-25           \n",
       "3                                                NaN           \n",
       "4                                               6-25           \n",
       "\n",
       "   Is your employer primarily a tech company/organization?  \\\n",
       "0                                                1.0         \n",
       "1                                                1.0         \n",
       "2                                                1.0         \n",
       "3                                                NaN         \n",
       "4                                                0.0         \n",
       "\n",
       "  Does your employer provide mental health benefits as part of healthcare coverage?  \\\n",
       "0                    Not eligible for coverage / N/A                                  \n",
       "1                                                 No                                  \n",
       "2                                                 No                                  \n",
       "3                                                NaN                                  \n",
       "4                                                Yes                                  \n",
       "\n",
       "  Do you know the options for mental health care available under your employer-provided coverage?  \\\n",
       "0                                                NaN                                                \n",
       "1                                                Yes                                                \n",
       "2                                                NaN                                                \n",
       "3                                                NaN                                                \n",
       "4                                                Yes                                                \n",
       "\n",
       "  Has your employer ever formally discussed mental health (for example, as part of a wellness campaign or other official communication)?  \\\n",
       "0                                                 No                                                                                       \n",
       "1                                                Yes                                                                                       \n",
       "2                                                 No                                                                                       \n",
       "3                                                NaN                                                                                       \n",
       "4                                                 No                                                                                       \n",
       "\n",
       "  Does your employer offer resources to learn more about mental health concerns and options for seeking help?  \\\n",
       "0                                                 No                                                            \n",
       "1                                                Yes                                                            \n",
       "2                                                 No                                                            \n",
       "3                                                NaN                                                            \n",
       "4                                                 No                                                            \n",
       "\n",
       "  Is your anonymity protected if you choose to take advantage of mental health or substance abuse treatment resources provided by your employer?  \\\n",
       "0                                       I don't know                                                                                               \n",
       "1                                                Yes                                                                                               \n",
       "2                                       I don't know                                                                                               \n",
       "3                                                NaN                                                                                               \n",
       "4                                                 No                                                                                               \n",
       "\n",
       "  If a mental health issue prompted you to request a medical leave from work, asking for that leave would be:  \\\n",
       "0                                          Very easy                                                            \n",
       "1                                      Somewhat easy                                                            \n",
       "2                         Neither easy nor difficult                                                            \n",
       "3                                                NaN                                                            \n",
       "4                         Neither easy nor difficult                                                            \n",
       "\n",
       "  Do you think that discussing a mental health disorder with your employer would have negative consequences?  \\\n",
       "0                                                 No                                                           \n",
       "1                                                 No                                                           \n",
       "2                                              Maybe                                                           \n",
       "3                                                NaN                                                           \n",
       "4                                                Yes                                                           \n",
       "\n",
       "   ...  \\\n",
       "0  ...   \n",
       "1  ...   \n",
       "2  ...   \n",
       "3  ...   \n",
       "4  ...   \n",
       "\n",
       "  If you have a mental health issue, do you feel that it interferes with your work when being treated effectively?  \\\n",
       "0                               Not applicable to me                                                                 \n",
       "1                                             Rarely                                                                 \n",
       "2                               Not applicable to me                                                                 \n",
       "3                                          Sometimes                                                                 \n",
       "4                                          Sometimes                                                                 \n",
       "\n",
       "  If you have a mental health issue, do you feel that it interferes with your work when NOT being treated effectively?  \\\n",
       "0                               Not applicable to me                                                                     \n",
       "1                                          Sometimes                                                                     \n",
       "2                               Not applicable to me                                                                     \n",
       "3                                          Sometimes                                                                     \n",
       "4                                          Sometimes                                                                     \n",
       "\n",
       "  What is your age? What is your gender? What country do you live in?  \\\n",
       "0                39                 Male               United Kingdom   \n",
       "1                29                 male     United States of America   \n",
       "2                38                Male                United Kingdom   \n",
       "3                43                 male               United Kingdom   \n",
       "4                43               Female     United States of America   \n",
       "\n",
       "   What US state or territory do you live in? What country do you work in?  \\\n",
       "0                                         NaN               United Kingdom   \n",
       "1                                    Illinois     United States of America   \n",
       "2                                         NaN               United Kingdom   \n",
       "3                                         NaN               United Kingdom   \n",
       "4                                    Illinois     United States of America   \n",
       "\n",
       "  What US state or territory do you work in?  \\\n",
       "0                                        NaN   \n",
       "1                                   Illinois   \n",
       "2                                        NaN   \n",
       "3                                        NaN   \n",
       "4                                   Illinois   \n",
       "\n",
       "  Which of the following best describes your work position?  \\\n",
       "0                                 Back-end Developer          \n",
       "1             Back-end Developer|Front-end Developer          \n",
       "2                                 Back-end Developer          \n",
       "3                               Supervisor/Team Lead          \n",
       "4  Executive Leadership|Supervisor/Team Lead|Dev ...          \n",
       "\n",
       "  Do you work remotely?  \n",
       "0             Sometimes  \n",
       "1                 Never  \n",
       "2                Always  \n",
       "3             Sometimes  \n",
       "4             Sometimes  \n",
       "\n",
       "[5 rows x 50 columns]"
      ]
     },
     "execution_count": 9,
     "metadata": {},
     "output_type": "execute_result"
    }
   ],
   "source": [
    "data = data.drop(toRemove, axis=1)\n",
    "data.head()"
   ]
  },
  {
   "cell_type": "markdown",
   "metadata": {},
   "source": [
    "## Fix work pos column"
   ]
  },
  {
   "cell_type": "code",
   "execution_count": 10,
   "metadata": {
    "ExecuteTime": {
     "end_time": "2020-02-27T16:39:02.573279Z",
     "start_time": "2020-02-27T16:39:02.567596Z"
    }
   },
   "outputs": [
    {
     "data": {
      "text/plain": [
       "{'Back-end Developer': 1,\n",
       " 'Front-end Developer': 2,\n",
       " 'Supervisor/Team Lead': 3,\n",
       " 'Executive Leadership': 4,\n",
       " 'Dev Evangelist/Advocate': 5,\n",
       " 'DevOps/SysAdmin': 6,\n",
       " 'Support': 7,\n",
       " 'Designer': 8,\n",
       " 'One-person shop': 9,\n",
       " 'Other': 10,\n",
       " 'Sales': 11,\n",
       " 'HR': 12}"
      ]
     },
     "execution_count": 10,
     "metadata": {},
     "output_type": "execute_result"
    }
   ],
   "source": [
    "actual_cat = []\n",
    "for a in data[\n",
    "        'Which of the following best describes your work position?'].str.split(\n",
    "            '|'):\n",
    "    for b in a:\n",
    "        if b not in actual_cat: actual_cat.append(b)\n",
    "\n",
    "d = {actual_cat[a]: a + 1\n",
    "     for a in range(len(actual_cat))}\n",
    "d"
   ]
  },
  {
   "cell_type": "code",
   "execution_count": 11,
   "metadata": {
    "ExecuteTime": {
     "end_time": "2020-02-27T16:39:02.583125Z",
     "start_time": "2020-02-27T16:39:02.574461Z"
    }
   },
   "outputs": [],
   "source": [
    "def fixer(x):\n",
    "    x = x.split('|')\n",
    "    temp = [d[a] for a in x]\n",
    "    #     print(temp)\n",
    "    return sum(temp)"
   ]
  },
  {
   "cell_type": "code",
   "execution_count": 12,
   "metadata": {
    "ExecuteTime": {
     "end_time": "2020-02-27T16:39:02.605728Z",
     "start_time": "2020-02-27T16:39:02.584309Z"
    }
   },
   "outputs": [
    {
     "data": {
      "text/plain": [
       "3"
      ]
     },
     "execution_count": 12,
     "metadata": {},
     "output_type": "execute_result"
    }
   ],
   "source": [
    "fixer(\"Back-end Developer|Front-end Developer\")"
   ]
  },
  {
   "cell_type": "code",
   "execution_count": 13,
   "metadata": {
    "ExecuteTime": {
     "end_time": "2020-02-27T16:39:02.617857Z",
     "start_time": "2020-02-27T16:39:02.606749Z"
    }
   },
   "outputs": [],
   "source": [
    "data['Which of the following best describes your work position?'] = data[\n",
    "    'Which of the following best describes your work position?'].apply(fixer)"
   ]
  },
  {
   "cell_type": "markdown",
   "metadata": {},
   "source": [
    "## Convert categorical to numerical"
   ]
  },
  {
   "cell_type": "code",
   "execution_count": 14,
   "metadata": {
    "ExecuteTime": {
     "end_time": "2020-02-27T16:39:02.630486Z",
     "start_time": "2020-02-27T16:39:02.619012Z"
    },
    "scrolled": true
   },
   "outputs": [
    {
     "data": {
      "text/plain": [
       "['How many employees does your company or organization have?',\n",
       " 'Does your employer provide mental health benefits as part of healthcare coverage?',\n",
       " 'Do you know the options for mental health care available under your employer-provided coverage?',\n",
       " 'Has your employer ever formally discussed mental health (for example, as part of a wellness campaign or other official communication)?',\n",
       " 'Does your employer offer resources to learn more about mental health concerns and options for seeking help?',\n",
       " 'Is your anonymity protected if you choose to take advantage of mental health or substance abuse treatment resources provided by your employer?',\n",
       " 'If a mental health issue prompted you to request a medical leave from work, asking for that leave would be:',\n",
       " 'Do you think that discussing a mental health disorder with your employer would have negative consequences?',\n",
       " 'Do you think that discussing a physical health issue with your employer would have negative consequences?',\n",
       " 'Would you feel comfortable discussing a mental health disorder with your coworkers?',\n",
       " 'Would you feel comfortable discussing a mental health disorder with your direct supervisor(s)?',\n",
       " 'Do you feel that your employer takes mental health as seriously as physical health?',\n",
       " 'Have you heard of or observed negative consequences for co-workers who have been open about mental health issues in your workplace?',\n",
       " 'Have your previous employers provided mental health benefits?',\n",
       " 'Were you aware of the options for mental health care provided by your previous employers?',\n",
       " 'Did your previous employers ever formally discuss mental health (as part of a wellness campaign or other official communication)?',\n",
       " 'Did your previous employers provide resources to learn more about mental health issues and how to seek help?',\n",
       " 'Was your anonymity protected if you chose to take advantage of mental health or substance abuse treatment resources with previous employers?',\n",
       " 'Do you think that discussing a mental health disorder with previous employers would have negative consequences?',\n",
       " 'Do you think that discussing a physical health issue with previous employers would have negative consequences?',\n",
       " 'Would you have been willing to discuss a mental health issue with your previous co-workers?',\n",
       " 'Would you have been willing to discuss a mental health issue with your direct supervisor(s)?',\n",
       " 'Did you feel that your previous employers took mental health as seriously as physical health?',\n",
       " 'Did you hear of or observe negative consequences for co-workers with mental health issues in your previous workplaces?',\n",
       " 'Would you be willing to bring up a physical health issue with a potential employer in an interview?',\n",
       " 'Why or why not?',\n",
       " 'Would you bring up a mental health issue with a potential employer in an interview?',\n",
       " 'Why or why not?.1',\n",
       " 'Do you feel that being identified as a person with a mental health issue would hurt your career?',\n",
       " 'Do you think that team members/co-workers would view you more negatively if they knew you suffered from a mental health issue?',\n",
       " 'How willing would you be to share with friends and family that you have a mental illness?',\n",
       " 'Have you observed or experienced an unsupportive or badly handled response to a mental health issue in your current or previous workplace?',\n",
       " 'Do you have a family history of mental illness?',\n",
       " 'Have you had a mental health disorder in the past?',\n",
       " 'Do you currently have a mental health disorder?',\n",
       " 'Have you been diagnosed with a mental health condition by a medical professional?',\n",
       " 'If you have a mental health issue, do you feel that it interferes with your work when being treated effectively?',\n",
       " 'If you have a mental health issue, do you feel that it interferes with your work when NOT being treated effectively?',\n",
       " 'What is your gender?',\n",
       " 'What country do you live in?',\n",
       " 'What US state or territory do you live in?',\n",
       " 'What country do you work in?',\n",
       " 'What US state or territory do you work in?',\n",
       " 'Do you work remotely?']"
      ]
     },
     "execution_count": 14,
     "metadata": {},
     "output_type": "execute_result"
    }
   ],
   "source": [
    "cat_columns = [x for x in data.columns if data[x].dtypes == object]\n",
    "cat_columns"
   ]
  },
  {
   "cell_type": "code",
   "execution_count": 15,
   "metadata": {
    "ExecuteTime": {
     "end_time": "2020-02-27T16:39:02.690277Z",
     "start_time": "2020-02-27T16:39:02.631675Z"
    }
   },
   "outputs": [],
   "source": [
    "data = data.fillna(0)"
   ]
  },
  {
   "cell_type": "code",
   "execution_count": 16,
   "metadata": {
    "ExecuteTime": {
     "end_time": "2020-02-27T16:39:02.709020Z",
     "start_time": "2020-02-27T16:39:02.691340Z"
    }
   },
   "outputs": [
    {
     "data": {
      "text/plain": [
       "array(['26-100', '6-25', 0, 'More than 1000', '100-500', '500-1000',\n",
       "       '1-5'], dtype=object)"
      ]
     },
     "execution_count": 16,
     "metadata": {},
     "output_type": "execute_result"
    }
   ],
   "source": [
    "data[cat_columns[0]].unique()"
   ]
  },
  {
   "cell_type": "code",
   "execution_count": 17,
   "metadata": {
    "ExecuteTime": {
     "end_time": "2020-02-27T16:39:02.731952Z",
     "start_time": "2020-02-27T16:39:02.710185Z"
    }
   },
   "outputs": [],
   "source": [
    "# for a in cat_columns:\n",
    "#     data[a] = data[a].astype('category').cat.codes"
   ]
  },
  {
   "cell_type": "code",
   "execution_count": 18,
   "metadata": {
    "ExecuteTime": {
     "end_time": "2020-02-27T16:39:02.756243Z",
     "start_time": "2020-02-27T16:39:02.732981Z"
    }
   },
   "outputs": [],
   "source": [
    "pd.set_option('display.max_columns', 100)"
   ]
  },
  {
   "cell_type": "code",
   "execution_count": 19,
   "metadata": {
    "ExecuteTime": {
     "end_time": "2020-02-27T16:39:02.822044Z",
     "start_time": "2020-02-27T16:39:02.757771Z"
    },
    "scrolled": true
   },
   "outputs": [
    {
     "data": {
      "text/html": [
       "<div>\n",
       "<style scoped>\n",
       "    .dataframe tbody tr th:only-of-type {\n",
       "        vertical-align: middle;\n",
       "    }\n",
       "\n",
       "    .dataframe tbody tr th {\n",
       "        vertical-align: top;\n",
       "    }\n",
       "\n",
       "    .dataframe thead th {\n",
       "        text-align: right;\n",
       "    }\n",
       "</style>\n",
       "<table border=\"1\" class=\"dataframe\">\n",
       "  <thead>\n",
       "    <tr style=\"text-align: right;\">\n",
       "      <th></th>\n",
       "      <th>Are you self-employed?</th>\n",
       "      <th>How many employees does your company or organization have?</th>\n",
       "      <th>Is your employer primarily a tech company/organization?</th>\n",
       "      <th>Does your employer provide mental health benefits as part of healthcare coverage?</th>\n",
       "      <th>Do you know the options for mental health care available under your employer-provided coverage?</th>\n",
       "      <th>Has your employer ever formally discussed mental health (for example, as part of a wellness campaign or other official communication)?</th>\n",
       "      <th>Does your employer offer resources to learn more about mental health concerns and options for seeking help?</th>\n",
       "      <th>Is your anonymity protected if you choose to take advantage of mental health or substance abuse treatment resources provided by your employer?</th>\n",
       "      <th>If a mental health issue prompted you to request a medical leave from work, asking for that leave would be:</th>\n",
       "      <th>Do you think that discussing a mental health disorder with your employer would have negative consequences?</th>\n",
       "      <th>Do you think that discussing a physical health issue with your employer would have negative consequences?</th>\n",
       "      <th>Would you feel comfortable discussing a mental health disorder with your coworkers?</th>\n",
       "      <th>Would you feel comfortable discussing a mental health disorder with your direct supervisor(s)?</th>\n",
       "      <th>Do you feel that your employer takes mental health as seriously as physical health?</th>\n",
       "      <th>Have you heard of or observed negative consequences for co-workers who have been open about mental health issues in your workplace?</th>\n",
       "      <th>Do you have previous employers?</th>\n",
       "      <th>Have your previous employers provided mental health benefits?</th>\n",
       "      <th>Were you aware of the options for mental health care provided by your previous employers?</th>\n",
       "      <th>Did your previous employers ever formally discuss mental health (as part of a wellness campaign or other official communication)?</th>\n",
       "      <th>Did your previous employers provide resources to learn more about mental health issues and how to seek help?</th>\n",
       "      <th>Was your anonymity protected if you chose to take advantage of mental health or substance abuse treatment resources with previous employers?</th>\n",
       "      <th>Do you think that discussing a mental health disorder with previous employers would have negative consequences?</th>\n",
       "      <th>Do you think that discussing a physical health issue with previous employers would have negative consequences?</th>\n",
       "      <th>Would you have been willing to discuss a mental health issue with your previous co-workers?</th>\n",
       "      <th>Would you have been willing to discuss a mental health issue with your direct supervisor(s)?</th>\n",
       "      <th>Did you feel that your previous employers took mental health as seriously as physical health?</th>\n",
       "      <th>Did you hear of or observe negative consequences for co-workers with mental health issues in your previous workplaces?</th>\n",
       "      <th>Would you be willing to bring up a physical health issue with a potential employer in an interview?</th>\n",
       "      <th>Why or why not?</th>\n",
       "      <th>Would you bring up a mental health issue with a potential employer in an interview?</th>\n",
       "      <th>Why or why not?.1</th>\n",
       "      <th>Do you feel that being identified as a person with a mental health issue would hurt your career?</th>\n",
       "      <th>Do you think that team members/co-workers would view you more negatively if they knew you suffered from a mental health issue?</th>\n",
       "      <th>How willing would you be to share with friends and family that you have a mental illness?</th>\n",
       "      <th>Have you observed or experienced an unsupportive or badly handled response to a mental health issue in your current or previous workplace?</th>\n",
       "      <th>Do you have a family history of mental illness?</th>\n",
       "      <th>Have you had a mental health disorder in the past?</th>\n",
       "      <th>Do you currently have a mental health disorder?</th>\n",
       "      <th>Have you been diagnosed with a mental health condition by a medical professional?</th>\n",
       "      <th>Have you ever sought treatment for a mental health issue from a mental health professional?</th>\n",
       "      <th>If you have a mental health issue, do you feel that it interferes with your work when being treated effectively?</th>\n",
       "      <th>If you have a mental health issue, do you feel that it interferes with your work when NOT being treated effectively?</th>\n",
       "      <th>What is your age?</th>\n",
       "      <th>What is your gender?</th>\n",
       "      <th>What country do you live in?</th>\n",
       "      <th>What US state or territory do you live in?</th>\n",
       "      <th>What country do you work in?</th>\n",
       "      <th>What US state or territory do you work in?</th>\n",
       "      <th>Which of the following best describes your work position?</th>\n",
       "      <th>Do you work remotely?</th>\n",
       "    </tr>\n",
       "  </thead>\n",
       "  <tbody>\n",
       "    <tr>\n",
       "      <th>0</th>\n",
       "      <td>0</td>\n",
       "      <td>26-100</td>\n",
       "      <td>1.0</td>\n",
       "      <td>Not eligible for coverage / N/A</td>\n",
       "      <td>0</td>\n",
       "      <td>No</td>\n",
       "      <td>No</td>\n",
       "      <td>I don't know</td>\n",
       "      <td>Very easy</td>\n",
       "      <td>No</td>\n",
       "      <td>No</td>\n",
       "      <td>Maybe</td>\n",
       "      <td>Yes</td>\n",
       "      <td>I don't know</td>\n",
       "      <td>No</td>\n",
       "      <td>1</td>\n",
       "      <td>No, none did</td>\n",
       "      <td>N/A (not currently aware)</td>\n",
       "      <td>I don't know</td>\n",
       "      <td>None did</td>\n",
       "      <td>I don't know</td>\n",
       "      <td>Some of them</td>\n",
       "      <td>None of them</td>\n",
       "      <td>Some of my previous employers</td>\n",
       "      <td>Some of my previous employers</td>\n",
       "      <td>I don't know</td>\n",
       "      <td>None of them</td>\n",
       "      <td>Maybe</td>\n",
       "      <td>0</td>\n",
       "      <td>Maybe</td>\n",
       "      <td>0</td>\n",
       "      <td>Maybe</td>\n",
       "      <td>No, I don't think they would</td>\n",
       "      <td>Somewhat open</td>\n",
       "      <td>No</td>\n",
       "      <td>No</td>\n",
       "      <td>Yes</td>\n",
       "      <td>No</td>\n",
       "      <td>Yes</td>\n",
       "      <td>0</td>\n",
       "      <td>Not applicable to me</td>\n",
       "      <td>Not applicable to me</td>\n",
       "      <td>39</td>\n",
       "      <td>Male</td>\n",
       "      <td>United Kingdom</td>\n",
       "      <td>0</td>\n",
       "      <td>United Kingdom</td>\n",
       "      <td>0</td>\n",
       "      <td>1</td>\n",
       "      <td>Sometimes</td>\n",
       "    </tr>\n",
       "    <tr>\n",
       "      <th>1</th>\n",
       "      <td>0</td>\n",
       "      <td>6-25</td>\n",
       "      <td>1.0</td>\n",
       "      <td>No</td>\n",
       "      <td>Yes</td>\n",
       "      <td>Yes</td>\n",
       "      <td>Yes</td>\n",
       "      <td>Yes</td>\n",
       "      <td>Somewhat easy</td>\n",
       "      <td>No</td>\n",
       "      <td>No</td>\n",
       "      <td>Maybe</td>\n",
       "      <td>Yes</td>\n",
       "      <td>Yes</td>\n",
       "      <td>No</td>\n",
       "      <td>1</td>\n",
       "      <td>Yes, they all did</td>\n",
       "      <td>I was aware of some</td>\n",
       "      <td>None did</td>\n",
       "      <td>Some did</td>\n",
       "      <td>Yes, always</td>\n",
       "      <td>None of them</td>\n",
       "      <td>None of them</td>\n",
       "      <td>No, at none of my previous employers</td>\n",
       "      <td>Some of my previous employers</td>\n",
       "      <td>Some did</td>\n",
       "      <td>None of them</td>\n",
       "      <td>Maybe</td>\n",
       "      <td>It would depend on the health issue. If there ...</td>\n",
       "      <td>No</td>\n",
       "      <td>While mental health has become a more prominen...</td>\n",
       "      <td>No, I don't think it would</td>\n",
       "      <td>No, I don't think they would</td>\n",
       "      <td>Somewhat open</td>\n",
       "      <td>No</td>\n",
       "      <td>Yes</td>\n",
       "      <td>Yes</td>\n",
       "      <td>Yes</td>\n",
       "      <td>Yes</td>\n",
       "      <td>1</td>\n",
       "      <td>Rarely</td>\n",
       "      <td>Sometimes</td>\n",
       "      <td>29</td>\n",
       "      <td>male</td>\n",
       "      <td>United States of America</td>\n",
       "      <td>Illinois</td>\n",
       "      <td>United States of America</td>\n",
       "      <td>Illinois</td>\n",
       "      <td>3</td>\n",
       "      <td>Never</td>\n",
       "    </tr>\n",
       "    <tr>\n",
       "      <th>2</th>\n",
       "      <td>0</td>\n",
       "      <td>6-25</td>\n",
       "      <td>1.0</td>\n",
       "      <td>No</td>\n",
       "      <td>0</td>\n",
       "      <td>No</td>\n",
       "      <td>No</td>\n",
       "      <td>I don't know</td>\n",
       "      <td>Neither easy nor difficult</td>\n",
       "      <td>Maybe</td>\n",
       "      <td>No</td>\n",
       "      <td>Maybe</td>\n",
       "      <td>Maybe</td>\n",
       "      <td>I don't know</td>\n",
       "      <td>No</td>\n",
       "      <td>1</td>\n",
       "      <td>No, none did</td>\n",
       "      <td>N/A (not currently aware)</td>\n",
       "      <td>None did</td>\n",
       "      <td>Some did</td>\n",
       "      <td>I don't know</td>\n",
       "      <td>I don't know</td>\n",
       "      <td>Some of them</td>\n",
       "      <td>Some of my previous employers</td>\n",
       "      <td>I don't know</td>\n",
       "      <td>I don't know</td>\n",
       "      <td>Some of them</td>\n",
       "      <td>Yes</td>\n",
       "      <td>They would provable need to know, to Judge if ...</td>\n",
       "      <td>Yes</td>\n",
       "      <td>Stigma, mainly.</td>\n",
       "      <td>Maybe</td>\n",
       "      <td>Maybe</td>\n",
       "      <td>Somewhat open</td>\n",
       "      <td>Maybe/Not sure</td>\n",
       "      <td>No</td>\n",
       "      <td>Maybe</td>\n",
       "      <td>No</td>\n",
       "      <td>No</td>\n",
       "      <td>1</td>\n",
       "      <td>Not applicable to me</td>\n",
       "      <td>Not applicable to me</td>\n",
       "      <td>38</td>\n",
       "      <td>Male</td>\n",
       "      <td>United Kingdom</td>\n",
       "      <td>0</td>\n",
       "      <td>United Kingdom</td>\n",
       "      <td>0</td>\n",
       "      <td>1</td>\n",
       "      <td>Always</td>\n",
       "    </tr>\n",
       "  </tbody>\n",
       "</table>\n",
       "</div>"
      ],
      "text/plain": [
       "   Are you self-employed?  \\\n",
       "0                       0   \n",
       "1                       0   \n",
       "2                       0   \n",
       "\n",
       "  How many employees does your company or organization have?  \\\n",
       "0                                             26-100           \n",
       "1                                               6-25           \n",
       "2                                               6-25           \n",
       "\n",
       "   Is your employer primarily a tech company/organization?  \\\n",
       "0                                                1.0         \n",
       "1                                                1.0         \n",
       "2                                                1.0         \n",
       "\n",
       "  Does your employer provide mental health benefits as part of healthcare coverage?  \\\n",
       "0                    Not eligible for coverage / N/A                                  \n",
       "1                                                 No                                  \n",
       "2                                                 No                                  \n",
       "\n",
       "  Do you know the options for mental health care available under your employer-provided coverage?  \\\n",
       "0                                                  0                                                \n",
       "1                                                Yes                                                \n",
       "2                                                  0                                                \n",
       "\n",
       "  Has your employer ever formally discussed mental health (for example, as part of a wellness campaign or other official communication)?  \\\n",
       "0                                                 No                                                                                       \n",
       "1                                                Yes                                                                                       \n",
       "2                                                 No                                                                                       \n",
       "\n",
       "  Does your employer offer resources to learn more about mental health concerns and options for seeking help?  \\\n",
       "0                                                 No                                                            \n",
       "1                                                Yes                                                            \n",
       "2                                                 No                                                            \n",
       "\n",
       "  Is your anonymity protected if you choose to take advantage of mental health or substance abuse treatment resources provided by your employer?  \\\n",
       "0                                       I don't know                                                                                               \n",
       "1                                                Yes                                                                                               \n",
       "2                                       I don't know                                                                                               \n",
       "\n",
       "  If a mental health issue prompted you to request a medical leave from work, asking for that leave would be:  \\\n",
       "0                                          Very easy                                                            \n",
       "1                                      Somewhat easy                                                            \n",
       "2                         Neither easy nor difficult                                                            \n",
       "\n",
       "  Do you think that discussing a mental health disorder with your employer would have negative consequences?  \\\n",
       "0                                                 No                                                           \n",
       "1                                                 No                                                           \n",
       "2                                              Maybe                                                           \n",
       "\n",
       "  Do you think that discussing a physical health issue with your employer would have negative consequences?  \\\n",
       "0                                                 No                                                          \n",
       "1                                                 No                                                          \n",
       "2                                                 No                                                          \n",
       "\n",
       "  Would you feel comfortable discussing a mental health disorder with your coworkers?  \\\n",
       "0                                              Maybe                                    \n",
       "1                                              Maybe                                    \n",
       "2                                              Maybe                                    \n",
       "\n",
       "  Would you feel comfortable discussing a mental health disorder with your direct supervisor(s)?  \\\n",
       "0                                                Yes                                               \n",
       "1                                                Yes                                               \n",
       "2                                              Maybe                                               \n",
       "\n",
       "  Do you feel that your employer takes mental health as seriously as physical health?  \\\n",
       "0                                       I don't know                                    \n",
       "1                                                Yes                                    \n",
       "2                                       I don't know                                    \n",
       "\n",
       "  Have you heard of or observed negative consequences for co-workers who have been open about mental health issues in your workplace?  \\\n",
       "0                                                 No                                                                                    \n",
       "1                                                 No                                                                                    \n",
       "2                                                 No                                                                                    \n",
       "\n",
       "   Do you have previous employers?  \\\n",
       "0                                1   \n",
       "1                                1   \n",
       "2                                1   \n",
       "\n",
       "  Have your previous employers provided mental health benefits?  \\\n",
       "0                                       No, none did              \n",
       "1                                  Yes, they all did              \n",
       "2                                       No, none did              \n",
       "\n",
       "  Were you aware of the options for mental health care provided by your previous employers?  \\\n",
       "0                          N/A (not currently aware)                                          \n",
       "1                                I was aware of some                                          \n",
       "2                          N/A (not currently aware)                                          \n",
       "\n",
       "  Did your previous employers ever formally discuss mental health (as part of a wellness campaign or other official communication)?  \\\n",
       "0                                       I don't know                                                                                  \n",
       "1                                           None did                                                                                  \n",
       "2                                           None did                                                                                  \n",
       "\n",
       "  Did your previous employers provide resources to learn more about mental health issues and how to seek help?  \\\n",
       "0                                           None did                                                             \n",
       "1                                           Some did                                                             \n",
       "2                                           Some did                                                             \n",
       "\n",
       "  Was your anonymity protected if you chose to take advantage of mental health or substance abuse treatment resources with previous employers?  \\\n",
       "0                                       I don't know                                                                                             \n",
       "1                                        Yes, always                                                                                             \n",
       "2                                       I don't know                                                                                             \n",
       "\n",
       "  Do you think that discussing a mental health disorder with previous employers would have negative consequences?  \\\n",
       "0                                       Some of them                                                                \n",
       "1                                       None of them                                                                \n",
       "2                                       I don't know                                                                \n",
       "\n",
       "  Do you think that discussing a physical health issue with previous employers would have negative consequences?  \\\n",
       "0                                       None of them                                                               \n",
       "1                                       None of them                                                               \n",
       "2                                       Some of them                                                               \n",
       "\n",
       "  Would you have been willing to discuss a mental health issue with your previous co-workers?  \\\n",
       "0                      Some of my previous employers                                            \n",
       "1               No, at none of my previous employers                                            \n",
       "2                      Some of my previous employers                                            \n",
       "\n",
       "  Would you have been willing to discuss a mental health issue with your direct supervisor(s)?  \\\n",
       "0                      Some of my previous employers                                             \n",
       "1                      Some of my previous employers                                             \n",
       "2                                       I don't know                                             \n",
       "\n",
       "  Did you feel that your previous employers took mental health as seriously as physical health?  \\\n",
       "0                                       I don't know                                              \n",
       "1                                           Some did                                              \n",
       "2                                       I don't know                                              \n",
       "\n",
       "  Did you hear of or observe negative consequences for co-workers with mental health issues in your previous workplaces?  \\\n",
       "0                                       None of them                                                                       \n",
       "1                                       None of them                                                                       \n",
       "2                                       Some of them                                                                       \n",
       "\n",
       "  Would you be willing to bring up a physical health issue with a potential employer in an interview?  \\\n",
       "0                                              Maybe                                                    \n",
       "1                                              Maybe                                                    \n",
       "2                                                Yes                                                    \n",
       "\n",
       "                                     Why or why not?  \\\n",
       "0                                                  0   \n",
       "1  It would depend on the health issue. If there ...   \n",
       "2  They would provable need to know, to Judge if ...   \n",
       "\n",
       "  Would you bring up a mental health issue with a potential employer in an interview?  \\\n",
       "0                                              Maybe                                    \n",
       "1                                                 No                                    \n",
       "2                                                Yes                                    \n",
       "\n",
       "                                   Why or why not?.1  \\\n",
       "0                                                  0   \n",
       "1  While mental health has become a more prominen...   \n",
       "2                                   Stigma, mainly.    \n",
       "\n",
       "  Do you feel that being identified as a person with a mental health issue would hurt your career?  \\\n",
       "0                                              Maybe                                                 \n",
       "1                         No, I don't think it would                                                 \n",
       "2                                              Maybe                                                 \n",
       "\n",
       "  Do you think that team members/co-workers would view you more negatively if they knew you suffered from a mental health issue?  \\\n",
       "0                       No, I don't think they would                                                                               \n",
       "1                       No, I don't think they would                                                                               \n",
       "2                                              Maybe                                                                               \n",
       "\n",
       "  How willing would you be to share with friends and family that you have a mental illness?  \\\n",
       "0                                      Somewhat open                                          \n",
       "1                                      Somewhat open                                          \n",
       "2                                      Somewhat open                                          \n",
       "\n",
       "  Have you observed or experienced an unsupportive or badly handled response to a mental health issue in your current or previous workplace?  \\\n",
       "0                                                 No                                                                                           \n",
       "1                                                 No                                                                                           \n",
       "2                                     Maybe/Not sure                                                                                           \n",
       "\n",
       "  Do you have a family history of mental illness?  \\\n",
       "0                                              No   \n",
       "1                                             Yes   \n",
       "2                                              No   \n",
       "\n",
       "  Have you had a mental health disorder in the past?  \\\n",
       "0                                                Yes   \n",
       "1                                                Yes   \n",
       "2                                              Maybe   \n",
       "\n",
       "  Do you currently have a mental health disorder?  \\\n",
       "0                                              No   \n",
       "1                                             Yes   \n",
       "2                                              No   \n",
       "\n",
       "  Have you been diagnosed with a mental health condition by a medical professional?  \\\n",
       "0                                                Yes                                  \n",
       "1                                                Yes                                  \n",
       "2                                                 No                                  \n",
       "\n",
       "   Have you ever sought treatment for a mental health issue from a mental health professional?  \\\n",
       "0                                                  0                                             \n",
       "1                                                  1                                             \n",
       "2                                                  1                                             \n",
       "\n",
       "  If you have a mental health issue, do you feel that it interferes with your work when being treated effectively?  \\\n",
       "0                               Not applicable to me                                                                 \n",
       "1                                             Rarely                                                                 \n",
       "2                               Not applicable to me                                                                 \n",
       "\n",
       "  If you have a mental health issue, do you feel that it interferes with your work when NOT being treated effectively?  \\\n",
       "0                               Not applicable to me                                                                     \n",
       "1                                          Sometimes                                                                     \n",
       "2                               Not applicable to me                                                                     \n",
       "\n",
       "   What is your age? What is your gender? What country do you live in?  \\\n",
       "0                 39                 Male               United Kingdom   \n",
       "1                 29                 male     United States of America   \n",
       "2                 38                Male                United Kingdom   \n",
       "\n",
       "  What US state or territory do you live in? What country do you work in?  \\\n",
       "0                                          0               United Kingdom   \n",
       "1                                   Illinois     United States of America   \n",
       "2                                          0               United Kingdom   \n",
       "\n",
       "  What US state or territory do you work in?  \\\n",
       "0                                          0   \n",
       "1                                   Illinois   \n",
       "2                                          0   \n",
       "\n",
       "   Which of the following best describes your work position?  \\\n",
       "0                                                  1           \n",
       "1                                                  3           \n",
       "2                                                  1           \n",
       "\n",
       "  Do you work remotely?  \n",
       "0             Sometimes  \n",
       "1                 Never  \n",
       "2                Always  "
      ]
     },
     "execution_count": 19,
     "metadata": {},
     "output_type": "execute_result"
    }
   ],
   "source": [
    "data.head(3)"
   ]
  },
  {
   "cell_type": "markdown",
   "metadata": {},
   "source": [
    "# EDA \n",
    "- The objective is to identify the factors affecting the person having mental health disorders and eventually predict the probability of them having one based on the above factors"
   ]
  },
  {
   "cell_type": "markdown",
   "metadata": {},
   "source": [
    "## Plots \n",
    "- Pie\n",
    "- scatter\n",
    "- stacked bar\n",
    "- histogram\n",
    "- heatmap\n",
    "- violin plot\n",
    "- scatter\n",
    "- swarm\n",
    "- factorplot\n",
    "\n"
   ]
  },
  {
   "cell_type": "markdown",
   "metadata": {},
   "source": [
    "- main_column = data['Do you currently have a mental health disorder?'] "
   ]
  },
  {
   "cell_type": "code",
   "execution_count": 20,
   "metadata": {
    "ExecuteTime": {
     "end_time": "2020-02-27T16:39:02.844951Z",
     "start_time": "2020-02-27T16:39:02.823550Z"
    }
   },
   "outputs": [],
   "source": [
    "sns.set_style(\"whitegrid\")\n",
    "# sns.set_context(\"notebook\", font_scale=1.5, rc={\"lines.linewidth\": 2.5})\n",
    "sns.set_context(\"paper\")\n",
    "sns.set(rc={'figure.figsize': (11.7, 8.27)})"
   ]
  },
  {
   "cell_type": "code",
   "execution_count": 21,
   "metadata": {
    "ExecuteTime": {
     "end_time": "2020-02-27T16:39:20.747430Z",
     "start_time": "2020-02-27T16:39:20.558247Z"
    }
   },
   "outputs": [],
   "source": [
    "import plotly.express as px"
   ]
  },
  {
   "cell_type": "markdown",
   "metadata": {},
   "source": [
    "## Age related"
   ]
  },
  {
   "cell_type": "code",
   "execution_count": 22,
   "metadata": {
    "ExecuteTime": {
     "end_time": "2020-01-26T04:28:48.026459Z",
     "start_time": "2020-01-26T04:28:48.020476Z"
    }
   },
   "outputs": [],
   "source": [
    "# data['Do you currently have a mental health disorder?'].astype('category').cat.categories\n",
    "data['Do you currently have a mental health disorder?'] = data[\n",
    "    'Do you currently have a mental health disorder?'].astype(\n",
    "        'category').cat.codes"
   ]
  },
  {
   "cell_type": "code",
   "execution_count": 27,
   "metadata": {
    "ExecuteTime": {
     "end_time": "2020-02-27T16:41:41.402287Z",
     "start_time": "2020-02-27T16:41:41.227947Z"
    }
   },
   "outputs": [
    {
     "data": {
      "application/vnd.plotly.v1+json": {
       "config": {
        "plotlyServerURL": "https://plot.ly"
       },
       "data": [
        {
         "alignmentgroup": "True",
         "box": {
          "visible": false
         },
         "hoverlabel": {
          "namelength": 0
         },
         "hovertemplate": "Do you currently have a mental health disorder?=%{x}<br>What is your age?=%{y}",
         "legendgroup": "",
         "marker": {
          "color": "#636efa"
         },
         "name": "",
         "offsetgroup": "",
         "orientation": "v",
         "scalegroup": "True",
         "showlegend": false,
         "type": "violin",
         "x": [
          "No",
          "Yes",
          "No",
          "Yes",
          "Yes",
          "Yes",
          "No",
          "Yes",
          "Yes",
          "Yes",
          "Yes",
          "Yes",
          "Yes",
          "Maybe",
          "Yes",
          "Yes",
          "Yes",
          "No",
          "Yes",
          "Yes",
          "No",
          "No",
          "No",
          "No",
          "No",
          "No",
          "Yes",
          "Maybe",
          "Maybe",
          "Yes",
          "Yes",
          "Yes",
          "Maybe",
          "No",
          "Yes",
          "No",
          "Yes",
          "Maybe",
          "Maybe",
          "No",
          "Yes",
          "Yes",
          "Yes",
          "Yes",
          "No",
          "Yes",
          "Yes",
          "Maybe",
          "Maybe",
          "Yes",
          "Yes",
          "No",
          "No",
          "Yes",
          "Maybe",
          "No",
          "Maybe",
          "Maybe",
          "Maybe",
          "No",
          "Maybe",
          "Maybe",
          "No",
          "Maybe",
          "No",
          "No",
          "Yes",
          "Yes",
          "No",
          "Maybe",
          "No",
          "No",
          "No",
          "No",
          "Maybe",
          "No",
          "Yes",
          "No",
          "No",
          "Yes",
          "No",
          "Yes",
          "Yes",
          "No",
          "Yes",
          "Maybe",
          "Maybe",
          "Yes",
          "Maybe",
          "Yes",
          "No",
          "Maybe",
          "Yes",
          "No",
          "Yes",
          "Yes",
          "No",
          "No",
          "Yes",
          "Yes",
          "No",
          "Yes",
          "No",
          "No",
          "Maybe",
          "Maybe",
          "Maybe",
          "Yes",
          "Yes",
          "Yes",
          "Maybe",
          "Yes",
          "Maybe",
          "No",
          "Yes",
          "No",
          "Yes",
          "No",
          "Yes",
          "Maybe",
          "Maybe",
          "No",
          "Yes",
          "Yes",
          "Yes",
          "Maybe",
          "Maybe",
          "No",
          "No",
          "No",
          "Maybe",
          "Maybe",
          "Yes",
          "Yes",
          "No",
          "No",
          "Maybe",
          "No",
          "Yes",
          "Yes",
          "Yes",
          "No",
          "Maybe",
          "Yes",
          "Yes",
          "Maybe",
          "Yes",
          "No",
          "No",
          "No",
          "Yes",
          "Yes",
          "No",
          "Maybe",
          "Yes",
          "No",
          "No",
          "Yes",
          "No",
          "No",
          "Yes",
          "Yes",
          "Yes",
          "No",
          "Yes",
          "No",
          "No",
          "Maybe",
          "Maybe",
          "Maybe",
          "Maybe",
          "No",
          "No",
          "Maybe",
          "Yes",
          "No",
          "Yes",
          "Yes",
          "No",
          "Yes",
          "No",
          "No",
          "Maybe",
          "No",
          "Yes",
          "No",
          "Yes",
          "No",
          "Yes",
          "Maybe",
          "Yes",
          "Maybe",
          "No",
          "Maybe",
          "Yes",
          "Yes",
          "Yes",
          "Yes",
          "No",
          "Yes",
          "Maybe",
          "No",
          "Maybe",
          "Yes",
          "Maybe",
          "No",
          "No",
          "Yes",
          "Yes",
          "No",
          "No",
          "No",
          "Yes",
          "Maybe",
          "No",
          "No",
          "No",
          "No",
          "No",
          "Yes",
          "Yes",
          "No",
          "No",
          "No",
          "No",
          "No",
          "No",
          "No",
          "Maybe",
          "Yes",
          "Yes",
          "No",
          "No",
          "No",
          "Yes",
          "No",
          "Maybe",
          "No",
          "Maybe",
          "No",
          "Maybe",
          "No",
          "No",
          "No",
          "No",
          "Maybe",
          "Yes",
          "Yes",
          "No",
          "Yes",
          "Yes",
          "Yes",
          "Yes",
          "Yes",
          "Yes",
          "No",
          "Maybe",
          "Yes",
          "Maybe",
          "Maybe",
          "Yes",
          "No",
          "No",
          "Yes",
          "Maybe",
          "No",
          "Yes",
          "No",
          "Yes",
          "Yes",
          "Yes",
          "No",
          "Yes",
          "No",
          "Maybe",
          "Yes",
          "Maybe",
          "Yes",
          "Maybe",
          "No",
          "No",
          "No",
          "Maybe",
          "No",
          "Yes",
          "Yes",
          "Yes",
          "No",
          "Yes",
          "No",
          "No",
          "Maybe",
          "Maybe",
          "Yes",
          "Maybe",
          "Yes",
          "Yes",
          "Yes",
          "No",
          "No",
          "Maybe",
          "Yes",
          "Yes",
          "No",
          "Yes",
          "No",
          "No",
          "No",
          "Yes",
          "Yes",
          "Yes",
          "Yes",
          "No",
          "Yes",
          "No",
          "Yes",
          "No",
          "No",
          "Yes",
          "No",
          "No",
          "Yes",
          "Yes",
          "No",
          "Maybe",
          "No",
          "Yes",
          "No",
          "No",
          "No",
          "Yes",
          "Yes",
          "Maybe",
          "Maybe",
          "Maybe",
          "Maybe",
          "Yes",
          "Maybe",
          "Yes",
          "Yes",
          "No",
          "Yes",
          "No",
          "Maybe",
          "No",
          "Yes",
          "Maybe",
          "No",
          "No",
          "Yes",
          "Maybe",
          "No",
          "No",
          "Maybe",
          "Yes",
          "Yes",
          "No",
          "Yes",
          "Yes",
          "Maybe",
          "No",
          "Yes",
          "No",
          "Maybe",
          "No",
          "No",
          "No",
          "Yes",
          "No",
          "Yes",
          "No",
          "No",
          "Yes",
          "Maybe",
          "Yes",
          "No",
          "No",
          "Yes",
          "Yes",
          "Maybe",
          "Yes",
          "Yes",
          "Yes",
          "Yes",
          "Yes",
          "Maybe",
          "No",
          "No",
          "Yes",
          "Yes",
          "No",
          "No",
          "Yes",
          "Maybe",
          "Yes",
          "No",
          "Maybe",
          "No",
          "Yes",
          "No",
          "No",
          "Maybe",
          "Yes",
          "No",
          "Yes",
          "No",
          "Maybe",
          "Yes",
          "No",
          "Yes",
          "Yes",
          "Maybe",
          "Yes",
          "No",
          "No",
          "Yes",
          "Yes",
          "Yes",
          "Yes",
          "Maybe",
          "Yes",
          "No",
          "No",
          "Yes",
          "Maybe",
          "No",
          "No",
          "No",
          "Yes",
          "Yes",
          "No",
          "Yes",
          "No",
          "No",
          "Maybe",
          "No",
          "No",
          "No",
          "Maybe",
          "No",
          "Yes",
          "No",
          "Yes",
          "Maybe",
          "Maybe",
          "Maybe",
          "Yes",
          "Maybe",
          "No",
          "No",
          "No",
          "Yes",
          "Yes",
          "Yes",
          "Yes",
          "Maybe",
          "Maybe",
          "Yes",
          "Maybe",
          "No",
          "Maybe",
          "Maybe",
          "Yes",
          "No",
          "Yes",
          "No",
          "Maybe",
          "Yes",
          "Yes",
          "Yes",
          "Maybe",
          "No",
          "No",
          "Maybe",
          "Maybe",
          "No",
          "Yes",
          "No",
          "Maybe",
          "No",
          "No",
          "No",
          "Yes",
          "Yes",
          "Maybe",
          "Yes",
          "Yes",
          "Yes",
          "No",
          "Yes",
          "Maybe",
          "Maybe",
          "Yes",
          "Maybe",
          "No",
          "Maybe",
          "Yes",
          "No",
          "Maybe",
          "Maybe",
          "Maybe",
          "Yes",
          "Maybe",
          "Maybe",
          "Maybe",
          "Yes",
          "No",
          "Yes",
          "Yes",
          "No",
          "Yes",
          "No",
          "Yes",
          "No",
          "Maybe",
          "Maybe",
          "No",
          "No",
          "Maybe",
          "Yes",
          "Yes",
          "No",
          "No",
          "Maybe",
          "No",
          "Yes",
          "No",
          "Yes",
          "No",
          "No",
          "Maybe",
          "Yes",
          "Yes",
          "Yes",
          "Yes",
          "Maybe",
          "Yes",
          "Maybe",
          "No",
          "Maybe",
          "Yes",
          "Maybe",
          "No",
          "No",
          "No",
          "No",
          "Yes",
          "Yes",
          "No",
          "No",
          "Yes",
          "No",
          "No",
          "No",
          "No",
          "Yes",
          "Maybe",
          "No",
          "Yes",
          "No",
          "No",
          "Maybe",
          "No",
          "No",
          "No",
          "No",
          "No",
          "No",
          "No",
          "No",
          "No",
          "Yes",
          "No",
          "No",
          "Yes",
          "No",
          "Yes",
          "Yes",
          "Maybe",
          "Maybe",
          "Yes",
          "Maybe",
          "No",
          "Yes",
          "Yes",
          "Yes",
          "No",
          "Maybe",
          "Yes",
          "Yes",
          "No",
          "Yes",
          "Yes",
          "Maybe",
          "No",
          "Maybe",
          "Yes",
          "Yes",
          "Yes",
          "No",
          "No",
          "No",
          "Yes",
          "Maybe",
          "No",
          "Yes",
          "Maybe",
          "Maybe",
          "Maybe",
          "Yes",
          "Yes",
          "Maybe",
          "Yes",
          "Yes",
          "Maybe",
          "No",
          "Yes",
          "Yes",
          "Yes",
          "No",
          "Yes",
          "No",
          "Yes",
          "Maybe",
          "Yes",
          "Maybe",
          "Yes",
          "No",
          "Yes",
          "No",
          "No",
          "Yes",
          "No",
          "No",
          "No",
          "Yes",
          "No",
          "Yes",
          "No",
          "Maybe",
          "No",
          "No",
          "Yes",
          "Yes",
          "Maybe",
          "Maybe",
          "Maybe",
          "No",
          "Maybe",
          "No",
          "Yes",
          "No",
          "Yes",
          "No",
          "Yes",
          "No",
          "Maybe",
          "No",
          "No",
          "Yes",
          "Yes",
          "Maybe",
          "Yes",
          "No",
          "Maybe",
          "Maybe",
          "Yes",
          "Yes",
          "Maybe",
          "No",
          "No",
          "No",
          "No",
          "Yes",
          "Yes",
          "No",
          "Yes",
          "Maybe",
          "Maybe",
          "Yes",
          "Yes",
          "Maybe",
          "No",
          "Maybe",
          "No",
          "Yes",
          "Yes",
          "No",
          "No",
          "No",
          "Yes",
          "Maybe",
          "No",
          "Yes",
          "Yes",
          "No",
          "No",
          "No",
          "Yes",
          "No",
          "Yes",
          "Yes",
          "Maybe",
          "No",
          "No",
          "No",
          "No",
          "Maybe",
          "Yes",
          "No",
          "No",
          "No",
          "Yes",
          "No",
          "Maybe",
          "Yes",
          "Yes",
          "No",
          "Yes",
          "No",
          "No",
          "Yes",
          "Yes",
          "No",
          "No",
          "Yes",
          "Yes",
          "No",
          "Yes",
          "Yes",
          "Maybe",
          "Yes",
          "Yes",
          "Maybe",
          "Yes",
          "Yes",
          "Maybe",
          "Maybe",
          "No",
          "No",
          "No",
          "Yes",
          "No",
          "No",
          "Yes",
          "No",
          "Yes",
          "Maybe",
          "Maybe",
          "No",
          "Yes",
          "Maybe",
          "Maybe",
          "Yes",
          "No",
          "Maybe",
          "No",
          "No",
          "Yes",
          "Yes",
          "Maybe",
          "Yes",
          "No",
          "No",
          "Yes",
          "Maybe",
          "No",
          "No",
          "No",
          "Yes",
          "No",
          "No",
          "No",
          "Yes",
          "Maybe",
          "Yes",
          "Yes",
          "Yes",
          "Yes",
          "Maybe",
          "Yes",
          "No",
          "Yes",
          "Maybe",
          "Maybe",
          "Yes",
          "No",
          "No",
          "No",
          "Maybe",
          "No",
          "Maybe",
          "Yes",
          "Maybe",
          "Maybe",
          "Yes",
          "Maybe",
          "Maybe",
          "Yes",
          "Maybe",
          "Yes",
          "No",
          "Maybe",
          "No",
          "Maybe",
          "No",
          "Yes",
          "No",
          "No",
          "Yes",
          "Maybe",
          "Maybe",
          "No",
          "No",
          "Maybe",
          "No",
          "Yes",
          "No",
          "No",
          "Maybe",
          "Yes",
          "Maybe",
          "Yes",
          "Maybe",
          "No",
          "Yes",
          "Yes",
          "No",
          "No",
          "No",
          "Yes",
          "Yes",
          "No",
          "No",
          "No",
          "Yes",
          "No",
          "No",
          "No",
          "No",
          "Maybe",
          "Maybe",
          "No",
          "Yes",
          "Yes",
          "No",
          "Yes",
          "No",
          "Yes",
          "Yes",
          "No",
          "No",
          "Yes",
          "Yes",
          "Maybe",
          "Yes",
          "Yes",
          "No",
          "No",
          "No",
          "No",
          "Maybe",
          "Maybe",
          "No",
          "Maybe",
          "No",
          "No",
          "Yes",
          "Yes",
          "Yes",
          "Yes",
          "No",
          "Yes",
          "Yes",
          "Maybe",
          "No",
          "Maybe",
          "No",
          "No",
          "Maybe",
          "Maybe",
          "Maybe",
          "No",
          "Maybe",
          "No",
          "Yes",
          "Maybe",
          "No",
          "Yes",
          "Yes",
          "Maybe",
          "No",
          "No",
          "Maybe",
          "Yes",
          "No",
          "Yes",
          "No",
          "Maybe",
          "No",
          "No",
          "Yes",
          "Yes",
          "No",
          "Maybe",
          "Yes",
          "No",
          "Maybe",
          "Yes",
          "No",
          "No",
          "Maybe",
          "Yes",
          "Yes",
          "Maybe",
          "Yes",
          "Yes",
          "No",
          "Maybe",
          "No",
          "Yes",
          "No",
          "Maybe",
          "No",
          "No",
          "No",
          "No",
          "No",
          "Maybe",
          "No",
          "Yes",
          "No",
          "Maybe",
          "No",
          "No",
          "No",
          "No",
          "No",
          "Yes",
          "Yes",
          "Maybe",
          "Maybe",
          "Yes",
          "No",
          "Yes",
          "No",
          "No",
          "No",
          "Maybe",
          "Yes",
          "Maybe",
          "No",
          "Maybe",
          "Yes",
          "Maybe",
          "No",
          "No",
          "Maybe",
          "No",
          "No",
          "No",
          "Yes",
          "Yes",
          "No",
          "No",
          "Maybe",
          "Maybe",
          "Yes",
          "Yes",
          "Yes",
          "Maybe",
          "Yes",
          "No",
          "Yes",
          "Yes",
          "Yes",
          "Maybe",
          "Yes",
          "Yes",
          "No",
          "Maybe",
          "No",
          "Yes",
          "Maybe",
          "No",
          "Maybe",
          "Maybe",
          "Yes",
          "No",
          "Yes",
          "Yes",
          "Maybe",
          "No",
          "No",
          "Maybe",
          "No",
          "Yes",
          "Yes",
          "Maybe",
          "Yes",
          "Yes",
          "No",
          "No",
          "Maybe",
          "Yes",
          "Yes",
          "Maybe",
          "No",
          "Maybe",
          "No",
          "Maybe",
          "Maybe",
          "No",
          "Yes",
          "No",
          "No",
          "Yes",
          "No",
          "No",
          "Yes",
          "Maybe",
          "No",
          "No",
          "No",
          "No",
          "Maybe",
          "Maybe",
          "Yes",
          "No",
          "Yes",
          "No",
          "Yes",
          "No",
          "No",
          "Yes",
          "Maybe",
          "Yes",
          "Yes",
          "No",
          "No",
          "No",
          "No",
          "Yes",
          "Maybe",
          "No",
          "No",
          "Yes",
          "No",
          "Yes",
          "Yes",
          "No",
          "No",
          "No",
          "No",
          "Yes",
          "No",
          "Yes",
          "Yes",
          "Yes",
          "Yes",
          "Maybe",
          "Maybe",
          "Yes",
          "Maybe",
          "No",
          "Yes",
          "Yes",
          "Maybe",
          "Yes",
          "No",
          "No",
          "Yes",
          "Maybe",
          "No",
          "Maybe",
          "No",
          "Maybe",
          "Maybe",
          "Maybe",
          "Maybe",
          "Yes",
          "Yes",
          "Yes",
          "Maybe",
          "Yes",
          "No",
          "Maybe",
          "Yes",
          "Yes",
          "Maybe",
          "Maybe",
          "Yes",
          "Yes",
          "Maybe",
          "No",
          "Yes",
          "No",
          "No",
          "No",
          "Maybe",
          "Yes",
          "No",
          "Yes",
          "Yes",
          "No",
          "No",
          "Yes",
          "Yes",
          "No",
          "No",
          "Maybe",
          "Maybe",
          "No",
          "No",
          "Yes",
          "No",
          "Maybe",
          "No",
          "Yes",
          "Yes",
          "Maybe",
          "No",
          "Yes",
          "Maybe",
          "Maybe",
          "Yes",
          "No",
          "Yes",
          "Yes",
          "Maybe",
          "No",
          "Maybe",
          "Yes",
          "Yes",
          "Yes",
          "Yes",
          "Maybe",
          "Yes",
          "Yes",
          "No",
          "Yes",
          "Maybe",
          "Yes",
          "No",
          "Yes",
          "Maybe",
          "No",
          "No",
          "No",
          "No",
          "No",
          "No",
          "No",
          "Yes",
          "No",
          "No",
          "Yes",
          "No",
          "Maybe",
          "Maybe",
          "No",
          "No",
          "Yes",
          "Yes",
          "Yes",
          "Maybe",
          "Yes",
          "Yes",
          "No",
          "Yes",
          "No",
          "No",
          "Yes",
          "No",
          "Yes",
          "Yes",
          "Maybe",
          "Maybe",
          "Yes",
          "No",
          "Yes",
          "Yes",
          "Yes",
          "No",
          "Maybe",
          "Yes",
          "Yes",
          "Yes",
          "No",
          "Yes",
          "No",
          "Maybe",
          "No",
          "Yes",
          "Yes",
          "Yes",
          "Yes",
          "No",
          "Yes",
          "No",
          "Maybe",
          "No",
          "Yes",
          "No",
          "Yes",
          "No",
          "Maybe",
          "Yes",
          "Yes",
          "Maybe",
          "No",
          "Maybe",
          "No",
          "Yes",
          "Maybe",
          "Yes",
          "No",
          "No",
          "Yes",
          "Yes",
          "No",
          "Yes",
          "Maybe",
          "Yes",
          "Yes",
          "Yes",
          "Yes",
          "Yes",
          "Yes",
          "Yes",
          "Maybe",
          "Yes",
          "No",
          "Yes",
          "Yes",
          "Yes",
          "Yes",
          "Yes",
          "No",
          "Yes",
          "Yes",
          "No",
          "No",
          "Maybe",
          "No",
          "Maybe",
          "Yes",
          "Yes",
          "Yes",
          "Maybe",
          "Yes",
          "Yes",
          "No",
          "Maybe",
          "No",
          "Maybe",
          "Yes",
          "Yes",
          "Yes",
          "Yes",
          "Maybe",
          "Yes",
          "Maybe",
          "No",
          "No",
          "Yes",
          "Yes",
          "No",
          "No",
          "Maybe",
          "Yes",
          "Maybe",
          "No",
          "Yes",
          "Yes",
          "No",
          "No",
          "Yes",
          "No",
          "Yes",
          "Yes",
          "Maybe",
          "No",
          "No",
          "Yes",
          "Maybe",
          "Yes",
          "No",
          "Yes",
          "No",
          "Yes",
          "Yes",
          "Maybe",
          "Yes",
          "Maybe",
          "Yes",
          "Maybe",
          "Maybe",
          "Yes",
          "Maybe",
          "Yes",
          "Maybe",
          "Yes",
          "Yes",
          "Maybe",
          "No",
          "Maybe",
          "Yes",
          "Maybe",
          "No",
          "No",
          "Yes",
          "Yes",
          "Yes",
          "No",
          "Yes",
          "No",
          "Yes",
          "No",
          "No",
          "Yes",
          "No",
          "Yes",
          "Maybe",
          "Maybe",
          "Yes",
          "Yes",
          "Yes",
          "No",
          "Yes",
          "Yes",
          "Yes",
          "No",
          "Yes",
          "Yes",
          "Yes",
          "No",
          "No",
          "Maybe",
          "Maybe",
          "Yes",
          "Maybe",
          "No",
          "Yes",
          "No",
          "No",
          "No",
          "Yes",
          "No",
          "Yes",
          "Maybe",
          "Yes",
          "Yes",
          "Yes",
          "Yes",
          "Maybe",
          "Yes",
          "No",
          "Yes",
          "Maybe",
          "Maybe",
          "Maybe",
          "Yes",
          "Yes",
          "Yes",
          "Yes",
          "Maybe",
          "Maybe",
          "No",
          "No",
          "Yes",
          "No",
          "Yes",
          "Maybe",
          "Yes",
          "Yes",
          "Yes",
          "No",
          "Yes",
          "Yes",
          "Maybe",
          "No",
          "Yes",
          "Maybe",
          "Yes",
          "Maybe",
          "Maybe",
          "Yes",
          "Maybe",
          "No",
          "Maybe",
          "No",
          "Yes",
          "Maybe",
          "Maybe",
          "Yes",
          "Yes",
          "Yes",
          "Yes",
          "Yes",
          "Maybe",
          "Yes",
          "Yes",
          "Yes",
          "Yes",
          "Maybe",
          "Yes",
          "Yes",
          "No",
          "Yes",
          "Yes",
          "Yes",
          "No",
          "Yes",
          "Yes",
          "Yes",
          "No",
          "Yes",
          "Yes",
          "Yes",
          "Maybe",
          "No",
          "No",
          "No",
          "Yes",
          "Maybe",
          "Yes",
          "Yes",
          "No",
          "No",
          "Maybe",
          "Yes",
          "Yes"
         ],
         "x0": " ",
         "xaxis": "x",
         "y": [
          39,
          29,
          38,
          43,
          43,
          42,
          30,
          37,
          44,
          30,
          28,
          34,
          30,
          44,
          35,
          52,
          32,
          34,
          25,
          31,
          26,
          35,
          25,
          33,
          38,
          42,
          27,
          35,
          34,
          32,
          32,
          30,
          31,
          37,
          36,
          33,
          44,
          29,
          29,
          44,
          34,
          40,
          46,
          28,
          41,
          33,
          32,
          45,
          43,
          37,
          37,
          27,
          31,
          36,
          34,
          31,
          30,
          32,
          40,
          40,
          41,
          27,
          30,
          29,
          38,
          35,
          35,
          29,
          28,
          27,
          39,
          28,
          46,
          40,
          37,
          41,
          19,
          38,
          33,
          33,
          21,
          36,
          39,
          35,
          36,
          45,
          41,
          35,
          30,
          24,
          33,
          35,
          26,
          17,
          29,
          26,
          36,
          46,
          39,
          28,
          40,
          23,
          30,
          28,
          27,
          31,
          39,
          34,
          30,
          30,
          31,
          30,
          32,
          22,
          37,
          51,
          26,
          41,
          39,
          43,
          30,
          24,
          30,
          28,
          48,
          55,
          36,
          38,
          34,
          44,
          45,
          45,
          30,
          34,
          37,
          38,
          31,
          33,
          29,
          35,
          42,
          26,
          36,
          21,
          34,
          40,
          35,
          44,
          35,
          45,
          42,
          40,
          50,
          36,
          31,
          29,
          37,
          31,
          42,
          25,
          27,
          41,
          41,
          55,
          21,
          37,
          34,
          40,
          25,
          36,
          25,
          35,
          37,
          45,
          26,
          23,
          22,
          46,
          31,
          27,
          37,
          37,
          26,
          23,
          40,
          29,
          37,
          34,
          40,
          39,
          28,
          28,
          27,
          48,
          49,
          35,
          35,
          38,
          32,
          42,
          33,
          35,
          24,
          29,
          29,
          24,
          30,
          30,
          44,
          37,
          28,
          42,
          30,
          36,
          30,
          29,
          25,
          25,
          24,
          25,
          31,
          37,
          35,
          26,
          31,
          29,
          33,
          30,
          30,
          29,
          25,
          27,
          26,
          38,
          49,
          30,
          34,
          31,
          29,
          31,
          34,
          28,
          35,
          27,
          33,
          37,
          45,
          31,
          36,
          30,
          33,
          45,
          30,
          30,
          29,
          36,
          28,
          36,
          37,
          29,
          25,
          34,
          37,
          40,
          32,
          38,
          31,
          28,
          27,
          28,
          26,
          40,
          42,
          36,
          44,
          24,
          44,
          31,
          49,
          27,
          27,
          28,
          20,
          41,
          38,
          29,
          44,
          31,
          54,
          33,
          29,
          26,
          26,
          34,
          38,
          30,
          34,
          47,
          33,
          22,
          28,
          31,
          24,
          56,
          57,
          39,
          21,
          31,
          63,
          46,
          32,
          35,
          34,
          35,
          31,
          35,
          36,
          50,
          31,
          47,
          32,
          23,
          43,
          26,
          26,
          55,
          27,
          34,
          25,
          35,
          37,
          38,
          29,
          28,
          29,
          40,
          25,
          29,
          29,
          35,
          25,
          43,
          26,
          31,
          31,
          45,
          23,
          39,
          27,
          28,
          36,
          22,
          51,
          39,
          36,
          28,
          40,
          35,
          38,
          29,
          43,
          31,
          45,
          26,
          42,
          28,
          28,
          39,
          34,
          28,
          35,
          42,
          99,
          29,
          34,
          28,
          22,
          28,
          26,
          21,
          38,
          33,
          28,
          32,
          24,
          35,
          41,
          38,
          24,
          30,
          47,
          26,
          32,
          32,
          37,
          33,
          28,
          22,
          30,
          42,
          34,
          32,
          37,
          31,
          31,
          26,
          30,
          36,
          38,
          24,
          26,
          37,
          27,
          32,
          32,
          30,
          26,
          27,
          27,
          29,
          26,
          23,
          30,
          40,
          46,
          26,
          30,
          27,
          35,
          26,
          35,
          29,
          34,
          27,
          39,
          27,
          31,
          26,
          44,
          27,
          57,
          34,
          38,
          55,
          28,
          35,
          26,
          22,
          31,
          31,
          40,
          26,
          36,
          33,
          24,
          22,
          33,
          37,
          29,
          38,
          33,
          44,
          23,
          30,
          30,
          28,
          39,
          24,
          27,
          35,
          23,
          37,
          35,
          27,
          27,
          27,
          42,
          32,
          26,
          28,
          28,
          32,
          43,
          34,
          61,
          50,
          38,
          51,
          38,
          34,
          43,
          43,
          44,
          35,
          50,
          29,
          29,
          36,
          33,
          50,
          46,
          44,
          23,
          41,
          31,
          55,
          34,
          28,
          33,
          29,
          33,
          28,
          28,
          32,
          36,
          45,
          29,
          23,
          54,
          61,
          29,
          31,
          37,
          29,
          28,
          30,
          55,
          38,
          20,
          25,
          22,
          35,
          27,
          24,
          39,
          29,
          40,
          30,
          32,
          34,
          35,
          30,
          36,
          26,
          31,
          33,
          30,
          46,
          32,
          34,
          41,
          32,
          47,
          29,
          36,
          32,
          29,
          22,
          32,
          19,
          30,
          32,
          22,
          30,
          323,
          33,
          48,
          45,
          28,
          44,
          31,
          31,
          29,
          26,
          35,
          44,
          45,
          22,
          34,
          35,
          39,
          26,
          41,
          24,
          24,
          34,
          36,
          41,
          21,
          33,
          32,
          62,
          37,
          32,
          31,
          28,
          48,
          40,
          29,
          33,
          27,
          24,
          28,
          42,
          28,
          40,
          32,
          33,
          40,
          26,
          39,
          38,
          34,
          44,
          54,
          24,
          31,
          47,
          30,
          34,
          29,
          27,
          29,
          43,
          31,
          27,
          29,
          29,
          42,
          26,
          26,
          34,
          24,
          25,
          22,
          33,
          53,
          32,
          32,
          55,
          27,
          34,
          26,
          25,
          39,
          32,
          46,
          52,
          33,
          58,
          30,
          46,
          45,
          26,
          22,
          21,
          3,
          34,
          25,
          27,
          25,
          33,
          26,
          36,
          26,
          34,
          34,
          25,
          33,
          27,
          24,
          47,
          37,
          35,
          30,
          42,
          36,
          31,
          28,
          36,
          36,
          32,
          42,
          41,
          36,
          23,
          54,
          34,
          36,
          27,
          32,
          21,
          44,
          33,
          38,
          38,
          38,
          22,
          33,
          27,
          55,
          66,
          25,
          22,
          29,
          33,
          27,
          44,
          38,
          32,
          59,
          43,
          55,
          32,
          41,
          38,
          46,
          43,
          29,
          42,
          25,
          49,
          36,
          30,
          28,
          37,
          23,
          37,
          42,
          32,
          28,
          28,
          29,
          35,
          31,
          46,
          19,
          35,
          31,
          31,
          37,
          34,
          39,
          29,
          29,
          63,
          45,
          35,
          32,
          44,
          28,
          39,
          55,
          33,
          19,
          40,
          49,
          27,
          39,
          35,
          35,
          42,
          35,
          31,
          44,
          39,
          32,
          45,
          31,
          47,
          29,
          20,
          34,
          33,
          56,
          35,
          31,
          36,
          30,
          44,
          23,
          46,
          33,
          32,
          45,
          26,
          32,
          28,
          44,
          42,
          30,
          28,
          31,
          29,
          33,
          43,
          28,
          42,
          38,
          30,
          51,
          48,
          39,
          28,
          37,
          33,
          21,
          25,
          15,
          40,
          30,
          27,
          25,
          38,
          24,
          23,
          39,
          26,
          43,
          30,
          35,
          40,
          33,
          35,
          22,
          28,
          39,
          33,
          25,
          37,
          41,
          30,
          42,
          52,
          30,
          35,
          24,
          39,
          34,
          32,
          25,
          43,
          39,
          35,
          34,
          38,
          26,
          24,
          27,
          25,
          37,
          33,
          34,
          27,
          33,
          50,
          54,
          32,
          39,
          36,
          34,
          31,
          36,
          48,
          31,
          32,
          32,
          31,
          28,
          28,
          33,
          33,
          59,
          33,
          37,
          27,
          39,
          50,
          34,
          50,
          31,
          39,
          46,
          28,
          32,
          65,
          37,
          41,
          38,
          51,
          29,
          37,
          31,
          32,
          31,
          52,
          31,
          38,
          35,
          29,
          63,
          47,
          43,
          38,
          27,
          40,
          32,
          43,
          28,
          46,
          42,
          31,
          37,
          35,
          30,
          35,
          24,
          23,
          39,
          38,
          28,
          30,
          38,
          33,
          35,
          54,
          30,
          32,
          28,
          39,
          21,
          31,
          30,
          25,
          26,
          30,
          30,
          31,
          32,
          45,
          29,
          27,
          28,
          38,
          38,
          34,
          36,
          23,
          40,
          39,
          28,
          33,
          32,
          32,
          27,
          33,
          34,
          38,
          35,
          39,
          35,
          34,
          44,
          42,
          30,
          55,
          46,
          33,
          30,
          30,
          31,
          38,
          30,
          32,
          32,
          47,
          39,
          35,
          36,
          38,
          30,
          33,
          22,
          35,
          26,
          34,
          40,
          37,
          43,
          20,
          30,
          32,
          35,
          29,
          29,
          30,
          30,
          38,
          30,
          26,
          27,
          24,
          35,
          38,
          36,
          34,
          35,
          25,
          32,
          32,
          37,
          28,
          34,
          40,
          45,
          31,
          30,
          47,
          48,
          44,
          29,
          52,
          34,
          34,
          27,
          30,
          40,
          26,
          36,
          35,
          43,
          36,
          32,
          36,
          38,
          35,
          35,
          45,
          47,
          27,
          26,
          51,
          25,
          41,
          34,
          43,
          33,
          37,
          27,
          54,
          38,
          42,
          30,
          43,
          33,
          37,
          25,
          27,
          27,
          27,
          35,
          24,
          31,
          31,
          32,
          33,
          56,
          43,
          49,
          35,
          53,
          45,
          40,
          52,
          30,
          41,
          31,
          31,
          24,
          44,
          37,
          22,
          31,
          36,
          28,
          25,
          49,
          22,
          43,
          33,
          36,
          26,
          43,
          21,
          39,
          46,
          32,
          31,
          39,
          44,
          36,
          31,
          30,
          36,
          31,
          23,
          23,
          30,
          34,
          49,
          25,
          39,
          37,
          26,
          41,
          28,
          33,
          74,
          28,
          47,
          25,
          51,
          26,
          24,
          33,
          32,
          57,
          39,
          26,
          38,
          33,
          30,
          25,
          40,
          26,
          34,
          46,
          31,
          42,
          30,
          26,
          29,
          31,
          40,
          39,
          37,
          27,
          45,
          29,
          47,
          33,
          32,
          29,
          36,
          35,
          40,
          36,
          39,
          38,
          23,
          29,
          38,
          34,
          28,
          38,
          25,
          36,
          57,
          46,
          49,
          34,
          43,
          35,
          32,
          24,
          33,
          28,
          48,
          33,
          40,
          22,
          22,
          23,
          33,
          29,
          32,
          43,
          49,
          44,
          29,
          27,
          30,
          43,
          30,
          33,
          27,
          26,
          47,
          30,
          39,
          36,
          34,
          25,
          28,
          38,
          39,
          32,
          27,
          31,
          30,
          34,
          26,
          27,
          29,
          37,
          49,
          39,
          42,
          28,
          33,
          30,
          70,
          25,
          45,
          63,
          40,
          39,
          31,
          34,
          44,
          45,
          43,
          29,
          27,
          37,
          41,
          30,
          28,
          28,
          39,
          22,
          31,
          29,
          33,
          37,
          42,
          31,
          34,
          49,
          29,
          40,
          46,
          31,
          43,
          45,
          32,
          38,
          40,
          38,
          32,
          37,
          24,
          25,
          24,
          34,
          55,
          32,
          29,
          20,
          41,
          33,
          25,
          29,
          24,
          39,
          39,
          44,
          30,
          31,
          37,
          42,
          35,
          30,
          30,
          33,
          31,
          39,
          27,
          34,
          31,
          30,
          34,
          20,
          39,
          50,
          22,
          41,
          37,
          32,
          26,
          38,
          21,
          27,
          37,
          45,
          26,
          30,
          21,
          21,
          29,
          46,
          28,
          26,
          37,
          44,
          45,
          35,
          39,
          37,
          35,
          29,
          49,
          21,
          26,
          35,
          56,
          53,
          48,
          24,
          37,
          27,
          39,
          31,
          34,
          33,
          22,
          25,
          34,
          30,
          37,
          26,
          29,
          29,
          27,
          27,
          23,
          24,
          22,
          28,
          22,
          32,
          35,
          26,
          31,
          32,
          37,
          24,
          33,
          28,
          22,
          46,
          30,
          29,
          22,
          24,
          29,
          30,
          25,
          39,
          31,
          25,
          39,
          31,
          35,
          31,
          23,
          30,
          28,
          23,
          26,
          24,
          32,
          35,
          30,
          32,
          35,
          26,
          30,
          29,
          39,
          37,
          35,
          25,
          22,
          33,
          23,
          29,
          28,
          30,
          28,
          28,
          37,
          30,
          27,
          29,
          28,
          26,
          29,
          34,
          36,
          38,
          22,
          24,
          24,
          36,
          24,
          24,
          31,
          39,
          41,
          29,
          37,
          30,
          24,
          22,
          24,
          26,
          38,
          34,
          56,
          52,
          30,
          25
         ],
         "y0": " ",
         "yaxis": "y"
        }
       ],
       "layout": {
        "legend": {
         "tracegroupgap": 0
        },
        "margin": {
         "t": 60
        },
        "template": {
         "data": {
          "bar": [
           {
            "error_x": {
             "color": "#2a3f5f"
            },
            "error_y": {
             "color": "#2a3f5f"
            },
            "marker": {
             "line": {
              "color": "#E5ECF6",
              "width": 0.5
             }
            },
            "type": "bar"
           }
          ],
          "barpolar": [
           {
            "marker": {
             "line": {
              "color": "#E5ECF6",
              "width": 0.5
             }
            },
            "type": "barpolar"
           }
          ],
          "carpet": [
           {
            "aaxis": {
             "endlinecolor": "#2a3f5f",
             "gridcolor": "white",
             "linecolor": "white",
             "minorgridcolor": "white",
             "startlinecolor": "#2a3f5f"
            },
            "baxis": {
             "endlinecolor": "#2a3f5f",
             "gridcolor": "white",
             "linecolor": "white",
             "minorgridcolor": "white",
             "startlinecolor": "#2a3f5f"
            },
            "type": "carpet"
           }
          ],
          "choropleth": [
           {
            "colorbar": {
             "outlinewidth": 0,
             "ticks": ""
            },
            "type": "choropleth"
           }
          ],
          "contour": [
           {
            "colorbar": {
             "outlinewidth": 0,
             "ticks": ""
            },
            "colorscale": [
             [
              0,
              "#0d0887"
             ],
             [
              0.1111111111111111,
              "#46039f"
             ],
             [
              0.2222222222222222,
              "#7201a8"
             ],
             [
              0.3333333333333333,
              "#9c179e"
             ],
             [
              0.4444444444444444,
              "#bd3786"
             ],
             [
              0.5555555555555556,
              "#d8576b"
             ],
             [
              0.6666666666666666,
              "#ed7953"
             ],
             [
              0.7777777777777778,
              "#fb9f3a"
             ],
             [
              0.8888888888888888,
              "#fdca26"
             ],
             [
              1,
              "#f0f921"
             ]
            ],
            "type": "contour"
           }
          ],
          "contourcarpet": [
           {
            "colorbar": {
             "outlinewidth": 0,
             "ticks": ""
            },
            "type": "contourcarpet"
           }
          ],
          "heatmap": [
           {
            "colorbar": {
             "outlinewidth": 0,
             "ticks": ""
            },
            "colorscale": [
             [
              0,
              "#0d0887"
             ],
             [
              0.1111111111111111,
              "#46039f"
             ],
             [
              0.2222222222222222,
              "#7201a8"
             ],
             [
              0.3333333333333333,
              "#9c179e"
             ],
             [
              0.4444444444444444,
              "#bd3786"
             ],
             [
              0.5555555555555556,
              "#d8576b"
             ],
             [
              0.6666666666666666,
              "#ed7953"
             ],
             [
              0.7777777777777778,
              "#fb9f3a"
             ],
             [
              0.8888888888888888,
              "#fdca26"
             ],
             [
              1,
              "#f0f921"
             ]
            ],
            "type": "heatmap"
           }
          ],
          "heatmapgl": [
           {
            "colorbar": {
             "outlinewidth": 0,
             "ticks": ""
            },
            "colorscale": [
             [
              0,
              "#0d0887"
             ],
             [
              0.1111111111111111,
              "#46039f"
             ],
             [
              0.2222222222222222,
              "#7201a8"
             ],
             [
              0.3333333333333333,
              "#9c179e"
             ],
             [
              0.4444444444444444,
              "#bd3786"
             ],
             [
              0.5555555555555556,
              "#d8576b"
             ],
             [
              0.6666666666666666,
              "#ed7953"
             ],
             [
              0.7777777777777778,
              "#fb9f3a"
             ],
             [
              0.8888888888888888,
              "#fdca26"
             ],
             [
              1,
              "#f0f921"
             ]
            ],
            "type": "heatmapgl"
           }
          ],
          "histogram": [
           {
            "marker": {
             "colorbar": {
              "outlinewidth": 0,
              "ticks": ""
             }
            },
            "type": "histogram"
           }
          ],
          "histogram2d": [
           {
            "colorbar": {
             "outlinewidth": 0,
             "ticks": ""
            },
            "colorscale": [
             [
              0,
              "#0d0887"
             ],
             [
              0.1111111111111111,
              "#46039f"
             ],
             [
              0.2222222222222222,
              "#7201a8"
             ],
             [
              0.3333333333333333,
              "#9c179e"
             ],
             [
              0.4444444444444444,
              "#bd3786"
             ],
             [
              0.5555555555555556,
              "#d8576b"
             ],
             [
              0.6666666666666666,
              "#ed7953"
             ],
             [
              0.7777777777777778,
              "#fb9f3a"
             ],
             [
              0.8888888888888888,
              "#fdca26"
             ],
             [
              1,
              "#f0f921"
             ]
            ],
            "type": "histogram2d"
           }
          ],
          "histogram2dcontour": [
           {
            "colorbar": {
             "outlinewidth": 0,
             "ticks": ""
            },
            "colorscale": [
             [
              0,
              "#0d0887"
             ],
             [
              0.1111111111111111,
              "#46039f"
             ],
             [
              0.2222222222222222,
              "#7201a8"
             ],
             [
              0.3333333333333333,
              "#9c179e"
             ],
             [
              0.4444444444444444,
              "#bd3786"
             ],
             [
              0.5555555555555556,
              "#d8576b"
             ],
             [
              0.6666666666666666,
              "#ed7953"
             ],
             [
              0.7777777777777778,
              "#fb9f3a"
             ],
             [
              0.8888888888888888,
              "#fdca26"
             ],
             [
              1,
              "#f0f921"
             ]
            ],
            "type": "histogram2dcontour"
           }
          ],
          "mesh3d": [
           {
            "colorbar": {
             "outlinewidth": 0,
             "ticks": ""
            },
            "type": "mesh3d"
           }
          ],
          "parcoords": [
           {
            "line": {
             "colorbar": {
              "outlinewidth": 0,
              "ticks": ""
             }
            },
            "type": "parcoords"
           }
          ],
          "pie": [
           {
            "automargin": true,
            "type": "pie"
           }
          ],
          "scatter": [
           {
            "marker": {
             "colorbar": {
              "outlinewidth": 0,
              "ticks": ""
             }
            },
            "type": "scatter"
           }
          ],
          "scatter3d": [
           {
            "line": {
             "colorbar": {
              "outlinewidth": 0,
              "ticks": ""
             }
            },
            "marker": {
             "colorbar": {
              "outlinewidth": 0,
              "ticks": ""
             }
            },
            "type": "scatter3d"
           }
          ],
          "scattercarpet": [
           {
            "marker": {
             "colorbar": {
              "outlinewidth": 0,
              "ticks": ""
             }
            },
            "type": "scattercarpet"
           }
          ],
          "scattergeo": [
           {
            "marker": {
             "colorbar": {
              "outlinewidth": 0,
              "ticks": ""
             }
            },
            "type": "scattergeo"
           }
          ],
          "scattergl": [
           {
            "marker": {
             "colorbar": {
              "outlinewidth": 0,
              "ticks": ""
             }
            },
            "type": "scattergl"
           }
          ],
          "scattermapbox": [
           {
            "marker": {
             "colorbar": {
              "outlinewidth": 0,
              "ticks": ""
             }
            },
            "type": "scattermapbox"
           }
          ],
          "scatterpolar": [
           {
            "marker": {
             "colorbar": {
              "outlinewidth": 0,
              "ticks": ""
             }
            },
            "type": "scatterpolar"
           }
          ],
          "scatterpolargl": [
           {
            "marker": {
             "colorbar": {
              "outlinewidth": 0,
              "ticks": ""
             }
            },
            "type": "scatterpolargl"
           }
          ],
          "scatterternary": [
           {
            "marker": {
             "colorbar": {
              "outlinewidth": 0,
              "ticks": ""
             }
            },
            "type": "scatterternary"
           }
          ],
          "surface": [
           {
            "colorbar": {
             "outlinewidth": 0,
             "ticks": ""
            },
            "colorscale": [
             [
              0,
              "#0d0887"
             ],
             [
              0.1111111111111111,
              "#46039f"
             ],
             [
              0.2222222222222222,
              "#7201a8"
             ],
             [
              0.3333333333333333,
              "#9c179e"
             ],
             [
              0.4444444444444444,
              "#bd3786"
             ],
             [
              0.5555555555555556,
              "#d8576b"
             ],
             [
              0.6666666666666666,
              "#ed7953"
             ],
             [
              0.7777777777777778,
              "#fb9f3a"
             ],
             [
              0.8888888888888888,
              "#fdca26"
             ],
             [
              1,
              "#f0f921"
             ]
            ],
            "type": "surface"
           }
          ],
          "table": [
           {
            "cells": {
             "fill": {
              "color": "#EBF0F8"
             },
             "line": {
              "color": "white"
             }
            },
            "header": {
             "fill": {
              "color": "#C8D4E3"
             },
             "line": {
              "color": "white"
             }
            },
            "type": "table"
           }
          ]
         },
         "layout": {
          "annotationdefaults": {
           "arrowcolor": "#2a3f5f",
           "arrowhead": 0,
           "arrowwidth": 1
          },
          "coloraxis": {
           "colorbar": {
            "outlinewidth": 0,
            "ticks": ""
           }
          },
          "colorscale": {
           "diverging": [
            [
             0,
             "#8e0152"
            ],
            [
             0.1,
             "#c51b7d"
            ],
            [
             0.2,
             "#de77ae"
            ],
            [
             0.3,
             "#f1b6da"
            ],
            [
             0.4,
             "#fde0ef"
            ],
            [
             0.5,
             "#f7f7f7"
            ],
            [
             0.6,
             "#e6f5d0"
            ],
            [
             0.7,
             "#b8e186"
            ],
            [
             0.8,
             "#7fbc41"
            ],
            [
             0.9,
             "#4d9221"
            ],
            [
             1,
             "#276419"
            ]
           ],
           "sequential": [
            [
             0,
             "#0d0887"
            ],
            [
             0.1111111111111111,
             "#46039f"
            ],
            [
             0.2222222222222222,
             "#7201a8"
            ],
            [
             0.3333333333333333,
             "#9c179e"
            ],
            [
             0.4444444444444444,
             "#bd3786"
            ],
            [
             0.5555555555555556,
             "#d8576b"
            ],
            [
             0.6666666666666666,
             "#ed7953"
            ],
            [
             0.7777777777777778,
             "#fb9f3a"
            ],
            [
             0.8888888888888888,
             "#fdca26"
            ],
            [
             1,
             "#f0f921"
            ]
           ],
           "sequentialminus": [
            [
             0,
             "#0d0887"
            ],
            [
             0.1111111111111111,
             "#46039f"
            ],
            [
             0.2222222222222222,
             "#7201a8"
            ],
            [
             0.3333333333333333,
             "#9c179e"
            ],
            [
             0.4444444444444444,
             "#bd3786"
            ],
            [
             0.5555555555555556,
             "#d8576b"
            ],
            [
             0.6666666666666666,
             "#ed7953"
            ],
            [
             0.7777777777777778,
             "#fb9f3a"
            ],
            [
             0.8888888888888888,
             "#fdca26"
            ],
            [
             1,
             "#f0f921"
            ]
           ]
          },
          "colorway": [
           "#636efa",
           "#EF553B",
           "#00cc96",
           "#ab63fa",
           "#FFA15A",
           "#19d3f3",
           "#FF6692",
           "#B6E880",
           "#FF97FF",
           "#FECB52"
          ],
          "font": {
           "color": "#2a3f5f"
          },
          "geo": {
           "bgcolor": "white",
           "lakecolor": "white",
           "landcolor": "#E5ECF6",
           "showlakes": true,
           "showland": true,
           "subunitcolor": "white"
          },
          "hoverlabel": {
           "align": "left"
          },
          "hovermode": "closest",
          "mapbox": {
           "style": "light"
          },
          "paper_bgcolor": "white",
          "plot_bgcolor": "#E5ECF6",
          "polar": {
           "angularaxis": {
            "gridcolor": "white",
            "linecolor": "white",
            "ticks": ""
           },
           "bgcolor": "#E5ECF6",
           "radialaxis": {
            "gridcolor": "white",
            "linecolor": "white",
            "ticks": ""
           }
          },
          "scene": {
           "xaxis": {
            "backgroundcolor": "#E5ECF6",
            "gridcolor": "white",
            "gridwidth": 2,
            "linecolor": "white",
            "showbackground": true,
            "ticks": "",
            "zerolinecolor": "white"
           },
           "yaxis": {
            "backgroundcolor": "#E5ECF6",
            "gridcolor": "white",
            "gridwidth": 2,
            "linecolor": "white",
            "showbackground": true,
            "ticks": "",
            "zerolinecolor": "white"
           },
           "zaxis": {
            "backgroundcolor": "#E5ECF6",
            "gridcolor": "white",
            "gridwidth": 2,
            "linecolor": "white",
            "showbackground": true,
            "ticks": "",
            "zerolinecolor": "white"
           }
          },
          "shapedefaults": {
           "line": {
            "color": "#2a3f5f"
           }
          },
          "ternary": {
           "aaxis": {
            "gridcolor": "white",
            "linecolor": "white",
            "ticks": ""
           },
           "baxis": {
            "gridcolor": "white",
            "linecolor": "white",
            "ticks": ""
           },
           "bgcolor": "#E5ECF6",
           "caxis": {
            "gridcolor": "white",
            "linecolor": "white",
            "ticks": ""
           }
          },
          "title": {
           "x": 0.05
          },
          "xaxis": {
           "automargin": true,
           "gridcolor": "white",
           "linecolor": "white",
           "ticks": "",
           "title": {
            "standoff": 15
           },
           "zerolinecolor": "white",
           "zerolinewidth": 2
          },
          "yaxis": {
           "automargin": true,
           "gridcolor": "white",
           "linecolor": "white",
           "ticks": "",
           "title": {
            "standoff": 15
           },
           "zerolinecolor": "white",
           "zerolinewidth": 2
          }
         }
        },
        "violinmode": "group",
        "xaxis": {
         "anchor": "y",
         "domain": [
          0,
          1
         ],
         "title": {
          "text": "Do you currently have a mental health disorder?"
         }
        },
        "yaxis": {
         "anchor": "x",
         "domain": [
          0,
          1
         ],
         "title": {
          "text": "What is your age?"
         }
        }
       }
      },
      "text/html": [
       "<div>\n",
       "        \n",
       "        \n",
       "            <div id=\"84cdfaeb-c6d1-4c49-be49-98e102069f92\" class=\"plotly-graph-div\" style=\"height:525px; width:100%;\"></div>\n",
       "            <script type=\"text/javascript\">\n",
       "                require([\"plotly\"], function(Plotly) {\n",
       "                    window.PLOTLYENV=window.PLOTLYENV || {};\n",
       "                    \n",
       "                if (document.getElementById(\"84cdfaeb-c6d1-4c49-be49-98e102069f92\")) {\n",
       "                    Plotly.newPlot(\n",
       "                        '84cdfaeb-c6d1-4c49-be49-98e102069f92',\n",
       "                        [{\"alignmentgroup\": \"True\", \"box\": {\"visible\": false}, \"hoverlabel\": {\"namelength\": 0}, \"hovertemplate\": \"Do you currently have a mental health disorder?=%{x}<br>What is your age?=%{y}\", \"legendgroup\": \"\", \"marker\": {\"color\": \"#636efa\"}, \"name\": \"\", \"offsetgroup\": \"\", \"orientation\": \"v\", \"scalegroup\": \"True\", \"showlegend\": false, \"type\": \"violin\", \"x\": [\"No\", \"Yes\", \"No\", \"Yes\", \"Yes\", \"Yes\", \"No\", \"Yes\", \"Yes\", \"Yes\", \"Yes\", \"Yes\", \"Yes\", \"Maybe\", \"Yes\", \"Yes\", \"Yes\", \"No\", \"Yes\", \"Yes\", \"No\", \"No\", \"No\", \"No\", \"No\", \"No\", \"Yes\", \"Maybe\", \"Maybe\", \"Yes\", \"Yes\", \"Yes\", \"Maybe\", \"No\", \"Yes\", \"No\", \"Yes\", \"Maybe\", \"Maybe\", \"No\", \"Yes\", \"Yes\", \"Yes\", \"Yes\", \"No\", \"Yes\", \"Yes\", \"Maybe\", \"Maybe\", \"Yes\", \"Yes\", \"No\", \"No\", \"Yes\", \"Maybe\", \"No\", \"Maybe\", \"Maybe\", \"Maybe\", \"No\", \"Maybe\", \"Maybe\", \"No\", \"Maybe\", \"No\", \"No\", \"Yes\", \"Yes\", \"No\", \"Maybe\", \"No\", \"No\", \"No\", \"No\", \"Maybe\", \"No\", \"Yes\", \"No\", \"No\", \"Yes\", \"No\", \"Yes\", \"Yes\", \"No\", \"Yes\", \"Maybe\", \"Maybe\", \"Yes\", \"Maybe\", \"Yes\", \"No\", \"Maybe\", \"Yes\", \"No\", \"Yes\", \"Yes\", \"No\", \"No\", \"Yes\", \"Yes\", \"No\", \"Yes\", \"No\", \"No\", \"Maybe\", \"Maybe\", \"Maybe\", \"Yes\", \"Yes\", \"Yes\", \"Maybe\", \"Yes\", \"Maybe\", \"No\", \"Yes\", \"No\", \"Yes\", \"No\", \"Yes\", \"Maybe\", \"Maybe\", \"No\", \"Yes\", \"Yes\", \"Yes\", \"Maybe\", \"Maybe\", \"No\", \"No\", \"No\", \"Maybe\", \"Maybe\", \"Yes\", \"Yes\", \"No\", \"No\", \"Maybe\", \"No\", \"Yes\", \"Yes\", \"Yes\", \"No\", \"Maybe\", \"Yes\", \"Yes\", \"Maybe\", \"Yes\", \"No\", \"No\", \"No\", \"Yes\", \"Yes\", \"No\", \"Maybe\", \"Yes\", \"No\", \"No\", \"Yes\", \"No\", \"No\", \"Yes\", \"Yes\", \"Yes\", \"No\", \"Yes\", \"No\", \"No\", \"Maybe\", \"Maybe\", \"Maybe\", \"Maybe\", \"No\", \"No\", \"Maybe\", \"Yes\", \"No\", \"Yes\", \"Yes\", \"No\", \"Yes\", \"No\", \"No\", \"Maybe\", \"No\", \"Yes\", \"No\", \"Yes\", \"No\", \"Yes\", \"Maybe\", \"Yes\", \"Maybe\", \"No\", \"Maybe\", \"Yes\", \"Yes\", \"Yes\", \"Yes\", \"No\", \"Yes\", \"Maybe\", \"No\", \"Maybe\", \"Yes\", \"Maybe\", \"No\", \"No\", \"Yes\", \"Yes\", \"No\", \"No\", \"No\", \"Yes\", \"Maybe\", \"No\", \"No\", \"No\", \"No\", \"No\", \"Yes\", \"Yes\", \"No\", \"No\", \"No\", \"No\", \"No\", \"No\", \"No\", \"Maybe\", \"Yes\", \"Yes\", \"No\", \"No\", \"No\", \"Yes\", \"No\", \"Maybe\", \"No\", \"Maybe\", \"No\", \"Maybe\", \"No\", \"No\", \"No\", \"No\", \"Maybe\", \"Yes\", \"Yes\", \"No\", \"Yes\", \"Yes\", \"Yes\", \"Yes\", \"Yes\", \"Yes\", \"No\", \"Maybe\", \"Yes\", \"Maybe\", \"Maybe\", \"Yes\", \"No\", \"No\", \"Yes\", \"Maybe\", \"No\", \"Yes\", \"No\", \"Yes\", \"Yes\", \"Yes\", \"No\", \"Yes\", \"No\", \"Maybe\", \"Yes\", \"Maybe\", \"Yes\", \"Maybe\", \"No\", \"No\", \"No\", \"Maybe\", \"No\", \"Yes\", \"Yes\", \"Yes\", \"No\", \"Yes\", \"No\", \"No\", \"Maybe\", \"Maybe\", \"Yes\", \"Maybe\", \"Yes\", \"Yes\", \"Yes\", \"No\", \"No\", \"Maybe\", \"Yes\", \"Yes\", \"No\", \"Yes\", \"No\", \"No\", \"No\", \"Yes\", \"Yes\", \"Yes\", \"Yes\", \"No\", \"Yes\", \"No\", \"Yes\", \"No\", \"No\", \"Yes\", \"No\", \"No\", \"Yes\", \"Yes\", \"No\", \"Maybe\", \"No\", \"Yes\", \"No\", \"No\", \"No\", \"Yes\", \"Yes\", \"Maybe\", \"Maybe\", \"Maybe\", \"Maybe\", \"Yes\", \"Maybe\", \"Yes\", \"Yes\", \"No\", \"Yes\", \"No\", \"Maybe\", \"No\", \"Yes\", \"Maybe\", \"No\", \"No\", \"Yes\", \"Maybe\", \"No\", \"No\", \"Maybe\", \"Yes\", \"Yes\", \"No\", \"Yes\", \"Yes\", \"Maybe\", \"No\", \"Yes\", \"No\", \"Maybe\", \"No\", \"No\", \"No\", \"Yes\", \"No\", \"Yes\", \"No\", \"No\", \"Yes\", \"Maybe\", \"Yes\", \"No\", \"No\", \"Yes\", \"Yes\", \"Maybe\", \"Yes\", \"Yes\", \"Yes\", \"Yes\", \"Yes\", \"Maybe\", \"No\", \"No\", \"Yes\", \"Yes\", \"No\", \"No\", \"Yes\", \"Maybe\", \"Yes\", \"No\", \"Maybe\", \"No\", \"Yes\", \"No\", \"No\", \"Maybe\", \"Yes\", \"No\", \"Yes\", \"No\", \"Maybe\", \"Yes\", \"No\", \"Yes\", \"Yes\", \"Maybe\", \"Yes\", \"No\", \"No\", \"Yes\", \"Yes\", \"Yes\", \"Yes\", \"Maybe\", \"Yes\", \"No\", \"No\", \"Yes\", \"Maybe\", \"No\", \"No\", \"No\", \"Yes\", \"Yes\", \"No\", \"Yes\", \"No\", \"No\", \"Maybe\", \"No\", \"No\", \"No\", \"Maybe\", \"No\", \"Yes\", \"No\", \"Yes\", \"Maybe\", \"Maybe\", \"Maybe\", \"Yes\", \"Maybe\", \"No\", \"No\", \"No\", \"Yes\", \"Yes\", \"Yes\", \"Yes\", \"Maybe\", \"Maybe\", \"Yes\", \"Maybe\", \"No\", \"Maybe\", \"Maybe\", \"Yes\", \"No\", \"Yes\", \"No\", \"Maybe\", \"Yes\", \"Yes\", \"Yes\", \"Maybe\", \"No\", \"No\", \"Maybe\", \"Maybe\", \"No\", \"Yes\", \"No\", \"Maybe\", \"No\", \"No\", \"No\", \"Yes\", \"Yes\", \"Maybe\", \"Yes\", \"Yes\", \"Yes\", \"No\", \"Yes\", \"Maybe\", \"Maybe\", \"Yes\", \"Maybe\", \"No\", \"Maybe\", \"Yes\", \"No\", \"Maybe\", \"Maybe\", \"Maybe\", \"Yes\", \"Maybe\", \"Maybe\", \"Maybe\", \"Yes\", \"No\", \"Yes\", \"Yes\", \"No\", \"Yes\", \"No\", \"Yes\", \"No\", \"Maybe\", \"Maybe\", \"No\", \"No\", \"Maybe\", \"Yes\", \"Yes\", \"No\", \"No\", \"Maybe\", \"No\", \"Yes\", \"No\", \"Yes\", \"No\", \"No\", \"Maybe\", \"Yes\", \"Yes\", \"Yes\", \"Yes\", \"Maybe\", \"Yes\", \"Maybe\", \"No\", \"Maybe\", \"Yes\", \"Maybe\", \"No\", \"No\", \"No\", \"No\", \"Yes\", \"Yes\", \"No\", \"No\", \"Yes\", \"No\", \"No\", \"No\", \"No\", \"Yes\", \"Maybe\", \"No\", \"Yes\", \"No\", \"No\", \"Maybe\", \"No\", \"No\", \"No\", \"No\", \"No\", \"No\", \"No\", \"No\", \"No\", \"Yes\", \"No\", \"No\", \"Yes\", \"No\", \"Yes\", \"Yes\", \"Maybe\", \"Maybe\", \"Yes\", \"Maybe\", \"No\", \"Yes\", \"Yes\", \"Yes\", \"No\", \"Maybe\", \"Yes\", \"Yes\", \"No\", \"Yes\", \"Yes\", \"Maybe\", \"No\", \"Maybe\", \"Yes\", \"Yes\", \"Yes\", \"No\", \"No\", \"No\", \"Yes\", \"Maybe\", \"No\", \"Yes\", \"Maybe\", \"Maybe\", \"Maybe\", \"Yes\", \"Yes\", \"Maybe\", \"Yes\", \"Yes\", \"Maybe\", \"No\", \"Yes\", \"Yes\", \"Yes\", \"No\", \"Yes\", \"No\", \"Yes\", \"Maybe\", \"Yes\", \"Maybe\", \"Yes\", \"No\", \"Yes\", \"No\", \"No\", \"Yes\", \"No\", \"No\", \"No\", \"Yes\", \"No\", \"Yes\", \"No\", \"Maybe\", \"No\", \"No\", \"Yes\", \"Yes\", \"Maybe\", \"Maybe\", \"Maybe\", \"No\", \"Maybe\", \"No\", \"Yes\", \"No\", \"Yes\", \"No\", \"Yes\", \"No\", \"Maybe\", \"No\", \"No\", \"Yes\", \"Yes\", \"Maybe\", \"Yes\", \"No\", \"Maybe\", \"Maybe\", \"Yes\", \"Yes\", \"Maybe\", \"No\", \"No\", \"No\", \"No\", \"Yes\", \"Yes\", \"No\", \"Yes\", \"Maybe\", \"Maybe\", \"Yes\", \"Yes\", \"Maybe\", \"No\", \"Maybe\", \"No\", \"Yes\", \"Yes\", \"No\", \"No\", \"No\", \"Yes\", \"Maybe\", \"No\", \"Yes\", \"Yes\", \"No\", \"No\", \"No\", \"Yes\", \"No\", \"Yes\", \"Yes\", \"Maybe\", \"No\", \"No\", \"No\", \"No\", \"Maybe\", \"Yes\", \"No\", \"No\", \"No\", \"Yes\", \"No\", \"Maybe\", \"Yes\", \"Yes\", \"No\", \"Yes\", \"No\", \"No\", \"Yes\", \"Yes\", \"No\", \"No\", \"Yes\", \"Yes\", \"No\", \"Yes\", \"Yes\", \"Maybe\", \"Yes\", \"Yes\", \"Maybe\", \"Yes\", \"Yes\", \"Maybe\", \"Maybe\", \"No\", \"No\", \"No\", \"Yes\", \"No\", \"No\", \"Yes\", \"No\", \"Yes\", \"Maybe\", \"Maybe\", \"No\", \"Yes\", \"Maybe\", \"Maybe\", \"Yes\", \"No\", \"Maybe\", \"No\", \"No\", \"Yes\", \"Yes\", \"Maybe\", \"Yes\", \"No\", \"No\", \"Yes\", \"Maybe\", \"No\", \"No\", \"No\", \"Yes\", \"No\", \"No\", \"No\", \"Yes\", \"Maybe\", \"Yes\", \"Yes\", \"Yes\", \"Yes\", \"Maybe\", \"Yes\", \"No\", \"Yes\", \"Maybe\", \"Maybe\", \"Yes\", \"No\", \"No\", \"No\", \"Maybe\", \"No\", \"Maybe\", \"Yes\", \"Maybe\", \"Maybe\", \"Yes\", \"Maybe\", \"Maybe\", \"Yes\", \"Maybe\", \"Yes\", \"No\", \"Maybe\", \"No\", \"Maybe\", \"No\", \"Yes\", \"No\", \"No\", \"Yes\", \"Maybe\", \"Maybe\", \"No\", \"No\", \"Maybe\", \"No\", \"Yes\", \"No\", \"No\", \"Maybe\", \"Yes\", \"Maybe\", \"Yes\", \"Maybe\", \"No\", \"Yes\", \"Yes\", \"No\", \"No\", \"No\", \"Yes\", \"Yes\", \"No\", \"No\", \"No\", \"Yes\", \"No\", \"No\", \"No\", \"No\", \"Maybe\", \"Maybe\", \"No\", \"Yes\", \"Yes\", \"No\", \"Yes\", \"No\", \"Yes\", \"Yes\", \"No\", \"No\", \"Yes\", \"Yes\", \"Maybe\", \"Yes\", \"Yes\", \"No\", \"No\", \"No\", \"No\", \"Maybe\", \"Maybe\", \"No\", \"Maybe\", \"No\", \"No\", \"Yes\", \"Yes\", \"Yes\", \"Yes\", \"No\", \"Yes\", \"Yes\", \"Maybe\", \"No\", \"Maybe\", \"No\", \"No\", \"Maybe\", \"Maybe\", \"Maybe\", \"No\", \"Maybe\", \"No\", \"Yes\", \"Maybe\", \"No\", \"Yes\", \"Yes\", \"Maybe\", \"No\", \"No\", \"Maybe\", \"Yes\", \"No\", \"Yes\", \"No\", \"Maybe\", \"No\", \"No\", \"Yes\", \"Yes\", \"No\", \"Maybe\", \"Yes\", \"No\", \"Maybe\", \"Yes\", \"No\", \"No\", \"Maybe\", \"Yes\", \"Yes\", \"Maybe\", \"Yes\", \"Yes\", \"No\", \"Maybe\", \"No\", \"Yes\", \"No\", \"Maybe\", \"No\", \"No\", \"No\", \"No\", \"No\", \"Maybe\", \"No\", \"Yes\", \"No\", \"Maybe\", \"No\", \"No\", \"No\", \"No\", \"No\", \"Yes\", \"Yes\", \"Maybe\", \"Maybe\", \"Yes\", \"No\", \"Yes\", \"No\", \"No\", \"No\", \"Maybe\", \"Yes\", \"Maybe\", \"No\", \"Maybe\", \"Yes\", \"Maybe\", \"No\", \"No\", \"Maybe\", \"No\", \"No\", \"No\", \"Yes\", \"Yes\", \"No\", \"No\", \"Maybe\", \"Maybe\", \"Yes\", \"Yes\", \"Yes\", \"Maybe\", \"Yes\", \"No\", \"Yes\", \"Yes\", \"Yes\", \"Maybe\", \"Yes\", \"Yes\", \"No\", \"Maybe\", \"No\", \"Yes\", \"Maybe\", \"No\", \"Maybe\", \"Maybe\", \"Yes\", \"No\", \"Yes\", \"Yes\", \"Maybe\", \"No\", \"No\", \"Maybe\", \"No\", \"Yes\", \"Yes\", \"Maybe\", \"Yes\", \"Yes\", \"No\", \"No\", \"Maybe\", \"Yes\", \"Yes\", \"Maybe\", \"No\", \"Maybe\", \"No\", \"Maybe\", \"Maybe\", \"No\", \"Yes\", \"No\", \"No\", \"Yes\", \"No\", \"No\", \"Yes\", \"Maybe\", \"No\", \"No\", \"No\", \"No\", \"Maybe\", \"Maybe\", \"Yes\", \"No\", \"Yes\", \"No\", \"Yes\", \"No\", \"No\", \"Yes\", \"Maybe\", \"Yes\", \"Yes\", \"No\", \"No\", \"No\", \"No\", \"Yes\", \"Maybe\", \"No\", \"No\", \"Yes\", \"No\", \"Yes\", \"Yes\", \"No\", \"No\", \"No\", \"No\", \"Yes\", \"No\", \"Yes\", \"Yes\", \"Yes\", \"Yes\", \"Maybe\", \"Maybe\", \"Yes\", \"Maybe\", \"No\", \"Yes\", \"Yes\", \"Maybe\", \"Yes\", \"No\", \"No\", \"Yes\", \"Maybe\", \"No\", \"Maybe\", \"No\", \"Maybe\", \"Maybe\", \"Maybe\", \"Maybe\", \"Yes\", \"Yes\", \"Yes\", \"Maybe\", \"Yes\", \"No\", \"Maybe\", \"Yes\", \"Yes\", \"Maybe\", \"Maybe\", \"Yes\", \"Yes\", \"Maybe\", \"No\", \"Yes\", \"No\", \"No\", \"No\", \"Maybe\", \"Yes\", \"No\", \"Yes\", \"Yes\", \"No\", \"No\", \"Yes\", \"Yes\", \"No\", \"No\", \"Maybe\", \"Maybe\", \"No\", \"No\", \"Yes\", \"No\", \"Maybe\", \"No\", \"Yes\", \"Yes\", \"Maybe\", \"No\", \"Yes\", \"Maybe\", \"Maybe\", \"Yes\", \"No\", \"Yes\", \"Yes\", \"Maybe\", \"No\", \"Maybe\", \"Yes\", \"Yes\", \"Yes\", \"Yes\", \"Maybe\", \"Yes\", \"Yes\", \"No\", \"Yes\", \"Maybe\", \"Yes\", \"No\", \"Yes\", \"Maybe\", \"No\", \"No\", \"No\", \"No\", \"No\", \"No\", \"No\", \"Yes\", \"No\", \"No\", \"Yes\", \"No\", \"Maybe\", \"Maybe\", \"No\", \"No\", \"Yes\", \"Yes\", \"Yes\", \"Maybe\", \"Yes\", \"Yes\", \"No\", \"Yes\", \"No\", \"No\", \"Yes\", \"No\", \"Yes\", \"Yes\", \"Maybe\", \"Maybe\", \"Yes\", \"No\", \"Yes\", \"Yes\", \"Yes\", \"No\", \"Maybe\", \"Yes\", \"Yes\", \"Yes\", \"No\", \"Yes\", \"No\", \"Maybe\", \"No\", \"Yes\", \"Yes\", \"Yes\", \"Yes\", \"No\", \"Yes\", \"No\", \"Maybe\", \"No\", \"Yes\", \"No\", \"Yes\", \"No\", \"Maybe\", \"Yes\", \"Yes\", \"Maybe\", \"No\", \"Maybe\", \"No\", \"Yes\", \"Maybe\", \"Yes\", \"No\", \"No\", \"Yes\", \"Yes\", \"No\", \"Yes\", \"Maybe\", \"Yes\", \"Yes\", \"Yes\", \"Yes\", \"Yes\", \"Yes\", \"Yes\", \"Maybe\", \"Yes\", \"No\", \"Yes\", \"Yes\", \"Yes\", \"Yes\", \"Yes\", \"No\", \"Yes\", \"Yes\", \"No\", \"No\", \"Maybe\", \"No\", \"Maybe\", \"Yes\", \"Yes\", \"Yes\", \"Maybe\", \"Yes\", \"Yes\", \"No\", \"Maybe\", \"No\", \"Maybe\", \"Yes\", \"Yes\", \"Yes\", \"Yes\", \"Maybe\", \"Yes\", \"Maybe\", \"No\", \"No\", \"Yes\", \"Yes\", \"No\", \"No\", \"Maybe\", \"Yes\", \"Maybe\", \"No\", \"Yes\", \"Yes\", \"No\", \"No\", \"Yes\", \"No\", \"Yes\", \"Yes\", \"Maybe\", \"No\", \"No\", \"Yes\", \"Maybe\", \"Yes\", \"No\", \"Yes\", \"No\", \"Yes\", \"Yes\", \"Maybe\", \"Yes\", \"Maybe\", \"Yes\", \"Maybe\", \"Maybe\", \"Yes\", \"Maybe\", \"Yes\", \"Maybe\", \"Yes\", \"Yes\", \"Maybe\", \"No\", \"Maybe\", \"Yes\", \"Maybe\", \"No\", \"No\", \"Yes\", \"Yes\", \"Yes\", \"No\", \"Yes\", \"No\", \"Yes\", \"No\", \"No\", \"Yes\", \"No\", \"Yes\", \"Maybe\", \"Maybe\", \"Yes\", \"Yes\", \"Yes\", \"No\", \"Yes\", \"Yes\", \"Yes\", \"No\", \"Yes\", \"Yes\", \"Yes\", \"No\", \"No\", \"Maybe\", \"Maybe\", \"Yes\", \"Maybe\", \"No\", \"Yes\", \"No\", \"No\", \"No\", \"Yes\", \"No\", \"Yes\", \"Maybe\", \"Yes\", \"Yes\", \"Yes\", \"Yes\", \"Maybe\", \"Yes\", \"No\", \"Yes\", \"Maybe\", \"Maybe\", \"Maybe\", \"Yes\", \"Yes\", \"Yes\", \"Yes\", \"Maybe\", \"Maybe\", \"No\", \"No\", \"Yes\", \"No\", \"Yes\", \"Maybe\", \"Yes\", \"Yes\", \"Yes\", \"No\", \"Yes\", \"Yes\", \"Maybe\", \"No\", \"Yes\", \"Maybe\", \"Yes\", \"Maybe\", \"Maybe\", \"Yes\", \"Maybe\", \"No\", \"Maybe\", \"No\", \"Yes\", \"Maybe\", \"Maybe\", \"Yes\", \"Yes\", \"Yes\", \"Yes\", \"Yes\", \"Maybe\", \"Yes\", \"Yes\", \"Yes\", \"Yes\", \"Maybe\", \"Yes\", \"Yes\", \"No\", \"Yes\", \"Yes\", \"Yes\", \"No\", \"Yes\", \"Yes\", \"Yes\", \"No\", \"Yes\", \"Yes\", \"Yes\", \"Maybe\", \"No\", \"No\", \"No\", \"Yes\", \"Maybe\", \"Yes\", \"Yes\", \"No\", \"No\", \"Maybe\", \"Yes\", \"Yes\"], \"x0\": \" \", \"xaxis\": \"x\", \"y\": [39, 29, 38, 43, 43, 42, 30, 37, 44, 30, 28, 34, 30, 44, 35, 52, 32, 34, 25, 31, 26, 35, 25, 33, 38, 42, 27, 35, 34, 32, 32, 30, 31, 37, 36, 33, 44, 29, 29, 44, 34, 40, 46, 28, 41, 33, 32, 45, 43, 37, 37, 27, 31, 36, 34, 31, 30, 32, 40, 40, 41, 27, 30, 29, 38, 35, 35, 29, 28, 27, 39, 28, 46, 40, 37, 41, 19, 38, 33, 33, 21, 36, 39, 35, 36, 45, 41, 35, 30, 24, 33, 35, 26, 17, 29, 26, 36, 46, 39, 28, 40, 23, 30, 28, 27, 31, 39, 34, 30, 30, 31, 30, 32, 22, 37, 51, 26, 41, 39, 43, 30, 24, 30, 28, 48, 55, 36, 38, 34, 44, 45, 45, 30, 34, 37, 38, 31, 33, 29, 35, 42, 26, 36, 21, 34, 40, 35, 44, 35, 45, 42, 40, 50, 36, 31, 29, 37, 31, 42, 25, 27, 41, 41, 55, 21, 37, 34, 40, 25, 36, 25, 35, 37, 45, 26, 23, 22, 46, 31, 27, 37, 37, 26, 23, 40, 29, 37, 34, 40, 39, 28, 28, 27, 48, 49, 35, 35, 38, 32, 42, 33, 35, 24, 29, 29, 24, 30, 30, 44, 37, 28, 42, 30, 36, 30, 29, 25, 25, 24, 25, 31, 37, 35, 26, 31, 29, 33, 30, 30, 29, 25, 27, 26, 38, 49, 30, 34, 31, 29, 31, 34, 28, 35, 27, 33, 37, 45, 31, 36, 30, 33, 45, 30, 30, 29, 36, 28, 36, 37, 29, 25, 34, 37, 40, 32, 38, 31, 28, 27, 28, 26, 40, 42, 36, 44, 24, 44, 31, 49, 27, 27, 28, 20, 41, 38, 29, 44, 31, 54, 33, 29, 26, 26, 34, 38, 30, 34, 47, 33, 22, 28, 31, 24, 56, 57, 39, 21, 31, 63, 46, 32, 35, 34, 35, 31, 35, 36, 50, 31, 47, 32, 23, 43, 26, 26, 55, 27, 34, 25, 35, 37, 38, 29, 28, 29, 40, 25, 29, 29, 35, 25, 43, 26, 31, 31, 45, 23, 39, 27, 28, 36, 22, 51, 39, 36, 28, 40, 35, 38, 29, 43, 31, 45, 26, 42, 28, 28, 39, 34, 28, 35, 42, 99, 29, 34, 28, 22, 28, 26, 21, 38, 33, 28, 32, 24, 35, 41, 38, 24, 30, 47, 26, 32, 32, 37, 33, 28, 22, 30, 42, 34, 32, 37, 31, 31, 26, 30, 36, 38, 24, 26, 37, 27, 32, 32, 30, 26, 27, 27, 29, 26, 23, 30, 40, 46, 26, 30, 27, 35, 26, 35, 29, 34, 27, 39, 27, 31, 26, 44, 27, 57, 34, 38, 55, 28, 35, 26, 22, 31, 31, 40, 26, 36, 33, 24, 22, 33, 37, 29, 38, 33, 44, 23, 30, 30, 28, 39, 24, 27, 35, 23, 37, 35, 27, 27, 27, 42, 32, 26, 28, 28, 32, 43, 34, 61, 50, 38, 51, 38, 34, 43, 43, 44, 35, 50, 29, 29, 36, 33, 50, 46, 44, 23, 41, 31, 55, 34, 28, 33, 29, 33, 28, 28, 32, 36, 45, 29, 23, 54, 61, 29, 31, 37, 29, 28, 30, 55, 38, 20, 25, 22, 35, 27, 24, 39, 29, 40, 30, 32, 34, 35, 30, 36, 26, 31, 33, 30, 46, 32, 34, 41, 32, 47, 29, 36, 32, 29, 22, 32, 19, 30, 32, 22, 30, 323, 33, 48, 45, 28, 44, 31, 31, 29, 26, 35, 44, 45, 22, 34, 35, 39, 26, 41, 24, 24, 34, 36, 41, 21, 33, 32, 62, 37, 32, 31, 28, 48, 40, 29, 33, 27, 24, 28, 42, 28, 40, 32, 33, 40, 26, 39, 38, 34, 44, 54, 24, 31, 47, 30, 34, 29, 27, 29, 43, 31, 27, 29, 29, 42, 26, 26, 34, 24, 25, 22, 33, 53, 32, 32, 55, 27, 34, 26, 25, 39, 32, 46, 52, 33, 58, 30, 46, 45, 26, 22, 21, 3, 34, 25, 27, 25, 33, 26, 36, 26, 34, 34, 25, 33, 27, 24, 47, 37, 35, 30, 42, 36, 31, 28, 36, 36, 32, 42, 41, 36, 23, 54, 34, 36, 27, 32, 21, 44, 33, 38, 38, 38, 22, 33, 27, 55, 66, 25, 22, 29, 33, 27, 44, 38, 32, 59, 43, 55, 32, 41, 38, 46, 43, 29, 42, 25, 49, 36, 30, 28, 37, 23, 37, 42, 32, 28, 28, 29, 35, 31, 46, 19, 35, 31, 31, 37, 34, 39, 29, 29, 63, 45, 35, 32, 44, 28, 39, 55, 33, 19, 40, 49, 27, 39, 35, 35, 42, 35, 31, 44, 39, 32, 45, 31, 47, 29, 20, 34, 33, 56, 35, 31, 36, 30, 44, 23, 46, 33, 32, 45, 26, 32, 28, 44, 42, 30, 28, 31, 29, 33, 43, 28, 42, 38, 30, 51, 48, 39, 28, 37, 33, 21, 25, 15, 40, 30, 27, 25, 38, 24, 23, 39, 26, 43, 30, 35, 40, 33, 35, 22, 28, 39, 33, 25, 37, 41, 30, 42, 52, 30, 35, 24, 39, 34, 32, 25, 43, 39, 35, 34, 38, 26, 24, 27, 25, 37, 33, 34, 27, 33, 50, 54, 32, 39, 36, 34, 31, 36, 48, 31, 32, 32, 31, 28, 28, 33, 33, 59, 33, 37, 27, 39, 50, 34, 50, 31, 39, 46, 28, 32, 65, 37, 41, 38, 51, 29, 37, 31, 32, 31, 52, 31, 38, 35, 29, 63, 47, 43, 38, 27, 40, 32, 43, 28, 46, 42, 31, 37, 35, 30, 35, 24, 23, 39, 38, 28, 30, 38, 33, 35, 54, 30, 32, 28, 39, 21, 31, 30, 25, 26, 30, 30, 31, 32, 45, 29, 27, 28, 38, 38, 34, 36, 23, 40, 39, 28, 33, 32, 32, 27, 33, 34, 38, 35, 39, 35, 34, 44, 42, 30, 55, 46, 33, 30, 30, 31, 38, 30, 32, 32, 47, 39, 35, 36, 38, 30, 33, 22, 35, 26, 34, 40, 37, 43, 20, 30, 32, 35, 29, 29, 30, 30, 38, 30, 26, 27, 24, 35, 38, 36, 34, 35, 25, 32, 32, 37, 28, 34, 40, 45, 31, 30, 47, 48, 44, 29, 52, 34, 34, 27, 30, 40, 26, 36, 35, 43, 36, 32, 36, 38, 35, 35, 45, 47, 27, 26, 51, 25, 41, 34, 43, 33, 37, 27, 54, 38, 42, 30, 43, 33, 37, 25, 27, 27, 27, 35, 24, 31, 31, 32, 33, 56, 43, 49, 35, 53, 45, 40, 52, 30, 41, 31, 31, 24, 44, 37, 22, 31, 36, 28, 25, 49, 22, 43, 33, 36, 26, 43, 21, 39, 46, 32, 31, 39, 44, 36, 31, 30, 36, 31, 23, 23, 30, 34, 49, 25, 39, 37, 26, 41, 28, 33, 74, 28, 47, 25, 51, 26, 24, 33, 32, 57, 39, 26, 38, 33, 30, 25, 40, 26, 34, 46, 31, 42, 30, 26, 29, 31, 40, 39, 37, 27, 45, 29, 47, 33, 32, 29, 36, 35, 40, 36, 39, 38, 23, 29, 38, 34, 28, 38, 25, 36, 57, 46, 49, 34, 43, 35, 32, 24, 33, 28, 48, 33, 40, 22, 22, 23, 33, 29, 32, 43, 49, 44, 29, 27, 30, 43, 30, 33, 27, 26, 47, 30, 39, 36, 34, 25, 28, 38, 39, 32, 27, 31, 30, 34, 26, 27, 29, 37, 49, 39, 42, 28, 33, 30, 70, 25, 45, 63, 40, 39, 31, 34, 44, 45, 43, 29, 27, 37, 41, 30, 28, 28, 39, 22, 31, 29, 33, 37, 42, 31, 34, 49, 29, 40, 46, 31, 43, 45, 32, 38, 40, 38, 32, 37, 24, 25, 24, 34, 55, 32, 29, 20, 41, 33, 25, 29, 24, 39, 39, 44, 30, 31, 37, 42, 35, 30, 30, 33, 31, 39, 27, 34, 31, 30, 34, 20, 39, 50, 22, 41, 37, 32, 26, 38, 21, 27, 37, 45, 26, 30, 21, 21, 29, 46, 28, 26, 37, 44, 45, 35, 39, 37, 35, 29, 49, 21, 26, 35, 56, 53, 48, 24, 37, 27, 39, 31, 34, 33, 22, 25, 34, 30, 37, 26, 29, 29, 27, 27, 23, 24, 22, 28, 22, 32, 35, 26, 31, 32, 37, 24, 33, 28, 22, 46, 30, 29, 22, 24, 29, 30, 25, 39, 31, 25, 39, 31, 35, 31, 23, 30, 28, 23, 26, 24, 32, 35, 30, 32, 35, 26, 30, 29, 39, 37, 35, 25, 22, 33, 23, 29, 28, 30, 28, 28, 37, 30, 27, 29, 28, 26, 29, 34, 36, 38, 22, 24, 24, 36, 24, 24, 31, 39, 41, 29, 37, 30, 24, 22, 24, 26, 38, 34, 56, 52, 30, 25], \"y0\": \" \", \"yaxis\": \"y\"}],\n",
       "                        {\"legend\": {\"tracegroupgap\": 0}, \"margin\": {\"t\": 60}, \"template\": {\"data\": {\"bar\": [{\"error_x\": {\"color\": \"#2a3f5f\"}, \"error_y\": {\"color\": \"#2a3f5f\"}, \"marker\": {\"line\": {\"color\": \"#E5ECF6\", \"width\": 0.5}}, \"type\": \"bar\"}], \"barpolar\": [{\"marker\": {\"line\": {\"color\": \"#E5ECF6\", \"width\": 0.5}}, \"type\": \"barpolar\"}], \"carpet\": [{\"aaxis\": {\"endlinecolor\": \"#2a3f5f\", \"gridcolor\": \"white\", \"linecolor\": \"white\", \"minorgridcolor\": \"white\", \"startlinecolor\": \"#2a3f5f\"}, \"baxis\": {\"endlinecolor\": \"#2a3f5f\", \"gridcolor\": \"white\", \"linecolor\": \"white\", \"minorgridcolor\": \"white\", \"startlinecolor\": \"#2a3f5f\"}, \"type\": \"carpet\"}], \"choropleth\": [{\"colorbar\": {\"outlinewidth\": 0, \"ticks\": \"\"}, \"type\": \"choropleth\"}], \"contour\": [{\"colorbar\": {\"outlinewidth\": 0, \"ticks\": \"\"}, \"colorscale\": [[0.0, \"#0d0887\"], [0.1111111111111111, \"#46039f\"], [0.2222222222222222, \"#7201a8\"], [0.3333333333333333, \"#9c179e\"], [0.4444444444444444, \"#bd3786\"], [0.5555555555555556, \"#d8576b\"], [0.6666666666666666, \"#ed7953\"], [0.7777777777777778, \"#fb9f3a\"], [0.8888888888888888, \"#fdca26\"], [1.0, \"#f0f921\"]], \"type\": \"contour\"}], \"contourcarpet\": [{\"colorbar\": {\"outlinewidth\": 0, \"ticks\": \"\"}, \"type\": \"contourcarpet\"}], \"heatmap\": [{\"colorbar\": {\"outlinewidth\": 0, \"ticks\": \"\"}, \"colorscale\": [[0.0, \"#0d0887\"], [0.1111111111111111, \"#46039f\"], [0.2222222222222222, \"#7201a8\"], [0.3333333333333333, \"#9c179e\"], [0.4444444444444444, \"#bd3786\"], [0.5555555555555556, \"#d8576b\"], [0.6666666666666666, \"#ed7953\"], [0.7777777777777778, \"#fb9f3a\"], [0.8888888888888888, \"#fdca26\"], [1.0, \"#f0f921\"]], \"type\": \"heatmap\"}], \"heatmapgl\": [{\"colorbar\": {\"outlinewidth\": 0, \"ticks\": \"\"}, \"colorscale\": [[0.0, \"#0d0887\"], [0.1111111111111111, \"#46039f\"], [0.2222222222222222, \"#7201a8\"], [0.3333333333333333, \"#9c179e\"], [0.4444444444444444, \"#bd3786\"], [0.5555555555555556, \"#d8576b\"], [0.6666666666666666, \"#ed7953\"], [0.7777777777777778, \"#fb9f3a\"], [0.8888888888888888, \"#fdca26\"], [1.0, \"#f0f921\"]], \"type\": \"heatmapgl\"}], \"histogram\": [{\"marker\": {\"colorbar\": {\"outlinewidth\": 0, \"ticks\": \"\"}}, \"type\": \"histogram\"}], \"histogram2d\": [{\"colorbar\": {\"outlinewidth\": 0, \"ticks\": \"\"}, \"colorscale\": [[0.0, \"#0d0887\"], [0.1111111111111111, \"#46039f\"], [0.2222222222222222, \"#7201a8\"], [0.3333333333333333, \"#9c179e\"], [0.4444444444444444, \"#bd3786\"], [0.5555555555555556, \"#d8576b\"], [0.6666666666666666, \"#ed7953\"], [0.7777777777777778, \"#fb9f3a\"], [0.8888888888888888, \"#fdca26\"], [1.0, \"#f0f921\"]], \"type\": \"histogram2d\"}], \"histogram2dcontour\": [{\"colorbar\": {\"outlinewidth\": 0, \"ticks\": \"\"}, \"colorscale\": [[0.0, \"#0d0887\"], [0.1111111111111111, \"#46039f\"], [0.2222222222222222, \"#7201a8\"], [0.3333333333333333, \"#9c179e\"], [0.4444444444444444, \"#bd3786\"], [0.5555555555555556, \"#d8576b\"], [0.6666666666666666, \"#ed7953\"], [0.7777777777777778, \"#fb9f3a\"], [0.8888888888888888, \"#fdca26\"], [1.0, \"#f0f921\"]], \"type\": \"histogram2dcontour\"}], \"mesh3d\": [{\"colorbar\": {\"outlinewidth\": 0, \"ticks\": \"\"}, \"type\": \"mesh3d\"}], \"parcoords\": [{\"line\": {\"colorbar\": {\"outlinewidth\": 0, \"ticks\": \"\"}}, \"type\": \"parcoords\"}], \"pie\": [{\"automargin\": true, \"type\": \"pie\"}], \"scatter\": [{\"marker\": {\"colorbar\": {\"outlinewidth\": 0, \"ticks\": \"\"}}, \"type\": \"scatter\"}], \"scatter3d\": [{\"line\": {\"colorbar\": {\"outlinewidth\": 0, \"ticks\": \"\"}}, \"marker\": {\"colorbar\": {\"outlinewidth\": 0, \"ticks\": \"\"}}, \"type\": \"scatter3d\"}], \"scattercarpet\": [{\"marker\": {\"colorbar\": {\"outlinewidth\": 0, \"ticks\": \"\"}}, \"type\": \"scattercarpet\"}], \"scattergeo\": [{\"marker\": {\"colorbar\": {\"outlinewidth\": 0, \"ticks\": \"\"}}, \"type\": \"scattergeo\"}], \"scattergl\": [{\"marker\": {\"colorbar\": {\"outlinewidth\": 0, \"ticks\": \"\"}}, \"type\": \"scattergl\"}], \"scattermapbox\": [{\"marker\": {\"colorbar\": {\"outlinewidth\": 0, \"ticks\": \"\"}}, \"type\": \"scattermapbox\"}], \"scatterpolar\": [{\"marker\": {\"colorbar\": {\"outlinewidth\": 0, \"ticks\": \"\"}}, \"type\": \"scatterpolar\"}], \"scatterpolargl\": [{\"marker\": {\"colorbar\": {\"outlinewidth\": 0, \"ticks\": \"\"}}, \"type\": \"scatterpolargl\"}], \"scatterternary\": [{\"marker\": {\"colorbar\": {\"outlinewidth\": 0, \"ticks\": \"\"}}, \"type\": \"scatterternary\"}], \"surface\": [{\"colorbar\": {\"outlinewidth\": 0, \"ticks\": \"\"}, \"colorscale\": [[0.0, \"#0d0887\"], [0.1111111111111111, \"#46039f\"], [0.2222222222222222, \"#7201a8\"], [0.3333333333333333, \"#9c179e\"], [0.4444444444444444, \"#bd3786\"], [0.5555555555555556, \"#d8576b\"], [0.6666666666666666, \"#ed7953\"], [0.7777777777777778, \"#fb9f3a\"], [0.8888888888888888, \"#fdca26\"], [1.0, \"#f0f921\"]], \"type\": \"surface\"}], \"table\": [{\"cells\": {\"fill\": {\"color\": \"#EBF0F8\"}, \"line\": {\"color\": \"white\"}}, \"header\": {\"fill\": {\"color\": \"#C8D4E3\"}, \"line\": {\"color\": \"white\"}}, \"type\": \"table\"}]}, \"layout\": {\"annotationdefaults\": {\"arrowcolor\": \"#2a3f5f\", \"arrowhead\": 0, \"arrowwidth\": 1}, \"coloraxis\": {\"colorbar\": {\"outlinewidth\": 0, \"ticks\": \"\"}}, \"colorscale\": {\"diverging\": [[0, \"#8e0152\"], [0.1, \"#c51b7d\"], [0.2, \"#de77ae\"], [0.3, \"#f1b6da\"], [0.4, \"#fde0ef\"], [0.5, \"#f7f7f7\"], [0.6, \"#e6f5d0\"], [0.7, \"#b8e186\"], [0.8, \"#7fbc41\"], [0.9, \"#4d9221\"], [1, \"#276419\"]], \"sequential\": [[0.0, \"#0d0887\"], [0.1111111111111111, \"#46039f\"], [0.2222222222222222, \"#7201a8\"], [0.3333333333333333, \"#9c179e\"], [0.4444444444444444, \"#bd3786\"], [0.5555555555555556, \"#d8576b\"], [0.6666666666666666, \"#ed7953\"], [0.7777777777777778, \"#fb9f3a\"], [0.8888888888888888, \"#fdca26\"], [1.0, \"#f0f921\"]], \"sequentialminus\": [[0.0, \"#0d0887\"], [0.1111111111111111, \"#46039f\"], [0.2222222222222222, \"#7201a8\"], [0.3333333333333333, \"#9c179e\"], [0.4444444444444444, \"#bd3786\"], [0.5555555555555556, \"#d8576b\"], [0.6666666666666666, \"#ed7953\"], [0.7777777777777778, \"#fb9f3a\"], [0.8888888888888888, \"#fdca26\"], [1.0, \"#f0f921\"]]}, \"colorway\": [\"#636efa\", \"#EF553B\", \"#00cc96\", \"#ab63fa\", \"#FFA15A\", \"#19d3f3\", \"#FF6692\", \"#B6E880\", \"#FF97FF\", \"#FECB52\"], \"font\": {\"color\": \"#2a3f5f\"}, \"geo\": {\"bgcolor\": \"white\", \"lakecolor\": \"white\", \"landcolor\": \"#E5ECF6\", \"showlakes\": true, \"showland\": true, \"subunitcolor\": \"white\"}, \"hoverlabel\": {\"align\": \"left\"}, \"hovermode\": \"closest\", \"mapbox\": {\"style\": \"light\"}, \"paper_bgcolor\": \"white\", \"plot_bgcolor\": \"#E5ECF6\", \"polar\": {\"angularaxis\": {\"gridcolor\": \"white\", \"linecolor\": \"white\", \"ticks\": \"\"}, \"bgcolor\": \"#E5ECF6\", \"radialaxis\": {\"gridcolor\": \"white\", \"linecolor\": \"white\", \"ticks\": \"\"}}, \"scene\": {\"xaxis\": {\"backgroundcolor\": \"#E5ECF6\", \"gridcolor\": \"white\", \"gridwidth\": 2, \"linecolor\": \"white\", \"showbackground\": true, \"ticks\": \"\", \"zerolinecolor\": \"white\"}, \"yaxis\": {\"backgroundcolor\": \"#E5ECF6\", \"gridcolor\": \"white\", \"gridwidth\": 2, \"linecolor\": \"white\", \"showbackground\": true, \"ticks\": \"\", \"zerolinecolor\": \"white\"}, \"zaxis\": {\"backgroundcolor\": \"#E5ECF6\", \"gridcolor\": \"white\", \"gridwidth\": 2, \"linecolor\": \"white\", \"showbackground\": true, \"ticks\": \"\", \"zerolinecolor\": \"white\"}}, \"shapedefaults\": {\"line\": {\"color\": \"#2a3f5f\"}}, \"ternary\": {\"aaxis\": {\"gridcolor\": \"white\", \"linecolor\": \"white\", \"ticks\": \"\"}, \"baxis\": {\"gridcolor\": \"white\", \"linecolor\": \"white\", \"ticks\": \"\"}, \"bgcolor\": \"#E5ECF6\", \"caxis\": {\"gridcolor\": \"white\", \"linecolor\": \"white\", \"ticks\": \"\"}}, \"title\": {\"x\": 0.05}, \"xaxis\": {\"automargin\": true, \"gridcolor\": \"white\", \"linecolor\": \"white\", \"ticks\": \"\", \"title\": {\"standoff\": 15}, \"zerolinecolor\": \"white\", \"zerolinewidth\": 2}, \"yaxis\": {\"automargin\": true, \"gridcolor\": \"white\", \"linecolor\": \"white\", \"ticks\": \"\", \"title\": {\"standoff\": 15}, \"zerolinecolor\": \"white\", \"zerolinewidth\": 2}}}, \"violinmode\": \"group\", \"xaxis\": {\"anchor\": \"y\", \"domain\": [0.0, 1.0], \"title\": {\"text\": \"Do you currently have a mental health disorder?\"}}, \"yaxis\": {\"anchor\": \"x\", \"domain\": [0.0, 1.0], \"title\": {\"text\": \"What is your age?\"}}},\n",
       "                        {\"responsive\": true}\n",
       "                    ).then(function(){\n",
       "                            \n",
       "var gd = document.getElementById('84cdfaeb-c6d1-4c49-be49-98e102069f92');\n",
       "var x = new MutationObserver(function (mutations, observer) {{\n",
       "        var display = window.getComputedStyle(gd).display;\n",
       "        if (!display || display === 'none') {{\n",
       "            console.log([gd, 'removed!']);\n",
       "            Plotly.purge(gd);\n",
       "            observer.disconnect();\n",
       "        }}\n",
       "}});\n",
       "\n",
       "// Listen for the removal of the full notebook cells\n",
       "var notebookContainer = gd.closest('#notebook-container');\n",
       "if (notebookContainer) {{\n",
       "    x.observe(notebookContainer, {childList: true});\n",
       "}}\n",
       "\n",
       "// Listen for the clearing of the current output cell\n",
       "var outputEl = gd.closest('.output');\n",
       "if (outputEl) {{\n",
       "    x.observe(outputEl, {childList: true});\n",
       "}}\n",
       "\n",
       "                        })\n",
       "                };\n",
       "                });\n",
       "            </script>\n",
       "        </div>"
      ]
     },
     "metadata": {},
     "output_type": "display_data"
    }
   ],
   "source": [
    "fig = px.violin(data,x = data['Do you currently have a mental health disorder?'],\n",
    "               y = data['What is your age?'])\n",
    "fig.show()"
   ]
  },
  {
   "cell_type": "markdown",
   "metadata": {},
   "source": [
    "### Infer\n",
    "- 1 - no, 2 - yes, 0 - maybe\n",
    "- We can see that mental health disorders start majorly around 20 years of age and progressively get worse till around 50\n",
    "- There is a huge number of people who are unsure or unwilling to admit that they have a mental health disorder. People between the ages of 20 to 40\n",
    "- The total number of people who say that they have a disorder or might have one are much more than those that say they dont"
   ]
  },
  {
   "cell_type": "markdown",
   "metadata": {},
   "source": [
    "## Country related"
   ]
  },
  {
   "cell_type": "code",
   "execution_count": 29,
   "metadata": {
    "ExecuteTime": {
     "end_time": "2020-02-27T16:42:30.158003Z",
     "start_time": "2020-02-27T16:42:30.154702Z"
    }
   },
   "outputs": [
    {
     "data": {
      "text/plain": [
       "array(['United Kingdom', 'United States of America', 'Canada', 'Germany',\n",
       "       'Netherlands', 'Czech Republic', 'Lithuania', 'Australia',\n",
       "       'France', 'Venezuela', 'Poland', 'Belgium', 'Brazil', 'Denmark',\n",
       "       'Sweden', 'Russia', 'Spain', 'India', 'Mexico', 'Switzerland',\n",
       "       'Norway', 'Argentina', 'Ireland', 'Italy', 'Finland', 'Colombia',\n",
       "       'Costa Rica', 'Vietnam', 'Bulgaria', 'New Zealand', 'South Africa',\n",
       "       'Slovakia', 'Austria', 'Bangladesh', 'Algeria', 'Pakistan',\n",
       "       'Afghanistan', 'Greece', 'Romania', 'Other', 'Brunei', 'Japan',\n",
       "       'Iran', 'Hungary', 'Israel', 'Ecuador', 'Bosnia and Herzegovina',\n",
       "       'China', 'Chile', 'Guatemala', 'Taiwan', 'Serbia', 'Estonia'],\n",
       "      dtype=object)"
      ]
     },
     "execution_count": 29,
     "metadata": {},
     "output_type": "execute_result"
    }
   ],
   "source": [
    "data['What country do you live in?'].unique()"
   ]
  },
  {
   "cell_type": "code",
   "execution_count": 30,
   "metadata": {
    "ExecuteTime": {
     "end_time": "2020-02-27T16:42:30.173004Z",
     "start_time": "2020-02-27T16:42:30.161350Z"
    },
    "scrolled": true
   },
   "outputs": [
    {
     "data": {
      "text/html": [
       "<div>\n",
       "<style scoped>\n",
       "    .dataframe tbody tr th:only-of-type {\n",
       "        vertical-align: middle;\n",
       "    }\n",
       "\n",
       "    .dataframe tbody tr th {\n",
       "        vertical-align: top;\n",
       "    }\n",
       "\n",
       "    .dataframe thead th {\n",
       "        text-align: right;\n",
       "    }\n",
       "</style>\n",
       "<table border=\"1\" class=\"dataframe\">\n",
       "  <thead>\n",
       "    <tr style=\"text-align: right;\">\n",
       "      <th></th>\n",
       "      <th>What country do you live in?</th>\n",
       "      <th>Do you currently have a mental health disorder?</th>\n",
       "    </tr>\n",
       "  </thead>\n",
       "  <tbody>\n",
       "    <tr>\n",
       "      <th>0</th>\n",
       "      <td>United Kingdom</td>\n",
       "      <td>No</td>\n",
       "    </tr>\n",
       "    <tr>\n",
       "      <th>1</th>\n",
       "      <td>United States of America</td>\n",
       "      <td>Yes</td>\n",
       "    </tr>\n",
       "  </tbody>\n",
       "</table>\n",
       "</div>"
      ],
      "text/plain": [
       "  What country do you live in? Do you currently have a mental health disorder?\n",
       "0               United Kingdom                                              No\n",
       "1     United States of America                                             Yes"
      ]
     },
     "execution_count": 30,
     "metadata": {},
     "output_type": "execute_result"
    }
   ],
   "source": [
    "temp_country = data[[\n",
    "    'What country do you live in?',\n",
    "    'Do you currently have a mental health disorder?'\n",
    "]]\n",
    "temp_country.head(2)"
   ]
  },
  {
   "cell_type": "code",
   "execution_count": 31,
   "metadata": {
    "ExecuteTime": {
     "end_time": "2020-02-27T16:42:30.180773Z",
     "start_time": "2020-02-27T16:42:30.174224Z"
    },
    "scrolled": true
   },
   "outputs": [
    {
     "data": {
      "text/plain": [
       "180"
      ]
     },
     "execution_count": 31,
     "metadata": {},
     "output_type": "execute_result"
    }
   ],
   "source": [
    "len(data[(data['What country do you live in?'] == 'United Kingdom')\n",
    "         & (data['Do you currently have a mental health disorder?'] != 1)]\n",
    "    ['Do you currently have a mental health disorder?'])"
   ]
  },
  {
   "cell_type": "code",
   "execution_count": 32,
   "metadata": {
    "ExecuteTime": {
     "end_time": "2020-02-27T16:42:30.238381Z",
     "start_time": "2020-02-27T16:42:30.181965Z"
    }
   },
   "outputs": [],
   "source": [
    "country_n, country_count = [], []\n",
    "for a in data['What country do you live in?'].unique():\n",
    "    country_n.append(a)\n",
    "    country_count.append(\n",
    "        len(data[(data['What country do you live in?'] == a) & (\n",
    "            data['Do you currently have a mental health disorder?'] != 1)]\n",
    "            ['Do you currently have a mental health disorder?']))"
   ]
  },
  {
   "cell_type": "code",
   "execution_count": 33,
   "metadata": {
    "ExecuteTime": {
     "end_time": "2020-02-27T16:42:30.242415Z",
     "start_time": "2020-02-27T16:42:30.239569Z"
    },
    "scrolled": true
   },
   "outputs": [
    {
     "data": {
      "text/plain": [
       "(['United Kingdom', 'United States of America', 'Canada'], [180, 840, 78])"
      ]
     },
     "execution_count": 33,
     "metadata": {},
     "output_type": "execute_result"
    }
   ],
   "source": [
    "country_n[:3], country_count[:3]"
   ]
  },
  {
   "cell_type": "code",
   "execution_count": 43,
   "metadata": {
    "ExecuteTime": {
     "end_time": "2020-02-27T16:44:58.562661Z",
     "start_time": "2020-02-27T16:44:58.385820Z"
    }
   },
   "outputs": [
    {
     "data": {
      "application/vnd.plotly.v1+json": {
       "config": {
        "plotlyServerURL": "https://plot.ly"
       },
       "data": [
        {
         "alignmentgroup": "True",
         "hoverlabel": {
          "namelength": 0
         },
         "hovertemplate": "x=%{x}<br>y=%{y}",
         "legendgroup": "",
         "marker": {
          "color": "#636efa"
         },
         "name": "",
         "offsetgroup": "",
         "orientation": "v",
         "showlegend": false,
         "textposition": "auto",
         "type": "bar",
         "x": [
          "United Kingdom",
          "United States of America",
          "Canada",
          "Germany",
          "Netherlands",
          "Czech Republic",
          "Lithuania",
          "Australia",
          "France",
          "Venezuela",
          "Poland",
          "Belgium",
          "Brazil",
          "Denmark",
          "Sweden",
          "Russia",
          "Spain",
          "India",
          "Mexico",
          "Switzerland",
          "Norway",
          "Argentina",
          "Ireland",
          "Italy",
          "Finland",
          "Colombia",
          "Costa Rica",
          "Vietnam",
          "Bulgaria",
          "New Zealand",
          "South Africa",
          "Slovakia",
          "Austria",
          "Bangladesh",
          "Algeria",
          "Pakistan",
          "Afghanistan",
          "Greece",
          "Romania",
          "Other",
          "Brunei",
          "Japan",
          "Iran",
          "Hungary",
          "Israel",
          "Ecuador",
          "Bosnia and Herzegovina",
          "China",
          "Chile",
          "Guatemala",
          "Taiwan",
          "Serbia",
          "Estonia"
         ],
         "xaxis": "x",
         "y": [
          180,
          840,
          78,
          58,
          48,
          3,
          2,
          35,
          16,
          1,
          4,
          5,
          10,
          7,
          19,
          9,
          4,
          9,
          2,
          10,
          3,
          1,
          15,
          5,
          7,
          2,
          1,
          1,
          7,
          9,
          4,
          1,
          4,
          1,
          1,
          3,
          2,
          1,
          4,
          2,
          1,
          2,
          1,
          1,
          2,
          1,
          2,
          1,
          3,
          1,
          1,
          1,
          2
         ],
         "yaxis": "y"
        }
       ],
       "layout": {
        "barmode": "relative",
        "legend": {
         "tracegroupgap": 0
        },
        "margin": {
         "t": 60
        },
        "template": {
         "data": {
          "bar": [
           {
            "error_x": {
             "color": "#2a3f5f"
            },
            "error_y": {
             "color": "#2a3f5f"
            },
            "marker": {
             "line": {
              "color": "#E5ECF6",
              "width": 0.5
             }
            },
            "type": "bar"
           }
          ],
          "barpolar": [
           {
            "marker": {
             "line": {
              "color": "#E5ECF6",
              "width": 0.5
             }
            },
            "type": "barpolar"
           }
          ],
          "carpet": [
           {
            "aaxis": {
             "endlinecolor": "#2a3f5f",
             "gridcolor": "white",
             "linecolor": "white",
             "minorgridcolor": "white",
             "startlinecolor": "#2a3f5f"
            },
            "baxis": {
             "endlinecolor": "#2a3f5f",
             "gridcolor": "white",
             "linecolor": "white",
             "minorgridcolor": "white",
             "startlinecolor": "#2a3f5f"
            },
            "type": "carpet"
           }
          ],
          "choropleth": [
           {
            "colorbar": {
             "outlinewidth": 0,
             "ticks": ""
            },
            "type": "choropleth"
           }
          ],
          "contour": [
           {
            "colorbar": {
             "outlinewidth": 0,
             "ticks": ""
            },
            "colorscale": [
             [
              0,
              "#0d0887"
             ],
             [
              0.1111111111111111,
              "#46039f"
             ],
             [
              0.2222222222222222,
              "#7201a8"
             ],
             [
              0.3333333333333333,
              "#9c179e"
             ],
             [
              0.4444444444444444,
              "#bd3786"
             ],
             [
              0.5555555555555556,
              "#d8576b"
             ],
             [
              0.6666666666666666,
              "#ed7953"
             ],
             [
              0.7777777777777778,
              "#fb9f3a"
             ],
             [
              0.8888888888888888,
              "#fdca26"
             ],
             [
              1,
              "#f0f921"
             ]
            ],
            "type": "contour"
           }
          ],
          "contourcarpet": [
           {
            "colorbar": {
             "outlinewidth": 0,
             "ticks": ""
            },
            "type": "contourcarpet"
           }
          ],
          "heatmap": [
           {
            "colorbar": {
             "outlinewidth": 0,
             "ticks": ""
            },
            "colorscale": [
             [
              0,
              "#0d0887"
             ],
             [
              0.1111111111111111,
              "#46039f"
             ],
             [
              0.2222222222222222,
              "#7201a8"
             ],
             [
              0.3333333333333333,
              "#9c179e"
             ],
             [
              0.4444444444444444,
              "#bd3786"
             ],
             [
              0.5555555555555556,
              "#d8576b"
             ],
             [
              0.6666666666666666,
              "#ed7953"
             ],
             [
              0.7777777777777778,
              "#fb9f3a"
             ],
             [
              0.8888888888888888,
              "#fdca26"
             ],
             [
              1,
              "#f0f921"
             ]
            ],
            "type": "heatmap"
           }
          ],
          "heatmapgl": [
           {
            "colorbar": {
             "outlinewidth": 0,
             "ticks": ""
            },
            "colorscale": [
             [
              0,
              "#0d0887"
             ],
             [
              0.1111111111111111,
              "#46039f"
             ],
             [
              0.2222222222222222,
              "#7201a8"
             ],
             [
              0.3333333333333333,
              "#9c179e"
             ],
             [
              0.4444444444444444,
              "#bd3786"
             ],
             [
              0.5555555555555556,
              "#d8576b"
             ],
             [
              0.6666666666666666,
              "#ed7953"
             ],
             [
              0.7777777777777778,
              "#fb9f3a"
             ],
             [
              0.8888888888888888,
              "#fdca26"
             ],
             [
              1,
              "#f0f921"
             ]
            ],
            "type": "heatmapgl"
           }
          ],
          "histogram": [
           {
            "marker": {
             "colorbar": {
              "outlinewidth": 0,
              "ticks": ""
             }
            },
            "type": "histogram"
           }
          ],
          "histogram2d": [
           {
            "colorbar": {
             "outlinewidth": 0,
             "ticks": ""
            },
            "colorscale": [
             [
              0,
              "#0d0887"
             ],
             [
              0.1111111111111111,
              "#46039f"
             ],
             [
              0.2222222222222222,
              "#7201a8"
             ],
             [
              0.3333333333333333,
              "#9c179e"
             ],
             [
              0.4444444444444444,
              "#bd3786"
             ],
             [
              0.5555555555555556,
              "#d8576b"
             ],
             [
              0.6666666666666666,
              "#ed7953"
             ],
             [
              0.7777777777777778,
              "#fb9f3a"
             ],
             [
              0.8888888888888888,
              "#fdca26"
             ],
             [
              1,
              "#f0f921"
             ]
            ],
            "type": "histogram2d"
           }
          ],
          "histogram2dcontour": [
           {
            "colorbar": {
             "outlinewidth": 0,
             "ticks": ""
            },
            "colorscale": [
             [
              0,
              "#0d0887"
             ],
             [
              0.1111111111111111,
              "#46039f"
             ],
             [
              0.2222222222222222,
              "#7201a8"
             ],
             [
              0.3333333333333333,
              "#9c179e"
             ],
             [
              0.4444444444444444,
              "#bd3786"
             ],
             [
              0.5555555555555556,
              "#d8576b"
             ],
             [
              0.6666666666666666,
              "#ed7953"
             ],
             [
              0.7777777777777778,
              "#fb9f3a"
             ],
             [
              0.8888888888888888,
              "#fdca26"
             ],
             [
              1,
              "#f0f921"
             ]
            ],
            "type": "histogram2dcontour"
           }
          ],
          "mesh3d": [
           {
            "colorbar": {
             "outlinewidth": 0,
             "ticks": ""
            },
            "type": "mesh3d"
           }
          ],
          "parcoords": [
           {
            "line": {
             "colorbar": {
              "outlinewidth": 0,
              "ticks": ""
             }
            },
            "type": "parcoords"
           }
          ],
          "pie": [
           {
            "automargin": true,
            "type": "pie"
           }
          ],
          "scatter": [
           {
            "marker": {
             "colorbar": {
              "outlinewidth": 0,
              "ticks": ""
             }
            },
            "type": "scatter"
           }
          ],
          "scatter3d": [
           {
            "line": {
             "colorbar": {
              "outlinewidth": 0,
              "ticks": ""
             }
            },
            "marker": {
             "colorbar": {
              "outlinewidth": 0,
              "ticks": ""
             }
            },
            "type": "scatter3d"
           }
          ],
          "scattercarpet": [
           {
            "marker": {
             "colorbar": {
              "outlinewidth": 0,
              "ticks": ""
             }
            },
            "type": "scattercarpet"
           }
          ],
          "scattergeo": [
           {
            "marker": {
             "colorbar": {
              "outlinewidth": 0,
              "ticks": ""
             }
            },
            "type": "scattergeo"
           }
          ],
          "scattergl": [
           {
            "marker": {
             "colorbar": {
              "outlinewidth": 0,
              "ticks": ""
             }
            },
            "type": "scattergl"
           }
          ],
          "scattermapbox": [
           {
            "marker": {
             "colorbar": {
              "outlinewidth": 0,
              "ticks": ""
             }
            },
            "type": "scattermapbox"
           }
          ],
          "scatterpolar": [
           {
            "marker": {
             "colorbar": {
              "outlinewidth": 0,
              "ticks": ""
             }
            },
            "type": "scatterpolar"
           }
          ],
          "scatterpolargl": [
           {
            "marker": {
             "colorbar": {
              "outlinewidth": 0,
              "ticks": ""
             }
            },
            "type": "scatterpolargl"
           }
          ],
          "scatterternary": [
           {
            "marker": {
             "colorbar": {
              "outlinewidth": 0,
              "ticks": ""
             }
            },
            "type": "scatterternary"
           }
          ],
          "surface": [
           {
            "colorbar": {
             "outlinewidth": 0,
             "ticks": ""
            },
            "colorscale": [
             [
              0,
              "#0d0887"
             ],
             [
              0.1111111111111111,
              "#46039f"
             ],
             [
              0.2222222222222222,
              "#7201a8"
             ],
             [
              0.3333333333333333,
              "#9c179e"
             ],
             [
              0.4444444444444444,
              "#bd3786"
             ],
             [
              0.5555555555555556,
              "#d8576b"
             ],
             [
              0.6666666666666666,
              "#ed7953"
             ],
             [
              0.7777777777777778,
              "#fb9f3a"
             ],
             [
              0.8888888888888888,
              "#fdca26"
             ],
             [
              1,
              "#f0f921"
             ]
            ],
            "type": "surface"
           }
          ],
          "table": [
           {
            "cells": {
             "fill": {
              "color": "#EBF0F8"
             },
             "line": {
              "color": "white"
             }
            },
            "header": {
             "fill": {
              "color": "#C8D4E3"
             },
             "line": {
              "color": "white"
             }
            },
            "type": "table"
           }
          ]
         },
         "layout": {
          "annotationdefaults": {
           "arrowcolor": "#2a3f5f",
           "arrowhead": 0,
           "arrowwidth": 1
          },
          "coloraxis": {
           "colorbar": {
            "outlinewidth": 0,
            "ticks": ""
           }
          },
          "colorscale": {
           "diverging": [
            [
             0,
             "#8e0152"
            ],
            [
             0.1,
             "#c51b7d"
            ],
            [
             0.2,
             "#de77ae"
            ],
            [
             0.3,
             "#f1b6da"
            ],
            [
             0.4,
             "#fde0ef"
            ],
            [
             0.5,
             "#f7f7f7"
            ],
            [
             0.6,
             "#e6f5d0"
            ],
            [
             0.7,
             "#b8e186"
            ],
            [
             0.8,
             "#7fbc41"
            ],
            [
             0.9,
             "#4d9221"
            ],
            [
             1,
             "#276419"
            ]
           ],
           "sequential": [
            [
             0,
             "#0d0887"
            ],
            [
             0.1111111111111111,
             "#46039f"
            ],
            [
             0.2222222222222222,
             "#7201a8"
            ],
            [
             0.3333333333333333,
             "#9c179e"
            ],
            [
             0.4444444444444444,
             "#bd3786"
            ],
            [
             0.5555555555555556,
             "#d8576b"
            ],
            [
             0.6666666666666666,
             "#ed7953"
            ],
            [
             0.7777777777777778,
             "#fb9f3a"
            ],
            [
             0.8888888888888888,
             "#fdca26"
            ],
            [
             1,
             "#f0f921"
            ]
           ],
           "sequentialminus": [
            [
             0,
             "#0d0887"
            ],
            [
             0.1111111111111111,
             "#46039f"
            ],
            [
             0.2222222222222222,
             "#7201a8"
            ],
            [
             0.3333333333333333,
             "#9c179e"
            ],
            [
             0.4444444444444444,
             "#bd3786"
            ],
            [
             0.5555555555555556,
             "#d8576b"
            ],
            [
             0.6666666666666666,
             "#ed7953"
            ],
            [
             0.7777777777777778,
             "#fb9f3a"
            ],
            [
             0.8888888888888888,
             "#fdca26"
            ],
            [
             1,
             "#f0f921"
            ]
           ]
          },
          "colorway": [
           "#636efa",
           "#EF553B",
           "#00cc96",
           "#ab63fa",
           "#FFA15A",
           "#19d3f3",
           "#FF6692",
           "#B6E880",
           "#FF97FF",
           "#FECB52"
          ],
          "font": {
           "color": "#2a3f5f"
          },
          "geo": {
           "bgcolor": "white",
           "lakecolor": "white",
           "landcolor": "#E5ECF6",
           "showlakes": true,
           "showland": true,
           "subunitcolor": "white"
          },
          "hoverlabel": {
           "align": "left"
          },
          "hovermode": "closest",
          "mapbox": {
           "style": "light"
          },
          "paper_bgcolor": "white",
          "plot_bgcolor": "#E5ECF6",
          "polar": {
           "angularaxis": {
            "gridcolor": "white",
            "linecolor": "white",
            "ticks": ""
           },
           "bgcolor": "#E5ECF6",
           "radialaxis": {
            "gridcolor": "white",
            "linecolor": "white",
            "ticks": ""
           }
          },
          "scene": {
           "xaxis": {
            "backgroundcolor": "#E5ECF6",
            "gridcolor": "white",
            "gridwidth": 2,
            "linecolor": "white",
            "showbackground": true,
            "ticks": "",
            "zerolinecolor": "white"
           },
           "yaxis": {
            "backgroundcolor": "#E5ECF6",
            "gridcolor": "white",
            "gridwidth": 2,
            "linecolor": "white",
            "showbackground": true,
            "ticks": "",
            "zerolinecolor": "white"
           },
           "zaxis": {
            "backgroundcolor": "#E5ECF6",
            "gridcolor": "white",
            "gridwidth": 2,
            "linecolor": "white",
            "showbackground": true,
            "ticks": "",
            "zerolinecolor": "white"
           }
          },
          "shapedefaults": {
           "line": {
            "color": "#2a3f5f"
           }
          },
          "ternary": {
           "aaxis": {
            "gridcolor": "white",
            "linecolor": "white",
            "ticks": ""
           },
           "baxis": {
            "gridcolor": "white",
            "linecolor": "white",
            "ticks": ""
           },
           "bgcolor": "#E5ECF6",
           "caxis": {
            "gridcolor": "white",
            "linecolor": "white",
            "ticks": ""
           }
          },
          "title": {
           "x": 0.05
          },
          "xaxis": {
           "automargin": true,
           "gridcolor": "white",
           "linecolor": "white",
           "ticks": "",
           "title": {
            "standoff": 15
           },
           "zerolinecolor": "white",
           "zerolinewidth": 2
          },
          "yaxis": {
           "automargin": true,
           "gridcolor": "white",
           "linecolor": "white",
           "ticks": "",
           "title": {
            "standoff": 15
           },
           "zerolinecolor": "white",
           "zerolinewidth": 2
          }
         }
        },
        "xaxis": {
         "anchor": "y",
         "domain": [
          0,
          1
         ],
         "title": {
          "text": "x"
         }
        },
        "yaxis": {
         "anchor": "x",
         "domain": [
          0,
          1
         ],
         "title": {
          "text": "y"
         }
        }
       }
      },
      "text/html": [
       "<div>\n",
       "        \n",
       "        \n",
       "            <div id=\"26def755-df2a-4f51-80fa-40cf320f64c6\" class=\"plotly-graph-div\" style=\"height:525px; width:100%;\"></div>\n",
       "            <script type=\"text/javascript\">\n",
       "                require([\"plotly\"], function(Plotly) {\n",
       "                    window.PLOTLYENV=window.PLOTLYENV || {};\n",
       "                    \n",
       "                if (document.getElementById(\"26def755-df2a-4f51-80fa-40cf320f64c6\")) {\n",
       "                    Plotly.newPlot(\n",
       "                        '26def755-df2a-4f51-80fa-40cf320f64c6',\n",
       "                        [{\"alignmentgroup\": \"True\", \"hoverlabel\": {\"namelength\": 0}, \"hovertemplate\": \"x=%{x}<br>y=%{y}\", \"legendgroup\": \"\", \"marker\": {\"color\": \"#636efa\"}, \"name\": \"\", \"offsetgroup\": \"\", \"orientation\": \"v\", \"showlegend\": false, \"textposition\": \"auto\", \"type\": \"bar\", \"x\": [\"United Kingdom\", \"United States of America\", \"Canada\", \"Germany\", \"Netherlands\", \"Czech Republic\", \"Lithuania\", \"Australia\", \"France\", \"Venezuela\", \"Poland\", \"Belgium\", \"Brazil\", \"Denmark\", \"Sweden\", \"Russia\", \"Spain\", \"India\", \"Mexico\", \"Switzerland\", \"Norway\", \"Argentina\", \"Ireland\", \"Italy\", \"Finland\", \"Colombia\", \"Costa Rica\", \"Vietnam\", \"Bulgaria\", \"New Zealand\", \"South Africa\", \"Slovakia\", \"Austria\", \"Bangladesh\", \"Algeria\", \"Pakistan\", \"Afghanistan\", \"Greece\", \"Romania\", \"Other\", \"Brunei\", \"Japan\", \"Iran\", \"Hungary\", \"Israel\", \"Ecuador\", \"Bosnia and Herzegovina\", \"China\", \"Chile\", \"Guatemala\", \"Taiwan\", \"Serbia\", \"Estonia\"], \"xaxis\": \"x\", \"y\": [180, 840, 78, 58, 48, 3, 2, 35, 16, 1, 4, 5, 10, 7, 19, 9, 4, 9, 2, 10, 3, 1, 15, 5, 7, 2, 1, 1, 7, 9, 4, 1, 4, 1, 1, 3, 2, 1, 4, 2, 1, 2, 1, 1, 2, 1, 2, 1, 3, 1, 1, 1, 2], \"yaxis\": \"y\"}],\n",
       "                        {\"barmode\": \"relative\", \"legend\": {\"tracegroupgap\": 0}, \"margin\": {\"t\": 60}, \"template\": {\"data\": {\"bar\": [{\"error_x\": {\"color\": \"#2a3f5f\"}, \"error_y\": {\"color\": \"#2a3f5f\"}, \"marker\": {\"line\": {\"color\": \"#E5ECF6\", \"width\": 0.5}}, \"type\": \"bar\"}], \"barpolar\": [{\"marker\": {\"line\": {\"color\": \"#E5ECF6\", \"width\": 0.5}}, \"type\": \"barpolar\"}], \"carpet\": [{\"aaxis\": {\"endlinecolor\": \"#2a3f5f\", \"gridcolor\": \"white\", \"linecolor\": \"white\", \"minorgridcolor\": \"white\", \"startlinecolor\": \"#2a3f5f\"}, \"baxis\": {\"endlinecolor\": \"#2a3f5f\", \"gridcolor\": \"white\", \"linecolor\": \"white\", \"minorgridcolor\": \"white\", \"startlinecolor\": \"#2a3f5f\"}, \"type\": \"carpet\"}], \"choropleth\": [{\"colorbar\": {\"outlinewidth\": 0, \"ticks\": \"\"}, \"type\": \"choropleth\"}], \"contour\": [{\"colorbar\": {\"outlinewidth\": 0, \"ticks\": \"\"}, \"colorscale\": [[0.0, \"#0d0887\"], [0.1111111111111111, \"#46039f\"], [0.2222222222222222, \"#7201a8\"], [0.3333333333333333, \"#9c179e\"], [0.4444444444444444, \"#bd3786\"], [0.5555555555555556, \"#d8576b\"], [0.6666666666666666, \"#ed7953\"], [0.7777777777777778, \"#fb9f3a\"], [0.8888888888888888, \"#fdca26\"], [1.0, \"#f0f921\"]], \"type\": \"contour\"}], \"contourcarpet\": [{\"colorbar\": {\"outlinewidth\": 0, \"ticks\": \"\"}, \"type\": \"contourcarpet\"}], \"heatmap\": [{\"colorbar\": {\"outlinewidth\": 0, \"ticks\": \"\"}, \"colorscale\": [[0.0, \"#0d0887\"], [0.1111111111111111, \"#46039f\"], [0.2222222222222222, \"#7201a8\"], [0.3333333333333333, \"#9c179e\"], [0.4444444444444444, \"#bd3786\"], [0.5555555555555556, \"#d8576b\"], [0.6666666666666666, \"#ed7953\"], [0.7777777777777778, \"#fb9f3a\"], [0.8888888888888888, \"#fdca26\"], [1.0, \"#f0f921\"]], \"type\": \"heatmap\"}], \"heatmapgl\": [{\"colorbar\": {\"outlinewidth\": 0, \"ticks\": \"\"}, \"colorscale\": [[0.0, \"#0d0887\"], [0.1111111111111111, \"#46039f\"], [0.2222222222222222, \"#7201a8\"], [0.3333333333333333, \"#9c179e\"], [0.4444444444444444, \"#bd3786\"], [0.5555555555555556, \"#d8576b\"], [0.6666666666666666, \"#ed7953\"], [0.7777777777777778, \"#fb9f3a\"], [0.8888888888888888, \"#fdca26\"], [1.0, \"#f0f921\"]], \"type\": \"heatmapgl\"}], \"histogram\": [{\"marker\": {\"colorbar\": {\"outlinewidth\": 0, \"ticks\": \"\"}}, \"type\": \"histogram\"}], \"histogram2d\": [{\"colorbar\": {\"outlinewidth\": 0, \"ticks\": \"\"}, \"colorscale\": [[0.0, \"#0d0887\"], [0.1111111111111111, \"#46039f\"], [0.2222222222222222, \"#7201a8\"], [0.3333333333333333, \"#9c179e\"], [0.4444444444444444, \"#bd3786\"], [0.5555555555555556, \"#d8576b\"], [0.6666666666666666, \"#ed7953\"], [0.7777777777777778, \"#fb9f3a\"], [0.8888888888888888, \"#fdca26\"], [1.0, \"#f0f921\"]], \"type\": \"histogram2d\"}], \"histogram2dcontour\": [{\"colorbar\": {\"outlinewidth\": 0, \"ticks\": \"\"}, \"colorscale\": [[0.0, \"#0d0887\"], [0.1111111111111111, \"#46039f\"], [0.2222222222222222, \"#7201a8\"], [0.3333333333333333, \"#9c179e\"], [0.4444444444444444, \"#bd3786\"], [0.5555555555555556, \"#d8576b\"], [0.6666666666666666, \"#ed7953\"], [0.7777777777777778, \"#fb9f3a\"], [0.8888888888888888, \"#fdca26\"], [1.0, \"#f0f921\"]], \"type\": \"histogram2dcontour\"}], \"mesh3d\": [{\"colorbar\": {\"outlinewidth\": 0, \"ticks\": \"\"}, \"type\": \"mesh3d\"}], \"parcoords\": [{\"line\": {\"colorbar\": {\"outlinewidth\": 0, \"ticks\": \"\"}}, \"type\": \"parcoords\"}], \"pie\": [{\"automargin\": true, \"type\": \"pie\"}], \"scatter\": [{\"marker\": {\"colorbar\": {\"outlinewidth\": 0, \"ticks\": \"\"}}, \"type\": \"scatter\"}], \"scatter3d\": [{\"line\": {\"colorbar\": {\"outlinewidth\": 0, \"ticks\": \"\"}}, \"marker\": {\"colorbar\": {\"outlinewidth\": 0, \"ticks\": \"\"}}, \"type\": \"scatter3d\"}], \"scattercarpet\": [{\"marker\": {\"colorbar\": {\"outlinewidth\": 0, \"ticks\": \"\"}}, \"type\": \"scattercarpet\"}], \"scattergeo\": [{\"marker\": {\"colorbar\": {\"outlinewidth\": 0, \"ticks\": \"\"}}, \"type\": \"scattergeo\"}], \"scattergl\": [{\"marker\": {\"colorbar\": {\"outlinewidth\": 0, \"ticks\": \"\"}}, \"type\": \"scattergl\"}], \"scattermapbox\": [{\"marker\": {\"colorbar\": {\"outlinewidth\": 0, \"ticks\": \"\"}}, \"type\": \"scattermapbox\"}], \"scatterpolar\": [{\"marker\": {\"colorbar\": {\"outlinewidth\": 0, \"ticks\": \"\"}}, \"type\": \"scatterpolar\"}], \"scatterpolargl\": [{\"marker\": {\"colorbar\": {\"outlinewidth\": 0, \"ticks\": \"\"}}, \"type\": \"scatterpolargl\"}], \"scatterternary\": [{\"marker\": {\"colorbar\": {\"outlinewidth\": 0, \"ticks\": \"\"}}, \"type\": \"scatterternary\"}], \"surface\": [{\"colorbar\": {\"outlinewidth\": 0, \"ticks\": \"\"}, \"colorscale\": [[0.0, \"#0d0887\"], [0.1111111111111111, \"#46039f\"], [0.2222222222222222, \"#7201a8\"], [0.3333333333333333, \"#9c179e\"], [0.4444444444444444, \"#bd3786\"], [0.5555555555555556, \"#d8576b\"], [0.6666666666666666, \"#ed7953\"], [0.7777777777777778, \"#fb9f3a\"], [0.8888888888888888, \"#fdca26\"], [1.0, \"#f0f921\"]], \"type\": \"surface\"}], \"table\": [{\"cells\": {\"fill\": {\"color\": \"#EBF0F8\"}, \"line\": {\"color\": \"white\"}}, \"header\": {\"fill\": {\"color\": \"#C8D4E3\"}, \"line\": {\"color\": \"white\"}}, \"type\": \"table\"}]}, \"layout\": {\"annotationdefaults\": {\"arrowcolor\": \"#2a3f5f\", \"arrowhead\": 0, \"arrowwidth\": 1}, \"coloraxis\": {\"colorbar\": {\"outlinewidth\": 0, \"ticks\": \"\"}}, \"colorscale\": {\"diverging\": [[0, \"#8e0152\"], [0.1, \"#c51b7d\"], [0.2, \"#de77ae\"], [0.3, \"#f1b6da\"], [0.4, \"#fde0ef\"], [0.5, \"#f7f7f7\"], [0.6, \"#e6f5d0\"], [0.7, \"#b8e186\"], [0.8, \"#7fbc41\"], [0.9, \"#4d9221\"], [1, \"#276419\"]], \"sequential\": [[0.0, \"#0d0887\"], [0.1111111111111111, \"#46039f\"], [0.2222222222222222, \"#7201a8\"], [0.3333333333333333, \"#9c179e\"], [0.4444444444444444, \"#bd3786\"], [0.5555555555555556, \"#d8576b\"], [0.6666666666666666, \"#ed7953\"], [0.7777777777777778, \"#fb9f3a\"], [0.8888888888888888, \"#fdca26\"], [1.0, \"#f0f921\"]], \"sequentialminus\": [[0.0, \"#0d0887\"], [0.1111111111111111, \"#46039f\"], [0.2222222222222222, \"#7201a8\"], [0.3333333333333333, \"#9c179e\"], [0.4444444444444444, \"#bd3786\"], [0.5555555555555556, \"#d8576b\"], [0.6666666666666666, \"#ed7953\"], [0.7777777777777778, \"#fb9f3a\"], [0.8888888888888888, \"#fdca26\"], [1.0, \"#f0f921\"]]}, \"colorway\": [\"#636efa\", \"#EF553B\", \"#00cc96\", \"#ab63fa\", \"#FFA15A\", \"#19d3f3\", \"#FF6692\", \"#B6E880\", \"#FF97FF\", \"#FECB52\"], \"font\": {\"color\": \"#2a3f5f\"}, \"geo\": {\"bgcolor\": \"white\", \"lakecolor\": \"white\", \"landcolor\": \"#E5ECF6\", \"showlakes\": true, \"showland\": true, \"subunitcolor\": \"white\"}, \"hoverlabel\": {\"align\": \"left\"}, \"hovermode\": \"closest\", \"mapbox\": {\"style\": \"light\"}, \"paper_bgcolor\": \"white\", \"plot_bgcolor\": \"#E5ECF6\", \"polar\": {\"angularaxis\": {\"gridcolor\": \"white\", \"linecolor\": \"white\", \"ticks\": \"\"}, \"bgcolor\": \"#E5ECF6\", \"radialaxis\": {\"gridcolor\": \"white\", \"linecolor\": \"white\", \"ticks\": \"\"}}, \"scene\": {\"xaxis\": {\"backgroundcolor\": \"#E5ECF6\", \"gridcolor\": \"white\", \"gridwidth\": 2, \"linecolor\": \"white\", \"showbackground\": true, \"ticks\": \"\", \"zerolinecolor\": \"white\"}, \"yaxis\": {\"backgroundcolor\": \"#E5ECF6\", \"gridcolor\": \"white\", \"gridwidth\": 2, \"linecolor\": \"white\", \"showbackground\": true, \"ticks\": \"\", \"zerolinecolor\": \"white\"}, \"zaxis\": {\"backgroundcolor\": \"#E5ECF6\", \"gridcolor\": \"white\", \"gridwidth\": 2, \"linecolor\": \"white\", \"showbackground\": true, \"ticks\": \"\", \"zerolinecolor\": \"white\"}}, \"shapedefaults\": {\"line\": {\"color\": \"#2a3f5f\"}}, \"ternary\": {\"aaxis\": {\"gridcolor\": \"white\", \"linecolor\": \"white\", \"ticks\": \"\"}, \"baxis\": {\"gridcolor\": \"white\", \"linecolor\": \"white\", \"ticks\": \"\"}, \"bgcolor\": \"#E5ECF6\", \"caxis\": {\"gridcolor\": \"white\", \"linecolor\": \"white\", \"ticks\": \"\"}}, \"title\": {\"x\": 0.05}, \"xaxis\": {\"automargin\": true, \"gridcolor\": \"white\", \"linecolor\": \"white\", \"ticks\": \"\", \"title\": {\"standoff\": 15}, \"zerolinecolor\": \"white\", \"zerolinewidth\": 2}, \"yaxis\": {\"automargin\": true, \"gridcolor\": \"white\", \"linecolor\": \"white\", \"ticks\": \"\", \"title\": {\"standoff\": 15}, \"zerolinecolor\": \"white\", \"zerolinewidth\": 2}}}, \"xaxis\": {\"anchor\": \"y\", \"domain\": [0.0, 1.0], \"title\": {\"text\": \"x\"}}, \"yaxis\": {\"anchor\": \"x\", \"domain\": [0.0, 1.0], \"title\": {\"text\": \"y\"}}},\n",
       "                        {\"responsive\": true}\n",
       "                    ).then(function(){\n",
       "                            \n",
       "var gd = document.getElementById('26def755-df2a-4f51-80fa-40cf320f64c6');\n",
       "var x = new MutationObserver(function (mutations, observer) {{\n",
       "        var display = window.getComputedStyle(gd).display;\n",
       "        if (!display || display === 'none') {{\n",
       "            console.log([gd, 'removed!']);\n",
       "            Plotly.purge(gd);\n",
       "            observer.disconnect();\n",
       "        }}\n",
       "}});\n",
       "\n",
       "// Listen for the removal of the full notebook cells\n",
       "var notebookContainer = gd.closest('#notebook-container');\n",
       "if (notebookContainer) {{\n",
       "    x.observe(notebookContainer, {childList: true});\n",
       "}}\n",
       "\n",
       "// Listen for the clearing of the current output cell\n",
       "var outputEl = gd.closest('.output');\n",
       "if (outputEl) {{\n",
       "    x.observe(outputEl, {childList: true});\n",
       "}}\n",
       "\n",
       "                        })\n",
       "                };\n",
       "                });\n",
       "            </script>\n",
       "        </div>"
      ]
     },
     "metadata": {},
     "output_type": "display_data"
    }
   ],
   "source": [
    "fig = px.bar(data,country_n,country_count)\n",
    "fig.show()"
   ]
  },
  {
   "cell_type": "markdown",
   "metadata": {},
   "source": [
    "### Infer\n",
    "- We can clearly see countries like UK, USA, Canada, Netherlands, Germany and Australia have the highest number of people who claim to have a mental disorder\n",
    "- The US far outweighs any other country"
   ]
  },
  {
   "cell_type": "markdown",
   "metadata": {},
   "source": [
    "## No of employees in companies of people who have a disorder"
   ]
  },
  {
   "cell_type": "code",
   "execution_count": 44,
   "metadata": {
    "ExecuteTime": {
     "end_time": "2020-02-27T16:45:10.634103Z",
     "start_time": "2020-02-27T16:45:10.628324Z"
    },
    "scrolled": true
   },
   "outputs": [
    {
     "data": {
      "text/plain": [
       "0        26-100\n",
       "1          6-25\n",
       "2          6-25\n",
       "3             0\n",
       "4          6-25\n",
       "         ...   \n",
       "1428          0\n",
       "1429          0\n",
       "1430    100-500\n",
       "1431    100-500\n",
       "1432    100-500\n",
       "Name: How many employees does your company or organization have?, Length: 1433, dtype: object"
      ]
     },
     "execution_count": 44,
     "metadata": {},
     "output_type": "execute_result"
    }
   ],
   "source": [
    "data['How many employees does your company or organization have?']"
   ]
  },
  {
   "cell_type": "code",
   "execution_count": 45,
   "metadata": {
    "ExecuteTime": {
     "end_time": "2020-02-27T16:45:10.648263Z",
     "start_time": "2020-02-27T16:45:10.635258Z"
    }
   },
   "outputs": [],
   "source": [
    "data_dis = data[data['Do you currently have a mental health disorder?'] != 1][[\n",
    "    'How many employees does your company or organization have?',\n",
    "    'Do you currently have a mental health disorder?'\n",
    "]]"
   ]
  },
  {
   "cell_type": "code",
   "execution_count": 46,
   "metadata": {
    "ExecuteTime": {
     "end_time": "2020-02-27T16:45:10.665472Z",
     "start_time": "2020-02-27T16:45:10.649707Z"
    }
   },
   "outputs": [
    {
     "data": {
      "text/html": [
       "<div>\n",
       "<style scoped>\n",
       "    .dataframe tbody tr th:only-of-type {\n",
       "        vertical-align: middle;\n",
       "    }\n",
       "\n",
       "    .dataframe tbody tr th {\n",
       "        vertical-align: top;\n",
       "    }\n",
       "\n",
       "    .dataframe thead th {\n",
       "        text-align: right;\n",
       "    }\n",
       "</style>\n",
       "<table border=\"1\" class=\"dataframe\">\n",
       "  <thead>\n",
       "    <tr style=\"text-align: right;\">\n",
       "      <th></th>\n",
       "      <th>How many employees does your company or organization have?</th>\n",
       "      <th>Do you currently have a mental health disorder?</th>\n",
       "    </tr>\n",
       "  </thead>\n",
       "  <tbody>\n",
       "    <tr>\n",
       "      <th>0</th>\n",
       "      <td>26-100</td>\n",
       "      <td>No</td>\n",
       "    </tr>\n",
       "    <tr>\n",
       "      <th>1</th>\n",
       "      <td>6-25</td>\n",
       "      <td>Yes</td>\n",
       "    </tr>\n",
       "  </tbody>\n",
       "</table>\n",
       "</div>"
      ],
      "text/plain": [
       "  How many employees does your company or organization have?  \\\n",
       "0                                             26-100           \n",
       "1                                               6-25           \n",
       "\n",
       "  Do you currently have a mental health disorder?  \n",
       "0                                              No  \n",
       "1                                             Yes  "
      ]
     },
     "execution_count": 46,
     "metadata": {},
     "output_type": "execute_result"
    }
   ],
   "source": [
    "data_dis.head(2)"
   ]
  },
  {
   "cell_type": "code",
   "execution_count": 47,
   "metadata": {
    "ExecuteTime": {
     "end_time": "2020-02-27T16:45:10.681435Z",
     "start_time": "2020-02-27T16:45:10.667145Z"
    }
   },
   "outputs": [],
   "source": [
    "new_dis = data_dis.groupby(\n",
    "    by='How many employees does your company or organization have?').count(\n",
    "    ).reset_index()"
   ]
  },
  {
   "cell_type": "code",
   "execution_count": 48,
   "metadata": {
    "ExecuteTime": {
     "end_time": "2020-02-27T16:45:10.698607Z",
     "start_time": "2020-02-27T16:45:10.682680Z"
    }
   },
   "outputs": [
    {
     "data": {
      "text/html": [
       "<div>\n",
       "<style scoped>\n",
       "    .dataframe tbody tr th:only-of-type {\n",
       "        vertical-align: middle;\n",
       "    }\n",
       "\n",
       "    .dataframe tbody tr th {\n",
       "        vertical-align: top;\n",
       "    }\n",
       "\n",
       "    .dataframe thead th {\n",
       "        text-align: right;\n",
       "    }\n",
       "</style>\n",
       "<table border=\"1\" class=\"dataframe\">\n",
       "  <thead>\n",
       "    <tr style=\"text-align: right;\">\n",
       "      <th></th>\n",
       "      <th>How many employees does your company or organization have?</th>\n",
       "      <th>Do you currently have a mental health disorder?</th>\n",
       "    </tr>\n",
       "  </thead>\n",
       "  <tbody>\n",
       "    <tr>\n",
       "      <th>0</th>\n",
       "      <td>0</td>\n",
       "      <td>287</td>\n",
       "    </tr>\n",
       "    <tr>\n",
       "      <th>1</th>\n",
       "      <td>1-5</td>\n",
       "      <td>60</td>\n",
       "    </tr>\n",
       "  </tbody>\n",
       "</table>\n",
       "</div>"
      ],
      "text/plain": [
       "  How many employees does your company or organization have?  \\\n",
       "0                                                  0           \n",
       "1                                                1-5           \n",
       "\n",
       "   Do you currently have a mental health disorder?  \n",
       "0                                              287  \n",
       "1                                               60  "
      ]
     },
     "execution_count": 48,
     "metadata": {},
     "output_type": "execute_result"
    }
   ],
   "source": [
    "new_dis.head(2)"
   ]
  },
  {
   "cell_type": "code",
   "execution_count": 50,
   "metadata": {
    "ExecuteTime": {
     "end_time": "2020-02-27T16:46:40.505662Z",
     "start_time": "2020-02-27T16:46:40.346065Z"
    }
   },
   "outputs": [
    {
     "data": {
      "application/vnd.plotly.v1+json": {
       "config": {
        "plotlyServerURL": "https://plot.ly"
       },
       "data": [
        {
         "domain": {
          "x": [
           0,
           1
          ],
          "y": [
           0,
           1
          ]
         },
         "hoverlabel": {
          "namelength": 0
         },
         "hovertemplate": "label=%{label}<br>value=%{value}",
         "labels": [
          0,
          "1-5",
          "100-500",
          "26-100",
          "500-1000",
          "6-25",
          "More than 1000"
         ],
         "legendgroup": "",
         "name": "",
         "showlegend": true,
         "type": "pie",
         "values": [
          287,
          60,
          248,
          292,
          80,
          210,
          256
         ]
        }
       ],
       "layout": {
        "legend": {
         "tracegroupgap": 0
        },
        "margin": {
         "t": 60
        },
        "template": {
         "data": {
          "bar": [
           {
            "error_x": {
             "color": "#2a3f5f"
            },
            "error_y": {
             "color": "#2a3f5f"
            },
            "marker": {
             "line": {
              "color": "#E5ECF6",
              "width": 0.5
             }
            },
            "type": "bar"
           }
          ],
          "barpolar": [
           {
            "marker": {
             "line": {
              "color": "#E5ECF6",
              "width": 0.5
             }
            },
            "type": "barpolar"
           }
          ],
          "carpet": [
           {
            "aaxis": {
             "endlinecolor": "#2a3f5f",
             "gridcolor": "white",
             "linecolor": "white",
             "minorgridcolor": "white",
             "startlinecolor": "#2a3f5f"
            },
            "baxis": {
             "endlinecolor": "#2a3f5f",
             "gridcolor": "white",
             "linecolor": "white",
             "minorgridcolor": "white",
             "startlinecolor": "#2a3f5f"
            },
            "type": "carpet"
           }
          ],
          "choropleth": [
           {
            "colorbar": {
             "outlinewidth": 0,
             "ticks": ""
            },
            "type": "choropleth"
           }
          ],
          "contour": [
           {
            "colorbar": {
             "outlinewidth": 0,
             "ticks": ""
            },
            "colorscale": [
             [
              0,
              "#0d0887"
             ],
             [
              0.1111111111111111,
              "#46039f"
             ],
             [
              0.2222222222222222,
              "#7201a8"
             ],
             [
              0.3333333333333333,
              "#9c179e"
             ],
             [
              0.4444444444444444,
              "#bd3786"
             ],
             [
              0.5555555555555556,
              "#d8576b"
             ],
             [
              0.6666666666666666,
              "#ed7953"
             ],
             [
              0.7777777777777778,
              "#fb9f3a"
             ],
             [
              0.8888888888888888,
              "#fdca26"
             ],
             [
              1,
              "#f0f921"
             ]
            ],
            "type": "contour"
           }
          ],
          "contourcarpet": [
           {
            "colorbar": {
             "outlinewidth": 0,
             "ticks": ""
            },
            "type": "contourcarpet"
           }
          ],
          "heatmap": [
           {
            "colorbar": {
             "outlinewidth": 0,
             "ticks": ""
            },
            "colorscale": [
             [
              0,
              "#0d0887"
             ],
             [
              0.1111111111111111,
              "#46039f"
             ],
             [
              0.2222222222222222,
              "#7201a8"
             ],
             [
              0.3333333333333333,
              "#9c179e"
             ],
             [
              0.4444444444444444,
              "#bd3786"
             ],
             [
              0.5555555555555556,
              "#d8576b"
             ],
             [
              0.6666666666666666,
              "#ed7953"
             ],
             [
              0.7777777777777778,
              "#fb9f3a"
             ],
             [
              0.8888888888888888,
              "#fdca26"
             ],
             [
              1,
              "#f0f921"
             ]
            ],
            "type": "heatmap"
           }
          ],
          "heatmapgl": [
           {
            "colorbar": {
             "outlinewidth": 0,
             "ticks": ""
            },
            "colorscale": [
             [
              0,
              "#0d0887"
             ],
             [
              0.1111111111111111,
              "#46039f"
             ],
             [
              0.2222222222222222,
              "#7201a8"
             ],
             [
              0.3333333333333333,
              "#9c179e"
             ],
             [
              0.4444444444444444,
              "#bd3786"
             ],
             [
              0.5555555555555556,
              "#d8576b"
             ],
             [
              0.6666666666666666,
              "#ed7953"
             ],
             [
              0.7777777777777778,
              "#fb9f3a"
             ],
             [
              0.8888888888888888,
              "#fdca26"
             ],
             [
              1,
              "#f0f921"
             ]
            ],
            "type": "heatmapgl"
           }
          ],
          "histogram": [
           {
            "marker": {
             "colorbar": {
              "outlinewidth": 0,
              "ticks": ""
             }
            },
            "type": "histogram"
           }
          ],
          "histogram2d": [
           {
            "colorbar": {
             "outlinewidth": 0,
             "ticks": ""
            },
            "colorscale": [
             [
              0,
              "#0d0887"
             ],
             [
              0.1111111111111111,
              "#46039f"
             ],
             [
              0.2222222222222222,
              "#7201a8"
             ],
             [
              0.3333333333333333,
              "#9c179e"
             ],
             [
              0.4444444444444444,
              "#bd3786"
             ],
             [
              0.5555555555555556,
              "#d8576b"
             ],
             [
              0.6666666666666666,
              "#ed7953"
             ],
             [
              0.7777777777777778,
              "#fb9f3a"
             ],
             [
              0.8888888888888888,
              "#fdca26"
             ],
             [
              1,
              "#f0f921"
             ]
            ],
            "type": "histogram2d"
           }
          ],
          "histogram2dcontour": [
           {
            "colorbar": {
             "outlinewidth": 0,
             "ticks": ""
            },
            "colorscale": [
             [
              0,
              "#0d0887"
             ],
             [
              0.1111111111111111,
              "#46039f"
             ],
             [
              0.2222222222222222,
              "#7201a8"
             ],
             [
              0.3333333333333333,
              "#9c179e"
             ],
             [
              0.4444444444444444,
              "#bd3786"
             ],
             [
              0.5555555555555556,
              "#d8576b"
             ],
             [
              0.6666666666666666,
              "#ed7953"
             ],
             [
              0.7777777777777778,
              "#fb9f3a"
             ],
             [
              0.8888888888888888,
              "#fdca26"
             ],
             [
              1,
              "#f0f921"
             ]
            ],
            "type": "histogram2dcontour"
           }
          ],
          "mesh3d": [
           {
            "colorbar": {
             "outlinewidth": 0,
             "ticks": ""
            },
            "type": "mesh3d"
           }
          ],
          "parcoords": [
           {
            "line": {
             "colorbar": {
              "outlinewidth": 0,
              "ticks": ""
             }
            },
            "type": "parcoords"
           }
          ],
          "pie": [
           {
            "automargin": true,
            "type": "pie"
           }
          ],
          "scatter": [
           {
            "marker": {
             "colorbar": {
              "outlinewidth": 0,
              "ticks": ""
             }
            },
            "type": "scatter"
           }
          ],
          "scatter3d": [
           {
            "line": {
             "colorbar": {
              "outlinewidth": 0,
              "ticks": ""
             }
            },
            "marker": {
             "colorbar": {
              "outlinewidth": 0,
              "ticks": ""
             }
            },
            "type": "scatter3d"
           }
          ],
          "scattercarpet": [
           {
            "marker": {
             "colorbar": {
              "outlinewidth": 0,
              "ticks": ""
             }
            },
            "type": "scattercarpet"
           }
          ],
          "scattergeo": [
           {
            "marker": {
             "colorbar": {
              "outlinewidth": 0,
              "ticks": ""
             }
            },
            "type": "scattergeo"
           }
          ],
          "scattergl": [
           {
            "marker": {
             "colorbar": {
              "outlinewidth": 0,
              "ticks": ""
             }
            },
            "type": "scattergl"
           }
          ],
          "scattermapbox": [
           {
            "marker": {
             "colorbar": {
              "outlinewidth": 0,
              "ticks": ""
             }
            },
            "type": "scattermapbox"
           }
          ],
          "scatterpolar": [
           {
            "marker": {
             "colorbar": {
              "outlinewidth": 0,
              "ticks": ""
             }
            },
            "type": "scatterpolar"
           }
          ],
          "scatterpolargl": [
           {
            "marker": {
             "colorbar": {
              "outlinewidth": 0,
              "ticks": ""
             }
            },
            "type": "scatterpolargl"
           }
          ],
          "scatterternary": [
           {
            "marker": {
             "colorbar": {
              "outlinewidth": 0,
              "ticks": ""
             }
            },
            "type": "scatterternary"
           }
          ],
          "surface": [
           {
            "colorbar": {
             "outlinewidth": 0,
             "ticks": ""
            },
            "colorscale": [
             [
              0,
              "#0d0887"
             ],
             [
              0.1111111111111111,
              "#46039f"
             ],
             [
              0.2222222222222222,
              "#7201a8"
             ],
             [
              0.3333333333333333,
              "#9c179e"
             ],
             [
              0.4444444444444444,
              "#bd3786"
             ],
             [
              0.5555555555555556,
              "#d8576b"
             ],
             [
              0.6666666666666666,
              "#ed7953"
             ],
             [
              0.7777777777777778,
              "#fb9f3a"
             ],
             [
              0.8888888888888888,
              "#fdca26"
             ],
             [
              1,
              "#f0f921"
             ]
            ],
            "type": "surface"
           }
          ],
          "table": [
           {
            "cells": {
             "fill": {
              "color": "#EBF0F8"
             },
             "line": {
              "color": "white"
             }
            },
            "header": {
             "fill": {
              "color": "#C8D4E3"
             },
             "line": {
              "color": "white"
             }
            },
            "type": "table"
           }
          ]
         },
         "layout": {
          "annotationdefaults": {
           "arrowcolor": "#2a3f5f",
           "arrowhead": 0,
           "arrowwidth": 1
          },
          "coloraxis": {
           "colorbar": {
            "outlinewidth": 0,
            "ticks": ""
           }
          },
          "colorscale": {
           "diverging": [
            [
             0,
             "#8e0152"
            ],
            [
             0.1,
             "#c51b7d"
            ],
            [
             0.2,
             "#de77ae"
            ],
            [
             0.3,
             "#f1b6da"
            ],
            [
             0.4,
             "#fde0ef"
            ],
            [
             0.5,
             "#f7f7f7"
            ],
            [
             0.6,
             "#e6f5d0"
            ],
            [
             0.7,
             "#b8e186"
            ],
            [
             0.8,
             "#7fbc41"
            ],
            [
             0.9,
             "#4d9221"
            ],
            [
             1,
             "#276419"
            ]
           ],
           "sequential": [
            [
             0,
             "#0d0887"
            ],
            [
             0.1111111111111111,
             "#46039f"
            ],
            [
             0.2222222222222222,
             "#7201a8"
            ],
            [
             0.3333333333333333,
             "#9c179e"
            ],
            [
             0.4444444444444444,
             "#bd3786"
            ],
            [
             0.5555555555555556,
             "#d8576b"
            ],
            [
             0.6666666666666666,
             "#ed7953"
            ],
            [
             0.7777777777777778,
             "#fb9f3a"
            ],
            [
             0.8888888888888888,
             "#fdca26"
            ],
            [
             1,
             "#f0f921"
            ]
           ],
           "sequentialminus": [
            [
             0,
             "#0d0887"
            ],
            [
             0.1111111111111111,
             "#46039f"
            ],
            [
             0.2222222222222222,
             "#7201a8"
            ],
            [
             0.3333333333333333,
             "#9c179e"
            ],
            [
             0.4444444444444444,
             "#bd3786"
            ],
            [
             0.5555555555555556,
             "#d8576b"
            ],
            [
             0.6666666666666666,
             "#ed7953"
            ],
            [
             0.7777777777777778,
             "#fb9f3a"
            ],
            [
             0.8888888888888888,
             "#fdca26"
            ],
            [
             1,
             "#f0f921"
            ]
           ]
          },
          "colorway": [
           "#636efa",
           "#EF553B",
           "#00cc96",
           "#ab63fa",
           "#FFA15A",
           "#19d3f3",
           "#FF6692",
           "#B6E880",
           "#FF97FF",
           "#FECB52"
          ],
          "font": {
           "color": "#2a3f5f"
          },
          "geo": {
           "bgcolor": "white",
           "lakecolor": "white",
           "landcolor": "#E5ECF6",
           "showlakes": true,
           "showland": true,
           "subunitcolor": "white"
          },
          "hoverlabel": {
           "align": "left"
          },
          "hovermode": "closest",
          "mapbox": {
           "style": "light"
          },
          "paper_bgcolor": "white",
          "plot_bgcolor": "#E5ECF6",
          "polar": {
           "angularaxis": {
            "gridcolor": "white",
            "linecolor": "white",
            "ticks": ""
           },
           "bgcolor": "#E5ECF6",
           "radialaxis": {
            "gridcolor": "white",
            "linecolor": "white",
            "ticks": ""
           }
          },
          "scene": {
           "xaxis": {
            "backgroundcolor": "#E5ECF6",
            "gridcolor": "white",
            "gridwidth": 2,
            "linecolor": "white",
            "showbackground": true,
            "ticks": "",
            "zerolinecolor": "white"
           },
           "yaxis": {
            "backgroundcolor": "#E5ECF6",
            "gridcolor": "white",
            "gridwidth": 2,
            "linecolor": "white",
            "showbackground": true,
            "ticks": "",
            "zerolinecolor": "white"
           },
           "zaxis": {
            "backgroundcolor": "#E5ECF6",
            "gridcolor": "white",
            "gridwidth": 2,
            "linecolor": "white",
            "showbackground": true,
            "ticks": "",
            "zerolinecolor": "white"
           }
          },
          "shapedefaults": {
           "line": {
            "color": "#2a3f5f"
           }
          },
          "ternary": {
           "aaxis": {
            "gridcolor": "white",
            "linecolor": "white",
            "ticks": ""
           },
           "baxis": {
            "gridcolor": "white",
            "linecolor": "white",
            "ticks": ""
           },
           "bgcolor": "#E5ECF6",
           "caxis": {
            "gridcolor": "white",
            "linecolor": "white",
            "ticks": ""
           }
          },
          "title": {
           "x": 0.05
          },
          "xaxis": {
           "automargin": true,
           "gridcolor": "white",
           "linecolor": "white",
           "ticks": "",
           "title": {
            "standoff": 15
           },
           "zerolinecolor": "white",
           "zerolinewidth": 2
          },
          "yaxis": {
           "automargin": true,
           "gridcolor": "white",
           "linecolor": "white",
           "ticks": "",
           "title": {
            "standoff": 15
           },
           "zerolinecolor": "white",
           "zerolinewidth": 2
          }
         }
        }
       }
      },
      "text/html": [
       "<div>\n",
       "        \n",
       "        \n",
       "            <div id=\"8f7a5006-d823-4bcd-9a85-40e0ca8a79fe\" class=\"plotly-graph-div\" style=\"height:525px; width:100%;\"></div>\n",
       "            <script type=\"text/javascript\">\n",
       "                require([\"plotly\"], function(Plotly) {\n",
       "                    window.PLOTLYENV=window.PLOTLYENV || {};\n",
       "                    \n",
       "                if (document.getElementById(\"8f7a5006-d823-4bcd-9a85-40e0ca8a79fe\")) {\n",
       "                    Plotly.newPlot(\n",
       "                        '8f7a5006-d823-4bcd-9a85-40e0ca8a79fe',\n",
       "                        [{\"domain\": {\"x\": [0.0, 1.0], \"y\": [0.0, 1.0]}, \"hoverlabel\": {\"namelength\": 0}, \"hovertemplate\": \"label=%{label}<br>value=%{value}\", \"labels\": [0, \"1-5\", \"100-500\", \"26-100\", \"500-1000\", \"6-25\", \"More than 1000\"], \"legendgroup\": \"\", \"name\": \"\", \"showlegend\": true, \"type\": \"pie\", \"values\": [287, 60, 248, 292, 80, 210, 256]}],\n",
       "                        {\"legend\": {\"tracegroupgap\": 0}, \"margin\": {\"t\": 60}, \"template\": {\"data\": {\"bar\": [{\"error_x\": {\"color\": \"#2a3f5f\"}, \"error_y\": {\"color\": \"#2a3f5f\"}, \"marker\": {\"line\": {\"color\": \"#E5ECF6\", \"width\": 0.5}}, \"type\": \"bar\"}], \"barpolar\": [{\"marker\": {\"line\": {\"color\": \"#E5ECF6\", \"width\": 0.5}}, \"type\": \"barpolar\"}], \"carpet\": [{\"aaxis\": {\"endlinecolor\": \"#2a3f5f\", \"gridcolor\": \"white\", \"linecolor\": \"white\", \"minorgridcolor\": \"white\", \"startlinecolor\": \"#2a3f5f\"}, \"baxis\": {\"endlinecolor\": \"#2a3f5f\", \"gridcolor\": \"white\", \"linecolor\": \"white\", \"minorgridcolor\": \"white\", \"startlinecolor\": \"#2a3f5f\"}, \"type\": \"carpet\"}], \"choropleth\": [{\"colorbar\": {\"outlinewidth\": 0, \"ticks\": \"\"}, \"type\": \"choropleth\"}], \"contour\": [{\"colorbar\": {\"outlinewidth\": 0, \"ticks\": \"\"}, \"colorscale\": [[0.0, \"#0d0887\"], [0.1111111111111111, \"#46039f\"], [0.2222222222222222, \"#7201a8\"], [0.3333333333333333, \"#9c179e\"], [0.4444444444444444, \"#bd3786\"], [0.5555555555555556, \"#d8576b\"], [0.6666666666666666, \"#ed7953\"], [0.7777777777777778, \"#fb9f3a\"], [0.8888888888888888, \"#fdca26\"], [1.0, \"#f0f921\"]], \"type\": \"contour\"}], \"contourcarpet\": [{\"colorbar\": {\"outlinewidth\": 0, \"ticks\": \"\"}, \"type\": \"contourcarpet\"}], \"heatmap\": [{\"colorbar\": {\"outlinewidth\": 0, \"ticks\": \"\"}, \"colorscale\": [[0.0, \"#0d0887\"], [0.1111111111111111, \"#46039f\"], [0.2222222222222222, \"#7201a8\"], [0.3333333333333333, \"#9c179e\"], [0.4444444444444444, \"#bd3786\"], [0.5555555555555556, \"#d8576b\"], [0.6666666666666666, \"#ed7953\"], [0.7777777777777778, \"#fb9f3a\"], [0.8888888888888888, \"#fdca26\"], [1.0, \"#f0f921\"]], \"type\": \"heatmap\"}], \"heatmapgl\": [{\"colorbar\": {\"outlinewidth\": 0, \"ticks\": \"\"}, \"colorscale\": [[0.0, \"#0d0887\"], [0.1111111111111111, \"#46039f\"], [0.2222222222222222, \"#7201a8\"], [0.3333333333333333, \"#9c179e\"], [0.4444444444444444, \"#bd3786\"], [0.5555555555555556, \"#d8576b\"], [0.6666666666666666, \"#ed7953\"], [0.7777777777777778, \"#fb9f3a\"], [0.8888888888888888, \"#fdca26\"], [1.0, \"#f0f921\"]], \"type\": \"heatmapgl\"}], \"histogram\": [{\"marker\": {\"colorbar\": {\"outlinewidth\": 0, \"ticks\": \"\"}}, \"type\": \"histogram\"}], \"histogram2d\": [{\"colorbar\": {\"outlinewidth\": 0, \"ticks\": \"\"}, \"colorscale\": [[0.0, \"#0d0887\"], [0.1111111111111111, \"#46039f\"], [0.2222222222222222, \"#7201a8\"], [0.3333333333333333, \"#9c179e\"], [0.4444444444444444, \"#bd3786\"], [0.5555555555555556, \"#d8576b\"], [0.6666666666666666, \"#ed7953\"], [0.7777777777777778, \"#fb9f3a\"], [0.8888888888888888, \"#fdca26\"], [1.0, \"#f0f921\"]], \"type\": \"histogram2d\"}], \"histogram2dcontour\": [{\"colorbar\": {\"outlinewidth\": 0, \"ticks\": \"\"}, \"colorscale\": [[0.0, \"#0d0887\"], [0.1111111111111111, \"#46039f\"], [0.2222222222222222, \"#7201a8\"], [0.3333333333333333, \"#9c179e\"], [0.4444444444444444, \"#bd3786\"], [0.5555555555555556, \"#d8576b\"], [0.6666666666666666, \"#ed7953\"], [0.7777777777777778, \"#fb9f3a\"], [0.8888888888888888, \"#fdca26\"], [1.0, \"#f0f921\"]], \"type\": \"histogram2dcontour\"}], \"mesh3d\": [{\"colorbar\": {\"outlinewidth\": 0, \"ticks\": \"\"}, \"type\": \"mesh3d\"}], \"parcoords\": [{\"line\": {\"colorbar\": {\"outlinewidth\": 0, \"ticks\": \"\"}}, \"type\": \"parcoords\"}], \"pie\": [{\"automargin\": true, \"type\": \"pie\"}], \"scatter\": [{\"marker\": {\"colorbar\": {\"outlinewidth\": 0, \"ticks\": \"\"}}, \"type\": \"scatter\"}], \"scatter3d\": [{\"line\": {\"colorbar\": {\"outlinewidth\": 0, \"ticks\": \"\"}}, \"marker\": {\"colorbar\": {\"outlinewidth\": 0, \"ticks\": \"\"}}, \"type\": \"scatter3d\"}], \"scattercarpet\": [{\"marker\": {\"colorbar\": {\"outlinewidth\": 0, \"ticks\": \"\"}}, \"type\": \"scattercarpet\"}], \"scattergeo\": [{\"marker\": {\"colorbar\": {\"outlinewidth\": 0, \"ticks\": \"\"}}, \"type\": \"scattergeo\"}], \"scattergl\": [{\"marker\": {\"colorbar\": {\"outlinewidth\": 0, \"ticks\": \"\"}}, \"type\": \"scattergl\"}], \"scattermapbox\": [{\"marker\": {\"colorbar\": {\"outlinewidth\": 0, \"ticks\": \"\"}}, \"type\": \"scattermapbox\"}], \"scatterpolar\": [{\"marker\": {\"colorbar\": {\"outlinewidth\": 0, \"ticks\": \"\"}}, \"type\": \"scatterpolar\"}], \"scatterpolargl\": [{\"marker\": {\"colorbar\": {\"outlinewidth\": 0, \"ticks\": \"\"}}, \"type\": \"scatterpolargl\"}], \"scatterternary\": [{\"marker\": {\"colorbar\": {\"outlinewidth\": 0, \"ticks\": \"\"}}, \"type\": \"scatterternary\"}], \"surface\": [{\"colorbar\": {\"outlinewidth\": 0, \"ticks\": \"\"}, \"colorscale\": [[0.0, \"#0d0887\"], [0.1111111111111111, \"#46039f\"], [0.2222222222222222, \"#7201a8\"], [0.3333333333333333, \"#9c179e\"], [0.4444444444444444, \"#bd3786\"], [0.5555555555555556, \"#d8576b\"], [0.6666666666666666, \"#ed7953\"], [0.7777777777777778, \"#fb9f3a\"], [0.8888888888888888, \"#fdca26\"], [1.0, \"#f0f921\"]], \"type\": \"surface\"}], \"table\": [{\"cells\": {\"fill\": {\"color\": \"#EBF0F8\"}, \"line\": {\"color\": \"white\"}}, \"header\": {\"fill\": {\"color\": \"#C8D4E3\"}, \"line\": {\"color\": \"white\"}}, \"type\": \"table\"}]}, \"layout\": {\"annotationdefaults\": {\"arrowcolor\": \"#2a3f5f\", \"arrowhead\": 0, \"arrowwidth\": 1}, \"coloraxis\": {\"colorbar\": {\"outlinewidth\": 0, \"ticks\": \"\"}}, \"colorscale\": {\"diverging\": [[0, \"#8e0152\"], [0.1, \"#c51b7d\"], [0.2, \"#de77ae\"], [0.3, \"#f1b6da\"], [0.4, \"#fde0ef\"], [0.5, \"#f7f7f7\"], [0.6, \"#e6f5d0\"], [0.7, \"#b8e186\"], [0.8, \"#7fbc41\"], [0.9, \"#4d9221\"], [1, \"#276419\"]], \"sequential\": [[0.0, \"#0d0887\"], [0.1111111111111111, \"#46039f\"], [0.2222222222222222, \"#7201a8\"], [0.3333333333333333, \"#9c179e\"], [0.4444444444444444, \"#bd3786\"], [0.5555555555555556, \"#d8576b\"], [0.6666666666666666, \"#ed7953\"], [0.7777777777777778, \"#fb9f3a\"], [0.8888888888888888, \"#fdca26\"], [1.0, \"#f0f921\"]], \"sequentialminus\": [[0.0, \"#0d0887\"], [0.1111111111111111, \"#46039f\"], [0.2222222222222222, \"#7201a8\"], [0.3333333333333333, \"#9c179e\"], [0.4444444444444444, \"#bd3786\"], [0.5555555555555556, \"#d8576b\"], [0.6666666666666666, \"#ed7953\"], [0.7777777777777778, \"#fb9f3a\"], [0.8888888888888888, \"#fdca26\"], [1.0, \"#f0f921\"]]}, \"colorway\": [\"#636efa\", \"#EF553B\", \"#00cc96\", \"#ab63fa\", \"#FFA15A\", \"#19d3f3\", \"#FF6692\", \"#B6E880\", \"#FF97FF\", \"#FECB52\"], \"font\": {\"color\": \"#2a3f5f\"}, \"geo\": {\"bgcolor\": \"white\", \"lakecolor\": \"white\", \"landcolor\": \"#E5ECF6\", \"showlakes\": true, \"showland\": true, \"subunitcolor\": \"white\"}, \"hoverlabel\": {\"align\": \"left\"}, \"hovermode\": \"closest\", \"mapbox\": {\"style\": \"light\"}, \"paper_bgcolor\": \"white\", \"plot_bgcolor\": \"#E5ECF6\", \"polar\": {\"angularaxis\": {\"gridcolor\": \"white\", \"linecolor\": \"white\", \"ticks\": \"\"}, \"bgcolor\": \"#E5ECF6\", \"radialaxis\": {\"gridcolor\": \"white\", \"linecolor\": \"white\", \"ticks\": \"\"}}, \"scene\": {\"xaxis\": {\"backgroundcolor\": \"#E5ECF6\", \"gridcolor\": \"white\", \"gridwidth\": 2, \"linecolor\": \"white\", \"showbackground\": true, \"ticks\": \"\", \"zerolinecolor\": \"white\"}, \"yaxis\": {\"backgroundcolor\": \"#E5ECF6\", \"gridcolor\": \"white\", \"gridwidth\": 2, \"linecolor\": \"white\", \"showbackground\": true, \"ticks\": \"\", \"zerolinecolor\": \"white\"}, \"zaxis\": {\"backgroundcolor\": \"#E5ECF6\", \"gridcolor\": \"white\", \"gridwidth\": 2, \"linecolor\": \"white\", \"showbackground\": true, \"ticks\": \"\", \"zerolinecolor\": \"white\"}}, \"shapedefaults\": {\"line\": {\"color\": \"#2a3f5f\"}}, \"ternary\": {\"aaxis\": {\"gridcolor\": \"white\", \"linecolor\": \"white\", \"ticks\": \"\"}, \"baxis\": {\"gridcolor\": \"white\", \"linecolor\": \"white\", \"ticks\": \"\"}, \"bgcolor\": \"#E5ECF6\", \"caxis\": {\"gridcolor\": \"white\", \"linecolor\": \"white\", \"ticks\": \"\"}}, \"title\": {\"x\": 0.05}, \"xaxis\": {\"automargin\": true, \"gridcolor\": \"white\", \"linecolor\": \"white\", \"ticks\": \"\", \"title\": {\"standoff\": 15}, \"zerolinecolor\": \"white\", \"zerolinewidth\": 2}, \"yaxis\": {\"automargin\": true, \"gridcolor\": \"white\", \"linecolor\": \"white\", \"ticks\": \"\", \"title\": {\"standoff\": 15}, \"zerolinecolor\": \"white\", \"zerolinewidth\": 2}}}},\n",
       "                        {\"responsive\": true}\n",
       "                    ).then(function(){\n",
       "                            \n",
       "var gd = document.getElementById('8f7a5006-d823-4bcd-9a85-40e0ca8a79fe');\n",
       "var x = new MutationObserver(function (mutations, observer) {{\n",
       "        var display = window.getComputedStyle(gd).display;\n",
       "        if (!display || display === 'none') {{\n",
       "            console.log([gd, 'removed!']);\n",
       "            Plotly.purge(gd);\n",
       "            observer.disconnect();\n",
       "        }}\n",
       "}});\n",
       "\n",
       "// Listen for the removal of the full notebook cells\n",
       "var notebookContainer = gd.closest('#notebook-container');\n",
       "if (notebookContainer) {{\n",
       "    x.observe(notebookContainer, {childList: true});\n",
       "}}\n",
       "\n",
       "// Listen for the clearing of the current output cell\n",
       "var outputEl = gd.closest('.output');\n",
       "if (outputEl) {{\n",
       "    x.observe(outputEl, {childList: true});\n",
       "}}\n",
       "\n",
       "                        })\n",
       "                };\n",
       "                });\n",
       "            </script>\n",
       "        </div>"
      ]
     },
     "metadata": {},
     "output_type": "display_data"
    }
   ],
   "source": [
    "fig = px.pie(data, values=new_dis['Do you currently have a mental health disorder?'], names=new_dis[\n",
    "            'How many employees does your company or organization have?'])\n",
    "fig.show()\n"
   ]
  },
  {
   "cell_type": "markdown",
   "metadata": {},
   "source": [
    "### Infer\n",
    "- Very few people are present in the bracket of a mid sized company\n",
    "- A majority of people are present in the bracket of extremely large as well as very small companies\n",
    "- The most number of people are present in the bracket of very small companies"
   ]
  },
  {
   "cell_type": "markdown",
   "metadata": {},
   "source": [
    "## Disorder related to how open the person can be with friends and family"
   ]
  },
  {
   "cell_type": "code",
   "execution_count": 51,
   "metadata": {
    "ExecuteTime": {
     "end_time": "2020-02-27T16:46:49.326024Z",
     "start_time": "2020-02-27T16:46:49.323090Z"
    }
   },
   "outputs": [],
   "source": [
    "family_temp = data[['Do you currently have a mental health disorder?','How willing would you be to share with friends and family that you have a mental illness?']]"
   ]
  },
  {
   "cell_type": "code",
   "execution_count": 52,
   "metadata": {
    "ExecuteTime": {
     "end_time": "2020-02-27T16:46:49.342164Z",
     "start_time": "2020-02-27T16:46:49.327304Z"
    }
   },
   "outputs": [
    {
     "data": {
      "text/html": [
       "<div>\n",
       "<style scoped>\n",
       "    .dataframe tbody tr th:only-of-type {\n",
       "        vertical-align: middle;\n",
       "    }\n",
       "\n",
       "    .dataframe tbody tr th {\n",
       "        vertical-align: top;\n",
       "    }\n",
       "\n",
       "    .dataframe thead th {\n",
       "        text-align: right;\n",
       "    }\n",
       "</style>\n",
       "<table border=\"1\" class=\"dataframe\">\n",
       "  <thead>\n",
       "    <tr style=\"text-align: right;\">\n",
       "      <th></th>\n",
       "      <th>Do you currently have a mental health disorder?</th>\n",
       "      <th>How willing would you be to share with friends and family that you have a mental illness?</th>\n",
       "    </tr>\n",
       "  </thead>\n",
       "  <tbody>\n",
       "    <tr>\n",
       "      <th>0</th>\n",
       "      <td>No</td>\n",
       "      <td>Somewhat open</td>\n",
       "    </tr>\n",
       "    <tr>\n",
       "      <th>1</th>\n",
       "      <td>Yes</td>\n",
       "      <td>Somewhat open</td>\n",
       "    </tr>\n",
       "    <tr>\n",
       "      <th>2</th>\n",
       "      <td>No</td>\n",
       "      <td>Somewhat open</td>\n",
       "    </tr>\n",
       "    <tr>\n",
       "      <th>3</th>\n",
       "      <td>Yes</td>\n",
       "      <td>Neutral</td>\n",
       "    </tr>\n",
       "  </tbody>\n",
       "</table>\n",
       "</div>"
      ],
      "text/plain": [
       "  Do you currently have a mental health disorder?  \\\n",
       "0                                              No   \n",
       "1                                             Yes   \n",
       "2                                              No   \n",
       "3                                             Yes   \n",
       "\n",
       "  How willing would you be to share with friends and family that you have a mental illness?  \n",
       "0                                      Somewhat open                                         \n",
       "1                                      Somewhat open                                         \n",
       "2                                      Somewhat open                                         \n",
       "3                                            Neutral                                         "
      ]
     },
     "execution_count": 52,
     "metadata": {},
     "output_type": "execute_result"
    }
   ],
   "source": [
    "family_temp.head(4)"
   ]
  },
  {
   "cell_type": "code",
   "execution_count": 53,
   "metadata": {
    "ExecuteTime": {
     "end_time": "2020-02-27T16:46:49.352834Z",
     "start_time": "2020-02-27T16:46:49.343387Z"
    }
   },
   "outputs": [],
   "source": [
    "#1 - no, 2 - yes, 0 - maybe"
   ]
  },
  {
   "cell_type": "code",
   "execution_count": 54,
   "metadata": {
    "ExecuteTime": {
     "end_time": "2020-02-27T16:46:49.364105Z",
     "start_time": "2020-02-27T16:46:49.354137Z"
    }
   },
   "outputs": [],
   "source": [
    "family_temp = family_temp[family_temp['Do you currently have a mental health disorder?']!=1]"
   ]
  },
  {
   "cell_type": "code",
   "execution_count": 55,
   "metadata": {
    "ExecuteTime": {
     "end_time": "2020-02-27T16:46:49.375852Z",
     "start_time": "2020-02-27T16:46:49.365345Z"
    }
   },
   "outputs": [],
   "source": [
    "family_temp['How willing would you be to share with friends and family that you have a mental illness?'] = family_temp['How willing would you be to share with friends and family that you have a mental illness?'].astype('category').cat.codes"
   ]
  },
  {
   "cell_type": "markdown",
   "metadata": {},
   "source": [
    "- ['Neutral', 'Not applicable to me (I do not have a mental illness)','Not open at all', 'Somewhat not open', 'Somewhat open', 'Very open']\n",
    "- 4, 0 , 5, 2, 3, 1"
   ]
  },
  {
   "cell_type": "code",
   "execution_count": 41,
   "metadata": {
    "ExecuteTime": {
     "end_time": "2020-01-26T06:06:17.327960Z",
     "start_time": "2020-01-26T06:06:16.103315Z"
    }
   },
   "outputs": [
    {
     "data": {
      "text/plain": [
       "([<matplotlib.axis.XTick at 0x7f5a302d4550>,\n",
       "  <matplotlib.axis.XTick at 0x7f5a3025ee10>,\n",
       "  <matplotlib.axis.XTick at 0x7f5a60383410>],\n",
       " <a list of 3 Text xticklabel objects>)"
      ]
     },
     "execution_count": 41,
     "metadata": {},
     "output_type": "execute_result"
    },
    {
     "data": {
      "image/png": "[encoded data removed]",
      "text/plain": [
       "<Figure size 842.4x595.44 with 1 Axes>"
      ]
     },
     "metadata": {},
     "output_type": "display_data"
    }
   ],
   "source": [
    "sns.kdeplot(family_temp['Do you currently have a mental health disorder?'],family_temp['How willing would you be to share with friends and family that you have a mental illness?'])\n",
    "plt.xticks((0.0, 1.0, 2.0))\n",
    "# plt.xticks(rotation = 45)\n",
    "# sns.despine(offset=10, trim=True);"
   ]
  },
  {
   "cell_type": "markdown",
   "metadata": {},
   "source": [
    "### Infer\n",
    "- We can see that the people who are not particularly open with their families about their mental health have a higher bracket "
   ]
  },
  {
   "cell_type": "markdown",
   "metadata": {},
   "source": [
    "## Prediction"
   ]
  },
  {
   "cell_type": "code",
   "execution_count": 42,
   "metadata": {
    "ExecuteTime": {
     "end_time": "2020-01-26T06:11:08.923494Z",
     "start_time": "2020-01-26T06:11:08.918508Z"
    }
   },
   "outputs": [],
   "source": [
    "from sklearn.ensemble import RandomForestClassifier\n",
    "from sklearn.model_selection import train_test_split"
   ]
  },
  {
   "cell_type": "code",
   "execution_count": 43,
   "metadata": {
    "ExecuteTime": {
     "end_time": "2020-01-26T06:09:25.336170Z",
     "start_time": "2020-01-26T06:09:25.331183Z"
    },
    "scrolled": true
   },
   "outputs": [],
   "source": [
    "data2 = data.copy()"
   ]
  },
  {
   "cell_type": "code",
   "execution_count": 44,
   "metadata": {
    "ExecuteTime": {
     "end_time": "2020-01-26T06:09:32.962042Z",
     "start_time": "2020-01-26T06:09:32.889724Z"
    }
   },
   "outputs": [],
   "source": [
    "for a in cat_columns:\n",
    "    data2[a] = data2[a].astype('category').cat.codes"
   ]
  },
  {
   "cell_type": "code",
   "execution_count": 45,
   "metadata": {
    "ExecuteTime": {
     "end_time": "2020-01-26T06:10:21.072908Z",
     "start_time": "2020-01-26T06:10:21.063932Z"
    }
   },
   "outputs": [],
   "source": [
    "X_train, X_test, y_train, y_test = train_test_split(\n",
    "    data2.drop(['Do you currently have a mental health disorder?'], axis=1),\n",
    "    data2['Do you currently have a mental health disorder?'],\n",
    "    test_size=0.33,\n",
    "    random_state=42)"
   ]
  },
  {
   "cell_type": "code",
   "execution_count": 46,
   "metadata": {
    "ExecuteTime": {
     "end_time": "2020-01-26T06:11:25.594173Z",
     "start_time": "2020-01-26T06:11:25.590186Z"
    }
   },
   "outputs": [],
   "source": [
    "clf = RandomForestClassifier()"
   ]
  },
  {
   "cell_type": "code",
   "execution_count": 47,
   "metadata": {
    "ExecuteTime": {
     "end_time": "2020-01-26T06:11:26.730487Z",
     "start_time": "2020-01-26T06:11:26.413334Z"
    }
   },
   "outputs": [
    {
     "name": "stderr",
     "output_type": "stream",
     "text": [
      "/home/subhaditya/anaconda3/lib/python3.7/site-packages/sklearn/ensemble/forest.py:245: FutureWarning: The default value of n_estimators will change from 10 in version 0.20 to 100 in 0.22.\n",
      "  \"10 in version 0.20 to 100 in 0.22.\", FutureWarning)\n"
     ]
    },
    {
     "data": {
      "text/plain": [
       "RandomForestClassifier(bootstrap=True, class_weight=None, criterion='gini',\n",
       "                       max_depth=None, max_features='auto', max_leaf_nodes=None,\n",
       "                       min_impurity_decrease=0.0, min_impurity_split=None,\n",
       "                       min_samples_leaf=1, min_samples_split=2,\n",
       "                       min_weight_fraction_leaf=0.0, n_estimators=10,\n",
       "                       n_jobs=None, oob_score=False, random_state=None,\n",
       "                       verbose=0, warm_start=False)"
      ]
     },
     "execution_count": 47,
     "metadata": {},
     "output_type": "execute_result"
    }
   ],
   "source": [
    "clf.fit(X_train, y_train)"
   ]
  },
  {
   "cell_type": "code",
   "execution_count": 48,
   "metadata": {
    "ExecuteTime": {
     "end_time": "2020-01-26T06:11:28.017104Z",
     "start_time": "2020-01-26T06:11:27.987637Z"
    }
   },
   "outputs": [
    {
     "data": {
      "text/plain": [
       "0.7040169133192389"
      ]
     },
     "execution_count": 48,
     "metadata": {},
     "output_type": "execute_result"
    }
   ],
   "source": [
    "clf.score(X_test,y_test)"
   ]
  },
  {
   "cell_type": "code",
   "execution_count": 49,
   "metadata": {
    "ExecuteTime": {
     "end_time": "2020-01-26T06:12:53.429871Z",
     "start_time": "2020-01-26T06:12:52.045185Z"
    },
    "scrolled": true
   },
   "outputs": [
    {
     "name": "stdout",
     "output_type": "stream",
     "text": [
      "      Iter       Train Loss   Remaining Time \n",
      "         1         946.7923            0.65s\n",
      "         2         879.8712            0.62s\n",
      "         3         825.7045            0.59s\n",
      "         4         780.8025            0.57s\n",
      "         5         743.0245            0.56s\n",
      "         6         710.8329            0.55s\n",
      "         7         683.1043            0.54s\n",
      "         8         660.0001            0.53s\n",
      "         9         639.7854            0.52s\n",
      "        10         622.0999            0.51s\n",
      "        20         523.0065            0.44s\n",
      "        30         462.8158            0.38s\n",
      "        40         423.3161            0.32s\n",
      "        50         387.2676            0.26s\n",
      "        60         356.8037            0.21s\n",
      "        70         330.5018            0.15s\n",
      "        80         307.3401            0.10s\n",
      "        90         286.5024            0.05s\n",
      "       100         266.9434            0.00s\n"
     ]
    },
    {
     "data": {
      "text/plain": [
       "GradientBoostingClassifier(criterion='friedman_mse', init=None,\n",
       "                           learning_rate=0.1, loss='deviance', max_depth=3,\n",
       "                           max_features=None, max_leaf_nodes=None,\n",
       "                           min_impurity_decrease=0.0, min_impurity_split=None,\n",
       "                           min_samples_leaf=1, min_samples_split=2,\n",
       "                           min_weight_fraction_leaf=0.0, n_estimators=100,\n",
       "                           n_iter_no_change=None, presort='auto',\n",
       "                           random_state=None, subsample=1.0, tol=0.0001,\n",
       "                           validation_fraction=0.1, verbose=1,\n",
       "                           warm_start=False)"
      ]
     },
     "execution_count": 49,
     "metadata": {},
     "output_type": "execute_result"
    }
   ],
   "source": [
    "from sklearn.ensemble import GradientBoostingClassifier\n",
    "\n",
    "clf_gbr = GradientBoostingClassifier(verbose=1)\n",
    "clf_gbr.fit(X_train, y_train)"
   ]
  },
  {
   "cell_type": "code",
   "execution_count": 50,
   "metadata": {
    "ExecuteTime": {
     "end_time": "2020-01-26T06:12:54.265154Z",
     "start_time": "2020-01-26T06:12:54.250678Z"
    }
   },
   "outputs": [
    {
     "data": {
      "text/plain": [
       "0.7399577167019028"
      ]
     },
     "execution_count": 50,
     "metadata": {},
     "output_type": "execute_result"
    }
   ],
   "source": [
    "clf_gbr.score(X_test,y_test)"
   ]
  },
  {
   "cell_type": "code",
   "execution_count": 51,
   "metadata": {
    "ExecuteTime": {
     "end_time": "2020-01-26T06:15:40.481013Z",
     "start_time": "2020-01-26T06:15:40.458556Z"
    }
   },
   "outputs": [
    {
     "data": {
      "text/plain": [
       "DecisionTreeClassifier(class_weight=None, criterion='gini', max_depth=None,\n",
       "                       max_features=None, max_leaf_nodes=None,\n",
       "                       min_impurity_decrease=0.0, min_impurity_split=None,\n",
       "                       min_samples_leaf=1, min_samples_split=2,\n",
       "                       min_weight_fraction_leaf=0.0, presort=False,\n",
       "                       random_state=None, splitter='best')"
      ]
     },
     "execution_count": 51,
     "metadata": {},
     "output_type": "execute_result"
    }
   ],
   "source": [
    "from sklearn.tree import DecisionTreeClassifier\n",
    "\n",
    "clf_gbr = DecisionTreeClassifier()\n",
    "clf_gbr.fit(X_train, y_train)"
   ]
  },
  {
   "cell_type": "code",
   "execution_count": 52,
   "metadata": {
    "ExecuteTime": {
     "end_time": "2020-01-26T06:16:46.731633Z",
     "start_time": "2020-01-26T06:16:46.724255Z"
    }
   },
   "outputs": [
    {
     "data": {
      "text/plain": [
       "0.6342494714587738"
      ]
     },
     "execution_count": 52,
     "metadata": {},
     "output_type": "execute_result"
    }
   ],
   "source": [
    "clf_gbr.score(X_test,y_test)"
   ]
  },
  {
   "cell_type": "code",
   "execution_count": 53,
   "metadata": {
    "ExecuteTime": {
     "end_time": "2020-01-26T06:18:08.306653Z",
     "start_time": "2020-01-26T06:18:08.134115Z"
    }
   },
   "outputs": [
    {
     "data": {
      "text/plain": [
       "AdaBoostClassifier(algorithm='SAMME.R', base_estimator=None, learning_rate=1.0,\n",
       "                   n_estimators=50, random_state=None)"
      ]
     },
     "execution_count": 53,
     "metadata": {},
     "output_type": "execute_result"
    }
   ],
   "source": [
    "from sklearn.ensemble import AdaBoostClassifier\n",
    "\n",
    "clf_rf = AdaBoostClassifier()\n",
    "clf_rf.fit(X_train, y_train)"
   ]
  },
  {
   "cell_type": "code",
   "execution_count": 54,
   "metadata": {
    "ExecuteTime": {
     "end_time": "2020-01-26T06:18:10.230519Z",
     "start_time": "2020-01-26T06:18:10.205133Z"
    }
   },
   "outputs": [
    {
     "data": {
      "text/plain": [
       "0.7251585623678647"
      ]
     },
     "execution_count": 54,
     "metadata": {},
     "output_type": "execute_result"
    }
   ],
   "source": [
    "clf_rf.score(X_test,y_test)"
   ]
  },
  {
   "cell_type": "code",
   "execution_count": null,
   "metadata": {},
   "outputs": [],
   "source": []
  }
 ],
 "metadata": {
  "kernelspec": {
   "display_name": "Python 3",
   "language": "python",
   "name": "python3"
  },
  "language_info": {
   "codemirror_mode": {
    "name": "ipython",
    "version": 3
   },
   "file_extension": ".py",
   "mimetype": "text/x-python",
   "name": "python",
   "nbconvert_exporter": "python",
   "pygments_lexer": "ipython3",
   "version": "3.7.6"
  },
  "toc": {
   "base_numbering": 1,
   "nav_menu": {},
   "number_sections": true,
   "sideBar": true,
   "skip_h1_title": false,
   "title_cell": "Table of Contents",
   "title_sidebar": "Contents",
   "toc_cell": true,
   "toc_position": {},
   "toc_section_display": true,
   "toc_window_display": false
  },
  "varInspector": {
   "cols": {
    "lenName": 16,
    "lenType": 16,
    "lenVar": 40
   },
   "kernels_config": {
    "python": {
     "delete_cmd_postfix": "",
     "delete_cmd_prefix": "del ",
     "library": "var_list.py",
     "varRefreshCmd": "print(var_dic_list())"
    },
    "r": {
     "delete_cmd_postfix": ") ",
     "delete_cmd_prefix": "rm(",
     "library": "var_list.r",
     "varRefreshCmd": "cat(var_dic_list()) "
    }
   },
   "types_to_exclude": [
    "module",
    "function",
    "builtin_function_or_method",
    "instance",
    "_Feature"
   ],
   "window_display": false
  }
 },
 "nbformat": 4,
 "nbformat_minor": 2
}
