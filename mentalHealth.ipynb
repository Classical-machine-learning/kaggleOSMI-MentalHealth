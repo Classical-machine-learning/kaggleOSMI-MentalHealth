{
 "cells": [
  {
   "cell_type": "markdown",
   "metadata": {
    "toc": true
   },
   "source": [
    "<h1>Table of Contents<span class=\"tocSkip\"></span></h1>\n",
    "<div class=\"toc\"><ul class=\"toc-item\"><li><span><a href=\"#Introduction\" data-toc-modified-id=\"Introduction-1\"><span class=\"toc-item-num\">1&nbsp;&nbsp;</span>Introduction</a></span></li><li><span><a href=\"#Imports\" data-toc-modified-id=\"Imports-2\"><span class=\"toc-item-num\">2&nbsp;&nbsp;</span>Imports</a></span></li><li><span><a href=\"#Data-Loading-Preprocessing\" data-toc-modified-id=\"Data-Loading-Preprocessing-3\"><span class=\"toc-item-num\">3&nbsp;&nbsp;</span>Data Loading Preprocessing</a></span><ul class=\"toc-item\"><li><span><a href=\"#All-columns\" data-toc-modified-id=\"All-columns-3.1\"><span class=\"toc-item-num\">3.1&nbsp;&nbsp;</span>All columns</a></span></li><li><span><a href=\"#Remove-ones-with-max-Missing\" data-toc-modified-id=\"Remove-ones-with-max-Missing-3.2\"><span class=\"toc-item-num\">3.2&nbsp;&nbsp;</span>Remove ones with max Missing</a></span></li><li><span><a href=\"#Fix-work-pos-column\" data-toc-modified-id=\"Fix-work-pos-column-3.3\"><span class=\"toc-item-num\">3.3&nbsp;&nbsp;</span>Fix work pos column</a></span></li><li><span><a href=\"#Convert-categorical-to-numerical\" data-toc-modified-id=\"Convert-categorical-to-numerical-3.4\"><span class=\"toc-item-num\">3.4&nbsp;&nbsp;</span>Convert categorical to numerical</a></span></li></ul></li><li><span><a href=\"#EDA\" data-toc-modified-id=\"EDA-4\"><span class=\"toc-item-num\">4&nbsp;&nbsp;</span>EDA</a></span><ul class=\"toc-item\"><li><span><a href=\"#Plots\" data-toc-modified-id=\"Plots-4.1\"><span class=\"toc-item-num\">4.1&nbsp;&nbsp;</span>Plots</a></span></li><li><span><a href=\"#Age-related\" data-toc-modified-id=\"Age-related-4.2\"><span class=\"toc-item-num\">4.2&nbsp;&nbsp;</span>Age related</a></span><ul class=\"toc-item\"><li><span><a href=\"#Infer\" data-toc-modified-id=\"Infer-4.2.1\"><span class=\"toc-item-num\">4.2.1&nbsp;&nbsp;</span>Infer</a></span></li></ul></li><li><span><a href=\"#Country-related\" data-toc-modified-id=\"Country-related-4.3\"><span class=\"toc-item-num\">4.3&nbsp;&nbsp;</span>Country related</a></span><ul class=\"toc-item\"><li><span><a href=\"#Infer\" data-toc-modified-id=\"Infer-4.3.1\"><span class=\"toc-item-num\">4.3.1&nbsp;&nbsp;</span>Infer</a></span></li></ul></li><li><span><a href=\"#No-of-employees-in-companies-of-people-who-have-a-disorder\" data-toc-modified-id=\"No-of-employees-in-companies-of-people-who-have-a-disorder-4.4\"><span class=\"toc-item-num\">4.4&nbsp;&nbsp;</span>No of employees in companies of people who have a disorder</a></span><ul class=\"toc-item\"><li><span><a href=\"#Infer\" data-toc-modified-id=\"Infer-4.4.1\"><span class=\"toc-item-num\">4.4.1&nbsp;&nbsp;</span>Infer</a></span></li></ul></li><li><span><a href=\"#Disorder-related-to-how-open-the-person-can-be-with-friends-and-family\" data-toc-modified-id=\"Disorder-related-to-how-open-the-person-can-be-with-friends-and-family-4.5\"><span class=\"toc-item-num\">4.5&nbsp;&nbsp;</span>Disorder related to how open the person can be with friends and family</a></span><ul class=\"toc-item\"><li><span><a href=\"#Infer\" data-toc-modified-id=\"Infer-4.5.1\"><span class=\"toc-item-num\">4.5.1&nbsp;&nbsp;</span>Infer</a></span></li></ul></li><li><span><a href=\"#Prediction\" data-toc-modified-id=\"Prediction-4.6\"><span class=\"toc-item-num\">4.6&nbsp;&nbsp;</span>Prediction</a></span></li></ul></li></ul></div>"
   ]
  },
  {
   "cell_type": "markdown",
   "metadata": {},
   "source": [
    "# Introduction\n",
    "- This project is based on the OSMI dataset \n",
    "- It was a survey conducted on mental health of people working in tech\n",
    "- Link https://www.kaggle.com/osmi/mental-health-in-tech-2016#mental-heath-in-tech-2016_20161114.csv\n",
    "- This project aims to understand and identify patterns from the dataset by performing EDA on it"
   ]
  },
  {
   "cell_type": "markdown",
   "metadata": {},
   "source": [
    "# Imports"
   ]
  },
  {
   "cell_type": "code",
   "execution_count": 26,
   "metadata": {
    "ExecuteTime": {
     "end_time": "2020-01-26T04:25:27.953398Z",
     "start_time": "2020-01-26T04:25:27.947413Z"
    }
   },
   "outputs": [],
   "source": [
    "# import sklearn as skl\n",
    "import matplotlib.pyplot as plt\n",
    "import pandas as pd\n",
    "import seaborn as sns\n",
    "\n",
    "sns.set(style=\"ticks\")"
   ]
  },
  {
   "cell_type": "markdown",
   "metadata": {},
   "source": [
    "# Data Loading Preprocessing"
   ]
  },
  {
   "cell_type": "code",
   "execution_count": 27,
   "metadata": {
    "ExecuteTime": {
     "end_time": "2020-01-26T04:25:27.998278Z",
     "start_time": "2020-01-26T04:25:27.955391Z"
    }
   },
   "outputs": [],
   "source": [
    "data = pd.read_csv('data/data.csv')"
   ]
  },
  {
   "cell_type": "code",
   "execution_count": 28,
   "metadata": {
    "ExecuteTime": {
     "end_time": "2020-01-26T04:25:28.058117Z",
     "start_time": "2020-01-26T04:25:28.000272Z"
    },
    "scrolled": true
   },
   "outputs": [
    {
     "data": {
      "text/html": [
       "<div>\n",
       "<style scoped>\n",
       "    .dataframe tbody tr th:only-of-type {\n",
       "        vertical-align: middle;\n",
       "    }\n",
       "\n",
       "    .dataframe tbody tr th {\n",
       "        vertical-align: top;\n",
       "    }\n",
       "\n",
       "    .dataframe thead th {\n",
       "        text-align: right;\n",
       "    }\n",
       "</style>\n",
       "<table border=\"1\" class=\"dataframe\">\n",
       "  <thead>\n",
       "    <tr style=\"text-align: right;\">\n",
       "      <th></th>\n",
       "      <th>Are you self-employed?</th>\n",
       "      <th>How many employees does your company or organization have?</th>\n",
       "      <th>Is your employer primarily a tech company/organization?</th>\n",
       "      <th>Is your primary role within your company related to tech/IT?</th>\n",
       "      <th>Does your employer provide mental health benefits as part of healthcare coverage?</th>\n",
       "      <th>Do you know the options for mental health care available under your employer-provided coverage?</th>\n",
       "      <th>Has your employer ever formally discussed mental health (for example, as part of a wellness campaign or other official communication)?</th>\n",
       "      <th>Does your employer offer resources to learn more about mental health concerns and options for seeking help?</th>\n",
       "      <th>Is your anonymity protected if you choose to take advantage of mental health or substance abuse treatment resources provided by your employer?</th>\n",
       "      <th>If a mental health issue prompted you to request a medical leave from work, asking for that leave would be:</th>\n",
       "      <th>Do you think that discussing a mental health disorder with your employer would have negative consequences?</th>\n",
       "      <th>Do you think that discussing a physical health issue with your employer would have negative consequences?</th>\n",
       "      <th>Would you feel comfortable discussing a mental health disorder with your coworkers?</th>\n",
       "      <th>Would you feel comfortable discussing a mental health disorder with your direct supervisor(s)?</th>\n",
       "      <th>Do you feel that your employer takes mental health as seriously as physical health?</th>\n",
       "      <th>Have you heard of or observed negative consequences for co-workers who have been open about mental health issues in your workplace?</th>\n",
       "      <th>Do you have medical coverage (private insurance or state-provided) which includes treatment of  mental health issues?</th>\n",
       "      <th>Do you know local or online resources to seek help for a mental health disorder?</th>\n",
       "      <th>If you have been diagnosed or treated for a mental health disorder, do you ever reveal this to clients or business contacts?</th>\n",
       "      <th>If you have revealed a mental health issue to a client or business contact, do you believe this has impacted you negatively?</th>\n",
       "      <th>If you have been diagnosed or treated for a mental health disorder, do you ever reveal this to coworkers or employees?</th>\n",
       "      <th>If you have revealed a mental health issue to a coworker or employee, do you believe this has impacted you negatively?</th>\n",
       "      <th>Do you believe your productivity is ever affected by a mental health issue?</th>\n",
       "      <th>If yes, what percentage of your work time (time performing primary or secondary job functions) is affected by a mental health issue?</th>\n",
       "      <th>Do you have previous employers?</th>\n",
       "      <th>Have your previous employers provided mental health benefits?</th>\n",
       "      <th>Were you aware of the options for mental health care provided by your previous employers?</th>\n",
       "      <th>Did your previous employers ever formally discuss mental health (as part of a wellness campaign or other official communication)?</th>\n",
       "      <th>Did your previous employers provide resources to learn more about mental health issues and how to seek help?</th>\n",
       "      <th>Was your anonymity protected if you chose to take advantage of mental health or substance abuse treatment resources with previous employers?</th>\n",
       "      <th>Do you think that discussing a mental health disorder with previous employers would have negative consequences?</th>\n",
       "      <th>Do you think that discussing a physical health issue with previous employers would have negative consequences?</th>\n",
       "      <th>Would you have been willing to discuss a mental health issue with your previous co-workers?</th>\n",
       "      <th>Would you have been willing to discuss a mental health issue with your direct supervisor(s)?</th>\n",
       "      <th>Did you feel that your previous employers took mental health as seriously as physical health?</th>\n",
       "      <th>Did you hear of or observe negative consequences for co-workers with mental health issues in your previous workplaces?</th>\n",
       "      <th>Would you be willing to bring up a physical health issue with a potential employer in an interview?</th>\n",
       "      <th>Why or why not?</th>\n",
       "      <th>Would you bring up a mental health issue with a potential employer in an interview?</th>\n",
       "      <th>Why or why not?.1</th>\n",
       "      <th>Do you feel that being identified as a person with a mental health issue would hurt your career?</th>\n",
       "      <th>Do you think that team members/co-workers would view you more negatively if they knew you suffered from a mental health issue?</th>\n",
       "      <th>How willing would you be to share with friends and family that you have a mental illness?</th>\n",
       "      <th>Have you observed or experienced an unsupportive or badly handled response to a mental health issue in your current or previous workplace?</th>\n",
       "      <th>Have your observations of how another individual who discussed a mental health disorder made you less likely to reveal a mental health issue yourself in your current workplace?</th>\n",
       "      <th>Do you have a family history of mental illness?</th>\n",
       "      <th>Have you had a mental health disorder in the past?</th>\n",
       "      <th>Do you currently have a mental health disorder?</th>\n",
       "      <th>If yes, what condition(s) have you been diagnosed with?</th>\n",
       "      <th>If maybe, what condition(s) do you believe you have?</th>\n",
       "      <th>Have you been diagnosed with a mental health condition by a medical professional?</th>\n",
       "      <th>If so, what condition(s) were you diagnosed with?</th>\n",
       "      <th>Have you ever sought treatment for a mental health issue from a mental health professional?</th>\n",
       "      <th>If you have a mental health issue, do you feel that it interferes with your work when being treated effectively?</th>\n",
       "      <th>If you have a mental health issue, do you feel that it interferes with your work when NOT being treated effectively?</th>\n",
       "      <th>What is your age?</th>\n",
       "      <th>What is your gender?</th>\n",
       "      <th>What country do you live in?</th>\n",
       "      <th>What US state or territory do you live in?</th>\n",
       "      <th>What country do you work in?</th>\n",
       "      <th>What US state or territory do you work in?</th>\n",
       "      <th>Which of the following best describes your work position?</th>\n",
       "      <th>Do you work remotely?</th>\n",
       "    </tr>\n",
       "  </thead>\n",
       "  <tbody>\n",
       "    <tr>\n",
       "      <th>0</th>\n",
       "      <td>0</td>\n",
       "      <td>26-100</td>\n",
       "      <td>1.0</td>\n",
       "      <td>NaN</td>\n",
       "      <td>Not eligible for coverage / N/A</td>\n",
       "      <td>NaN</td>\n",
       "      <td>No</td>\n",
       "      <td>No</td>\n",
       "      <td>I don't know</td>\n",
       "      <td>Very easy</td>\n",
       "      <td>No</td>\n",
       "      <td>No</td>\n",
       "      <td>Maybe</td>\n",
       "      <td>Yes</td>\n",
       "      <td>I don't know</td>\n",
       "      <td>No</td>\n",
       "      <td>NaN</td>\n",
       "      <td>NaN</td>\n",
       "      <td>NaN</td>\n",
       "      <td>NaN</td>\n",
       "      <td>NaN</td>\n",
       "      <td>NaN</td>\n",
       "      <td>NaN</td>\n",
       "      <td>NaN</td>\n",
       "      <td>1</td>\n",
       "      <td>No, none did</td>\n",
       "      <td>N/A (not currently aware)</td>\n",
       "      <td>I don't know</td>\n",
       "      <td>None did</td>\n",
       "      <td>I don't know</td>\n",
       "      <td>Some of them</td>\n",
       "      <td>None of them</td>\n",
       "      <td>Some of my previous employers</td>\n",
       "      <td>Some of my previous employers</td>\n",
       "      <td>I don't know</td>\n",
       "      <td>None of them</td>\n",
       "      <td>Maybe</td>\n",
       "      <td>NaN</td>\n",
       "      <td>Maybe</td>\n",
       "      <td>NaN</td>\n",
       "      <td>Maybe</td>\n",
       "      <td>No, I don't think they would</td>\n",
       "      <td>Somewhat open</td>\n",
       "      <td>No</td>\n",
       "      <td>NaN</td>\n",
       "      <td>No</td>\n",
       "      <td>Yes</td>\n",
       "      <td>No</td>\n",
       "      <td>NaN</td>\n",
       "      <td>NaN</td>\n",
       "      <td>Yes</td>\n",
       "      <td>Anxiety Disorder (Generalized, Social, Phobia,...</td>\n",
       "      <td>0</td>\n",
       "      <td>Not applicable to me</td>\n",
       "      <td>Not applicable to me</td>\n",
       "      <td>39</td>\n",
       "      <td>Male</td>\n",
       "      <td>United Kingdom</td>\n",
       "      <td>NaN</td>\n",
       "      <td>United Kingdom</td>\n",
       "      <td>NaN</td>\n",
       "      <td>Back-end Developer</td>\n",
       "      <td>Sometimes</td>\n",
       "    </tr>\n",
       "    <tr>\n",
       "      <th>1</th>\n",
       "      <td>0</td>\n",
       "      <td>6-25</td>\n",
       "      <td>1.0</td>\n",
       "      <td>NaN</td>\n",
       "      <td>No</td>\n",
       "      <td>Yes</td>\n",
       "      <td>Yes</td>\n",
       "      <td>Yes</td>\n",
       "      <td>Yes</td>\n",
       "      <td>Somewhat easy</td>\n",
       "      <td>No</td>\n",
       "      <td>No</td>\n",
       "      <td>Maybe</td>\n",
       "      <td>Yes</td>\n",
       "      <td>Yes</td>\n",
       "      <td>No</td>\n",
       "      <td>NaN</td>\n",
       "      <td>NaN</td>\n",
       "      <td>NaN</td>\n",
       "      <td>NaN</td>\n",
       "      <td>NaN</td>\n",
       "      <td>NaN</td>\n",
       "      <td>NaN</td>\n",
       "      <td>NaN</td>\n",
       "      <td>1</td>\n",
       "      <td>Yes, they all did</td>\n",
       "      <td>I was aware of some</td>\n",
       "      <td>None did</td>\n",
       "      <td>Some did</td>\n",
       "      <td>Yes, always</td>\n",
       "      <td>None of them</td>\n",
       "      <td>None of them</td>\n",
       "      <td>No, at none of my previous employers</td>\n",
       "      <td>Some of my previous employers</td>\n",
       "      <td>Some did</td>\n",
       "      <td>None of them</td>\n",
       "      <td>Maybe</td>\n",
       "      <td>It would depend on the health issue. If there ...</td>\n",
       "      <td>No</td>\n",
       "      <td>While mental health has become a more prominen...</td>\n",
       "      <td>No, I don't think it would</td>\n",
       "      <td>No, I don't think they would</td>\n",
       "      <td>Somewhat open</td>\n",
       "      <td>No</td>\n",
       "      <td>NaN</td>\n",
       "      <td>Yes</td>\n",
       "      <td>Yes</td>\n",
       "      <td>Yes</td>\n",
       "      <td>Anxiety Disorder (Generalized, Social, Phobia,...</td>\n",
       "      <td>NaN</td>\n",
       "      <td>Yes</td>\n",
       "      <td>Anxiety Disorder (Generalized, Social, Phobia,...</td>\n",
       "      <td>1</td>\n",
       "      <td>Rarely</td>\n",
       "      <td>Sometimes</td>\n",
       "      <td>29</td>\n",
       "      <td>male</td>\n",
       "      <td>United States of America</td>\n",
       "      <td>Illinois</td>\n",
       "      <td>United States of America</td>\n",
       "      <td>Illinois</td>\n",
       "      <td>Back-end Developer|Front-end Developer</td>\n",
       "      <td>Never</td>\n",
       "    </tr>\n",
       "    <tr>\n",
       "      <th>2</th>\n",
       "      <td>0</td>\n",
       "      <td>6-25</td>\n",
       "      <td>1.0</td>\n",
       "      <td>NaN</td>\n",
       "      <td>No</td>\n",
       "      <td>NaN</td>\n",
       "      <td>No</td>\n",
       "      <td>No</td>\n",
       "      <td>I don't know</td>\n",
       "      <td>Neither easy nor difficult</td>\n",
       "      <td>Maybe</td>\n",
       "      <td>No</td>\n",
       "      <td>Maybe</td>\n",
       "      <td>Maybe</td>\n",
       "      <td>I don't know</td>\n",
       "      <td>No</td>\n",
       "      <td>NaN</td>\n",
       "      <td>NaN</td>\n",
       "      <td>NaN</td>\n",
       "      <td>NaN</td>\n",
       "      <td>NaN</td>\n",
       "      <td>NaN</td>\n",
       "      <td>NaN</td>\n",
       "      <td>NaN</td>\n",
       "      <td>1</td>\n",
       "      <td>No, none did</td>\n",
       "      <td>N/A (not currently aware)</td>\n",
       "      <td>None did</td>\n",
       "      <td>Some did</td>\n",
       "      <td>I don't know</td>\n",
       "      <td>I don't know</td>\n",
       "      <td>Some of them</td>\n",
       "      <td>Some of my previous employers</td>\n",
       "      <td>I don't know</td>\n",
       "      <td>I don't know</td>\n",
       "      <td>Some of them</td>\n",
       "      <td>Yes</td>\n",
       "      <td>They would provable need to know, to Judge if ...</td>\n",
       "      <td>Yes</td>\n",
       "      <td>Stigma, mainly.</td>\n",
       "      <td>Maybe</td>\n",
       "      <td>Maybe</td>\n",
       "      <td>Somewhat open</td>\n",
       "      <td>Maybe/Not sure</td>\n",
       "      <td>Yes</td>\n",
       "      <td>No</td>\n",
       "      <td>Maybe</td>\n",
       "      <td>No</td>\n",
       "      <td>NaN</td>\n",
       "      <td>NaN</td>\n",
       "      <td>No</td>\n",
       "      <td>NaN</td>\n",
       "      <td>1</td>\n",
       "      <td>Not applicable to me</td>\n",
       "      <td>Not applicable to me</td>\n",
       "      <td>38</td>\n",
       "      <td>Male</td>\n",
       "      <td>United Kingdom</td>\n",
       "      <td>NaN</td>\n",
       "      <td>United Kingdom</td>\n",
       "      <td>NaN</td>\n",
       "      <td>Back-end Developer</td>\n",
       "      <td>Always</td>\n",
       "    </tr>\n",
       "    <tr>\n",
       "      <th>3</th>\n",
       "      <td>1</td>\n",
       "      <td>NaN</td>\n",
       "      <td>NaN</td>\n",
       "      <td>NaN</td>\n",
       "      <td>NaN</td>\n",
       "      <td>NaN</td>\n",
       "      <td>NaN</td>\n",
       "      <td>NaN</td>\n",
       "      <td>NaN</td>\n",
       "      <td>NaN</td>\n",
       "      <td>NaN</td>\n",
       "      <td>NaN</td>\n",
       "      <td>NaN</td>\n",
       "      <td>NaN</td>\n",
       "      <td>NaN</td>\n",
       "      <td>NaN</td>\n",
       "      <td>1.0</td>\n",
       "      <td>Yes, I know several</td>\n",
       "      <td>Sometimes, if it comes up</td>\n",
       "      <td>I'm not sure</td>\n",
       "      <td>Sometimes, if it comes up</td>\n",
       "      <td>I'm not sure</td>\n",
       "      <td>Yes</td>\n",
       "      <td>1-25%</td>\n",
       "      <td>1</td>\n",
       "      <td>Some did</td>\n",
       "      <td>N/A (not currently aware)</td>\n",
       "      <td>None did</td>\n",
       "      <td>None did</td>\n",
       "      <td>I don't know</td>\n",
       "      <td>Some of them</td>\n",
       "      <td>Some of them</td>\n",
       "      <td>Some of my previous employers</td>\n",
       "      <td>Some of my previous employers</td>\n",
       "      <td>I don't know</td>\n",
       "      <td>Some of them</td>\n",
       "      <td>Yes</td>\n",
       "      <td>old back injury, doesn't cause me many issues ...</td>\n",
       "      <td>Maybe</td>\n",
       "      <td>would not if I was not 100% sure that the disc...</td>\n",
       "      <td>Yes, I think it would</td>\n",
       "      <td>Maybe</td>\n",
       "      <td>Neutral</td>\n",
       "      <td>No</td>\n",
       "      <td>NaN</td>\n",
       "      <td>No</td>\n",
       "      <td>Yes</td>\n",
       "      <td>Yes</td>\n",
       "      <td>Anxiety Disorder (Generalized, Social, Phobia,...</td>\n",
       "      <td>NaN</td>\n",
       "      <td>Yes</td>\n",
       "      <td>Anxiety Disorder (Generalized, Social, Phobia,...</td>\n",
       "      <td>1</td>\n",
       "      <td>Sometimes</td>\n",
       "      <td>Sometimes</td>\n",
       "      <td>43</td>\n",
       "      <td>male</td>\n",
       "      <td>United Kingdom</td>\n",
       "      <td>NaN</td>\n",
       "      <td>United Kingdom</td>\n",
       "      <td>NaN</td>\n",
       "      <td>Supervisor/Team Lead</td>\n",
       "      <td>Sometimes</td>\n",
       "    </tr>\n",
       "    <tr>\n",
       "      <th>4</th>\n",
       "      <td>0</td>\n",
       "      <td>6-25</td>\n",
       "      <td>0.0</td>\n",
       "      <td>1.0</td>\n",
       "      <td>Yes</td>\n",
       "      <td>Yes</td>\n",
       "      <td>No</td>\n",
       "      <td>No</td>\n",
       "      <td>No</td>\n",
       "      <td>Neither easy nor difficult</td>\n",
       "      <td>Yes</td>\n",
       "      <td>Maybe</td>\n",
       "      <td>Maybe</td>\n",
       "      <td>No</td>\n",
       "      <td>No</td>\n",
       "      <td>No</td>\n",
       "      <td>NaN</td>\n",
       "      <td>NaN</td>\n",
       "      <td>NaN</td>\n",
       "      <td>NaN</td>\n",
       "      <td>NaN</td>\n",
       "      <td>NaN</td>\n",
       "      <td>NaN</td>\n",
       "      <td>NaN</td>\n",
       "      <td>1</td>\n",
       "      <td>I don't know</td>\n",
       "      <td>N/A (not currently aware)</td>\n",
       "      <td>Some did</td>\n",
       "      <td>None did</td>\n",
       "      <td>I don't know</td>\n",
       "      <td>Some of them</td>\n",
       "      <td>Some of them</td>\n",
       "      <td>No, at none of my previous employers</td>\n",
       "      <td>Some of my previous employers</td>\n",
       "      <td>Some did</td>\n",
       "      <td>Some of them</td>\n",
       "      <td>Maybe</td>\n",
       "      <td>Depending on the interview stage and whether I...</td>\n",
       "      <td>No</td>\n",
       "      <td>I don't know</td>\n",
       "      <td>Yes, I think it would</td>\n",
       "      <td>Maybe</td>\n",
       "      <td>Somewhat open</td>\n",
       "      <td>Yes, I experienced</td>\n",
       "      <td>Yes</td>\n",
       "      <td>Yes</td>\n",
       "      <td>Yes</td>\n",
       "      <td>Yes</td>\n",
       "      <td>Anxiety Disorder (Generalized, Social, Phobia,...</td>\n",
       "      <td>NaN</td>\n",
       "      <td>Yes</td>\n",
       "      <td>Anxiety Disorder (Generalized, Social, Phobia,...</td>\n",
       "      <td>1</td>\n",
       "      <td>Sometimes</td>\n",
       "      <td>Sometimes</td>\n",
       "      <td>43</td>\n",
       "      <td>Female</td>\n",
       "      <td>United States of America</td>\n",
       "      <td>Illinois</td>\n",
       "      <td>United States of America</td>\n",
       "      <td>Illinois</td>\n",
       "      <td>Executive Leadership|Supervisor/Team Lead|Dev ...</td>\n",
       "      <td>Sometimes</td>\n",
       "    </tr>\n",
       "  </tbody>\n",
       "</table>\n",
       "</div>"
      ],
      "text/plain": [
       "   Are you self-employed?  \\\n",
       "0                       0   \n",
       "1                       0   \n",
       "2                       0   \n",
       "3                       1   \n",
       "4                       0   \n",
       "\n",
       "  How many employees does your company or organization have?  \\\n",
       "0                                             26-100           \n",
       "1                                               6-25           \n",
       "2                                               6-25           \n",
       "3                                                NaN           \n",
       "4                                               6-25           \n",
       "\n",
       "   Is your employer primarily a tech company/organization?  \\\n",
       "0                                                1.0         \n",
       "1                                                1.0         \n",
       "2                                                1.0         \n",
       "3                                                NaN         \n",
       "4                                                0.0         \n",
       "\n",
       "   Is your primary role within your company related to tech/IT?  \\\n",
       "0                                                NaN              \n",
       "1                                                NaN              \n",
       "2                                                NaN              \n",
       "3                                                NaN              \n",
       "4                                                1.0              \n",
       "\n",
       "  Does your employer provide mental health benefits as part of healthcare coverage?  \\\n",
       "0                    Not eligible for coverage / N/A                                  \n",
       "1                                                 No                                  \n",
       "2                                                 No                                  \n",
       "3                                                NaN                                  \n",
       "4                                                Yes                                  \n",
       "\n",
       "  Do you know the options for mental health care available under your employer-provided coverage?  \\\n",
       "0                                                NaN                                                \n",
       "1                                                Yes                                                \n",
       "2                                                NaN                                                \n",
       "3                                                NaN                                                \n",
       "4                                                Yes                                                \n",
       "\n",
       "  Has your employer ever formally discussed mental health (for example, as part of a wellness campaign or other official communication)?  \\\n",
       "0                                                 No                                                                                       \n",
       "1                                                Yes                                                                                       \n",
       "2                                                 No                                                                                       \n",
       "3                                                NaN                                                                                       \n",
       "4                                                 No                                                                                       \n",
       "\n",
       "  Does your employer offer resources to learn more about mental health concerns and options for seeking help?  \\\n",
       "0                                                 No                                                            \n",
       "1                                                Yes                                                            \n",
       "2                                                 No                                                            \n",
       "3                                                NaN                                                            \n",
       "4                                                 No                                                            \n",
       "\n",
       "  Is your anonymity protected if you choose to take advantage of mental health or substance abuse treatment resources provided by your employer?  \\\n",
       "0                                       I don't know                                                                                               \n",
       "1                                                Yes                                                                                               \n",
       "2                                       I don't know                                                                                               \n",
       "3                                                NaN                                                                                               \n",
       "4                                                 No                                                                                               \n",
       "\n",
       "  If a mental health issue prompted you to request a medical leave from work, asking for that leave would be:  \\\n",
       "0                                          Very easy                                                            \n",
       "1                                      Somewhat easy                                                            \n",
       "2                         Neither easy nor difficult                                                            \n",
       "3                                                NaN                                                            \n",
       "4                         Neither easy nor difficult                                                            \n",
       "\n",
       "  Do you think that discussing a mental health disorder with your employer would have negative consequences?  \\\n",
       "0                                                 No                                                           \n",
       "1                                                 No                                                           \n",
       "2                                              Maybe                                                           \n",
       "3                                                NaN                                                           \n",
       "4                                                Yes                                                           \n",
       "\n",
       "  Do you think that discussing a physical health issue with your employer would have negative consequences?  \\\n",
       "0                                                 No                                                          \n",
       "1                                                 No                                                          \n",
       "2                                                 No                                                          \n",
       "3                                                NaN                                                          \n",
       "4                                              Maybe                                                          \n",
       "\n",
       "  Would you feel comfortable discussing a mental health disorder with your coworkers?  \\\n",
       "0                                              Maybe                                    \n",
       "1                                              Maybe                                    \n",
       "2                                              Maybe                                    \n",
       "3                                                NaN                                    \n",
       "4                                              Maybe                                    \n",
       "\n",
       "  Would you feel comfortable discussing a mental health disorder with your direct supervisor(s)?  \\\n",
       "0                                                Yes                                               \n",
       "1                                                Yes                                               \n",
       "2                                              Maybe                                               \n",
       "3                                                NaN                                               \n",
       "4                                                 No                                               \n",
       "\n",
       "  Do you feel that your employer takes mental health as seriously as physical health?  \\\n",
       "0                                       I don't know                                    \n",
       "1                                                Yes                                    \n",
       "2                                       I don't know                                    \n",
       "3                                                NaN                                    \n",
       "4                                                 No                                    \n",
       "\n",
       "  Have you heard of or observed negative consequences for co-workers who have been open about mental health issues in your workplace?  \\\n",
       "0                                                 No                                                                                    \n",
       "1                                                 No                                                                                    \n",
       "2                                                 No                                                                                    \n",
       "3                                                NaN                                                                                    \n",
       "4                                                 No                                                                                    \n",
       "\n",
       "   Do you have medical coverage (private insurance or state-provided) which includes treatment of  mental health issues?  \\\n",
       "0                                                NaN                                                                       \n",
       "1                                                NaN                                                                       \n",
       "2                                                NaN                                                                       \n",
       "3                                                1.0                                                                       \n",
       "4                                                NaN                                                                       \n",
       "\n",
       "  Do you know local or online resources to seek help for a mental health disorder?  \\\n",
       "0                                                NaN                                 \n",
       "1                                                NaN                                 \n",
       "2                                                NaN                                 \n",
       "3                                Yes, I know several                                 \n",
       "4                                                NaN                                 \n",
       "\n",
       "  If you have been diagnosed or treated for a mental health disorder, do you ever reveal this to clients or business contacts?  \\\n",
       "0                                                NaN                                                                             \n",
       "1                                                NaN                                                                             \n",
       "2                                                NaN                                                                             \n",
       "3                          Sometimes, if it comes up                                                                             \n",
       "4                                                NaN                                                                             \n",
       "\n",
       "  If you have revealed a mental health issue to a client or business contact, do you believe this has impacted you negatively?  \\\n",
       "0                                                NaN                                                                             \n",
       "1                                                NaN                                                                             \n",
       "2                                                NaN                                                                             \n",
       "3                                       I'm not sure                                                                             \n",
       "4                                                NaN                                                                             \n",
       "\n",
       "  If you have been diagnosed or treated for a mental health disorder, do you ever reveal this to coworkers or employees?  \\\n",
       "0                                                NaN                                                                       \n",
       "1                                                NaN                                                                       \n",
       "2                                                NaN                                                                       \n",
       "3                          Sometimes, if it comes up                                                                       \n",
       "4                                                NaN                                                                       \n",
       "\n",
       "  If you have revealed a mental health issue to a coworker or employee, do you believe this has impacted you negatively?  \\\n",
       "0                                                NaN                                                                       \n",
       "1                                                NaN                                                                       \n",
       "2                                                NaN                                                                       \n",
       "3                                       I'm not sure                                                                       \n",
       "4                                                NaN                                                                       \n",
       "\n",
       "  Do you believe your productivity is ever affected by a mental health issue?  \\\n",
       "0                                                NaN                            \n",
       "1                                                NaN                            \n",
       "2                                                NaN                            \n",
       "3                                                Yes                            \n",
       "4                                                NaN                            \n",
       "\n",
       "  If yes, what percentage of your work time (time performing primary or secondary job functions) is affected by a mental health issue?  \\\n",
       "0                                                NaN                                                                                     \n",
       "1                                                NaN                                                                                     \n",
       "2                                                NaN                                                                                     \n",
       "3                                              1-25%                                                                                     \n",
       "4                                                NaN                                                                                     \n",
       "\n",
       "   Do you have previous employers?  \\\n",
       "0                                1   \n",
       "1                                1   \n",
       "2                                1   \n",
       "3                                1   \n",
       "4                                1   \n",
       "\n",
       "  Have your previous employers provided mental health benefits?  \\\n",
       "0                                       No, none did              \n",
       "1                                  Yes, they all did              \n",
       "2                                       No, none did              \n",
       "3                                           Some did              \n",
       "4                                       I don't know              \n",
       "\n",
       "  Were you aware of the options for mental health care provided by your previous employers?  \\\n",
       "0                          N/A (not currently aware)                                          \n",
       "1                                I was aware of some                                          \n",
       "2                          N/A (not currently aware)                                          \n",
       "3                          N/A (not currently aware)                                          \n",
       "4                          N/A (not currently aware)                                          \n",
       "\n",
       "  Did your previous employers ever formally discuss mental health (as part of a wellness campaign or other official communication)?  \\\n",
       "0                                       I don't know                                                                                  \n",
       "1                                           None did                                                                                  \n",
       "2                                           None did                                                                                  \n",
       "3                                           None did                                                                                  \n",
       "4                                           Some did                                                                                  \n",
       "\n",
       "  Did your previous employers provide resources to learn more about mental health issues and how to seek help?  \\\n",
       "0                                           None did                                                             \n",
       "1                                           Some did                                                             \n",
       "2                                           Some did                                                             \n",
       "3                                           None did                                                             \n",
       "4                                           None did                                                             \n",
       "\n",
       "  Was your anonymity protected if you chose to take advantage of mental health or substance abuse treatment resources with previous employers?  \\\n",
       "0                                       I don't know                                                                                             \n",
       "1                                        Yes, always                                                                                             \n",
       "2                                       I don't know                                                                                             \n",
       "3                                       I don't know                                                                                             \n",
       "4                                       I don't know                                                                                             \n",
       "\n",
       "  Do you think that discussing a mental health disorder with previous employers would have negative consequences?  \\\n",
       "0                                       Some of them                                                                \n",
       "1                                       None of them                                                                \n",
       "2                                       I don't know                                                                \n",
       "3                                       Some of them                                                                \n",
       "4                                       Some of them                                                                \n",
       "\n",
       "  Do you think that discussing a physical health issue with previous employers would have negative consequences?  \\\n",
       "0                                       None of them                                                               \n",
       "1                                       None of them                                                               \n",
       "2                                       Some of them                                                               \n",
       "3                                       Some of them                                                               \n",
       "4                                       Some of them                                                               \n",
       "\n",
       "  Would you have been willing to discuss a mental health issue with your previous co-workers?  \\\n",
       "0                      Some of my previous employers                                            \n",
       "1               No, at none of my previous employers                                            \n",
       "2                      Some of my previous employers                                            \n",
       "3                      Some of my previous employers                                            \n",
       "4               No, at none of my previous employers                                            \n",
       "\n",
       "  Would you have been willing to discuss a mental health issue with your direct supervisor(s)?  \\\n",
       "0                      Some of my previous employers                                             \n",
       "1                      Some of my previous employers                                             \n",
       "2                                       I don't know                                             \n",
       "3                      Some of my previous employers                                             \n",
       "4                      Some of my previous employers                                             \n",
       "\n",
       "  Did you feel that your previous employers took mental health as seriously as physical health?  \\\n",
       "0                                       I don't know                                              \n",
       "1                                           Some did                                              \n",
       "2                                       I don't know                                              \n",
       "3                                       I don't know                                              \n",
       "4                                           Some did                                              \n",
       "\n",
       "  Did you hear of or observe negative consequences for co-workers with mental health issues in your previous workplaces?  \\\n",
       "0                                       None of them                                                                       \n",
       "1                                       None of them                                                                       \n",
       "2                                       Some of them                                                                       \n",
       "3                                       Some of them                                                                       \n",
       "4                                       Some of them                                                                       \n",
       "\n",
       "  Would you be willing to bring up a physical health issue with a potential employer in an interview?  \\\n",
       "0                                              Maybe                                                    \n",
       "1                                              Maybe                                                    \n",
       "2                                                Yes                                                    \n",
       "3                                                Yes                                                    \n",
       "4                                              Maybe                                                    \n",
       "\n",
       "                                     Why or why not?  \\\n",
       "0                                                NaN   \n",
       "1  It would depend on the health issue. If there ...   \n",
       "2  They would provable need to know, to Judge if ...   \n",
       "3  old back injury, doesn't cause me many issues ...   \n",
       "4  Depending on the interview stage and whether I...   \n",
       "\n",
       "  Would you bring up a mental health issue with a potential employer in an interview?  \\\n",
       "0                                              Maybe                                    \n",
       "1                                                 No                                    \n",
       "2                                                Yes                                    \n",
       "3                                              Maybe                                    \n",
       "4                                                 No                                    \n",
       "\n",
       "                                   Why or why not?.1  \\\n",
       "0                                                NaN   \n",
       "1  While mental health has become a more prominen...   \n",
       "2                                   Stigma, mainly.    \n",
       "3  would not if I was not 100% sure that the disc...   \n",
       "4                                       I don't know   \n",
       "\n",
       "  Do you feel that being identified as a person with a mental health issue would hurt your career?  \\\n",
       "0                                              Maybe                                                 \n",
       "1                         No, I don't think it would                                                 \n",
       "2                                              Maybe                                                 \n",
       "3                              Yes, I think it would                                                 \n",
       "4                              Yes, I think it would                                                 \n",
       "\n",
       "  Do you think that team members/co-workers would view you more negatively if they knew you suffered from a mental health issue?  \\\n",
       "0                       No, I don't think they would                                                                               \n",
       "1                       No, I don't think they would                                                                               \n",
       "2                                              Maybe                                                                               \n",
       "3                                              Maybe                                                                               \n",
       "4                                              Maybe                                                                               \n",
       "\n",
       "  How willing would you be to share with friends and family that you have a mental illness?  \\\n",
       "0                                      Somewhat open                                          \n",
       "1                                      Somewhat open                                          \n",
       "2                                      Somewhat open                                          \n",
       "3                                            Neutral                                          \n",
       "4                                      Somewhat open                                          \n",
       "\n",
       "  Have you observed or experienced an unsupportive or badly handled response to a mental health issue in your current or previous workplace?  \\\n",
       "0                                                 No                                                                                           \n",
       "1                                                 No                                                                                           \n",
       "2                                     Maybe/Not sure                                                                                           \n",
       "3                                                 No                                                                                           \n",
       "4                                 Yes, I experienced                                                                                           \n",
       "\n",
       "  Have your observations of how another individual who discussed a mental health disorder made you less likely to reveal a mental health issue yourself in your current workplace?  \\\n",
       "0                                                NaN                                                                                                                                 \n",
       "1                                                NaN                                                                                                                                 \n",
       "2                                                Yes                                                                                                                                 \n",
       "3                                                NaN                                                                                                                                 \n",
       "4                                                Yes                                                                                                                                 \n",
       "\n",
       "  Do you have a family history of mental illness?  \\\n",
       "0                                              No   \n",
       "1                                             Yes   \n",
       "2                                              No   \n",
       "3                                              No   \n",
       "4                                             Yes   \n",
       "\n",
       "  Have you had a mental health disorder in the past?  \\\n",
       "0                                                Yes   \n",
       "1                                                Yes   \n",
       "2                                              Maybe   \n",
       "3                                                Yes   \n",
       "4                                                Yes   \n",
       "\n",
       "  Do you currently have a mental health disorder?  \\\n",
       "0                                              No   \n",
       "1                                             Yes   \n",
       "2                                              No   \n",
       "3                                             Yes   \n",
       "4                                             Yes   \n",
       "\n",
       "  If yes, what condition(s) have you been diagnosed with?  \\\n",
       "0                                                NaN        \n",
       "1  Anxiety Disorder (Generalized, Social, Phobia,...        \n",
       "2                                                NaN        \n",
       "3  Anxiety Disorder (Generalized, Social, Phobia,...        \n",
       "4  Anxiety Disorder (Generalized, Social, Phobia,...        \n",
       "\n",
       "  If maybe, what condition(s) do you believe you have?  \\\n",
       "0                                                NaN     \n",
       "1                                                NaN     \n",
       "2                                                NaN     \n",
       "3                                                NaN     \n",
       "4                                                NaN     \n",
       "\n",
       "  Have you been diagnosed with a mental health condition by a medical professional?  \\\n",
       "0                                                Yes                                  \n",
       "1                                                Yes                                  \n",
       "2                                                 No                                  \n",
       "3                                                Yes                                  \n",
       "4                                                Yes                                  \n",
       "\n",
       "   If so, what condition(s) were you diagnosed with?  \\\n",
       "0  Anxiety Disorder (Generalized, Social, Phobia,...   \n",
       "1  Anxiety Disorder (Generalized, Social, Phobia,...   \n",
       "2                                                NaN   \n",
       "3  Anxiety Disorder (Generalized, Social, Phobia,...   \n",
       "4  Anxiety Disorder (Generalized, Social, Phobia,...   \n",
       "\n",
       "   Have you ever sought treatment for a mental health issue from a mental health professional?  \\\n",
       "0                                                  0                                             \n",
       "1                                                  1                                             \n",
       "2                                                  1                                             \n",
       "3                                                  1                                             \n",
       "4                                                  1                                             \n",
       "\n",
       "  If you have a mental health issue, do you feel that it interferes with your work when being treated effectively?  \\\n",
       "0                               Not applicable to me                                                                 \n",
       "1                                             Rarely                                                                 \n",
       "2                               Not applicable to me                                                                 \n",
       "3                                          Sometimes                                                                 \n",
       "4                                          Sometimes                                                                 \n",
       "\n",
       "  If you have a mental health issue, do you feel that it interferes with your work when NOT being treated effectively?  \\\n",
       "0                               Not applicable to me                                                                     \n",
       "1                                          Sometimes                                                                     \n",
       "2                               Not applicable to me                                                                     \n",
       "3                                          Sometimes                                                                     \n",
       "4                                          Sometimes                                                                     \n",
       "\n",
       "   What is your age? What is your gender? What country do you live in?  \\\n",
       "0                 39                 Male               United Kingdom   \n",
       "1                 29                 male     United States of America   \n",
       "2                 38                Male                United Kingdom   \n",
       "3                 43                 male               United Kingdom   \n",
       "4                 43               Female     United States of America   \n",
       "\n",
       "  What US state or territory do you live in? What country do you work in?  \\\n",
       "0                                        NaN               United Kingdom   \n",
       "1                                   Illinois     United States of America   \n",
       "2                                        NaN               United Kingdom   \n",
       "3                                        NaN               United Kingdom   \n",
       "4                                   Illinois     United States of America   \n",
       "\n",
       "  What US state or territory do you work in?  \\\n",
       "0                                        NaN   \n",
       "1                                   Illinois   \n",
       "2                                        NaN   \n",
       "3                                        NaN   \n",
       "4                                   Illinois   \n",
       "\n",
       "  Which of the following best describes your work position?  \\\n",
       "0                                 Back-end Developer          \n",
       "1             Back-end Developer|Front-end Developer          \n",
       "2                                 Back-end Developer          \n",
       "3                               Supervisor/Team Lead          \n",
       "4  Executive Leadership|Supervisor/Team Lead|Dev ...          \n",
       "\n",
       "  Do you work remotely?  \n",
       "0             Sometimes  \n",
       "1                 Never  \n",
       "2                Always  \n",
       "3             Sometimes  \n",
       "4             Sometimes  "
      ]
     },
     "execution_count": 28,
     "metadata": {},
     "output_type": "execute_result"
    }
   ],
   "source": [
    "data.head()"
   ]
  },
  {
   "cell_type": "markdown",
   "metadata": {},
   "source": [
    "## All columns "
   ]
  },
  {
   "cell_type": "code",
   "execution_count": 29,
   "metadata": {
    "ExecuteTime": {
     "end_time": "2020-01-26T04:25:28.070085Z",
     "start_time": "2020-01-26T04:25:28.060111Z"
    },
    "scrolled": true
   },
   "outputs": [
    {
     "name": "stdout",
     "output_type": "stream",
     "text": [
      "Are you self-employed?\n",
      "How many employees does your company or organization have?\n",
      "Is your employer primarily a tech company/organization?\n",
      "Is your primary role within your company related to tech/IT?\n",
      "Does your employer provide mental health benefits as part of healthcare coverage?\n",
      "Do you know the options for mental health care available under your employer-provided coverage?\n",
      "Has your employer ever formally discussed mental health (for example, as part of a wellness campaign or other official communication)?\n",
      "Does your employer offer resources to learn more about mental health concerns and options for seeking help?\n",
      "Is your anonymity protected if you choose to take advantage of mental health or substance abuse treatment resources provided by your employer?\n",
      "If a mental health issue prompted you to request a medical leave from work, asking for that leave would be:\n",
      "Do you think that discussing a mental health disorder with your employer would have negative consequences?\n",
      "Do you think that discussing a physical health issue with your employer would have negative consequences?\n",
      "Would you feel comfortable discussing a mental health disorder with your coworkers?\n",
      "Would you feel comfortable discussing a mental health disorder with your direct supervisor(s)?\n",
      "Do you feel that your employer takes mental health as seriously as physical health?\n",
      "Have you heard of or observed negative consequences for co-workers who have been open about mental health issues in your workplace?\n",
      "Do you have medical coverage (private insurance or state-provided) which includes treatment of  mental health issues?\n",
      "Do you know local or online resources to seek help for a mental health disorder?\n",
      "If you have been diagnosed or treated for a mental health disorder, do you ever reveal this to clients or business contacts?\n",
      "If you have revealed a mental health issue to a client or business contact, do you believe this has impacted you negatively?\n",
      "If you have been diagnosed or treated for a mental health disorder, do you ever reveal this to coworkers or employees?\n",
      "If you have revealed a mental health issue to a coworker or employee, do you believe this has impacted you negatively?\n",
      "Do you believe your productivity is ever affected by a mental health issue?\n",
      "If yes, what percentage of your work time (time performing primary or secondary job functions) is affected by a mental health issue?\n",
      "Do you have previous employers?\n",
      "Have your previous employers provided mental health benefits?\n",
      "Were you aware of the options for mental health care provided by your previous employers?\n",
      "Did your previous employers ever formally discuss mental health (as part of a wellness campaign or other official communication)?\n",
      "Did your previous employers provide resources to learn more about mental health issues and how to seek help?\n",
      "Was your anonymity protected if you chose to take advantage of mental health or substance abuse treatment resources with previous employers?\n",
      "Do you think that discussing a mental health disorder with previous employers would have negative consequences?\n",
      "Do you think that discussing a physical health issue with previous employers would have negative consequences?\n",
      "Would you have been willing to discuss a mental health issue with your previous co-workers?\n",
      "Would you have been willing to discuss a mental health issue with your direct supervisor(s)?\n",
      "Did you feel that your previous employers took mental health as seriously as physical health?\n",
      "Did you hear of or observe negative consequences for co-workers with mental health issues in your previous workplaces?\n",
      "Would you be willing to bring up a physical health issue with a potential employer in an interview?\n",
      "Why or why not?\n",
      "Would you bring up a mental health issue with a potential employer in an interview?\n",
      "Why or why not?.1\n",
      "Do you feel that being identified as a person with a mental health issue would hurt your career?\n",
      "Do you think that team members/co-workers would view you more negatively if they knew you suffered from a mental health issue?\n",
      "How willing would you be to share with friends and family that you have a mental illness?\n",
      "Have you observed or experienced an unsupportive or badly handled response to a mental health issue in your current or previous workplace?\n",
      "Have your observations of how another individual who discussed a mental health disorder made you less likely to reveal a mental health issue yourself in your current workplace?\n",
      "Do you have a family history of mental illness?\n",
      "Have you had a mental health disorder in the past?\n",
      "Do you currently have a mental health disorder?\n",
      "If yes, what condition(s) have you been diagnosed with?\n",
      "If maybe, what condition(s) do you believe you have?\n",
      "Have you been diagnosed with a mental health condition by a medical professional?\n",
      "If so, what condition(s) were you diagnosed with?\n",
      "Have you ever sought treatment for a mental health issue from a mental health professional?\n",
      "If you have a mental health issue, do you feel that it interferes with your work when being treated effectively?\n",
      "If you have a mental health issue, do you feel that it interferes with your work when NOT being treated effectively?\n",
      "What is your age?\n",
      "What is your gender?\n",
      "What country do you live in?\n",
      "What US state or territory do you live in?\n",
      "What country do you work in?\n",
      "What US state or territory do you work in?\n",
      "Which of the following best describes your work position?\n",
      "Do you work remotely?\n"
     ]
    },
    {
     "data": {
      "text/plain": [
       "[None,\n",
       " None,\n",
       " None,\n",
       " None,\n",
       " None,\n",
       " None,\n",
       " None,\n",
       " None,\n",
       " None,\n",
       " None,\n",
       " None,\n",
       " None,\n",
       " None,\n",
       " None,\n",
       " None,\n",
       " None,\n",
       " None,\n",
       " None,\n",
       " None,\n",
       " None,\n",
       " None,\n",
       " None,\n",
       " None,\n",
       " None,\n",
       " None,\n",
       " None,\n",
       " None,\n",
       " None,\n",
       " None,\n",
       " None,\n",
       " None,\n",
       " None,\n",
       " None,\n",
       " None,\n",
       " None,\n",
       " None,\n",
       " None,\n",
       " None,\n",
       " None,\n",
       " None,\n",
       " None,\n",
       " None,\n",
       " None,\n",
       " None,\n",
       " None,\n",
       " None,\n",
       " None,\n",
       " None,\n",
       " None,\n",
       " None,\n",
       " None,\n",
       " None,\n",
       " None,\n",
       " None,\n",
       " None,\n",
       " None,\n",
       " None,\n",
       " None,\n",
       " None,\n",
       " None,\n",
       " None,\n",
       " None,\n",
       " None]"
      ]
     },
     "execution_count": 29,
     "metadata": {},
     "output_type": "execute_result"
    }
   ],
   "source": [
    "oldCols = data.columns\n",
    "[print(x) for x in oldCols]"
   ]
  },
  {
   "cell_type": "markdown",
   "metadata": {},
   "source": [
    "## Remove ones with max Missing"
   ]
  },
  {
   "cell_type": "code",
   "execution_count": 30,
   "metadata": {
    "ExecuteTime": {
     "end_time": "2020-01-26T04:25:28.075074Z",
     "start_time": "2020-01-26T04:25:28.072079Z"
    }
   },
   "outputs": [],
   "source": [
    "toRemove = []"
   ]
  },
  {
   "cell_type": "code",
   "execution_count": 31,
   "metadata": {
    "ExecuteTime": {
     "end_time": "2020-01-26T04:25:28.114967Z",
     "start_time": "2020-01-26T04:25:28.077068Z"
    },
    "scrolled": true
   },
   "outputs": [
    {
     "name": "stdout",
     "output_type": "stream",
     "text": [
      "0.0% - Colno: 1\n",
      "20.03% - Colno: 2\n",
      "20.03% - Colno: 3\n",
      "81.65% - Colno: 4\n",
      "20.03% - Colno: 5\n",
      "29.31% - Colno: 6\n",
      "20.03% - Colno: 7\n",
      "20.03% - Colno: 8\n",
      "20.03% - Colno: 9\n",
      "20.03% - Colno: 10\n",
      "20.03% - Colno: 11\n",
      "20.03% - Colno: 12\n",
      "20.03% - Colno: 13\n",
      "20.03% - Colno: 14\n",
      "20.03% - Colno: 15\n",
      "20.03% - Colno: 16\n",
      "79.97% - Colno: 17\n",
      "79.97% - Colno: 18\n",
      "79.97% - Colno: 19\n",
      "89.95% - Colno: 20\n",
      "79.97% - Colno: 21\n",
      "79.97% - Colno: 22\n",
      "79.97% - Colno: 23\n",
      "85.76% - Colno: 24\n",
      "0.0% - Colno: 25\n",
      "11.79% - Colno: 26\n",
      "11.79% - Colno: 27\n",
      "11.79% - Colno: 28\n",
      "11.79% - Colno: 29\n",
      "11.79% - Colno: 30\n",
      "11.79% - Colno: 31\n",
      "11.79% - Colno: 32\n",
      "11.79% - Colno: 33\n",
      "11.79% - Colno: 34\n",
      "11.79% - Colno: 35\n",
      "11.79% - Colno: 36\n",
      "0.0% - Colno: 37\n",
      "23.59% - Colno: 38\n",
      "0.0% - Colno: 39\n",
      "21.42% - Colno: 40\n",
      "0.0% - Colno: 41\n",
      "0.0% - Colno: 42\n",
      "0.0% - Colno: 43\n",
      "6.21% - Colno: 44\n",
      "54.15% - Colno: 45\n",
      "0.0% - Colno: 46\n",
      "0.0% - Colno: 47\n",
      "0.0% - Colno: 48\n",
      "60.36% - Colno: 49\n",
      "77.53% - Colno: 50\n",
      "0.0% - Colno: 51\n",
      "50.38% - Colno: 52\n",
      "0.0% - Colno: 53\n",
      "0.0% - Colno: 54\n",
      "0.0% - Colno: 55\n",
      "0.0% - Colno: 56\n",
      "0.21% - Colno: 57\n",
      "0.0% - Colno: 58\n",
      "41.38% - Colno: 59\n",
      "0.0% - Colno: 60\n",
      "40.61% - Colno: 61\n",
      "0.0% - Colno: 62\n",
      "0.0% - Colno: 63\n"
     ]
    }
   ],
   "source": [
    "counter = 0\n",
    "for a in oldCols:\n",
    "    counter += 1\n",
    "    calc = round((data[a].isna().sum() / len(data[a])) * 100, 2)\n",
    "    print(f'{calc}% - Colno: {counter}')\n",
    "    if calc > 50:\n",
    "        #         print(counter)\n",
    "        toRemove.append(a)"
   ]
  },
  {
   "cell_type": "code",
   "execution_count": 32,
   "metadata": {
    "ExecuteTime": {
     "end_time": "2020-01-26T04:25:28.165831Z",
     "start_time": "2020-01-26T04:25:28.117956Z"
    },
    "scrolled": true
   },
   "outputs": [
    {
     "data": {
      "text/html": [
       "<div>\n",
       "<style scoped>\n",
       "    .dataframe tbody tr th:only-of-type {\n",
       "        vertical-align: middle;\n",
       "    }\n",
       "\n",
       "    .dataframe tbody tr th {\n",
       "        vertical-align: top;\n",
       "    }\n",
       "\n",
       "    .dataframe thead th {\n",
       "        text-align: right;\n",
       "    }\n",
       "</style>\n",
       "<table border=\"1\" class=\"dataframe\">\n",
       "  <thead>\n",
       "    <tr style=\"text-align: right;\">\n",
       "      <th></th>\n",
       "      <th>Are you self-employed?</th>\n",
       "      <th>How many employees does your company or organization have?</th>\n",
       "      <th>Is your employer primarily a tech company/organization?</th>\n",
       "      <th>Does your employer provide mental health benefits as part of healthcare coverage?</th>\n",
       "      <th>Do you know the options for mental health care available under your employer-provided coverage?</th>\n",
       "      <th>Has your employer ever formally discussed mental health (for example, as part of a wellness campaign or other official communication)?</th>\n",
       "      <th>Does your employer offer resources to learn more about mental health concerns and options for seeking help?</th>\n",
       "      <th>Is your anonymity protected if you choose to take advantage of mental health or substance abuse treatment resources provided by your employer?</th>\n",
       "      <th>If a mental health issue prompted you to request a medical leave from work, asking for that leave would be:</th>\n",
       "      <th>Do you think that discussing a mental health disorder with your employer would have negative consequences?</th>\n",
       "      <th>Do you think that discussing a physical health issue with your employer would have negative consequences?</th>\n",
       "      <th>Would you feel comfortable discussing a mental health disorder with your coworkers?</th>\n",
       "      <th>Would you feel comfortable discussing a mental health disorder with your direct supervisor(s)?</th>\n",
       "      <th>Do you feel that your employer takes mental health as seriously as physical health?</th>\n",
       "      <th>Have you heard of or observed negative consequences for co-workers who have been open about mental health issues in your workplace?</th>\n",
       "      <th>Do you have previous employers?</th>\n",
       "      <th>Have your previous employers provided mental health benefits?</th>\n",
       "      <th>Were you aware of the options for mental health care provided by your previous employers?</th>\n",
       "      <th>Did your previous employers ever formally discuss mental health (as part of a wellness campaign or other official communication)?</th>\n",
       "      <th>Did your previous employers provide resources to learn more about mental health issues and how to seek help?</th>\n",
       "      <th>Was your anonymity protected if you chose to take advantage of mental health or substance abuse treatment resources with previous employers?</th>\n",
       "      <th>Do you think that discussing a mental health disorder with previous employers would have negative consequences?</th>\n",
       "      <th>Do you think that discussing a physical health issue with previous employers would have negative consequences?</th>\n",
       "      <th>Would you have been willing to discuss a mental health issue with your previous co-workers?</th>\n",
       "      <th>Would you have been willing to discuss a mental health issue with your direct supervisor(s)?</th>\n",
       "      <th>Did you feel that your previous employers took mental health as seriously as physical health?</th>\n",
       "      <th>Did you hear of or observe negative consequences for co-workers with mental health issues in your previous workplaces?</th>\n",
       "      <th>Would you be willing to bring up a physical health issue with a potential employer in an interview?</th>\n",
       "      <th>Why or why not?</th>\n",
       "      <th>Would you bring up a mental health issue with a potential employer in an interview?</th>\n",
       "      <th>Why or why not?.1</th>\n",
       "      <th>Do you feel that being identified as a person with a mental health issue would hurt your career?</th>\n",
       "      <th>Do you think that team members/co-workers would view you more negatively if they knew you suffered from a mental health issue?</th>\n",
       "      <th>How willing would you be to share with friends and family that you have a mental illness?</th>\n",
       "      <th>Have you observed or experienced an unsupportive or badly handled response to a mental health issue in your current or previous workplace?</th>\n",
       "      <th>Do you have a family history of mental illness?</th>\n",
       "      <th>Have you had a mental health disorder in the past?</th>\n",
       "      <th>Do you currently have a mental health disorder?</th>\n",
       "      <th>Have you been diagnosed with a mental health condition by a medical professional?</th>\n",
       "      <th>Have you ever sought treatment for a mental health issue from a mental health professional?</th>\n",
       "      <th>If you have a mental health issue, do you feel that it interferes with your work when being treated effectively?</th>\n",
       "      <th>If you have a mental health issue, do you feel that it interferes with your work when NOT being treated effectively?</th>\n",
       "      <th>What is your age?</th>\n",
       "      <th>What is your gender?</th>\n",
       "      <th>What country do you live in?</th>\n",
       "      <th>What US state or territory do you live in?</th>\n",
       "      <th>What country do you work in?</th>\n",
       "      <th>What US state or territory do you work in?</th>\n",
       "      <th>Which of the following best describes your work position?</th>\n",
       "      <th>Do you work remotely?</th>\n",
       "    </tr>\n",
       "  </thead>\n",
       "  <tbody>\n",
       "    <tr>\n",
       "      <th>0</th>\n",
       "      <td>0</td>\n",
       "      <td>26-100</td>\n",
       "      <td>1.0</td>\n",
       "      <td>Not eligible for coverage / N/A</td>\n",
       "      <td>NaN</td>\n",
       "      <td>No</td>\n",
       "      <td>No</td>\n",
       "      <td>I don't know</td>\n",
       "      <td>Very easy</td>\n",
       "      <td>No</td>\n",
       "      <td>No</td>\n",
       "      <td>Maybe</td>\n",
       "      <td>Yes</td>\n",
       "      <td>I don't know</td>\n",
       "      <td>No</td>\n",
       "      <td>1</td>\n",
       "      <td>No, none did</td>\n",
       "      <td>N/A (not currently aware)</td>\n",
       "      <td>I don't know</td>\n",
       "      <td>None did</td>\n",
       "      <td>I don't know</td>\n",
       "      <td>Some of them</td>\n",
       "      <td>None of them</td>\n",
       "      <td>Some of my previous employers</td>\n",
       "      <td>Some of my previous employers</td>\n",
       "      <td>I don't know</td>\n",
       "      <td>None of them</td>\n",
       "      <td>Maybe</td>\n",
       "      <td>NaN</td>\n",
       "      <td>Maybe</td>\n",
       "      <td>NaN</td>\n",
       "      <td>Maybe</td>\n",
       "      <td>No, I don't think they would</td>\n",
       "      <td>Somewhat open</td>\n",
       "      <td>No</td>\n",
       "      <td>No</td>\n",
       "      <td>Yes</td>\n",
       "      <td>No</td>\n",
       "      <td>Yes</td>\n",
       "      <td>0</td>\n",
       "      <td>Not applicable to me</td>\n",
       "      <td>Not applicable to me</td>\n",
       "      <td>39</td>\n",
       "      <td>Male</td>\n",
       "      <td>United Kingdom</td>\n",
       "      <td>NaN</td>\n",
       "      <td>United Kingdom</td>\n",
       "      <td>NaN</td>\n",
       "      <td>Back-end Developer</td>\n",
       "      <td>Sometimes</td>\n",
       "    </tr>\n",
       "    <tr>\n",
       "      <th>1</th>\n",
       "      <td>0</td>\n",
       "      <td>6-25</td>\n",
       "      <td>1.0</td>\n",
       "      <td>No</td>\n",
       "      <td>Yes</td>\n",
       "      <td>Yes</td>\n",
       "      <td>Yes</td>\n",
       "      <td>Yes</td>\n",
       "      <td>Somewhat easy</td>\n",
       "      <td>No</td>\n",
       "      <td>No</td>\n",
       "      <td>Maybe</td>\n",
       "      <td>Yes</td>\n",
       "      <td>Yes</td>\n",
       "      <td>No</td>\n",
       "      <td>1</td>\n",
       "      <td>Yes, they all did</td>\n",
       "      <td>I was aware of some</td>\n",
       "      <td>None did</td>\n",
       "      <td>Some did</td>\n",
       "      <td>Yes, always</td>\n",
       "      <td>None of them</td>\n",
       "      <td>None of them</td>\n",
       "      <td>No, at none of my previous employers</td>\n",
       "      <td>Some of my previous employers</td>\n",
       "      <td>Some did</td>\n",
       "      <td>None of them</td>\n",
       "      <td>Maybe</td>\n",
       "      <td>It would depend on the health issue. If there ...</td>\n",
       "      <td>No</td>\n",
       "      <td>While mental health has become a more prominen...</td>\n",
       "      <td>No, I don't think it would</td>\n",
       "      <td>No, I don't think they would</td>\n",
       "      <td>Somewhat open</td>\n",
       "      <td>No</td>\n",
       "      <td>Yes</td>\n",
       "      <td>Yes</td>\n",
       "      <td>Yes</td>\n",
       "      <td>Yes</td>\n",
       "      <td>1</td>\n",
       "      <td>Rarely</td>\n",
       "      <td>Sometimes</td>\n",
       "      <td>29</td>\n",
       "      <td>male</td>\n",
       "      <td>United States of America</td>\n",
       "      <td>Illinois</td>\n",
       "      <td>United States of America</td>\n",
       "      <td>Illinois</td>\n",
       "      <td>Back-end Developer|Front-end Developer</td>\n",
       "      <td>Never</td>\n",
       "    </tr>\n",
       "    <tr>\n",
       "      <th>2</th>\n",
       "      <td>0</td>\n",
       "      <td>6-25</td>\n",
       "      <td>1.0</td>\n",
       "      <td>No</td>\n",
       "      <td>NaN</td>\n",
       "      <td>No</td>\n",
       "      <td>No</td>\n",
       "      <td>I don't know</td>\n",
       "      <td>Neither easy nor difficult</td>\n",
       "      <td>Maybe</td>\n",
       "      <td>No</td>\n",
       "      <td>Maybe</td>\n",
       "      <td>Maybe</td>\n",
       "      <td>I don't know</td>\n",
       "      <td>No</td>\n",
       "      <td>1</td>\n",
       "      <td>No, none did</td>\n",
       "      <td>N/A (not currently aware)</td>\n",
       "      <td>None did</td>\n",
       "      <td>Some did</td>\n",
       "      <td>I don't know</td>\n",
       "      <td>I don't know</td>\n",
       "      <td>Some of them</td>\n",
       "      <td>Some of my previous employers</td>\n",
       "      <td>I don't know</td>\n",
       "      <td>I don't know</td>\n",
       "      <td>Some of them</td>\n",
       "      <td>Yes</td>\n",
       "      <td>They would provable need to know, to Judge if ...</td>\n",
       "      <td>Yes</td>\n",
       "      <td>Stigma, mainly.</td>\n",
       "      <td>Maybe</td>\n",
       "      <td>Maybe</td>\n",
       "      <td>Somewhat open</td>\n",
       "      <td>Maybe/Not sure</td>\n",
       "      <td>No</td>\n",
       "      <td>Maybe</td>\n",
       "      <td>No</td>\n",
       "      <td>No</td>\n",
       "      <td>1</td>\n",
       "      <td>Not applicable to me</td>\n",
       "      <td>Not applicable to me</td>\n",
       "      <td>38</td>\n",
       "      <td>Male</td>\n",
       "      <td>United Kingdom</td>\n",
       "      <td>NaN</td>\n",
       "      <td>United Kingdom</td>\n",
       "      <td>NaN</td>\n",
       "      <td>Back-end Developer</td>\n",
       "      <td>Always</td>\n",
       "    </tr>\n",
       "    <tr>\n",
       "      <th>3</th>\n",
       "      <td>1</td>\n",
       "      <td>NaN</td>\n",
       "      <td>NaN</td>\n",
       "      <td>NaN</td>\n",
       "      <td>NaN</td>\n",
       "      <td>NaN</td>\n",
       "      <td>NaN</td>\n",
       "      <td>NaN</td>\n",
       "      <td>NaN</td>\n",
       "      <td>NaN</td>\n",
       "      <td>NaN</td>\n",
       "      <td>NaN</td>\n",
       "      <td>NaN</td>\n",
       "      <td>NaN</td>\n",
       "      <td>NaN</td>\n",
       "      <td>1</td>\n",
       "      <td>Some did</td>\n",
       "      <td>N/A (not currently aware)</td>\n",
       "      <td>None did</td>\n",
       "      <td>None did</td>\n",
       "      <td>I don't know</td>\n",
       "      <td>Some of them</td>\n",
       "      <td>Some of them</td>\n",
       "      <td>Some of my previous employers</td>\n",
       "      <td>Some of my previous employers</td>\n",
       "      <td>I don't know</td>\n",
       "      <td>Some of them</td>\n",
       "      <td>Yes</td>\n",
       "      <td>old back injury, doesn't cause me many issues ...</td>\n",
       "      <td>Maybe</td>\n",
       "      <td>would not if I was not 100% sure that the disc...</td>\n",
       "      <td>Yes, I think it would</td>\n",
       "      <td>Maybe</td>\n",
       "      <td>Neutral</td>\n",
       "      <td>No</td>\n",
       "      <td>No</td>\n",
       "      <td>Yes</td>\n",
       "      <td>Yes</td>\n",
       "      <td>Yes</td>\n",
       "      <td>1</td>\n",
       "      <td>Sometimes</td>\n",
       "      <td>Sometimes</td>\n",
       "      <td>43</td>\n",
       "      <td>male</td>\n",
       "      <td>United Kingdom</td>\n",
       "      <td>NaN</td>\n",
       "      <td>United Kingdom</td>\n",
       "      <td>NaN</td>\n",
       "      <td>Supervisor/Team Lead</td>\n",
       "      <td>Sometimes</td>\n",
       "    </tr>\n",
       "    <tr>\n",
       "      <th>4</th>\n",
       "      <td>0</td>\n",
       "      <td>6-25</td>\n",
       "      <td>0.0</td>\n",
       "      <td>Yes</td>\n",
       "      <td>Yes</td>\n",
       "      <td>No</td>\n",
       "      <td>No</td>\n",
       "      <td>No</td>\n",
       "      <td>Neither easy nor difficult</td>\n",
       "      <td>Yes</td>\n",
       "      <td>Maybe</td>\n",
       "      <td>Maybe</td>\n",
       "      <td>No</td>\n",
       "      <td>No</td>\n",
       "      <td>No</td>\n",
       "      <td>1</td>\n",
       "      <td>I don't know</td>\n",
       "      <td>N/A (not currently aware)</td>\n",
       "      <td>Some did</td>\n",
       "      <td>None did</td>\n",
       "      <td>I don't know</td>\n",
       "      <td>Some of them</td>\n",
       "      <td>Some of them</td>\n",
       "      <td>No, at none of my previous employers</td>\n",
       "      <td>Some of my previous employers</td>\n",
       "      <td>Some did</td>\n",
       "      <td>Some of them</td>\n",
       "      <td>Maybe</td>\n",
       "      <td>Depending on the interview stage and whether I...</td>\n",
       "      <td>No</td>\n",
       "      <td>I don't know</td>\n",
       "      <td>Yes, I think it would</td>\n",
       "      <td>Maybe</td>\n",
       "      <td>Somewhat open</td>\n",
       "      <td>Yes, I experienced</td>\n",
       "      <td>Yes</td>\n",
       "      <td>Yes</td>\n",
       "      <td>Yes</td>\n",
       "      <td>Yes</td>\n",
       "      <td>1</td>\n",
       "      <td>Sometimes</td>\n",
       "      <td>Sometimes</td>\n",
       "      <td>43</td>\n",
       "      <td>Female</td>\n",
       "      <td>United States of America</td>\n",
       "      <td>Illinois</td>\n",
       "      <td>United States of America</td>\n",
       "      <td>Illinois</td>\n",
       "      <td>Executive Leadership|Supervisor/Team Lead|Dev ...</td>\n",
       "      <td>Sometimes</td>\n",
       "    </tr>\n",
       "  </tbody>\n",
       "</table>\n",
       "</div>"
      ],
      "text/plain": [
       "   Are you self-employed?  \\\n",
       "0                       0   \n",
       "1                       0   \n",
       "2                       0   \n",
       "3                       1   \n",
       "4                       0   \n",
       "\n",
       "  How many employees does your company or organization have?  \\\n",
       "0                                             26-100           \n",
       "1                                               6-25           \n",
       "2                                               6-25           \n",
       "3                                                NaN           \n",
       "4                                               6-25           \n",
       "\n",
       "   Is your employer primarily a tech company/organization?  \\\n",
       "0                                                1.0         \n",
       "1                                                1.0         \n",
       "2                                                1.0         \n",
       "3                                                NaN         \n",
       "4                                                0.0         \n",
       "\n",
       "  Does your employer provide mental health benefits as part of healthcare coverage?  \\\n",
       "0                    Not eligible for coverage / N/A                                  \n",
       "1                                                 No                                  \n",
       "2                                                 No                                  \n",
       "3                                                NaN                                  \n",
       "4                                                Yes                                  \n",
       "\n",
       "  Do you know the options for mental health care available under your employer-provided coverage?  \\\n",
       "0                                                NaN                                                \n",
       "1                                                Yes                                                \n",
       "2                                                NaN                                                \n",
       "3                                                NaN                                                \n",
       "4                                                Yes                                                \n",
       "\n",
       "  Has your employer ever formally discussed mental health (for example, as part of a wellness campaign or other official communication)?  \\\n",
       "0                                                 No                                                                                       \n",
       "1                                                Yes                                                                                       \n",
       "2                                                 No                                                                                       \n",
       "3                                                NaN                                                                                       \n",
       "4                                                 No                                                                                       \n",
       "\n",
       "  Does your employer offer resources to learn more about mental health concerns and options for seeking help?  \\\n",
       "0                                                 No                                                            \n",
       "1                                                Yes                                                            \n",
       "2                                                 No                                                            \n",
       "3                                                NaN                                                            \n",
       "4                                                 No                                                            \n",
       "\n",
       "  Is your anonymity protected if you choose to take advantage of mental health or substance abuse treatment resources provided by your employer?  \\\n",
       "0                                       I don't know                                                                                               \n",
       "1                                                Yes                                                                                               \n",
       "2                                       I don't know                                                                                               \n",
       "3                                                NaN                                                                                               \n",
       "4                                                 No                                                                                               \n",
       "\n",
       "  If a mental health issue prompted you to request a medical leave from work, asking for that leave would be:  \\\n",
       "0                                          Very easy                                                            \n",
       "1                                      Somewhat easy                                                            \n",
       "2                         Neither easy nor difficult                                                            \n",
       "3                                                NaN                                                            \n",
       "4                         Neither easy nor difficult                                                            \n",
       "\n",
       "  Do you think that discussing a mental health disorder with your employer would have negative consequences?  \\\n",
       "0                                                 No                                                           \n",
       "1                                                 No                                                           \n",
       "2                                              Maybe                                                           \n",
       "3                                                NaN                                                           \n",
       "4                                                Yes                                                           \n",
       "\n",
       "  Do you think that discussing a physical health issue with your employer would have negative consequences?  \\\n",
       "0                                                 No                                                          \n",
       "1                                                 No                                                          \n",
       "2                                                 No                                                          \n",
       "3                                                NaN                                                          \n",
       "4                                              Maybe                                                          \n",
       "\n",
       "  Would you feel comfortable discussing a mental health disorder with your coworkers?  \\\n",
       "0                                              Maybe                                    \n",
       "1                                              Maybe                                    \n",
       "2                                              Maybe                                    \n",
       "3                                                NaN                                    \n",
       "4                                              Maybe                                    \n",
       "\n",
       "  Would you feel comfortable discussing a mental health disorder with your direct supervisor(s)?  \\\n",
       "0                                                Yes                                               \n",
       "1                                                Yes                                               \n",
       "2                                              Maybe                                               \n",
       "3                                                NaN                                               \n",
       "4                                                 No                                               \n",
       "\n",
       "  Do you feel that your employer takes mental health as seriously as physical health?  \\\n",
       "0                                       I don't know                                    \n",
       "1                                                Yes                                    \n",
       "2                                       I don't know                                    \n",
       "3                                                NaN                                    \n",
       "4                                                 No                                    \n",
       "\n",
       "  Have you heard of or observed negative consequences for co-workers who have been open about mental health issues in your workplace?  \\\n",
       "0                                                 No                                                                                    \n",
       "1                                                 No                                                                                    \n",
       "2                                                 No                                                                                    \n",
       "3                                                NaN                                                                                    \n",
       "4                                                 No                                                                                    \n",
       "\n",
       "   Do you have previous employers?  \\\n",
       "0                                1   \n",
       "1                                1   \n",
       "2                                1   \n",
       "3                                1   \n",
       "4                                1   \n",
       "\n",
       "  Have your previous employers provided mental health benefits?  \\\n",
       "0                                       No, none did              \n",
       "1                                  Yes, they all did              \n",
       "2                                       No, none did              \n",
       "3                                           Some did              \n",
       "4                                       I don't know              \n",
       "\n",
       "  Were you aware of the options for mental health care provided by your previous employers?  \\\n",
       "0                          N/A (not currently aware)                                          \n",
       "1                                I was aware of some                                          \n",
       "2                          N/A (not currently aware)                                          \n",
       "3                          N/A (not currently aware)                                          \n",
       "4                          N/A (not currently aware)                                          \n",
       "\n",
       "  Did your previous employers ever formally discuss mental health (as part of a wellness campaign or other official communication)?  \\\n",
       "0                                       I don't know                                                                                  \n",
       "1                                           None did                                                                                  \n",
       "2                                           None did                                                                                  \n",
       "3                                           None did                                                                                  \n",
       "4                                           Some did                                                                                  \n",
       "\n",
       "  Did your previous employers provide resources to learn more about mental health issues and how to seek help?  \\\n",
       "0                                           None did                                                             \n",
       "1                                           Some did                                                             \n",
       "2                                           Some did                                                             \n",
       "3                                           None did                                                             \n",
       "4                                           None did                                                             \n",
       "\n",
       "  Was your anonymity protected if you chose to take advantage of mental health or substance abuse treatment resources with previous employers?  \\\n",
       "0                                       I don't know                                                                                             \n",
       "1                                        Yes, always                                                                                             \n",
       "2                                       I don't know                                                                                             \n",
       "3                                       I don't know                                                                                             \n",
       "4                                       I don't know                                                                                             \n",
       "\n",
       "  Do you think that discussing a mental health disorder with previous employers would have negative consequences?  \\\n",
       "0                                       Some of them                                                                \n",
       "1                                       None of them                                                                \n",
       "2                                       I don't know                                                                \n",
       "3                                       Some of them                                                                \n",
       "4                                       Some of them                                                                \n",
       "\n",
       "  Do you think that discussing a physical health issue with previous employers would have negative consequences?  \\\n",
       "0                                       None of them                                                               \n",
       "1                                       None of them                                                               \n",
       "2                                       Some of them                                                               \n",
       "3                                       Some of them                                                               \n",
       "4                                       Some of them                                                               \n",
       "\n",
       "  Would you have been willing to discuss a mental health issue with your previous co-workers?  \\\n",
       "0                      Some of my previous employers                                            \n",
       "1               No, at none of my previous employers                                            \n",
       "2                      Some of my previous employers                                            \n",
       "3                      Some of my previous employers                                            \n",
       "4               No, at none of my previous employers                                            \n",
       "\n",
       "  Would you have been willing to discuss a mental health issue with your direct supervisor(s)?  \\\n",
       "0                      Some of my previous employers                                             \n",
       "1                      Some of my previous employers                                             \n",
       "2                                       I don't know                                             \n",
       "3                      Some of my previous employers                                             \n",
       "4                      Some of my previous employers                                             \n",
       "\n",
       "  Did you feel that your previous employers took mental health as seriously as physical health?  \\\n",
       "0                                       I don't know                                              \n",
       "1                                           Some did                                              \n",
       "2                                       I don't know                                              \n",
       "3                                       I don't know                                              \n",
       "4                                           Some did                                              \n",
       "\n",
       "  Did you hear of or observe negative consequences for co-workers with mental health issues in your previous workplaces?  \\\n",
       "0                                       None of them                                                                       \n",
       "1                                       None of them                                                                       \n",
       "2                                       Some of them                                                                       \n",
       "3                                       Some of them                                                                       \n",
       "4                                       Some of them                                                                       \n",
       "\n",
       "  Would you be willing to bring up a physical health issue with a potential employer in an interview?  \\\n",
       "0                                              Maybe                                                    \n",
       "1                                              Maybe                                                    \n",
       "2                                                Yes                                                    \n",
       "3                                                Yes                                                    \n",
       "4                                              Maybe                                                    \n",
       "\n",
       "                                     Why or why not?  \\\n",
       "0                                                NaN   \n",
       "1  It would depend on the health issue. If there ...   \n",
       "2  They would provable need to know, to Judge if ...   \n",
       "3  old back injury, doesn't cause me many issues ...   \n",
       "4  Depending on the interview stage and whether I...   \n",
       "\n",
       "  Would you bring up a mental health issue with a potential employer in an interview?  \\\n",
       "0                                              Maybe                                    \n",
       "1                                                 No                                    \n",
       "2                                                Yes                                    \n",
       "3                                              Maybe                                    \n",
       "4                                                 No                                    \n",
       "\n",
       "                                   Why or why not?.1  \\\n",
       "0                                                NaN   \n",
       "1  While mental health has become a more prominen...   \n",
       "2                                   Stigma, mainly.    \n",
       "3  would not if I was not 100% sure that the disc...   \n",
       "4                                       I don't know   \n",
       "\n",
       "  Do you feel that being identified as a person with a mental health issue would hurt your career?  \\\n",
       "0                                              Maybe                                                 \n",
       "1                         No, I don't think it would                                                 \n",
       "2                                              Maybe                                                 \n",
       "3                              Yes, I think it would                                                 \n",
       "4                              Yes, I think it would                                                 \n",
       "\n",
       "  Do you think that team members/co-workers would view you more negatively if they knew you suffered from a mental health issue?  \\\n",
       "0                       No, I don't think they would                                                                               \n",
       "1                       No, I don't think they would                                                                               \n",
       "2                                              Maybe                                                                               \n",
       "3                                              Maybe                                                                               \n",
       "4                                              Maybe                                                                               \n",
       "\n",
       "  How willing would you be to share with friends and family that you have a mental illness?  \\\n",
       "0                                      Somewhat open                                          \n",
       "1                                      Somewhat open                                          \n",
       "2                                      Somewhat open                                          \n",
       "3                                            Neutral                                          \n",
       "4                                      Somewhat open                                          \n",
       "\n",
       "  Have you observed or experienced an unsupportive or badly handled response to a mental health issue in your current or previous workplace?  \\\n",
       "0                                                 No                                                                                           \n",
       "1                                                 No                                                                                           \n",
       "2                                     Maybe/Not sure                                                                                           \n",
       "3                                                 No                                                                                           \n",
       "4                                 Yes, I experienced                                                                                           \n",
       "\n",
       "  Do you have a family history of mental illness?  \\\n",
       "0                                              No   \n",
       "1                                             Yes   \n",
       "2                                              No   \n",
       "3                                              No   \n",
       "4                                             Yes   \n",
       "\n",
       "  Have you had a mental health disorder in the past?  \\\n",
       "0                                                Yes   \n",
       "1                                                Yes   \n",
       "2                                              Maybe   \n",
       "3                                                Yes   \n",
       "4                                                Yes   \n",
       "\n",
       "  Do you currently have a mental health disorder?  \\\n",
       "0                                              No   \n",
       "1                                             Yes   \n",
       "2                                              No   \n",
       "3                                             Yes   \n",
       "4                                             Yes   \n",
       "\n",
       "  Have you been diagnosed with a mental health condition by a medical professional?  \\\n",
       "0                                                Yes                                  \n",
       "1                                                Yes                                  \n",
       "2                                                 No                                  \n",
       "3                                                Yes                                  \n",
       "4                                                Yes                                  \n",
       "\n",
       "   Have you ever sought treatment for a mental health issue from a mental health professional?  \\\n",
       "0                                                  0                                             \n",
       "1                                                  1                                             \n",
       "2                                                  1                                             \n",
       "3                                                  1                                             \n",
       "4                                                  1                                             \n",
       "\n",
       "  If you have a mental health issue, do you feel that it interferes with your work when being treated effectively?  \\\n",
       "0                               Not applicable to me                                                                 \n",
       "1                                             Rarely                                                                 \n",
       "2                               Not applicable to me                                                                 \n",
       "3                                          Sometimes                                                                 \n",
       "4                                          Sometimes                                                                 \n",
       "\n",
       "  If you have a mental health issue, do you feel that it interferes with your work when NOT being treated effectively?  \\\n",
       "0                               Not applicable to me                                                                     \n",
       "1                                          Sometimes                                                                     \n",
       "2                               Not applicable to me                                                                     \n",
       "3                                          Sometimes                                                                     \n",
       "4                                          Sometimes                                                                     \n",
       "\n",
       "   What is your age? What is your gender? What country do you live in?  \\\n",
       "0                 39                 Male               United Kingdom   \n",
       "1                 29                 male     United States of America   \n",
       "2                 38                Male                United Kingdom   \n",
       "3                 43                 male               United Kingdom   \n",
       "4                 43               Female     United States of America   \n",
       "\n",
       "  What US state or territory do you live in? What country do you work in?  \\\n",
       "0                                        NaN               United Kingdom   \n",
       "1                                   Illinois     United States of America   \n",
       "2                                        NaN               United Kingdom   \n",
       "3                                        NaN               United Kingdom   \n",
       "4                                   Illinois     United States of America   \n",
       "\n",
       "  What US state or territory do you work in?  \\\n",
       "0                                        NaN   \n",
       "1                                   Illinois   \n",
       "2                                        NaN   \n",
       "3                                        NaN   \n",
       "4                                   Illinois   \n",
       "\n",
       "  Which of the following best describes your work position?  \\\n",
       "0                                 Back-end Developer          \n",
       "1             Back-end Developer|Front-end Developer          \n",
       "2                                 Back-end Developer          \n",
       "3                               Supervisor/Team Lead          \n",
       "4  Executive Leadership|Supervisor/Team Lead|Dev ...          \n",
       "\n",
       "  Do you work remotely?  \n",
       "0             Sometimes  \n",
       "1                 Never  \n",
       "2                Always  \n",
       "3             Sometimes  \n",
       "4             Sometimes  "
      ]
     },
     "execution_count": 32,
     "metadata": {},
     "output_type": "execute_result"
    }
   ],
   "source": [
    "data = data.drop(toRemove, axis=1)\n",
    "data.head()"
   ]
  },
  {
   "cell_type": "markdown",
   "metadata": {},
   "source": [
    "## Fix work pos column"
   ]
  },
  {
   "cell_type": "code",
   "execution_count": 33,
   "metadata": {
    "ExecuteTime": {
     "end_time": "2020-01-26T04:25:28.179791Z",
     "start_time": "2020-01-26T04:25:28.168820Z"
    }
   },
   "outputs": [
    {
     "data": {
      "text/plain": [
       "{'Back-end Developer': 1,\n",
       " 'Front-end Developer': 2,\n",
       " 'Supervisor/Team Lead': 3,\n",
       " 'Executive Leadership': 4,\n",
       " 'Dev Evangelist/Advocate': 5,\n",
       " 'DevOps/SysAdmin': 6,\n",
       " 'Support': 7,\n",
       " 'Designer': 8,\n",
       " 'One-person shop': 9,\n",
       " 'Other': 10,\n",
       " 'Sales': 11,\n",
       " 'HR': 12}"
      ]
     },
     "execution_count": 33,
     "metadata": {},
     "output_type": "execute_result"
    }
   ],
   "source": [
    "actual_cat = []\n",
    "for a in data[\n",
    "        'Which of the following best describes your work position?'].str.split(\n",
    "            '|'):\n",
    "    for b in a:\n",
    "        if b not in actual_cat: actual_cat.append(b)\n",
    "\n",
    "d = {actual_cat[a]: a + 1\n",
    "     for a in range(len(actual_cat))}\n",
    "d"
   ]
  },
  {
   "cell_type": "code",
   "execution_count": 34,
   "metadata": {
    "ExecuteTime": {
     "end_time": "2020-01-26T04:25:28.185775Z",
     "start_time": "2020-01-26T04:25:28.181806Z"
    }
   },
   "outputs": [],
   "source": [
    "def fixer(x):\n",
    "    x = x.split('|')\n",
    "    temp = [d[a] for a in x]\n",
    "    #     print(temp)\n",
    "    return sum(temp)"
   ]
  },
  {
   "cell_type": "code",
   "execution_count": 35,
   "metadata": {
    "ExecuteTime": {
     "end_time": "2020-01-26T04:25:28.192756Z",
     "start_time": "2020-01-26T04:25:28.187770Z"
    }
   },
   "outputs": [
    {
     "data": {
      "text/plain": [
       "3"
      ]
     },
     "execution_count": 35,
     "metadata": {},
     "output_type": "execute_result"
    }
   ],
   "source": [
    "fixer(\"Back-end Developer|Front-end Developer\")"
   ]
  },
  {
   "cell_type": "code",
   "execution_count": 36,
   "metadata": {
    "ExecuteTime": {
     "end_time": "2020-01-26T04:25:28.202732Z",
     "start_time": "2020-01-26T04:25:28.194751Z"
    }
   },
   "outputs": [],
   "source": [
    "data['Which of the following best describes your work position?'] = data[\n",
    "    'Which of the following best describes your work position?'].apply(fixer)"
   ]
  },
  {
   "cell_type": "markdown",
   "metadata": {},
   "source": [
    "## Convert categorical to numerical"
   ]
  },
  {
   "cell_type": "code",
   "execution_count": 37,
   "metadata": {
    "ExecuteTime": {
     "end_time": "2020-01-26T04:25:28.213702Z",
     "start_time": "2020-01-26T04:25:28.204725Z"
    },
    "scrolled": true
   },
   "outputs": [
    {
     "data": {
      "text/plain": [
       "['How many employees does your company or organization have?',\n",
       " 'Does your employer provide mental health benefits as part of healthcare coverage?',\n",
       " 'Do you know the options for mental health care available under your employer-provided coverage?',\n",
       " 'Has your employer ever formally discussed mental health (for example, as part of a wellness campaign or other official communication)?',\n",
       " 'Does your employer offer resources to learn more about mental health concerns and options for seeking help?',\n",
       " 'Is your anonymity protected if you choose to take advantage of mental health or substance abuse treatment resources provided by your employer?',\n",
       " 'If a mental health issue prompted you to request a medical leave from work, asking for that leave would be:',\n",
       " 'Do you think that discussing a mental health disorder with your employer would have negative consequences?',\n",
       " 'Do you think that discussing a physical health issue with your employer would have negative consequences?',\n",
       " 'Would you feel comfortable discussing a mental health disorder with your coworkers?',\n",
       " 'Would you feel comfortable discussing a mental health disorder with your direct supervisor(s)?',\n",
       " 'Do you feel that your employer takes mental health as seriously as physical health?',\n",
       " 'Have you heard of or observed negative consequences for co-workers who have been open about mental health issues in your workplace?',\n",
       " 'Have your previous employers provided mental health benefits?',\n",
       " 'Were you aware of the options for mental health care provided by your previous employers?',\n",
       " 'Did your previous employers ever formally discuss mental health (as part of a wellness campaign or other official communication)?',\n",
       " 'Did your previous employers provide resources to learn more about mental health issues and how to seek help?',\n",
       " 'Was your anonymity protected if you chose to take advantage of mental health or substance abuse treatment resources with previous employers?',\n",
       " 'Do you think that discussing a mental health disorder with previous employers would have negative consequences?',\n",
       " 'Do you think that discussing a physical health issue with previous employers would have negative consequences?',\n",
       " 'Would you have been willing to discuss a mental health issue with your previous co-workers?',\n",
       " 'Would you have been willing to discuss a mental health issue with your direct supervisor(s)?',\n",
       " 'Did you feel that your previous employers took mental health as seriously as physical health?',\n",
       " 'Did you hear of or observe negative consequences for co-workers with mental health issues in your previous workplaces?',\n",
       " 'Would you be willing to bring up a physical health issue with a potential employer in an interview?',\n",
       " 'Why or why not?',\n",
       " 'Would you bring up a mental health issue with a potential employer in an interview?',\n",
       " 'Why or why not?.1',\n",
       " 'Do you feel that being identified as a person with a mental health issue would hurt your career?',\n",
       " 'Do you think that team members/co-workers would view you more negatively if they knew you suffered from a mental health issue?',\n",
       " 'How willing would you be to share with friends and family that you have a mental illness?',\n",
       " 'Have you observed or experienced an unsupportive or badly handled response to a mental health issue in your current or previous workplace?',\n",
       " 'Do you have a family history of mental illness?',\n",
       " 'Have you had a mental health disorder in the past?',\n",
       " 'Do you currently have a mental health disorder?',\n",
       " 'Have you been diagnosed with a mental health condition by a medical professional?',\n",
       " 'If you have a mental health issue, do you feel that it interferes with your work when being treated effectively?',\n",
       " 'If you have a mental health issue, do you feel that it interferes with your work when NOT being treated effectively?',\n",
       " 'What is your gender?',\n",
       " 'What country do you live in?',\n",
       " 'What US state or territory do you live in?',\n",
       " 'What country do you work in?',\n",
       " 'What US state or territory do you work in?',\n",
       " 'Do you work remotely?']"
      ]
     },
     "execution_count": 37,
     "metadata": {},
     "output_type": "execute_result"
    }
   ],
   "source": [
    "cat_columns = [x for x in data.columns if data[x].dtypes == object]\n",
    "cat_columns"
   ]
  },
  {
   "cell_type": "code",
   "execution_count": 38,
   "metadata": {
    "ExecuteTime": {
     "end_time": "2020-01-26T04:25:28.231653Z",
     "start_time": "2020-01-26T04:25:28.215695Z"
    }
   },
   "outputs": [],
   "source": [
    "data = data.fillna(0)"
   ]
  },
  {
   "cell_type": "code",
   "execution_count": 39,
   "metadata": {
    "ExecuteTime": {
     "end_time": "2020-01-26T04:25:28.239632Z",
     "start_time": "2020-01-26T04:25:28.232651Z"
    }
   },
   "outputs": [
    {
     "data": {
      "text/plain": [
       "array(['26-100', '6-25', 0, 'More than 1000', '100-500', '500-1000',\n",
       "       '1-5'], dtype=object)"
      ]
     },
     "execution_count": 39,
     "metadata": {},
     "output_type": "execute_result"
    }
   ],
   "source": [
    "data[cat_columns[0]].unique()"
   ]
  },
  {
   "cell_type": "code",
   "execution_count": 40,
   "metadata": {
    "ExecuteTime": {
     "end_time": "2020-01-26T04:25:28.245616Z",
     "start_time": "2020-01-26T04:25:28.241625Z"
    }
   },
   "outputs": [],
   "source": [
    "# for a in cat_columns:\n",
    "#     data[a] = data[a].astype('category').cat.codes"
   ]
  },
  {
   "cell_type": "code",
   "execution_count": 41,
   "metadata": {
    "ExecuteTime": {
     "end_time": "2020-01-26T04:25:28.252596Z",
     "start_time": "2020-01-26T04:25:28.247610Z"
    }
   },
   "outputs": [],
   "source": [
    "pd.set_option('display.max_columns', 100)"
   ]
  },
  {
   "cell_type": "code",
   "execution_count": 42,
   "metadata": {
    "ExecuteTime": {
     "end_time": "2020-01-26T04:25:28.298473Z",
     "start_time": "2020-01-26T04:25:28.254592Z"
    },
    "scrolled": true
   },
   "outputs": [
    {
     "data": {
      "text/html": [
       "<div>\n",
       "<style scoped>\n",
       "    .dataframe tbody tr th:only-of-type {\n",
       "        vertical-align: middle;\n",
       "    }\n",
       "\n",
       "    .dataframe tbody tr th {\n",
       "        vertical-align: top;\n",
       "    }\n",
       "\n",
       "    .dataframe thead th {\n",
       "        text-align: right;\n",
       "    }\n",
       "</style>\n",
       "<table border=\"1\" class=\"dataframe\">\n",
       "  <thead>\n",
       "    <tr style=\"text-align: right;\">\n",
       "      <th></th>\n",
       "      <th>Are you self-employed?</th>\n",
       "      <th>How many employees does your company or organization have?</th>\n",
       "      <th>Is your employer primarily a tech company/organization?</th>\n",
       "      <th>Does your employer provide mental health benefits as part of healthcare coverage?</th>\n",
       "      <th>Do you know the options for mental health care available under your employer-provided coverage?</th>\n",
       "      <th>Has your employer ever formally discussed mental health (for example, as part of a wellness campaign or other official communication)?</th>\n",
       "      <th>Does your employer offer resources to learn more about mental health concerns and options for seeking help?</th>\n",
       "      <th>Is your anonymity protected if you choose to take advantage of mental health or substance abuse treatment resources provided by your employer?</th>\n",
       "      <th>If a mental health issue prompted you to request a medical leave from work, asking for that leave would be:</th>\n",
       "      <th>Do you think that discussing a mental health disorder with your employer would have negative consequences?</th>\n",
       "      <th>Do you think that discussing a physical health issue with your employer would have negative consequences?</th>\n",
       "      <th>Would you feel comfortable discussing a mental health disorder with your coworkers?</th>\n",
       "      <th>Would you feel comfortable discussing a mental health disorder with your direct supervisor(s)?</th>\n",
       "      <th>Do you feel that your employer takes mental health as seriously as physical health?</th>\n",
       "      <th>Have you heard of or observed negative consequences for co-workers who have been open about mental health issues in your workplace?</th>\n",
       "      <th>Do you have previous employers?</th>\n",
       "      <th>Have your previous employers provided mental health benefits?</th>\n",
       "      <th>Were you aware of the options for mental health care provided by your previous employers?</th>\n",
       "      <th>Did your previous employers ever formally discuss mental health (as part of a wellness campaign or other official communication)?</th>\n",
       "      <th>Did your previous employers provide resources to learn more about mental health issues and how to seek help?</th>\n",
       "      <th>Was your anonymity protected if you chose to take advantage of mental health or substance abuse treatment resources with previous employers?</th>\n",
       "      <th>Do you think that discussing a mental health disorder with previous employers would have negative consequences?</th>\n",
       "      <th>Do you think that discussing a physical health issue with previous employers would have negative consequences?</th>\n",
       "      <th>Would you have been willing to discuss a mental health issue with your previous co-workers?</th>\n",
       "      <th>Would you have been willing to discuss a mental health issue with your direct supervisor(s)?</th>\n",
       "      <th>Did you feel that your previous employers took mental health as seriously as physical health?</th>\n",
       "      <th>Did you hear of or observe negative consequences for co-workers with mental health issues in your previous workplaces?</th>\n",
       "      <th>Would you be willing to bring up a physical health issue with a potential employer in an interview?</th>\n",
       "      <th>Why or why not?</th>\n",
       "      <th>Would you bring up a mental health issue with a potential employer in an interview?</th>\n",
       "      <th>Why or why not?.1</th>\n",
       "      <th>Do you feel that being identified as a person with a mental health issue would hurt your career?</th>\n",
       "      <th>Do you think that team members/co-workers would view you more negatively if they knew you suffered from a mental health issue?</th>\n",
       "      <th>How willing would you be to share with friends and family that you have a mental illness?</th>\n",
       "      <th>Have you observed or experienced an unsupportive or badly handled response to a mental health issue in your current or previous workplace?</th>\n",
       "      <th>Do you have a family history of mental illness?</th>\n",
       "      <th>Have you had a mental health disorder in the past?</th>\n",
       "      <th>Do you currently have a mental health disorder?</th>\n",
       "      <th>Have you been diagnosed with a mental health condition by a medical professional?</th>\n",
       "      <th>Have you ever sought treatment for a mental health issue from a mental health professional?</th>\n",
       "      <th>If you have a mental health issue, do you feel that it interferes with your work when being treated effectively?</th>\n",
       "      <th>If you have a mental health issue, do you feel that it interferes with your work when NOT being treated effectively?</th>\n",
       "      <th>What is your age?</th>\n",
       "      <th>What is your gender?</th>\n",
       "      <th>What country do you live in?</th>\n",
       "      <th>What US state or territory do you live in?</th>\n",
       "      <th>What country do you work in?</th>\n",
       "      <th>What US state or territory do you work in?</th>\n",
       "      <th>Which of the following best describes your work position?</th>\n",
       "      <th>Do you work remotely?</th>\n",
       "    </tr>\n",
       "  </thead>\n",
       "  <tbody>\n",
       "    <tr>\n",
       "      <th>0</th>\n",
       "      <td>0</td>\n",
       "      <td>26-100</td>\n",
       "      <td>1.0</td>\n",
       "      <td>Not eligible for coverage / N/A</td>\n",
       "      <td>0</td>\n",
       "      <td>No</td>\n",
       "      <td>No</td>\n",
       "      <td>I don't know</td>\n",
       "      <td>Very easy</td>\n",
       "      <td>No</td>\n",
       "      <td>No</td>\n",
       "      <td>Maybe</td>\n",
       "      <td>Yes</td>\n",
       "      <td>I don't know</td>\n",
       "      <td>No</td>\n",
       "      <td>1</td>\n",
       "      <td>No, none did</td>\n",
       "      <td>N/A (not currently aware)</td>\n",
       "      <td>I don't know</td>\n",
       "      <td>None did</td>\n",
       "      <td>I don't know</td>\n",
       "      <td>Some of them</td>\n",
       "      <td>None of them</td>\n",
       "      <td>Some of my previous employers</td>\n",
       "      <td>Some of my previous employers</td>\n",
       "      <td>I don't know</td>\n",
       "      <td>None of them</td>\n",
       "      <td>Maybe</td>\n",
       "      <td>0</td>\n",
       "      <td>Maybe</td>\n",
       "      <td>0</td>\n",
       "      <td>Maybe</td>\n",
       "      <td>No, I don't think they would</td>\n",
       "      <td>Somewhat open</td>\n",
       "      <td>No</td>\n",
       "      <td>No</td>\n",
       "      <td>Yes</td>\n",
       "      <td>No</td>\n",
       "      <td>Yes</td>\n",
       "      <td>0</td>\n",
       "      <td>Not applicable to me</td>\n",
       "      <td>Not applicable to me</td>\n",
       "      <td>39</td>\n",
       "      <td>Male</td>\n",
       "      <td>United Kingdom</td>\n",
       "      <td>0</td>\n",
       "      <td>United Kingdom</td>\n",
       "      <td>0</td>\n",
       "      <td>1</td>\n",
       "      <td>Sometimes</td>\n",
       "    </tr>\n",
       "    <tr>\n",
       "      <th>1</th>\n",
       "      <td>0</td>\n",
       "      <td>6-25</td>\n",
       "      <td>1.0</td>\n",
       "      <td>No</td>\n",
       "      <td>Yes</td>\n",
       "      <td>Yes</td>\n",
       "      <td>Yes</td>\n",
       "      <td>Yes</td>\n",
       "      <td>Somewhat easy</td>\n",
       "      <td>No</td>\n",
       "      <td>No</td>\n",
       "      <td>Maybe</td>\n",
       "      <td>Yes</td>\n",
       "      <td>Yes</td>\n",
       "      <td>No</td>\n",
       "      <td>1</td>\n",
       "      <td>Yes, they all did</td>\n",
       "      <td>I was aware of some</td>\n",
       "      <td>None did</td>\n",
       "      <td>Some did</td>\n",
       "      <td>Yes, always</td>\n",
       "      <td>None of them</td>\n",
       "      <td>None of them</td>\n",
       "      <td>No, at none of my previous employers</td>\n",
       "      <td>Some of my previous employers</td>\n",
       "      <td>Some did</td>\n",
       "      <td>None of them</td>\n",
       "      <td>Maybe</td>\n",
       "      <td>It would depend on the health issue. If there ...</td>\n",
       "      <td>No</td>\n",
       "      <td>While mental health has become a more prominen...</td>\n",
       "      <td>No, I don't think it would</td>\n",
       "      <td>No, I don't think they would</td>\n",
       "      <td>Somewhat open</td>\n",
       "      <td>No</td>\n",
       "      <td>Yes</td>\n",
       "      <td>Yes</td>\n",
       "      <td>Yes</td>\n",
       "      <td>Yes</td>\n",
       "      <td>1</td>\n",
       "      <td>Rarely</td>\n",
       "      <td>Sometimes</td>\n",
       "      <td>29</td>\n",
       "      <td>male</td>\n",
       "      <td>United States of America</td>\n",
       "      <td>Illinois</td>\n",
       "      <td>United States of America</td>\n",
       "      <td>Illinois</td>\n",
       "      <td>3</td>\n",
       "      <td>Never</td>\n",
       "    </tr>\n",
       "    <tr>\n",
       "      <th>2</th>\n",
       "      <td>0</td>\n",
       "      <td>6-25</td>\n",
       "      <td>1.0</td>\n",
       "      <td>No</td>\n",
       "      <td>0</td>\n",
       "      <td>No</td>\n",
       "      <td>No</td>\n",
       "      <td>I don't know</td>\n",
       "      <td>Neither easy nor difficult</td>\n",
       "      <td>Maybe</td>\n",
       "      <td>No</td>\n",
       "      <td>Maybe</td>\n",
       "      <td>Maybe</td>\n",
       "      <td>I don't know</td>\n",
       "      <td>No</td>\n",
       "      <td>1</td>\n",
       "      <td>No, none did</td>\n",
       "      <td>N/A (not currently aware)</td>\n",
       "      <td>None did</td>\n",
       "      <td>Some did</td>\n",
       "      <td>I don't know</td>\n",
       "      <td>I don't know</td>\n",
       "      <td>Some of them</td>\n",
       "      <td>Some of my previous employers</td>\n",
       "      <td>I don't know</td>\n",
       "      <td>I don't know</td>\n",
       "      <td>Some of them</td>\n",
       "      <td>Yes</td>\n",
       "      <td>They would provable need to know, to Judge if ...</td>\n",
       "      <td>Yes</td>\n",
       "      <td>Stigma, mainly.</td>\n",
       "      <td>Maybe</td>\n",
       "      <td>Maybe</td>\n",
       "      <td>Somewhat open</td>\n",
       "      <td>Maybe/Not sure</td>\n",
       "      <td>No</td>\n",
       "      <td>Maybe</td>\n",
       "      <td>No</td>\n",
       "      <td>No</td>\n",
       "      <td>1</td>\n",
       "      <td>Not applicable to me</td>\n",
       "      <td>Not applicable to me</td>\n",
       "      <td>38</td>\n",
       "      <td>Male</td>\n",
       "      <td>United Kingdom</td>\n",
       "      <td>0</td>\n",
       "      <td>United Kingdom</td>\n",
       "      <td>0</td>\n",
       "      <td>1</td>\n",
       "      <td>Always</td>\n",
       "    </tr>\n",
       "  </tbody>\n",
       "</table>\n",
       "</div>"
      ],
      "text/plain": [
       "   Are you self-employed?  \\\n",
       "0                       0   \n",
       "1                       0   \n",
       "2                       0   \n",
       "\n",
       "  How many employees does your company or organization have?  \\\n",
       "0                                             26-100           \n",
       "1                                               6-25           \n",
       "2                                               6-25           \n",
       "\n",
       "   Is your employer primarily a tech company/organization?  \\\n",
       "0                                                1.0         \n",
       "1                                                1.0         \n",
       "2                                                1.0         \n",
       "\n",
       "  Does your employer provide mental health benefits as part of healthcare coverage?  \\\n",
       "0                    Not eligible for coverage / N/A                                  \n",
       "1                                                 No                                  \n",
       "2                                                 No                                  \n",
       "\n",
       "  Do you know the options for mental health care available under your employer-provided coverage?  \\\n",
       "0                                                  0                                                \n",
       "1                                                Yes                                                \n",
       "2                                                  0                                                \n",
       "\n",
       "  Has your employer ever formally discussed mental health (for example, as part of a wellness campaign or other official communication)?  \\\n",
       "0                                                 No                                                                                       \n",
       "1                                                Yes                                                                                       \n",
       "2                                                 No                                                                                       \n",
       "\n",
       "  Does your employer offer resources to learn more about mental health concerns and options for seeking help?  \\\n",
       "0                                                 No                                                            \n",
       "1                                                Yes                                                            \n",
       "2                                                 No                                                            \n",
       "\n",
       "  Is your anonymity protected if you choose to take advantage of mental health or substance abuse treatment resources provided by your employer?  \\\n",
       "0                                       I don't know                                                                                               \n",
       "1                                                Yes                                                                                               \n",
       "2                                       I don't know                                                                                               \n",
       "\n",
       "  If a mental health issue prompted you to request a medical leave from work, asking for that leave would be:  \\\n",
       "0                                          Very easy                                                            \n",
       "1                                      Somewhat easy                                                            \n",
       "2                         Neither easy nor difficult                                                            \n",
       "\n",
       "  Do you think that discussing a mental health disorder with your employer would have negative consequences?  \\\n",
       "0                                                 No                                                           \n",
       "1                                                 No                                                           \n",
       "2                                              Maybe                                                           \n",
       "\n",
       "  Do you think that discussing a physical health issue with your employer would have negative consequences?  \\\n",
       "0                                                 No                                                          \n",
       "1                                                 No                                                          \n",
       "2                                                 No                                                          \n",
       "\n",
       "  Would you feel comfortable discussing a mental health disorder with your coworkers?  \\\n",
       "0                                              Maybe                                    \n",
       "1                                              Maybe                                    \n",
       "2                                              Maybe                                    \n",
       "\n",
       "  Would you feel comfortable discussing a mental health disorder with your direct supervisor(s)?  \\\n",
       "0                                                Yes                                               \n",
       "1                                                Yes                                               \n",
       "2                                              Maybe                                               \n",
       "\n",
       "  Do you feel that your employer takes mental health as seriously as physical health?  \\\n",
       "0                                       I don't know                                    \n",
       "1                                                Yes                                    \n",
       "2                                       I don't know                                    \n",
       "\n",
       "  Have you heard of or observed negative consequences for co-workers who have been open about mental health issues in your workplace?  \\\n",
       "0                                                 No                                                                                    \n",
       "1                                                 No                                                                                    \n",
       "2                                                 No                                                                                    \n",
       "\n",
       "   Do you have previous employers?  \\\n",
       "0                                1   \n",
       "1                                1   \n",
       "2                                1   \n",
       "\n",
       "  Have your previous employers provided mental health benefits?  \\\n",
       "0                                       No, none did              \n",
       "1                                  Yes, they all did              \n",
       "2                                       No, none did              \n",
       "\n",
       "  Were you aware of the options for mental health care provided by your previous employers?  \\\n",
       "0                          N/A (not currently aware)                                          \n",
       "1                                I was aware of some                                          \n",
       "2                          N/A (not currently aware)                                          \n",
       "\n",
       "  Did your previous employers ever formally discuss mental health (as part of a wellness campaign or other official communication)?  \\\n",
       "0                                       I don't know                                                                                  \n",
       "1                                           None did                                                                                  \n",
       "2                                           None did                                                                                  \n",
       "\n",
       "  Did your previous employers provide resources to learn more about mental health issues and how to seek help?  \\\n",
       "0                                           None did                                                             \n",
       "1                                           Some did                                                             \n",
       "2                                           Some did                                                             \n",
       "\n",
       "  Was your anonymity protected if you chose to take advantage of mental health or substance abuse treatment resources with previous employers?  \\\n",
       "0                                       I don't know                                                                                             \n",
       "1                                        Yes, always                                                                                             \n",
       "2                                       I don't know                                                                                             \n",
       "\n",
       "  Do you think that discussing a mental health disorder with previous employers would have negative consequences?  \\\n",
       "0                                       Some of them                                                                \n",
       "1                                       None of them                                                                \n",
       "2                                       I don't know                                                                \n",
       "\n",
       "  Do you think that discussing a physical health issue with previous employers would have negative consequences?  \\\n",
       "0                                       None of them                                                               \n",
       "1                                       None of them                                                               \n",
       "2                                       Some of them                                                               \n",
       "\n",
       "  Would you have been willing to discuss a mental health issue with your previous co-workers?  \\\n",
       "0                      Some of my previous employers                                            \n",
       "1               No, at none of my previous employers                                            \n",
       "2                      Some of my previous employers                                            \n",
       "\n",
       "  Would you have been willing to discuss a mental health issue with your direct supervisor(s)?  \\\n",
       "0                      Some of my previous employers                                             \n",
       "1                      Some of my previous employers                                             \n",
       "2                                       I don't know                                             \n",
       "\n",
       "  Did you feel that your previous employers took mental health as seriously as physical health?  \\\n",
       "0                                       I don't know                                              \n",
       "1                                           Some did                                              \n",
       "2                                       I don't know                                              \n",
       "\n",
       "  Did you hear of or observe negative consequences for co-workers with mental health issues in your previous workplaces?  \\\n",
       "0                                       None of them                                                                       \n",
       "1                                       None of them                                                                       \n",
       "2                                       Some of them                                                                       \n",
       "\n",
       "  Would you be willing to bring up a physical health issue with a potential employer in an interview?  \\\n",
       "0                                              Maybe                                                    \n",
       "1                                              Maybe                                                    \n",
       "2                                                Yes                                                    \n",
       "\n",
       "                                     Why or why not?  \\\n",
       "0                                                  0   \n",
       "1  It would depend on the health issue. If there ...   \n",
       "2  They would provable need to know, to Judge if ...   \n",
       "\n",
       "  Would you bring up a mental health issue with a potential employer in an interview?  \\\n",
       "0                                              Maybe                                    \n",
       "1                                                 No                                    \n",
       "2                                                Yes                                    \n",
       "\n",
       "                                   Why or why not?.1  \\\n",
       "0                                                  0   \n",
       "1  While mental health has become a more prominen...   \n",
       "2                                   Stigma, mainly.    \n",
       "\n",
       "  Do you feel that being identified as a person with a mental health issue would hurt your career?  \\\n",
       "0                                              Maybe                                                 \n",
       "1                         No, I don't think it would                                                 \n",
       "2                                              Maybe                                                 \n",
       "\n",
       "  Do you think that team members/co-workers would view you more negatively if they knew you suffered from a mental health issue?  \\\n",
       "0                       No, I don't think they would                                                                               \n",
       "1                       No, I don't think they would                                                                               \n",
       "2                                              Maybe                                                                               \n",
       "\n",
       "  How willing would you be to share with friends and family that you have a mental illness?  \\\n",
       "0                                      Somewhat open                                          \n",
       "1                                      Somewhat open                                          \n",
       "2                                      Somewhat open                                          \n",
       "\n",
       "  Have you observed or experienced an unsupportive or badly handled response to a mental health issue in your current or previous workplace?  \\\n",
       "0                                                 No                                                                                           \n",
       "1                                                 No                                                                                           \n",
       "2                                     Maybe/Not sure                                                                                           \n",
       "\n",
       "  Do you have a family history of mental illness?  \\\n",
       "0                                              No   \n",
       "1                                             Yes   \n",
       "2                                              No   \n",
       "\n",
       "  Have you had a mental health disorder in the past?  \\\n",
       "0                                                Yes   \n",
       "1                                                Yes   \n",
       "2                                              Maybe   \n",
       "\n",
       "  Do you currently have a mental health disorder?  \\\n",
       "0                                              No   \n",
       "1                                             Yes   \n",
       "2                                              No   \n",
       "\n",
       "  Have you been diagnosed with a mental health condition by a medical professional?  \\\n",
       "0                                                Yes                                  \n",
       "1                                                Yes                                  \n",
       "2                                                 No                                  \n",
       "\n",
       "   Have you ever sought treatment for a mental health issue from a mental health professional?  \\\n",
       "0                                                  0                                             \n",
       "1                                                  1                                             \n",
       "2                                                  1                                             \n",
       "\n",
       "  If you have a mental health issue, do you feel that it interferes with your work when being treated effectively?  \\\n",
       "0                               Not applicable to me                                                                 \n",
       "1                                             Rarely                                                                 \n",
       "2                               Not applicable to me                                                                 \n",
       "\n",
       "  If you have a mental health issue, do you feel that it interferes with your work when NOT being treated effectively?  \\\n",
       "0                               Not applicable to me                                                                     \n",
       "1                                          Sometimes                                                                     \n",
       "2                               Not applicable to me                                                                     \n",
       "\n",
       "   What is your age? What is your gender? What country do you live in?  \\\n",
       "0                 39                 Male               United Kingdom   \n",
       "1                 29                 male     United States of America   \n",
       "2                 38                Male                United Kingdom   \n",
       "\n",
       "  What US state or territory do you live in? What country do you work in?  \\\n",
       "0                                          0               United Kingdom   \n",
       "1                                   Illinois     United States of America   \n",
       "2                                          0               United Kingdom   \n",
       "\n",
       "  What US state or territory do you work in?  \\\n",
       "0                                          0   \n",
       "1                                   Illinois   \n",
       "2                                          0   \n",
       "\n",
       "   Which of the following best describes your work position?  \\\n",
       "0                                                  1           \n",
       "1                                                  3           \n",
       "2                                                  1           \n",
       "\n",
       "  Do you work remotely?  \n",
       "0             Sometimes  \n",
       "1                 Never  \n",
       "2                Always  "
      ]
     },
     "execution_count": 42,
     "metadata": {},
     "output_type": "execute_result"
    }
   ],
   "source": [
    "data.head(3)"
   ]
  },
  {
   "cell_type": "markdown",
   "metadata": {},
   "source": [
    "# EDA \n",
    "- The objective is to identify the factors affecting the person having mental health disorders and eventually predict the probability of them having one based on the above factors"
   ]
  },
  {
   "cell_type": "markdown",
   "metadata": {},
   "source": [
    "## Plots \n",
    "- Pie\n",
    "- scatter\n",
    "- stacked bar\n",
    "- histogram\n",
    "- heatmap\n",
    "- violin plot\n",
    "- scatter\n",
    "- swarm\n",
    "- factorplot\n",
    "\n"
   ]
  },
  {
   "cell_type": "markdown",
   "metadata": {},
   "source": [
    "- main_column = data['Do you currently have a mental health disorder?'] "
   ]
  },
  {
   "cell_type": "code",
   "execution_count": 107,
   "metadata": {
    "ExecuteTime": {
     "end_time": "2020-01-26T04:46:22.138337Z",
     "start_time": "2020-01-26T04:46:22.131355Z"
    }
   },
   "outputs": [],
   "source": [
    "sns.set_style(\"whitegrid\")\n",
    "# sns.set_context(\"notebook\", font_scale=1.5, rc={\"lines.linewidth\": 2.5})\n",
    "sns.set_context(\"paper\")\n",
    "sns.set(rc={'figure.figsize': (11.7, 8.27)})"
   ]
  },
  {
   "cell_type": "markdown",
   "metadata": {},
   "source": [
    "## Age related"
   ]
  },
  {
   "cell_type": "code",
   "execution_count": 57,
   "metadata": {
    "ExecuteTime": {
     "end_time": "2020-01-26T04:28:48.026459Z",
     "start_time": "2020-01-26T04:28:48.020476Z"
    }
   },
   "outputs": [],
   "source": [
    "# data['Do you currently have a mental health disorder?'].astype('category').cat.categories\n",
    "data['Do you currently have a mental health disorder?'] = data[\n",
    "    'Do you currently have a mental health disorder?'].astype(\n",
    "        'category').cat.codes"
   ]
  },
  {
   "cell_type": "code",
   "execution_count": 117,
   "metadata": {
    "ExecuteTime": {
     "end_time": "2020-01-26T04:52:26.621693Z",
     "start_time": "2020-01-26T04:52:26.437700Z"
    },
    "run_control": {
     "marked": false
    }
   },
   "outputs": [
    {
     "data": {
      "image/png": "[encoded data removed]",
      "text/plain": [
       "<Figure size 842.4x595.44 with 1 Axes>"
      ]
     },
     "metadata": {},
     "output_type": "display_data"
    }
   ],
   "source": [
    "sns.violinplot(data['Do you currently have a mental health disorder?'],\n",
    "               data['What is your age?'])\n",
    "plt.ylim(0, 70)\n",
    "sns.despine(offset=10, trim=True)"
   ]
  },
  {
   "cell_type": "markdown",
   "metadata": {},
   "source": [
    "### Infer\n",
    "- 1 - no, 2 - yes, 0 - maybe\n",
    "- We can see that mental health disorders start majorly around 20 years of age and progressively get worse till around 50\n",
    "- There is a huge number of people who are unsure or unwilling to admit that they have a mental health disorder. People between the ages of 20 to 40\n",
    "- The total number of people who say that they have a disorder or might have one are much more than those that say they dont"
   ]
  },
  {
   "cell_type": "markdown",
   "metadata": {},
   "source": [
    "## Country related"
   ]
  },
  {
   "cell_type": "code",
   "execution_count": 119,
   "metadata": {
    "ExecuteTime": {
     "end_time": "2020-01-26T04:59:39.678467Z",
     "start_time": "2020-01-26T04:59:39.671487Z"
    }
   },
   "outputs": [
    {
     "data": {
      "text/plain": [
       "array(['United Kingdom', 'United States of America', 'Canada', 'Germany',\n",
       "       'Netherlands', 'Czech Republic', 'Lithuania', 'Australia',\n",
       "       'France', 'Venezuela', 'Poland', 'Belgium', 'Brazil', 'Denmark',\n",
       "       'Sweden', 'Russia', 'Spain', 'India', 'Mexico', 'Switzerland',\n",
       "       'Norway', 'Argentina', 'Ireland', 'Italy', 'Finland', 'Colombia',\n",
       "       'Costa Rica', 'Vietnam', 'Bulgaria', 'New Zealand', 'South Africa',\n",
       "       'Slovakia', 'Austria', 'Bangladesh', 'Algeria', 'Pakistan',\n",
       "       'Afghanistan', 'Greece', 'Romania', 'Other', 'Brunei', 'Japan',\n",
       "       'Iran', 'Hungary', 'Israel', 'Ecuador', 'Bosnia and Herzegovina',\n",
       "       'China', 'Chile', 'Guatemala', 'Taiwan', 'Serbia', 'Estonia'],\n",
       "      dtype=object)"
      ]
     },
     "execution_count": 119,
     "metadata": {},
     "output_type": "execute_result"
    }
   ],
   "source": [
    "data['What country do you live in?'].unique()"
   ]
  },
  {
   "cell_type": "code",
   "execution_count": 150,
   "metadata": {
    "ExecuteTime": {
     "end_time": "2020-01-26T05:11:06.152140Z",
     "start_time": "2020-01-26T05:11:06.140183Z"
    },
    "scrolled": true
   },
   "outputs": [
    {
     "data": {
      "text/html": [
       "<div>\n",
       "<style scoped>\n",
       "    .dataframe tbody tr th:only-of-type {\n",
       "        vertical-align: middle;\n",
       "    }\n",
       "\n",
       "    .dataframe tbody tr th {\n",
       "        vertical-align: top;\n",
       "    }\n",
       "\n",
       "    .dataframe thead th {\n",
       "        text-align: right;\n",
       "    }\n",
       "</style>\n",
       "<table border=\"1\" class=\"dataframe\">\n",
       "  <thead>\n",
       "    <tr style=\"text-align: right;\">\n",
       "      <th></th>\n",
       "      <th>What country do you live in?</th>\n",
       "      <th>Do you currently have a mental health disorder?</th>\n",
       "    </tr>\n",
       "  </thead>\n",
       "  <tbody>\n",
       "    <tr>\n",
       "      <th>0</th>\n",
       "      <td>United Kingdom</td>\n",
       "      <td>1</td>\n",
       "    </tr>\n",
       "    <tr>\n",
       "      <th>1</th>\n",
       "      <td>United States of America</td>\n",
       "      <td>2</td>\n",
       "    </tr>\n",
       "  </tbody>\n",
       "</table>\n",
       "</div>"
      ],
      "text/plain": [
       "  What country do you live in?  \\\n",
       "0               United Kingdom   \n",
       "1     United States of America   \n",
       "\n",
       "   Do you currently have a mental health disorder?  \n",
       "0                                                1  \n",
       "1                                                2  "
      ]
     },
     "execution_count": 150,
     "metadata": {},
     "output_type": "execute_result"
    }
   ],
   "source": [
    "temp_country = data[[\n",
    "    'What country do you live in?',\n",
    "    'Do you currently have a mental health disorder?'\n",
    "]]\n",
    "temp_country.head(2)"
   ]
  },
  {
   "cell_type": "code",
   "execution_count": 167,
   "metadata": {
    "ExecuteTime": {
     "end_time": "2020-01-26T05:16:03.923536Z",
     "start_time": "2020-01-26T05:16:03.913503Z"
    },
    "scrolled": true
   },
   "outputs": [
    {
     "data": {
      "text/plain": [
       "110"
      ]
     },
     "execution_count": 167,
     "metadata": {},
     "output_type": "execute_result"
    }
   ],
   "source": [
    "len(data[(data['What country do you live in?'] == 'United Kingdom')\n",
    "         & (data['Do you currently have a mental health disorder?'] != 1)]\n",
    "    ['Do you currently have a mental health disorder?'])"
   ]
  },
  {
   "cell_type": "code",
   "execution_count": 179,
   "metadata": {
    "ExecuteTime": {
     "end_time": "2020-01-26T05:19:24.224290Z",
     "start_time": "2020-01-26T05:19:24.121054Z"
    }
   },
   "outputs": [],
   "source": [
    "country_n, country_count = [], []\n",
    "for a in data['What country do you live in?'].unique():\n",
    "    country_n.append(a)\n",
    "    country_count.append(\n",
    "        len(data[(data['What country do you live in?'] == a) & (\n",
    "            data['Do you currently have a mental health disorder?'] != 1)]\n",
    "            ['Do you currently have a mental health disorder?']))"
   ]
  },
  {
   "cell_type": "code",
   "execution_count": 181,
   "metadata": {
    "ExecuteTime": {
     "end_time": "2020-01-26T05:19:42.529432Z",
     "start_time": "2020-01-26T05:19:42.524444Z"
    },
    "scrolled": true
   },
   "outputs": [
    {
     "data": {
      "text/plain": [
       "(['United Kingdom', 'United States of America', 'Canada'], [110, 572, 41])"
      ]
     },
     "execution_count": 181,
     "metadata": {},
     "output_type": "execute_result"
    }
   ],
   "source": [
    "country_n[:3], country_count[:3]"
   ]
  },
  {
   "cell_type": "code",
   "execution_count": 188,
   "metadata": {
    "ExecuteTime": {
     "end_time": "2020-01-26T05:21:33.770076Z",
     "start_time": "2020-01-26T05:21:32.802121Z"
    }
   },
   "outputs": [
    {
     "data": {
      "text/plain": [
       "<matplotlib.axes._subplots.AxesSubplot at 0x223c72858c8>"
      ]
     },
     "execution_count": 188,
     "metadata": {},
     "output_type": "execute_result"
    },
    {
     "data": {
      "image/png": "[encoded data removed]",
      "text/plain": [
       "<Figure size 842.4x595.44 with 1 Axes>"
      ]
     },
     "metadata": {},
     "output_type": "display_data"
    }
   ],
   "source": [
    "sns.barplot(country_count, country_n)\n",
    "# plt.xticks((0.0, 1.0, 2.0))\n",
    "# plt.xticks(rotation = 45)\n",
    "# sns.despine(offset=10, trim=True);"
   ]
  },
  {
   "cell_type": "markdown",
   "metadata": {},
   "source": [
    "### Infer\n",
    "- We can clearly see countries like UK, USA, Canada, Netherlands, Germany and Australia have the highest number of people who claim to have a mental disorder\n",
    "- The US far outweighs any other country"
   ]
  },
  {
   "cell_type": "markdown",
   "metadata": {},
   "source": [
    "## No of employees in companies of people who have a disorder"
   ]
  },
  {
   "cell_type": "code",
   "execution_count": 209,
   "metadata": {
    "ExecuteTime": {
     "end_time": "2020-01-26T05:34:07.536108Z",
     "start_time": "2020-01-26T05:34:07.529125Z"
    }
   },
   "outputs": [
    {
     "data": {
      "text/plain": [
       "array(['26-100', '6-25', 0, 'More than 1000', '100-500', '500-1000',\n",
       "       '1-5'], dtype=object)"
      ]
     },
     "execution_count": 209,
     "metadata": {},
     "output_type": "execute_result"
    }
   ],
   "source": [
    "data['How many employees does your company or organization have?']"
   ]
  },
  {
   "cell_type": "code",
   "execution_count": 236,
   "metadata": {
    "ExecuteTime": {
     "end_time": "2020-01-26T05:40:55.596272Z",
     "start_time": "2020-01-26T05:40:55.586793Z"
    }
   },
   "outputs": [],
   "source": [
    "data_dis = data[data['Do you currently have a mental health disorder?'] != 1][[\n",
    "    'How many employees does your company or organization have?',\n",
    "    'Do you currently have a mental health disorder?'\n",
    "]]"
   ]
  },
  {
   "cell_type": "code",
   "execution_count": 237,
   "metadata": {
    "ExecuteTime": {
     "end_time": "2020-01-26T05:41:01.993011Z",
     "start_time": "2020-01-26T05:41:01.983038Z"
    }
   },
   "outputs": [
    {
     "data": {
      "text/html": [
       "<div>\n",
       "<style scoped>\n",
       "    .dataframe tbody tr th:only-of-type {\n",
       "        vertical-align: middle;\n",
       "    }\n",
       "\n",
       "    .dataframe tbody tr th {\n",
       "        vertical-align: top;\n",
       "    }\n",
       "\n",
       "    .dataframe thead th {\n",
       "        text-align: right;\n",
       "    }\n",
       "</style>\n",
       "<table border=\"1\" class=\"dataframe\">\n",
       "  <thead>\n",
       "    <tr style=\"text-align: right;\">\n",
       "      <th></th>\n",
       "      <th>How many employees does your company or organization have?</th>\n",
       "      <th>Do you currently have a mental health disorder?</th>\n",
       "    </tr>\n",
       "  </thead>\n",
       "  <tbody>\n",
       "    <tr>\n",
       "      <th>1</th>\n",
       "      <td>6-25</td>\n",
       "      <td>2</td>\n",
       "    </tr>\n",
       "    <tr>\n",
       "      <th>3</th>\n",
       "      <td>0</td>\n",
       "      <td>2</td>\n",
       "    </tr>\n",
       "  </tbody>\n",
       "</table>\n",
       "</div>"
      ],
      "text/plain": [
       "  How many employees does your company or organization have?  \\\n",
       "1                                               6-25           \n",
       "3                                                  0           \n",
       "\n",
       "   Do you currently have a mental health disorder?  \n",
       "1                                                2  \n",
       "3                                                2  "
      ]
     },
     "execution_count": 237,
     "metadata": {},
     "output_type": "execute_result"
    }
   ],
   "source": [
    "data_dis.head(2)"
   ]
  },
  {
   "cell_type": "code",
   "execution_count": 242,
   "metadata": {
    "ExecuteTime": {
     "end_time": "2020-01-26T05:42:22.336686Z",
     "start_time": "2020-01-26T05:42:22.328681Z"
    }
   },
   "outputs": [],
   "source": [
    "new_dis = data_dis.groupby(\n",
    "    by='How many employees does your company or organization have?').count(\n",
    "    ).reset_index()"
   ]
  },
  {
   "cell_type": "code",
   "execution_count": 243,
   "metadata": {
    "ExecuteTime": {
     "end_time": "2020-01-26T05:42:29.125478Z",
     "start_time": "2020-01-26T05:42:29.115507Z"
    }
   },
   "outputs": [
    {
     "data": {
      "text/html": [
       "<div>\n",
       "<style scoped>\n",
       "    .dataframe tbody tr th:only-of-type {\n",
       "        vertical-align: middle;\n",
       "    }\n",
       "\n",
       "    .dataframe tbody tr th {\n",
       "        vertical-align: top;\n",
       "    }\n",
       "\n",
       "    .dataframe thead th {\n",
       "        text-align: right;\n",
       "    }\n",
       "</style>\n",
       "<table border=\"1\" class=\"dataframe\">\n",
       "  <thead>\n",
       "    <tr style=\"text-align: right;\">\n",
       "      <th></th>\n",
       "      <th>How many employees does your company or organization have?</th>\n",
       "      <th>Do you currently have a mental health disorder?</th>\n",
       "    </tr>\n",
       "  </thead>\n",
       "  <tbody>\n",
       "    <tr>\n",
       "      <th>0</th>\n",
       "      <td>0</td>\n",
       "      <td>197</td>\n",
       "    </tr>\n",
       "    <tr>\n",
       "      <th>1</th>\n",
       "      <td>1-5</td>\n",
       "      <td>33</td>\n",
       "    </tr>\n",
       "  </tbody>\n",
       "</table>\n",
       "</div>"
      ],
      "text/plain": [
       "  How many employees does your company or organization have?  \\\n",
       "0                                                  0           \n",
       "1                                                1-5           \n",
       "\n",
       "   Do you currently have a mental health disorder?  \n",
       "0                                              197  \n",
       "1                                               33  "
      ]
     },
     "execution_count": 243,
     "metadata": {},
     "output_type": "execute_result"
    }
   ],
   "source": [
    "new_dis.head(2)"
   ]
  },
  {
   "cell_type": "code",
   "execution_count": 250,
   "metadata": {
    "ExecuteTime": {
     "end_time": "2020-01-26T05:44:40.029552Z",
     "start_time": "2020-01-26T05:44:39.878955Z"
    }
   },
   "outputs": [
    {
     "data": {
      "text/plain": [
       "([<matplotlib.patches.Wedge at 0x223d2edad48>,\n",
       "  <matplotlib.patches.Wedge at 0x223d2ee5808>,\n",
       "  <matplotlib.patches.Wedge at 0x223d2eed4c8>,\n",
       "  <matplotlib.patches.Wedge at 0x223d2ef8208>,\n",
       "  <matplotlib.patches.Wedge at 0x223d2f01188>,\n",
       "  <matplotlib.patches.Wedge at 0x223d2f01e48>,\n",
       "  <matplotlib.patches.Wedge at 0x223d2f0a888>],\n",
       " [Text(-0.6969067109910939, 0.8510705236204437, '0'),\n",
       "  Text(-1.0961592240571043, 0.09184201388540453, '1-5'),\n",
       "  Text(-0.9106061676349826, -0.6170870339466955, '100-500'),\n",
       "  Text(0.23943403631132643, -1.0736253267577414, '26-100'),\n",
       "  Text(0.9294989984788068, -0.5882445170393815, '500-1000'),\n",
       "  Text(1.0995730270051534, 0.030645689464011767, '6-25'),\n",
       "  Text(0.5785004728989777, 0.9355945718395652, 'More than 1000')],\n",
       " [Text(-0.38013093326786934, 0.46422028561115103, '21.8%'),\n",
       "  Text(-0.5979050313038751, 0.05009564393749337, '3.7%'),\n",
       "  Text(-0.496694273255445, -0.33659292760728843, '18.0%'),\n",
       "  Text(0.13060038344254166, -0.5856138145951315, '20.1%'),\n",
       "  Text(0.5069994537157128, -0.3208606456578444, '5.0%'),\n",
       "  Text(0.5997671056391745, 0.01671583061673369, '13.9%'),\n",
       "  Text(0.3155457124903514, 0.5103243119124901, '17.6%')])"
      ]
     },
     "execution_count": 250,
     "metadata": {},
     "output_type": "execute_result"
    },
    {
     "data": {
      "image/png": "[encoded data removed]",
      "text/plain": [
       "<Figure size 842.4x595.44 with 1 Axes>"
      ]
     },
     "metadata": {},
     "output_type": "display_data"
    }
   ],
   "source": [
    "plt.pie(new_dis['Do you currently have a mental health disorder?'],\n",
    "        labels=new_dis[\n",
    "            'How many employees does your company or organization have?'],\n",
    "        autopct='%1.1f%%',\n",
    "        shadow=True,\n",
    "        startangle=90)"
   ]
  },
  {
   "cell_type": "markdown",
   "metadata": {},
   "source": [
    "### Infer\n",
    "- Very few people are present in the bracket of a mid sized company\n",
    "- A majority of people are present in the bracket of extremely large as well as very small companies\n",
    "- The most number of people are present in the bracket of very small companies"
   ]
  },
  {
   "cell_type": "markdown",
   "metadata": {},
   "source": [
    "## Disorder related to how open the person can be with friends and family"
   ]
  },
  {
   "cell_type": "code",
   "execution_count": 260,
   "metadata": {
    "ExecuteTime": {
     "end_time": "2020-01-26T05:53:53.383541Z",
     "start_time": "2020-01-26T05:53:53.377556Z"
    }
   },
   "outputs": [],
   "source": [
    "family_temp = data[['Do you currently have a mental health disorder?','How willing would you be to share with friends and family that you have a mental illness?']]"
   ]
  },
  {
   "cell_type": "code",
   "execution_count": 267,
   "metadata": {
    "ExecuteTime": {
     "end_time": "2020-01-26T05:54:43.308051Z",
     "start_time": "2020-01-26T05:54:43.298078Z"
    }
   },
   "outputs": [
    {
     "data": {
      "text/html": [
       "<div>\n",
       "<style scoped>\n",
       "    .dataframe tbody tr th:only-of-type {\n",
       "        vertical-align: middle;\n",
       "    }\n",
       "\n",
       "    .dataframe tbody tr th {\n",
       "        vertical-align: top;\n",
       "    }\n",
       "\n",
       "    .dataframe thead th {\n",
       "        text-align: right;\n",
       "    }\n",
       "</style>\n",
       "<table border=\"1\" class=\"dataframe\">\n",
       "  <thead>\n",
       "    <tr style=\"text-align: right;\">\n",
       "      <th></th>\n",
       "      <th>Do you currently have a mental health disorder?</th>\n",
       "      <th>How willing would you be to share with friends and family that you have a mental illness?</th>\n",
       "    </tr>\n",
       "  </thead>\n",
       "  <tbody>\n",
       "    <tr>\n",
       "      <th>1</th>\n",
       "      <td>2</td>\n",
       "      <td>Somewhat open</td>\n",
       "    </tr>\n",
       "    <tr>\n",
       "      <th>3</th>\n",
       "      <td>2</td>\n",
       "      <td>Neutral</td>\n",
       "    </tr>\n",
       "    <tr>\n",
       "      <th>4</th>\n",
       "      <td>2</td>\n",
       "      <td>Somewhat open</td>\n",
       "    </tr>\n",
       "    <tr>\n",
       "      <th>5</th>\n",
       "      <td>2</td>\n",
       "      <td>Somewhat open</td>\n",
       "    </tr>\n",
       "  </tbody>\n",
       "</table>\n",
       "</div>"
      ],
      "text/plain": [
       "   Do you currently have a mental health disorder?  \\\n",
       "1                                                2   \n",
       "3                                                2   \n",
       "4                                                2   \n",
       "5                                                2   \n",
       "\n",
       "  How willing would you be to share with friends and family that you have a mental illness?  \n",
       "1                                      Somewhat open                                         \n",
       "3                                            Neutral                                         \n",
       "4                                      Somewhat open                                         \n",
       "5                                      Somewhat open                                         "
      ]
     },
     "execution_count": 267,
     "metadata": {},
     "output_type": "execute_result"
    }
   ],
   "source": [
    "family_temp.head(4)"
   ]
  },
  {
   "cell_type": "code",
   "execution_count": 264,
   "metadata": {
    "ExecuteTime": {
     "end_time": "2020-01-26T05:54:32.181497Z",
     "start_time": "2020-01-26T05:54:32.177508Z"
    }
   },
   "outputs": [],
   "source": [
    "#1 - no, 2 - yes, 0 - maybe"
   ]
  },
  {
   "cell_type": "code",
   "execution_count": 273,
   "metadata": {
    "ExecuteTime": {
     "end_time": "2020-01-26T05:55:57.702727Z",
     "start_time": "2020-01-26T05:55:57.696743Z"
    }
   },
   "outputs": [],
   "source": [
    "family_temp = family_temp[family_temp['Do you currently have a mental health disorder?']!=1]"
   ]
  },
  {
   "cell_type": "code",
   "execution_count": 304,
   "metadata": {
    "ExecuteTime": {
     "end_time": "2020-01-26T06:03:10.957195Z",
     "start_time": "2020-01-26T06:03:10.950214Z"
    }
   },
   "outputs": [],
   "source": [
    "family_temp['How willing would you be to share with friends and family that you have a mental illness?'] = family_temp['How willing would you be to share with friends and family that you have a mental illness?'].astype('category').cat.codes"
   ]
  },
  {
   "cell_type": "markdown",
   "metadata": {},
   "source": [
    "- ['Neutral', 'Not applicable to me (I do not have a mental illness)','Not open at all', 'Somewhat not open', 'Somewhat open', 'Very open']\n",
    "- 4, 0 , 5, 2, 3, 1"
   ]
  },
  {
   "cell_type": "code",
   "execution_count": 315,
   "metadata": {
    "ExecuteTime": {
     "end_time": "2020-01-26T06:06:17.327960Z",
     "start_time": "2020-01-26T06:06:16.103315Z"
    }
   },
   "outputs": [
    {
     "data": {
      "text/plain": [
       "([<matplotlib.axis.XTick at 0x223d374c808>,\n",
       "  <matplotlib.axis.XTick at 0x223d3ba3688>,\n",
       "  <matplotlib.axis.XTick at 0x223d3ba3248>],\n",
       " <a list of 3 Text xticklabel objects>)"
      ]
     },
     "execution_count": 315,
     "metadata": {},
     "output_type": "execute_result"
    },
    {
     "data": {
      "image/png": "[encoded data removed]",
      "text/plain": [
       "<Figure size 842.4x595.44 with 1 Axes>"
      ]
     },
     "metadata": {},
     "output_type": "display_data"
    }
   ],
   "source": [
    "sns.kdeplot(family_temp['Do you currently have a mental health disorder?'],family_temp['How willing would you be to share with friends and family that you have a mental illness?'])\n",
    "plt.xticks((0.0, 1.0, 2.0))\n",
    "# plt.xticks(rotation = 45)\n",
    "# sns.despine(offset=10, trim=True);"
   ]
  },
  {
   "cell_type": "markdown",
   "metadata": {},
   "source": [
    "### Infer\n",
    "- We can see that the people who are not particularly open with their families about their mental health have a higher bracket "
   ]
  },
  {
   "cell_type": "code",
   "execution_count": null,
   "metadata": {},
   "outputs": [],
   "source": []
  },
  {
   "cell_type": "code",
   "execution_count": null,
   "metadata": {},
   "outputs": [],
   "source": []
  },
  {
   "cell_type": "markdown",
   "metadata": {},
   "source": [
    "## Prediction"
   ]
  },
  {
   "cell_type": "code",
   "execution_count": 324,
   "metadata": {
    "ExecuteTime": {
     "end_time": "2020-01-26T06:11:08.923494Z",
     "start_time": "2020-01-26T06:11:08.918508Z"
    }
   },
   "outputs": [],
   "source": [
    "from sklearn.ensemble import RandomForestClassifier\n",
    "from sklearn.model_selection import train_test_split"
   ]
  },
  {
   "cell_type": "code",
   "execution_count": 318,
   "metadata": {
    "ExecuteTime": {
     "end_time": "2020-01-26T06:09:25.336170Z",
     "start_time": "2020-01-26T06:09:25.331183Z"
    },
    "scrolled": true
   },
   "outputs": [],
   "source": [
    "data2 = data.copy()"
   ]
  },
  {
   "cell_type": "code",
   "execution_count": 319,
   "metadata": {
    "ExecuteTime": {
     "end_time": "2020-01-26T06:09:32.962042Z",
     "start_time": "2020-01-26T06:09:32.889724Z"
    }
   },
   "outputs": [],
   "source": [
    "for a in cat_columns:\n",
    "    data2[a] = data2[a].astype('category').cat.codes"
   ]
  },
  {
   "cell_type": "code",
   "execution_count": 320,
   "metadata": {
    "ExecuteTime": {
     "end_time": "2020-01-26T06:10:21.072908Z",
     "start_time": "2020-01-26T06:10:21.063932Z"
    }
   },
   "outputs": [],
   "source": [
    "X_train, X_test, y_train, y_test = train_test_split(\n",
    "    data2.drop(['Do you currently have a mental health disorder?'], axis=1),\n",
    "    data2['Do you currently have a mental health disorder?'],\n",
    "    test_size=0.33,\n",
    "    random_state=42)"
   ]
  },
  {
   "cell_type": "code",
   "execution_count": 328,
   "metadata": {
    "ExecuteTime": {
     "end_time": "2020-01-26T06:11:25.594173Z",
     "start_time": "2020-01-26T06:11:25.590186Z"
    }
   },
   "outputs": [],
   "source": [
    "clf = RandomForestClassifier()"
   ]
  },
  {
   "cell_type": "code",
   "execution_count": 329,
   "metadata": {
    "ExecuteTime": {
     "end_time": "2020-01-26T06:11:26.730487Z",
     "start_time": "2020-01-26T06:11:26.413334Z"
    }
   },
   "outputs": [
    {
     "data": {
      "text/plain": [
       "RandomForestClassifier(bootstrap=True, ccp_alpha=0.0, class_weight=None,\n",
       "                       criterion='gini', max_depth=None, max_features='auto',\n",
       "                       max_leaf_nodes=None, max_samples=None,\n",
       "                       min_impurity_decrease=0.0, min_impurity_split=None,\n",
       "                       min_samples_leaf=1, min_samples_split=2,\n",
       "                       min_weight_fraction_leaf=0.0, n_estimators=100,\n",
       "                       n_jobs=None, oob_score=False, random_state=None,\n",
       "                       verbose=0, warm_start=False)"
      ]
     },
     "execution_count": 329,
     "metadata": {},
     "output_type": "execute_result"
    }
   ],
   "source": [
    "clf.fit(X_train, y_train)"
   ]
  },
  {
   "cell_type": "code",
   "execution_count": 330,
   "metadata": {
    "ExecuteTime": {
     "end_time": "2020-01-26T06:11:28.017104Z",
     "start_time": "2020-01-26T06:11:27.987637Z"
    }
   },
   "outputs": [
    {
     "data": {
      "text/plain": [
       "0.7420718816067653"
      ]
     },
     "execution_count": 330,
     "metadata": {},
     "output_type": "execute_result"
    }
   ],
   "source": [
    "clf.score(X_test,y_test)"
   ]
  },
  {
   "cell_type": "code",
   "execution_count": 336,
   "metadata": {
    "ExecuteTime": {
     "end_time": "2020-01-26T06:12:53.429871Z",
     "start_time": "2020-01-26T06:12:52.045185Z"
    },
    "scrolled": true
   },
   "outputs": [
    {
     "name": "stdout",
     "output_type": "stream",
     "text": [
      "      Iter       Train Loss   Remaining Time \n",
      "         1         946.7923            1.58s\n",
      "         2         879.8712            1.51s\n",
      "         3         825.7045            1.45s\n",
      "         4         780.6600            1.41s\n",
      "         5         742.9045            1.40s\n",
      "         6         710.9256            1.37s\n",
      "         7         683.0468            1.35s\n",
      "         8         659.9604            1.33s\n",
      "         9         639.8481            1.30s\n",
      "        10         622.0702            1.28s\n",
      "        20         524.3639            1.11s\n",
      "        30         465.0765            0.97s\n",
      "        40         420.9304            0.84s\n",
      "        50         386.6899            0.70s\n",
      "        60         358.3371            0.55s\n",
      "        70         332.5472            0.41s\n",
      "        80         310.0533            0.28s\n",
      "        90         288.2336            0.14s\n",
      "       100         269.1667            0.00s\n"
     ]
    },
    {
     "data": {
      "text/plain": [
       "GradientBoostingClassifier(ccp_alpha=0.0, criterion='friedman_mse', init=None,\n",
       "                           learning_rate=0.1, loss='deviance', max_depth=3,\n",
       "                           max_features=None, max_leaf_nodes=None,\n",
       "                           min_impurity_decrease=0.0, min_impurity_split=None,\n",
       "                           min_samples_leaf=1, min_samples_split=2,\n",
       "                           min_weight_fraction_leaf=0.0, n_estimators=100,\n",
       "                           n_iter_no_change=None, presort='deprecated',\n",
       "                           random_state=None, subsample=1.0, tol=0.0001,\n",
       "                           validation_fraction=0.1, verbose=1,\n",
       "                           warm_start=False)"
      ]
     },
     "execution_count": 336,
     "metadata": {},
     "output_type": "execute_result"
    }
   ],
   "source": [
    "from sklearn.ensemble import GradientBoostingClassifier\n",
    "\n",
    "clf_gbr = GradientBoostingClassifier(verbose=1)\n",
    "clf_gbr.fit(X_train, y_train)"
   ]
  },
  {
   "cell_type": "code",
   "execution_count": 337,
   "metadata": {
    "ExecuteTime": {
     "end_time": "2020-01-26T06:12:54.265154Z",
     "start_time": "2020-01-26T06:12:54.250678Z"
    }
   },
   "outputs": [
    {
     "data": {
      "text/plain": [
       "0.733615221987315"
      ]
     },
     "execution_count": 337,
     "metadata": {},
     "output_type": "execute_result"
    }
   ],
   "source": [
    "clf_gbr.score(X_test,y_test)"
   ]
  },
  {
   "cell_type": "code",
   "execution_count": 340,
   "metadata": {
    "ExecuteTime": {
     "end_time": "2020-01-26T06:15:40.481013Z",
     "start_time": "2020-01-26T06:15:40.458556Z"
    }
   },
   "outputs": [
    {
     "data": {
      "text/plain": [
       "DecisionTreeClassifier(ccp_alpha=0.0, class_weight=None, criterion='gini',\n",
       "                       max_depth=None, max_features=None, max_leaf_nodes=None,\n",
       "                       min_impurity_decrease=0.0, min_impurity_split=None,\n",
       "                       min_samples_leaf=1, min_samples_split=2,\n",
       "                       min_weight_fraction_leaf=0.0, presort='deprecated',\n",
       "                       random_state=None, splitter='best')"
      ]
     },
     "execution_count": 340,
     "metadata": {},
     "output_type": "execute_result"
    }
   ],
   "source": [
    "from sklearn.tree import DecisionTreeClassifier\n",
    "\n",
    "clf_gbr = DecisionTreeClassifier()\n",
    "clf_gbr.fit(X_train, y_train)"
   ]
  },
  {
   "cell_type": "code",
   "execution_count": 343,
   "metadata": {
    "ExecuteTime": {
     "end_time": "2020-01-26T06:16:46.731633Z",
     "start_time": "2020-01-26T06:16:46.724255Z"
    }
   },
   "outputs": [
    {
     "data": {
      "text/plain": [
       "0.6363636363636364"
      ]
     },
     "execution_count": 343,
     "metadata": {},
     "output_type": "execute_result"
    }
   ],
   "source": [
    "clf_gbr.score(X_test,y_test)"
   ]
  },
  {
   "cell_type": "code",
   "execution_count": 356,
   "metadata": {
    "ExecuteTime": {
     "end_time": "2020-01-26T06:18:08.306653Z",
     "start_time": "2020-01-26T06:18:08.134115Z"
    }
   },
   "outputs": [
    {
     "data": {
      "text/plain": [
       "AdaBoostClassifier(algorithm='SAMME.R', base_estimator=None, learning_rate=1.0,\n",
       "                   n_estimators=50, random_state=None)"
      ]
     },
     "execution_count": 356,
     "metadata": {},
     "output_type": "execute_result"
    }
   ],
   "source": [
    "from sklearn.ensemble import AdaBoostClassifier\n",
    "\n",
    "clf_rf = AdaBoostClassifier()\n",
    "clf_rf.fit(X_train, y_train)"
   ]
  },
  {
   "cell_type": "code",
   "execution_count": 357,
   "metadata": {
    "ExecuteTime": {
     "end_time": "2020-01-26T06:18:10.230519Z",
     "start_time": "2020-01-26T06:18:10.205133Z"
    }
   },
   "outputs": [
    {
     "data": {
      "text/plain": [
       "0.7082452431289641"
      ]
     },
     "execution_count": 357,
     "metadata": {},
     "output_type": "execute_result"
    }
   ],
   "source": [
    "clf_rf.score(X_test,y_test)"
   ]
  },
  {
   "cell_type": "code",
   "execution_count": null,
   "metadata": {},
   "outputs": [],
   "source": []
  }
 ],
 "metadata": {
  "kernelspec": {
   "display_name": "Python 3",
   "language": "python",
   "name": "python3"
  },
  "language_info": {
   "codemirror_mode": {
    "name": "ipython",
    "version": 3
   },
   "file_extension": ".py",
   "mimetype": "text/x-python",
   "name": "python",
   "nbconvert_exporter": "python",
   "pygments_lexer": "ipython3",
   "version": "3.6.9"
  },
  "toc": {
   "base_numbering": 1,
   "nav_menu": {},
   "number_sections": true,
   "sideBar": true,
   "skip_h1_title": false,
   "title_cell": "Table of Contents",
   "title_sidebar": "Contents",
   "toc_cell": true,
   "toc_position": {},
   "toc_section_display": true,
   "toc_window_display": false
  }
 },
 "nbformat": 4,
 "nbformat_minor": 2
}
